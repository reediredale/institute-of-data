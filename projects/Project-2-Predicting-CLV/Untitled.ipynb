{
 "cells": [
  {
   "cell_type": "code",
   "execution_count": 9,
   "id": "1f97d1c6-df3f-4739-9c65-ff5a050880cc",
   "metadata": {},
   "outputs": [
    {
     "name": "stdout",
     "output_type": "stream",
     "text": [
      "[183, 167, 174, None]\n"
     ]
    }
   ],
   "source": [
    "import pandas as pd\n",
    "\n",
    "def median_height(df):\n",
    "    \"\"\"\n",
    "    :param df: (DataFrame) DataFrame that contains people names and their heights\n",
    "    :returns: ((float, float)) A tuple that contains ratio of people that have defined\n",
    "              values for height divided by total number of people, and median height\n",
    "              for defined heights\n",
    "    \"\"\"\n",
    "    return None\n",
    "        \n",
    "\n",
    "people = [ None, \"Ana\", \"Mark\", \"Steve\" ]\n",
    "\n",
    "\n",
    "median_height = [183, 167, 174, None]\n",
    "\n",
    "\n",
    "# print(median_height(pd.DataFrame(people)))\n",
    "\n",
    "print(median_height)\n"
   ]
  },
  {
   "cell_type": "code",
   "execution_count": 19,
   "id": "e958b876-bd9f-448f-b8b8-722570d86a08",
   "metadata": {},
   "outputs": [
    {
     "ename": "TypeError",
     "evalue": "'float' object is not callable",
     "output_type": "error",
     "traceback": [
      "\u001b[0;31m---------------------------------------------------------------------------\u001b[0m",
      "\u001b[0;31mTypeError\u001b[0m                                 Traceback (most recent call last)",
      "\u001b[0;32m/var/folders/vp/k70yvwj57vd00y1yn6zl3mkr0000gn/T/ipykernel_4689/2239446452.py\u001b[0m in \u001b[0;36m<module>\u001b[0;34m\u001b[0m\n\u001b[1;32m     10\u001b[0m \u001b[0mdefined_name\u001b[0m \u001b[0;34m=\u001b[0m \u001b[0mdf\u001b[0m\u001b[0;34m[\u001b[0m\u001b[0;34m'Name'\u001b[0m\u001b[0;34m]\u001b[0m \u001b[0;34m==\u001b[0m \u001b[0;34m'None'\u001b[0m\u001b[0;34m\u001b[0m\u001b[0;34m\u001b[0m\u001b[0m\n\u001b[1;32m     11\u001b[0m \u001b[0;34m\u001b[0m\u001b[0m\n\u001b[0;32m---> 12\u001b[0;31m \u001b[0mprint\u001b[0m\u001b[0;34m(\u001b[0m\u001b[0mmedian_height\u001b[0m\u001b[0;34m(\u001b[0m\u001b[0mpd\u001b[0m\u001b[0;34m.\u001b[0m\u001b[0mDataFrame\u001b[0m\u001b[0;34m(\u001b[0m\u001b[0mpeople\u001b[0m\u001b[0;34m)\u001b[0m\u001b[0;34m)\u001b[0m\u001b[0;34m)\u001b[0m\u001b[0;34m\u001b[0m\u001b[0;34m\u001b[0m\u001b[0m\n\u001b[0m",
      "\u001b[0;31mTypeError\u001b[0m: 'float' object is not callable"
     ]
    }
   ],
   "source": [
    "import pandas as pd\n",
    "        \n",
    "people = { \"Name\": [ None, \"Ana\", \"Mark\", \"Steve\" ],\n",
    "           \"Height\": [ 183, 167, 174, None ]}\n",
    "\n",
    "df = pd.DataFrame(people)\n",
    "\n",
    "median_height = df['Height'].median()\n",
    "\n",
    "defined_name = df['Name'] == 'None'\n",
    "\n",
    "print(median_height(pd.DataFrame(people)))"
   ]
  },
  {
   "cell_type": "code",
   "execution_count": null,
   "id": "2994c123-1f7a-466b-96ad-e85bf65d7c5a",
   "metadata": {},
   "outputs": [],
   "source": []
  }
 ],
 "metadata": {
  "kernelspec": {
   "display_name": "Python 3 (ipykernel)",
   "language": "python",
   "name": "python3"
  },
  "language_info": {
   "codemirror_mode": {
    "name": "ipython",
    "version": 3
   },
   "file_extension": ".py",
   "mimetype": "text/x-python",
   "name": "python",
   "nbconvert_exporter": "python",
   "pygments_lexer": "ipython3",
   "version": "3.8.12"
  }
 },
 "nbformat": 4,
 "nbformat_minor": 5
}

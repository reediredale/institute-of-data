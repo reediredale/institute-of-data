{
 "cells": [
  {
   "cell_type": "markdown",
   "id": "178231fa",
   "metadata": {},
   "source": [
    "# Customer Value = Average Order Value * Purchase Frequency"
   ]
  },
  {
   "cell_type": "markdown",
   "id": "ac2b5ba7",
   "metadata": {},
   "source": [
    "## Average Order Value = Total Revenue / Total Number of Orders\n"
   ]
  },
  {
   "cell_type": "markdown",
   "id": "d5fb85ad",
   "metadata": {},
   "source": [
    "## Purchase Frequency =  Total Number of Orders / Total Number of Customers\n"
   ]
  },
  {
   "cell_type": "markdown",
   "id": "ee476680",
   "metadata": {},
   "source": [
    "## Customer Lifetime=1/Churn Rate\n"
   ]
  },
  {
   "cell_type": "markdown",
   "id": "eb41df93",
   "metadata": {},
   "source": [
    "## Churn Rate= 1-Repeat Rate\n"
   ]
  },
  {
   "cell_type": "code",
   "execution_count": 44,
   "id": "938a0dbd",
   "metadata": {},
   "outputs": [],
   "source": [
    "#import modules\n",
    "import pandas as pd # for dataframes\n",
    "import matplotlib.pyplot as plt # for plotting graphs\n",
    "import seaborn as sns # for plotting graphs\n",
    "import datetime as dt\n",
    "import numpy as np\n",
    "\n",
    "from sklearn.svm import SVC\n",
    "from sklearn.preprocessing import StandardScaler\n",
    "\n",
    "from sklearn.model_selection import train_test_split\n",
    "from sklearn.linear_model import LogisticRegression\n",
    "from sklearn.naive_bayes import GaussianNB\n",
    "from sklearn import metrics\n",
    "\n",
    "\n",
    "from sklearn.metrics import roc_curve, auc\n",
    "from sklearn.metrics import accuracy_score, confusion_matrix\n",
    "from sklearn.metrics import classification_report\n",
    "from sklearn.model_selection import GridSearchCV"
   ]
  },
  {
   "cell_type": "code",
   "execution_count": 2,
   "id": "e9e54b60",
   "metadata": {},
   "outputs": [],
   "source": [
    "data = pd.read_excel(\"Online Retail.xlsx\")"
   ]
  },
  {
   "cell_type": "code",
   "execution_count": 3,
   "id": "314eedd8",
   "metadata": {},
   "outputs": [
    {
     "data": {
      "text/html": [
       "<div>\n",
       "<style scoped>\n",
       "    .dataframe tbody tr th:only-of-type {\n",
       "        vertical-align: middle;\n",
       "    }\n",
       "\n",
       "    .dataframe tbody tr th {\n",
       "        vertical-align: top;\n",
       "    }\n",
       "\n",
       "    .dataframe thead th {\n",
       "        text-align: right;\n",
       "    }\n",
       "</style>\n",
       "<table border=\"1\" class=\"dataframe\">\n",
       "  <thead>\n",
       "    <tr style=\"text-align: right;\">\n",
       "      <th></th>\n",
       "      <th>InvoiceNo</th>\n",
       "      <th>StockCode</th>\n",
       "      <th>Description</th>\n",
       "      <th>Quantity</th>\n",
       "      <th>InvoiceDate</th>\n",
       "      <th>UnitPrice</th>\n",
       "      <th>CustomerID</th>\n",
       "      <th>Country</th>\n",
       "    </tr>\n",
       "  </thead>\n",
       "  <tbody>\n",
       "    <tr>\n",
       "      <th>0</th>\n",
       "      <td>536365</td>\n",
       "      <td>85123A</td>\n",
       "      <td>WHITE HANGING HEART T-LIGHT HOLDER</td>\n",
       "      <td>6</td>\n",
       "      <td>2010-12-01 08:26:00</td>\n",
       "      <td>2.55</td>\n",
       "      <td>17850.0</td>\n",
       "      <td>United Kingdom</td>\n",
       "    </tr>\n",
       "    <tr>\n",
       "      <th>1</th>\n",
       "      <td>536365</td>\n",
       "      <td>71053</td>\n",
       "      <td>WHITE METAL LANTERN</td>\n",
       "      <td>6</td>\n",
       "      <td>2010-12-01 08:26:00</td>\n",
       "      <td>3.39</td>\n",
       "      <td>17850.0</td>\n",
       "      <td>United Kingdom</td>\n",
       "    </tr>\n",
       "    <tr>\n",
       "      <th>2</th>\n",
       "      <td>536365</td>\n",
       "      <td>84406B</td>\n",
       "      <td>CREAM CUPID HEARTS COAT HANGER</td>\n",
       "      <td>8</td>\n",
       "      <td>2010-12-01 08:26:00</td>\n",
       "      <td>2.75</td>\n",
       "      <td>17850.0</td>\n",
       "      <td>United Kingdom</td>\n",
       "    </tr>\n",
       "    <tr>\n",
       "      <th>3</th>\n",
       "      <td>536365</td>\n",
       "      <td>84029G</td>\n",
       "      <td>KNITTED UNION FLAG HOT WATER BOTTLE</td>\n",
       "      <td>6</td>\n",
       "      <td>2010-12-01 08:26:00</td>\n",
       "      <td>3.39</td>\n",
       "      <td>17850.0</td>\n",
       "      <td>United Kingdom</td>\n",
       "    </tr>\n",
       "    <tr>\n",
       "      <th>4</th>\n",
       "      <td>536365</td>\n",
       "      <td>84029E</td>\n",
       "      <td>RED WOOLLY HOTTIE WHITE HEART.</td>\n",
       "      <td>6</td>\n",
       "      <td>2010-12-01 08:26:00</td>\n",
       "      <td>3.39</td>\n",
       "      <td>17850.0</td>\n",
       "      <td>United Kingdom</td>\n",
       "    </tr>\n",
       "  </tbody>\n",
       "</table>\n",
       "</div>"
      ],
      "text/plain": [
       "  InvoiceNo StockCode                          Description  Quantity  \\\n",
       "0    536365    85123A   WHITE HANGING HEART T-LIGHT HOLDER         6   \n",
       "1    536365     71053                  WHITE METAL LANTERN         6   \n",
       "2    536365    84406B       CREAM CUPID HEARTS COAT HANGER         8   \n",
       "3    536365    84029G  KNITTED UNION FLAG HOT WATER BOTTLE         6   \n",
       "4    536365    84029E       RED WOOLLY HOTTIE WHITE HEART.         6   \n",
       "\n",
       "          InvoiceDate  UnitPrice  CustomerID         Country  \n",
       "0 2010-12-01 08:26:00       2.55     17850.0  United Kingdom  \n",
       "1 2010-12-01 08:26:00       3.39     17850.0  United Kingdom  \n",
       "2 2010-12-01 08:26:00       2.75     17850.0  United Kingdom  \n",
       "3 2010-12-01 08:26:00       3.39     17850.0  United Kingdom  \n",
       "4 2010-12-01 08:26:00       3.39     17850.0  United Kingdom  "
      ]
     },
     "execution_count": 3,
     "metadata": {},
     "output_type": "execute_result"
    }
   ],
   "source": [
    "data.head()\n"
   ]
  },
  {
   "cell_type": "code",
   "execution_count": 4,
   "id": "a7376049",
   "metadata": {},
   "outputs": [],
   "source": [
    "filtered_data=data[['Country','CustomerID']].drop_duplicates()\n"
   ]
  },
  {
   "cell_type": "code",
   "execution_count": 5,
   "id": "7e3eea00",
   "metadata": {},
   "outputs": [
    {
     "data": {
      "text/plain": [
       "<AxesSubplot:>"
      ]
     },
     "execution_count": 5,
     "metadata": {},
     "output_type": "execute_result"
    },
    {
     "data": {
      "image/png": "[encoded data removed]",
      "text/plain": [
       "<Figure size 432x288 with 1 Axes>"
      ]
     },
     "metadata": {
      "needs_background": "light"
     },
     "output_type": "display_data"
    }
   ],
   "source": [
    "#Top ten country's customer\n",
    "filtered_data.Country.value_counts()[:10].plot(kind='bar')"
   ]
  },
  {
   "cell_type": "code",
   "execution_count": 6,
   "id": "d15bea16",
   "metadata": {},
   "outputs": [
    {
     "name": "stdout",
     "output_type": "stream",
     "text": [
      "<class 'pandas.core.frame.DataFrame'>\n",
      "Int64Index: 495478 entries, 0 to 541893\n",
      "Data columns (total 8 columns):\n",
      " #   Column       Non-Null Count   Dtype         \n",
      "---  ------       --------------   -----         \n",
      " 0   InvoiceNo    495478 non-null  object        \n",
      " 1   StockCode    495478 non-null  object        \n",
      " 2   Description  494024 non-null  object        \n",
      " 3   Quantity     495478 non-null  int64         \n",
      " 4   InvoiceDate  495478 non-null  datetime64[ns]\n",
      " 5   UnitPrice    495478 non-null  float64       \n",
      " 6   CustomerID   361878 non-null  float64       \n",
      " 7   Country      495478 non-null  object        \n",
      "dtypes: datetime64[ns](1), float64(2), int64(1), object(4)\n",
      "memory usage: 34.0+ MB\n"
     ]
    }
   ],
   "source": [
    "uk_data=data[data.Country=='United Kingdom']\n",
    "uk_data.info()"
   ]
  },
  {
   "cell_type": "code",
   "execution_count": 7,
   "id": "3ed832c0",
   "metadata": {},
   "outputs": [
    {
     "data": {
      "text/html": [
       "<div>\n",
       "<style scoped>\n",
       "    .dataframe tbody tr th:only-of-type {\n",
       "        vertical-align: middle;\n",
       "    }\n",
       "\n",
       "    .dataframe tbody tr th {\n",
       "        vertical-align: top;\n",
       "    }\n",
       "\n",
       "    .dataframe thead th {\n",
       "        text-align: right;\n",
       "    }\n",
       "</style>\n",
       "<table border=\"1\" class=\"dataframe\">\n",
       "  <thead>\n",
       "    <tr style=\"text-align: right;\">\n",
       "      <th></th>\n",
       "      <th>Quantity</th>\n",
       "      <th>UnitPrice</th>\n",
       "      <th>CustomerID</th>\n",
       "    </tr>\n",
       "  </thead>\n",
       "  <tbody>\n",
       "    <tr>\n",
       "      <th>count</th>\n",
       "      <td>495478.000000</td>\n",
       "      <td>495478.000000</td>\n",
       "      <td>361878.000000</td>\n",
       "    </tr>\n",
       "    <tr>\n",
       "      <th>mean</th>\n",
       "      <td>8.605486</td>\n",
       "      <td>4.532422</td>\n",
       "      <td>15547.871368</td>\n",
       "    </tr>\n",
       "    <tr>\n",
       "      <th>std</th>\n",
       "      <td>227.588756</td>\n",
       "      <td>99.315438</td>\n",
       "      <td>1594.402590</td>\n",
       "    </tr>\n",
       "    <tr>\n",
       "      <th>min</th>\n",
       "      <td>-80995.000000</td>\n",
       "      <td>-11062.060000</td>\n",
       "      <td>12346.000000</td>\n",
       "    </tr>\n",
       "    <tr>\n",
       "      <th>25%</th>\n",
       "      <td>1.000000</td>\n",
       "      <td>1.250000</td>\n",
       "      <td>14194.000000</td>\n",
       "    </tr>\n",
       "    <tr>\n",
       "      <th>50%</th>\n",
       "      <td>3.000000</td>\n",
       "      <td>2.100000</td>\n",
       "      <td>15514.000000</td>\n",
       "    </tr>\n",
       "    <tr>\n",
       "      <th>75%</th>\n",
       "      <td>10.000000</td>\n",
       "      <td>4.130000</td>\n",
       "      <td>16931.000000</td>\n",
       "    </tr>\n",
       "    <tr>\n",
       "      <th>max</th>\n",
       "      <td>80995.000000</td>\n",
       "      <td>38970.000000</td>\n",
       "      <td>18287.000000</td>\n",
       "    </tr>\n",
       "  </tbody>\n",
       "</table>\n",
       "</div>"
      ],
      "text/plain": [
       "            Quantity      UnitPrice     CustomerID\n",
       "count  495478.000000  495478.000000  361878.000000\n",
       "mean        8.605486       4.532422   15547.871368\n",
       "std       227.588756      99.315438    1594.402590\n",
       "min    -80995.000000  -11062.060000   12346.000000\n",
       "25%         1.000000       1.250000   14194.000000\n",
       "50%         3.000000       2.100000   15514.000000\n",
       "75%        10.000000       4.130000   16931.000000\n",
       "max     80995.000000   38970.000000   18287.000000"
      ]
     },
     "execution_count": 7,
     "metadata": {},
     "output_type": "execute_result"
    }
   ],
   "source": [
    "uk_data.describe()"
   ]
  },
  {
   "cell_type": "code",
   "execution_count": 8,
   "id": "739715de",
   "metadata": {},
   "outputs": [
    {
     "name": "stdout",
     "output_type": "stream",
     "text": [
      "<class 'pandas.core.frame.DataFrame'>\n",
      "Int64Index: 486286 entries, 0 to 541893\n",
      "Data columns (total 8 columns):\n",
      " #   Column       Non-Null Count   Dtype         \n",
      "---  ------       --------------   -----         \n",
      " 0   InvoiceNo    486286 non-null  object        \n",
      " 1   StockCode    486286 non-null  object        \n",
      " 2   Description  485694 non-null  object        \n",
      " 3   Quantity     486286 non-null  int64         \n",
      " 4   InvoiceDate  486286 non-null  datetime64[ns]\n",
      " 5   UnitPrice    486286 non-null  float64       \n",
      " 6   CustomerID   354345 non-null  float64       \n",
      " 7   Country      486286 non-null  object        \n",
      "dtypes: datetime64[ns](1), float64(2), int64(1), object(4)\n",
      "memory usage: 33.4+ MB\n"
     ]
    }
   ],
   "source": [
    "uk_data = uk_data[(uk_data['Quantity']>0)]\n",
    "uk_data.info()"
   ]
  },
  {
   "cell_type": "code",
   "execution_count": 9,
   "id": "913b18cb",
   "metadata": {},
   "outputs": [],
   "source": [
    "uk_data=uk_data[['CustomerID','InvoiceDate','InvoiceNo','Quantity','UnitPrice']]"
   ]
  },
  {
   "cell_type": "code",
   "execution_count": 10,
   "id": "0eb1220e",
   "metadata": {},
   "outputs": [],
   "source": [
    "#Calulate total purchase\n",
    "\n",
    "uk_data['TotalPurchase'] = uk_data['Quantity'] * uk_data['UnitPrice']"
   ]
  },
  {
   "cell_type": "code",
   "execution_count": 11,
   "id": "d51ab344",
   "metadata": {},
   "outputs": [],
   "source": [
    "uk_data_group=uk_data.groupby('CustomerID').agg({'InvoiceDate': lambda date: (date.max() - date.min()).days,\n",
    "                                        'InvoiceNo': lambda num: len(num),\n",
    "                                        'Quantity': lambda quant: quant.sum(),\n",
    "                                        'TotalPurchase': lambda price: price.sum()})"
   ]
  },
  {
   "cell_type": "code",
   "execution_count": 12,
   "id": "a9080eb6",
   "metadata": {},
   "outputs": [
    {
     "data": {
      "text/html": [
       "<div>\n",
       "<style scoped>\n",
       "    .dataframe tbody tr th:only-of-type {\n",
       "        vertical-align: middle;\n",
       "    }\n",
       "\n",
       "    .dataframe tbody tr th {\n",
       "        vertical-align: top;\n",
       "    }\n",
       "\n",
       "    .dataframe thead th {\n",
       "        text-align: right;\n",
       "    }\n",
       "</style>\n",
       "<table border=\"1\" class=\"dataframe\">\n",
       "  <thead>\n",
       "    <tr style=\"text-align: right;\">\n",
       "      <th></th>\n",
       "      <th>InvoiceDate</th>\n",
       "      <th>InvoiceNo</th>\n",
       "      <th>Quantity</th>\n",
       "      <th>TotalPurchase</th>\n",
       "    </tr>\n",
       "    <tr>\n",
       "      <th>CustomerID</th>\n",
       "      <th></th>\n",
       "      <th></th>\n",
       "      <th></th>\n",
       "      <th></th>\n",
       "    </tr>\n",
       "  </thead>\n",
       "  <tbody>\n",
       "    <tr>\n",
       "      <th>12346.0</th>\n",
       "      <td>0</td>\n",
       "      <td>1</td>\n",
       "      <td>74215</td>\n",
       "      <td>77183.60</td>\n",
       "    </tr>\n",
       "    <tr>\n",
       "      <th>12747.0</th>\n",
       "      <td>366</td>\n",
       "      <td>103</td>\n",
       "      <td>1275</td>\n",
       "      <td>4196.01</td>\n",
       "    </tr>\n",
       "    <tr>\n",
       "      <th>12748.0</th>\n",
       "      <td>372</td>\n",
       "      <td>4596</td>\n",
       "      <td>25748</td>\n",
       "      <td>33719.73</td>\n",
       "    </tr>\n",
       "    <tr>\n",
       "      <th>12749.0</th>\n",
       "      <td>209</td>\n",
       "      <td>199</td>\n",
       "      <td>1471</td>\n",
       "      <td>4090.88</td>\n",
       "    </tr>\n",
       "    <tr>\n",
       "      <th>12820.0</th>\n",
       "      <td>323</td>\n",
       "      <td>59</td>\n",
       "      <td>722</td>\n",
       "      <td>942.34</td>\n",
       "    </tr>\n",
       "  </tbody>\n",
       "</table>\n",
       "</div>"
      ],
      "text/plain": [
       "            InvoiceDate  InvoiceNo  Quantity  TotalPurchase\n",
       "CustomerID                                                 \n",
       "12346.0               0          1     74215       77183.60\n",
       "12747.0             366        103      1275        4196.01\n",
       "12748.0             372       4596     25748       33719.73\n",
       "12749.0             209        199      1471        4090.88\n",
       "12820.0             323         59       722         942.34"
      ]
     },
     "execution_count": 12,
     "metadata": {},
     "output_type": "execute_result"
    }
   ],
   "source": [
    "uk_data_group.head()\n"
   ]
  },
  {
   "cell_type": "code",
   "execution_count": 13,
   "id": "f4d77ce4",
   "metadata": {},
   "outputs": [
    {
     "data": {
      "text/html": [
       "<div>\n",
       "<style scoped>\n",
       "    .dataframe tbody tr th:only-of-type {\n",
       "        vertical-align: middle;\n",
       "    }\n",
       "\n",
       "    .dataframe tbody tr th {\n",
       "        vertical-align: top;\n",
       "    }\n",
       "\n",
       "    .dataframe thead th {\n",
       "        text-align: right;\n",
       "    }\n",
       "</style>\n",
       "<table border=\"1\" class=\"dataframe\">\n",
       "  <thead>\n",
       "    <tr style=\"text-align: right;\">\n",
       "      <th></th>\n",
       "      <th>num_days</th>\n",
       "      <th>num_transactions</th>\n",
       "      <th>num_units</th>\n",
       "      <th>spent_money</th>\n",
       "    </tr>\n",
       "    <tr>\n",
       "      <th>CustomerID</th>\n",
       "      <th></th>\n",
       "      <th></th>\n",
       "      <th></th>\n",
       "      <th></th>\n",
       "    </tr>\n",
       "  </thead>\n",
       "  <tbody>\n",
       "    <tr>\n",
       "      <th>12346.0</th>\n",
       "      <td>0</td>\n",
       "      <td>1</td>\n",
       "      <td>74215</td>\n",
       "      <td>77183.60</td>\n",
       "    </tr>\n",
       "    <tr>\n",
       "      <th>12747.0</th>\n",
       "      <td>366</td>\n",
       "      <td>103</td>\n",
       "      <td>1275</td>\n",
       "      <td>4196.01</td>\n",
       "    </tr>\n",
       "    <tr>\n",
       "      <th>12748.0</th>\n",
       "      <td>372</td>\n",
       "      <td>4596</td>\n",
       "      <td>25748</td>\n",
       "      <td>33719.73</td>\n",
       "    </tr>\n",
       "    <tr>\n",
       "      <th>12749.0</th>\n",
       "      <td>209</td>\n",
       "      <td>199</td>\n",
       "      <td>1471</td>\n",
       "      <td>4090.88</td>\n",
       "    </tr>\n",
       "    <tr>\n",
       "      <th>12820.0</th>\n",
       "      <td>323</td>\n",
       "      <td>59</td>\n",
       "      <td>722</td>\n",
       "      <td>942.34</td>\n",
       "    </tr>\n",
       "  </tbody>\n",
       "</table>\n",
       "</div>"
      ],
      "text/plain": [
       "            num_days  num_transactions  num_units  spent_money\n",
       "CustomerID                                                    \n",
       "12346.0            0                 1      74215     77183.60\n",
       "12747.0          366               103       1275      4196.01\n",
       "12748.0          372              4596      25748     33719.73\n",
       "12749.0          209               199       1471      4090.88\n",
       "12820.0          323                59        722       942.34"
      ]
     },
     "execution_count": 13,
     "metadata": {},
     "output_type": "execute_result"
    }
   ],
   "source": [
    "# Change the name of columns\n",
    "uk_data_group.columns=['num_days','num_transactions','num_units','spent_money']\n",
    "uk_data_group.head()"
   ]
  },
  {
   "cell_type": "code",
   "execution_count": null,
   "id": "7527da41",
   "metadata": {},
   "outputs": [],
   "source": []
  },
  {
   "cell_type": "markdown",
   "id": "c460e751",
   "metadata": {},
   "source": [
    "## Calculate CLTV using following formula:\n",
    "\n",
    "CLTV = ((Average Order Value x Purchase Frequency)/Churn Rate) x Profit margin.\n",
    "\n",
    "Customer Value = Average Order Value * Purchase Frequency"
   ]
  },
  {
   "cell_type": "markdown",
   "id": "76aefc46",
   "metadata": {},
   "source": [
    "### 1. Calculate Average Order Value"
   ]
  },
  {
   "cell_type": "code",
   "execution_count": 14,
   "id": "bada8925",
   "metadata": {},
   "outputs": [],
   "source": [
    "uk_data_group['avg_order_value']=uk_data_group['spent_money']/uk_data_group['num_transactions']\n"
   ]
  },
  {
   "cell_type": "code",
   "execution_count": 15,
   "id": "c2a30402",
   "metadata": {},
   "outputs": [
    {
     "data": {
      "text/html": [
       "<div>\n",
       "<style scoped>\n",
       "    .dataframe tbody tr th:only-of-type {\n",
       "        vertical-align: middle;\n",
       "    }\n",
       "\n",
       "    .dataframe tbody tr th {\n",
       "        vertical-align: top;\n",
       "    }\n",
       "\n",
       "    .dataframe thead th {\n",
       "        text-align: right;\n",
       "    }\n",
       "</style>\n",
       "<table border=\"1\" class=\"dataframe\">\n",
       "  <thead>\n",
       "    <tr style=\"text-align: right;\">\n",
       "      <th></th>\n",
       "      <th>num_days</th>\n",
       "      <th>num_transactions</th>\n",
       "      <th>num_units</th>\n",
       "      <th>spent_money</th>\n",
       "      <th>avg_order_value</th>\n",
       "    </tr>\n",
       "    <tr>\n",
       "      <th>CustomerID</th>\n",
       "      <th></th>\n",
       "      <th></th>\n",
       "      <th></th>\n",
       "      <th></th>\n",
       "      <th></th>\n",
       "    </tr>\n",
       "  </thead>\n",
       "  <tbody>\n",
       "    <tr>\n",
       "      <th>12346.0</th>\n",
       "      <td>0</td>\n",
       "      <td>1</td>\n",
       "      <td>74215</td>\n",
       "      <td>77183.60</td>\n",
       "      <td>77183.600000</td>\n",
       "    </tr>\n",
       "    <tr>\n",
       "      <th>12747.0</th>\n",
       "      <td>366</td>\n",
       "      <td>103</td>\n",
       "      <td>1275</td>\n",
       "      <td>4196.01</td>\n",
       "      <td>40.737961</td>\n",
       "    </tr>\n",
       "    <tr>\n",
       "      <th>12748.0</th>\n",
       "      <td>372</td>\n",
       "      <td>4596</td>\n",
       "      <td>25748</td>\n",
       "      <td>33719.73</td>\n",
       "      <td>7.336756</td>\n",
       "    </tr>\n",
       "    <tr>\n",
       "      <th>12749.0</th>\n",
       "      <td>209</td>\n",
       "      <td>199</td>\n",
       "      <td>1471</td>\n",
       "      <td>4090.88</td>\n",
       "      <td>20.557186</td>\n",
       "    </tr>\n",
       "    <tr>\n",
       "      <th>12820.0</th>\n",
       "      <td>323</td>\n",
       "      <td>59</td>\n",
       "      <td>722</td>\n",
       "      <td>942.34</td>\n",
       "      <td>15.971864</td>\n",
       "    </tr>\n",
       "  </tbody>\n",
       "</table>\n",
       "</div>"
      ],
      "text/plain": [
       "            num_days  num_transactions  num_units  spent_money  \\\n",
       "CustomerID                                                       \n",
       "12346.0            0                 1      74215     77183.60   \n",
       "12747.0          366               103       1275      4196.01   \n",
       "12748.0          372              4596      25748     33719.73   \n",
       "12749.0          209               199       1471      4090.88   \n",
       "12820.0          323                59        722       942.34   \n",
       "\n",
       "            avg_order_value  \n",
       "CustomerID                   \n",
       "12346.0        77183.600000  \n",
       "12747.0           40.737961  \n",
       "12748.0            7.336756  \n",
       "12749.0           20.557186  \n",
       "12820.0           15.971864  "
      ]
     },
     "execution_count": 15,
     "metadata": {},
     "output_type": "execute_result"
    }
   ],
   "source": [
    "uk_data_group.head()\n"
   ]
  },
  {
   "cell_type": "markdown",
   "id": "9ecb0550",
   "metadata": {},
   "source": [
    "### 2. Calculate Purchase Frequency"
   ]
  },
  {
   "cell_type": "code",
   "execution_count": 16,
   "id": "21f07c55",
   "metadata": {},
   "outputs": [],
   "source": [
    "purchase_frequency=sum(uk_data_group['num_transactions'])/uk_data_group.shape[0]"
   ]
  },
  {
   "cell_type": "markdown",
   "id": "accd39d2",
   "metadata": {},
   "source": [
    "### 3. Calculate Repeat Rate and Churn Rate"
   ]
  },
  {
   "cell_type": "code",
   "execution_count": 17,
   "id": "fe590b99",
   "metadata": {},
   "outputs": [],
   "source": [
    "repeat_rate=uk_data_group[uk_data_group.num_transactions > 1].shape[0]/uk_data_group.shape[0]"
   ]
  },
  {
   "cell_type": "code",
   "execution_count": 18,
   "id": "70998838",
   "metadata": {},
   "outputs": [],
   "source": [
    "#Churn Rate\n",
    "churn_rate=1-repeat_rate"
   ]
  },
  {
   "cell_type": "code",
   "execution_count": 19,
   "id": "a951e94b",
   "metadata": {},
   "outputs": [
    {
     "data": {
      "text/plain": [
       "(90.37107880642694, 0.9818923743942872, 0.018107625605712774)"
      ]
     },
     "execution_count": 19,
     "metadata": {},
     "output_type": "execute_result"
    }
   ],
   "source": [
    "purchase_frequency,repeat_rate,churn_rate"
   ]
  },
  {
   "cell_type": "markdown",
   "id": "f70461db",
   "metadata": {},
   "source": [
    "### 4. Calculate Profit Margin\n",
    "\n",
    "Profit margin is the commonly used profitability ratio. It represents how much percentage of total sales has earned as the gain. Let's assume our business has approx 5% profit on the total sale."
   ]
  },
  {
   "cell_type": "code",
   "execution_count": 20,
   "id": "bd5b664b",
   "metadata": {},
   "outputs": [],
   "source": [
    "# Profit Margin\n",
    "uk_data_group['profit_margin']=uk_data_group['spent_money']*0.05"
   ]
  },
  {
   "cell_type": "code",
   "execution_count": 21,
   "id": "40a00549",
   "metadata": {},
   "outputs": [
    {
     "data": {
      "text/html": [
       "<div>\n",
       "<style scoped>\n",
       "    .dataframe tbody tr th:only-of-type {\n",
       "        vertical-align: middle;\n",
       "    }\n",
       "\n",
       "    .dataframe tbody tr th {\n",
       "        vertical-align: top;\n",
       "    }\n",
       "\n",
       "    .dataframe thead th {\n",
       "        text-align: right;\n",
       "    }\n",
       "</style>\n",
       "<table border=\"1\" class=\"dataframe\">\n",
       "  <thead>\n",
       "    <tr style=\"text-align: right;\">\n",
       "      <th></th>\n",
       "      <th>num_days</th>\n",
       "      <th>num_transactions</th>\n",
       "      <th>num_units</th>\n",
       "      <th>spent_money</th>\n",
       "      <th>avg_order_value</th>\n",
       "      <th>profit_margin</th>\n",
       "    </tr>\n",
       "    <tr>\n",
       "      <th>CustomerID</th>\n",
       "      <th></th>\n",
       "      <th></th>\n",
       "      <th></th>\n",
       "      <th></th>\n",
       "      <th></th>\n",
       "      <th></th>\n",
       "    </tr>\n",
       "  </thead>\n",
       "  <tbody>\n",
       "    <tr>\n",
       "      <th>12346.0</th>\n",
       "      <td>0</td>\n",
       "      <td>1</td>\n",
       "      <td>74215</td>\n",
       "      <td>77183.60</td>\n",
       "      <td>77183.600000</td>\n",
       "      <td>3859.1800</td>\n",
       "    </tr>\n",
       "    <tr>\n",
       "      <th>12747.0</th>\n",
       "      <td>366</td>\n",
       "      <td>103</td>\n",
       "      <td>1275</td>\n",
       "      <td>4196.01</td>\n",
       "      <td>40.737961</td>\n",
       "      <td>209.8005</td>\n",
       "    </tr>\n",
       "    <tr>\n",
       "      <th>12748.0</th>\n",
       "      <td>372</td>\n",
       "      <td>4596</td>\n",
       "      <td>25748</td>\n",
       "      <td>33719.73</td>\n",
       "      <td>7.336756</td>\n",
       "      <td>1685.9865</td>\n",
       "    </tr>\n",
       "    <tr>\n",
       "      <th>12749.0</th>\n",
       "      <td>209</td>\n",
       "      <td>199</td>\n",
       "      <td>1471</td>\n",
       "      <td>4090.88</td>\n",
       "      <td>20.557186</td>\n",
       "      <td>204.5440</td>\n",
       "    </tr>\n",
       "    <tr>\n",
       "      <th>12820.0</th>\n",
       "      <td>323</td>\n",
       "      <td>59</td>\n",
       "      <td>722</td>\n",
       "      <td>942.34</td>\n",
       "      <td>15.971864</td>\n",
       "      <td>47.1170</td>\n",
       "    </tr>\n",
       "  </tbody>\n",
       "</table>\n",
       "</div>"
      ],
      "text/plain": [
       "            num_days  num_transactions  num_units  spent_money  \\\n",
       "CustomerID                                                       \n",
       "12346.0            0                 1      74215     77183.60   \n",
       "12747.0          366               103       1275      4196.01   \n",
       "12748.0          372              4596      25748     33719.73   \n",
       "12749.0          209               199       1471      4090.88   \n",
       "12820.0          323                59        722       942.34   \n",
       "\n",
       "            avg_order_value  profit_margin  \n",
       "CustomerID                                  \n",
       "12346.0        77183.600000      3859.1800  \n",
       "12747.0           40.737961       209.8005  \n",
       "12748.0            7.336756      1685.9865  \n",
       "12749.0           20.557186       204.5440  \n",
       "12820.0           15.971864        47.1170  "
      ]
     },
     "execution_count": 21,
     "metadata": {},
     "output_type": "execute_result"
    }
   ],
   "source": [
    "uk_data_group.head()"
   ]
  },
  {
   "cell_type": "markdown",
   "id": "50a88964",
   "metadata": {},
   "source": [
    "## 5. Calculate Customer Lifetime Value"
   ]
  },
  {
   "cell_type": "code",
   "execution_count": 22,
   "id": "c0e656e3",
   "metadata": {},
   "outputs": [],
   "source": [
    "# Customer Value\n",
    "uk_data_group['CLV']=(uk_data_group['avg_order_value']*purchase_frequency)/churn_rate"
   ]
  },
  {
   "cell_type": "code",
   "execution_count": 23,
   "id": "305d6f65",
   "metadata": {},
   "outputs": [],
   "source": [
    "#Customer Lifetime Value\n",
    "uk_data_group['cust_lifetime_value']=uk_data_group['CLV']*uk_data_group['profit_margin']"
   ]
  },
  {
   "cell_type": "code",
   "execution_count": 24,
   "id": "e719363a",
   "metadata": {},
   "outputs": [
    {
     "data": {
      "text/html": [
       "<div>\n",
       "<style scoped>\n",
       "    .dataframe tbody tr th:only-of-type {\n",
       "        vertical-align: middle;\n",
       "    }\n",
       "\n",
       "    .dataframe tbody tr th {\n",
       "        vertical-align: top;\n",
       "    }\n",
       "\n",
       "    .dataframe thead th {\n",
       "        text-align: right;\n",
       "    }\n",
       "</style>\n",
       "<table border=\"1\" class=\"dataframe\">\n",
       "  <thead>\n",
       "    <tr style=\"text-align: right;\">\n",
       "      <th></th>\n",
       "      <th>num_days</th>\n",
       "      <th>num_transactions</th>\n",
       "      <th>num_units</th>\n",
       "      <th>spent_money</th>\n",
       "      <th>avg_order_value</th>\n",
       "      <th>profit_margin</th>\n",
       "      <th>CLV</th>\n",
       "      <th>cust_lifetime_value</th>\n",
       "    </tr>\n",
       "    <tr>\n",
       "      <th>CustomerID</th>\n",
       "      <th></th>\n",
       "      <th></th>\n",
       "      <th></th>\n",
       "      <th></th>\n",
       "      <th></th>\n",
       "      <th></th>\n",
       "      <th></th>\n",
       "      <th></th>\n",
       "    </tr>\n",
       "  </thead>\n",
       "  <tbody>\n",
       "    <tr>\n",
       "      <th>12346.0</th>\n",
       "      <td>0</td>\n",
       "      <td>1</td>\n",
       "      <td>74215</td>\n",
       "      <td>77183.60</td>\n",
       "      <td>77183.600000</td>\n",
       "      <td>3859.1800</td>\n",
       "      <td>3.852060e+08</td>\n",
       "      <td>1.486579e+12</td>\n",
       "    </tr>\n",
       "    <tr>\n",
       "      <th>12747.0</th>\n",
       "      <td>366</td>\n",
       "      <td>103</td>\n",
       "      <td>1275</td>\n",
       "      <td>4196.01</td>\n",
       "      <td>40.737961</td>\n",
       "      <td>209.8005</td>\n",
       "      <td>2.033140e+05</td>\n",
       "      <td>4.265538e+07</td>\n",
       "    </tr>\n",
       "    <tr>\n",
       "      <th>12748.0</th>\n",
       "      <td>372</td>\n",
       "      <td>4596</td>\n",
       "      <td>25748</td>\n",
       "      <td>33719.73</td>\n",
       "      <td>7.336756</td>\n",
       "      <td>1685.9865</td>\n",
       "      <td>3.661610e+04</td>\n",
       "      <td>6.173424e+07</td>\n",
       "    </tr>\n",
       "    <tr>\n",
       "      <th>12749.0</th>\n",
       "      <td>209</td>\n",
       "      <td>199</td>\n",
       "      <td>1471</td>\n",
       "      <td>4090.88</td>\n",
       "      <td>20.557186</td>\n",
       "      <td>204.5440</td>\n",
       "      <td>1.025963e+05</td>\n",
       "      <td>2.098545e+07</td>\n",
       "    </tr>\n",
       "    <tr>\n",
       "      <th>12820.0</th>\n",
       "      <td>323</td>\n",
       "      <td>59</td>\n",
       "      <td>722</td>\n",
       "      <td>942.34</td>\n",
       "      <td>15.971864</td>\n",
       "      <td>47.1170</td>\n",
       "      <td>7.971198e+04</td>\n",
       "      <td>3.755789e+06</td>\n",
       "    </tr>\n",
       "  </tbody>\n",
       "</table>\n",
       "</div>"
      ],
      "text/plain": [
       "            num_days  num_transactions  num_units  spent_money  \\\n",
       "CustomerID                                                       \n",
       "12346.0            0                 1      74215     77183.60   \n",
       "12747.0          366               103       1275      4196.01   \n",
       "12748.0          372              4596      25748     33719.73   \n",
       "12749.0          209               199       1471      4090.88   \n",
       "12820.0          323                59        722       942.34   \n",
       "\n",
       "            avg_order_value  profit_margin           CLV  cust_lifetime_value  \n",
       "CustomerID                                                                     \n",
       "12346.0        77183.600000      3859.1800  3.852060e+08         1.486579e+12  \n",
       "12747.0           40.737961       209.8005  2.033140e+05         4.265538e+07  \n",
       "12748.0            7.336756      1685.9865  3.661610e+04         6.173424e+07  \n",
       "12749.0           20.557186       204.5440  1.025963e+05         2.098545e+07  \n",
       "12820.0           15.971864        47.1170  7.971198e+04         3.755789e+06  "
      ]
     },
     "execution_count": 24,
     "metadata": {},
     "output_type": "execute_result"
    }
   ],
   "source": [
    "uk_data_group.head()"
   ]
  },
  {
   "cell_type": "markdown",
   "id": "5079a007",
   "metadata": {},
   "source": [
    "## Prediction Model for CLTV\n",
    "\n",
    "Let's build the CLTV prediction model.\n",
    "\n",
    "Here, you are going to predict CLTV using Linear Regression Model.\n",
    "\n",
    "Let's first use the data loaded and filtered above."
   ]
  },
  {
   "cell_type": "code",
   "execution_count": 25,
   "id": "fb220b9a",
   "metadata": {},
   "outputs": [
    {
     "data": {
      "text/html": [
       "<div>\n",
       "<style scoped>\n",
       "    .dataframe tbody tr th:only-of-type {\n",
       "        vertical-align: middle;\n",
       "    }\n",
       "\n",
       "    .dataframe tbody tr th {\n",
       "        vertical-align: top;\n",
       "    }\n",
       "\n",
       "    .dataframe thead th {\n",
       "        text-align: right;\n",
       "    }\n",
       "</style>\n",
       "<table border=\"1\" class=\"dataframe\">\n",
       "  <thead>\n",
       "    <tr style=\"text-align: right;\">\n",
       "      <th></th>\n",
       "      <th>CustomerID</th>\n",
       "      <th>InvoiceDate</th>\n",
       "      <th>InvoiceNo</th>\n",
       "      <th>Quantity</th>\n",
       "      <th>UnitPrice</th>\n",
       "      <th>TotalPurchase</th>\n",
       "    </tr>\n",
       "  </thead>\n",
       "  <tbody>\n",
       "    <tr>\n",
       "      <th>0</th>\n",
       "      <td>17850.0</td>\n",
       "      <td>2010-12-01 08:26:00</td>\n",
       "      <td>536365</td>\n",
       "      <td>6</td>\n",
       "      <td>2.55</td>\n",
       "      <td>15.30</td>\n",
       "    </tr>\n",
       "    <tr>\n",
       "      <th>1</th>\n",
       "      <td>17850.0</td>\n",
       "      <td>2010-12-01 08:26:00</td>\n",
       "      <td>536365</td>\n",
       "      <td>6</td>\n",
       "      <td>3.39</td>\n",
       "      <td>20.34</td>\n",
       "    </tr>\n",
       "    <tr>\n",
       "      <th>2</th>\n",
       "      <td>17850.0</td>\n",
       "      <td>2010-12-01 08:26:00</td>\n",
       "      <td>536365</td>\n",
       "      <td>8</td>\n",
       "      <td>2.75</td>\n",
       "      <td>22.00</td>\n",
       "    </tr>\n",
       "    <tr>\n",
       "      <th>3</th>\n",
       "      <td>17850.0</td>\n",
       "      <td>2010-12-01 08:26:00</td>\n",
       "      <td>536365</td>\n",
       "      <td>6</td>\n",
       "      <td>3.39</td>\n",
       "      <td>20.34</td>\n",
       "    </tr>\n",
       "    <tr>\n",
       "      <th>4</th>\n",
       "      <td>17850.0</td>\n",
       "      <td>2010-12-01 08:26:00</td>\n",
       "      <td>536365</td>\n",
       "      <td>6</td>\n",
       "      <td>3.39</td>\n",
       "      <td>20.34</td>\n",
       "    </tr>\n",
       "  </tbody>\n",
       "</table>\n",
       "</div>"
      ],
      "text/plain": [
       "   CustomerID         InvoiceDate InvoiceNo  Quantity  UnitPrice  \\\n",
       "0     17850.0 2010-12-01 08:26:00    536365         6       2.55   \n",
       "1     17850.0 2010-12-01 08:26:00    536365         6       3.39   \n",
       "2     17850.0 2010-12-01 08:26:00    536365         8       2.75   \n",
       "3     17850.0 2010-12-01 08:26:00    536365         6       3.39   \n",
       "4     17850.0 2010-12-01 08:26:00    536365         6       3.39   \n",
       "\n",
       "   TotalPurchase  \n",
       "0          15.30  \n",
       "1          20.34  \n",
       "2          22.00  \n",
       "3          20.34  \n",
       "4          20.34  "
      ]
     },
     "execution_count": 25,
     "metadata": {},
     "output_type": "execute_result"
    }
   ],
   "source": [
    "uk_data.head()"
   ]
  },
  {
   "cell_type": "code",
   "execution_count": 26,
   "id": "94dcb4d4",
   "metadata": {},
   "outputs": [],
   "source": [
    "uk_data['month_yr'] = uk_data['InvoiceDate'].apply(lambda x: x.strftime('%b-%Y'))"
   ]
  },
  {
   "cell_type": "code",
   "execution_count": 27,
   "id": "d45cd08f",
   "metadata": {},
   "outputs": [
    {
     "data": {
      "text/html": [
       "<div>\n",
       "<style scoped>\n",
       "    .dataframe tbody tr th:only-of-type {\n",
       "        vertical-align: middle;\n",
       "    }\n",
       "\n",
       "    .dataframe tbody tr th {\n",
       "        vertical-align: top;\n",
       "    }\n",
       "\n",
       "    .dataframe thead th {\n",
       "        text-align: right;\n",
       "    }\n",
       "</style>\n",
       "<table border=\"1\" class=\"dataframe\">\n",
       "  <thead>\n",
       "    <tr style=\"text-align: right;\">\n",
       "      <th></th>\n",
       "      <th>CustomerID</th>\n",
       "      <th>InvoiceDate</th>\n",
       "      <th>InvoiceNo</th>\n",
       "      <th>Quantity</th>\n",
       "      <th>UnitPrice</th>\n",
       "      <th>TotalPurchase</th>\n",
       "      <th>month_yr</th>\n",
       "    </tr>\n",
       "  </thead>\n",
       "  <tbody>\n",
       "    <tr>\n",
       "      <th>0</th>\n",
       "      <td>17850.0</td>\n",
       "      <td>2010-12-01 08:26:00</td>\n",
       "      <td>536365</td>\n",
       "      <td>6</td>\n",
       "      <td>2.55</td>\n",
       "      <td>15.30</td>\n",
       "      <td>Dec-2010</td>\n",
       "    </tr>\n",
       "    <tr>\n",
       "      <th>1</th>\n",
       "      <td>17850.0</td>\n",
       "      <td>2010-12-01 08:26:00</td>\n",
       "      <td>536365</td>\n",
       "      <td>6</td>\n",
       "      <td>3.39</td>\n",
       "      <td>20.34</td>\n",
       "      <td>Dec-2010</td>\n",
       "    </tr>\n",
       "    <tr>\n",
       "      <th>2</th>\n",
       "      <td>17850.0</td>\n",
       "      <td>2010-12-01 08:26:00</td>\n",
       "      <td>536365</td>\n",
       "      <td>8</td>\n",
       "      <td>2.75</td>\n",
       "      <td>22.00</td>\n",
       "      <td>Dec-2010</td>\n",
       "    </tr>\n",
       "    <tr>\n",
       "      <th>3</th>\n",
       "      <td>17850.0</td>\n",
       "      <td>2010-12-01 08:26:00</td>\n",
       "      <td>536365</td>\n",
       "      <td>6</td>\n",
       "      <td>3.39</td>\n",
       "      <td>20.34</td>\n",
       "      <td>Dec-2010</td>\n",
       "    </tr>\n",
       "    <tr>\n",
       "      <th>4</th>\n",
       "      <td>17850.0</td>\n",
       "      <td>2010-12-01 08:26:00</td>\n",
       "      <td>536365</td>\n",
       "      <td>6</td>\n",
       "      <td>3.39</td>\n",
       "      <td>20.34</td>\n",
       "      <td>Dec-2010</td>\n",
       "    </tr>\n",
       "  </tbody>\n",
       "</table>\n",
       "</div>"
      ],
      "text/plain": [
       "   CustomerID         InvoiceDate InvoiceNo  Quantity  UnitPrice  \\\n",
       "0     17850.0 2010-12-01 08:26:00    536365         6       2.55   \n",
       "1     17850.0 2010-12-01 08:26:00    536365         6       3.39   \n",
       "2     17850.0 2010-12-01 08:26:00    536365         8       2.75   \n",
       "3     17850.0 2010-12-01 08:26:00    536365         6       3.39   \n",
       "4     17850.0 2010-12-01 08:26:00    536365         6       3.39   \n",
       "\n",
       "   TotalPurchase  month_yr  \n",
       "0          15.30  Dec-2010  \n",
       "1          20.34  Dec-2010  \n",
       "2          22.00  Dec-2010  \n",
       "3          20.34  Dec-2010  \n",
       "4          20.34  Dec-2010  "
      ]
     },
     "execution_count": 27,
     "metadata": {},
     "output_type": "execute_result"
    }
   ],
   "source": [
    "uk_data.head()"
   ]
  },
  {
   "cell_type": "code",
   "execution_count": 28,
   "id": "afbc6fdc",
   "metadata": {},
   "outputs": [],
   "source": [
    "sale=uk_data.pivot_table(index=['CustomerID'],columns=['month_yr'],values='TotalPurchase',aggfunc='sum',fill_value=0).reset_index()"
   ]
  },
  {
   "cell_type": "code",
   "execution_count": 29,
   "id": "c66149a4",
   "metadata": {},
   "outputs": [
    {
     "data": {
      "text/html": [
       "<div>\n",
       "<style scoped>\n",
       "    .dataframe tbody tr th:only-of-type {\n",
       "        vertical-align: middle;\n",
       "    }\n",
       "\n",
       "    .dataframe tbody tr th {\n",
       "        vertical-align: top;\n",
       "    }\n",
       "\n",
       "    .dataframe thead th {\n",
       "        text-align: right;\n",
       "    }\n",
       "</style>\n",
       "<table border=\"1\" class=\"dataframe\">\n",
       "  <thead>\n",
       "    <tr style=\"text-align: right;\">\n",
       "      <th>month_yr</th>\n",
       "      <th>CustomerID</th>\n",
       "      <th>Apr-2011</th>\n",
       "      <th>Aug-2011</th>\n",
       "      <th>Dec-2010</th>\n",
       "      <th>Dec-2011</th>\n",
       "      <th>Feb-2011</th>\n",
       "      <th>Jan-2011</th>\n",
       "      <th>Jul-2011</th>\n",
       "      <th>Jun-2011</th>\n",
       "      <th>Mar-2011</th>\n",
       "      <th>May-2011</th>\n",
       "      <th>Nov-2011</th>\n",
       "      <th>Oct-2011</th>\n",
       "      <th>Sep-2011</th>\n",
       "    </tr>\n",
       "  </thead>\n",
       "  <tbody>\n",
       "    <tr>\n",
       "      <th>0</th>\n",
       "      <td>12346.0</td>\n",
       "      <td>0.00</td>\n",
       "      <td>0.00</td>\n",
       "      <td>0.00</td>\n",
       "      <td>0.00</td>\n",
       "      <td>0.00</td>\n",
       "      <td>77183.60</td>\n",
       "      <td>0.00</td>\n",
       "      <td>0.00</td>\n",
       "      <td>0.00</td>\n",
       "      <td>0.00</td>\n",
       "      <td>0.00</td>\n",
       "      <td>0.00</td>\n",
       "      <td>0.00</td>\n",
       "    </tr>\n",
       "    <tr>\n",
       "      <th>1</th>\n",
       "      <td>12747.0</td>\n",
       "      <td>0.00</td>\n",
       "      <td>301.70</td>\n",
       "      <td>706.27</td>\n",
       "      <td>438.50</td>\n",
       "      <td>0.00</td>\n",
       "      <td>303.04</td>\n",
       "      <td>0.00</td>\n",
       "      <td>376.30</td>\n",
       "      <td>310.78</td>\n",
       "      <td>771.31</td>\n",
       "      <td>312.73</td>\n",
       "      <td>675.38</td>\n",
       "      <td>0.00</td>\n",
       "    </tr>\n",
       "    <tr>\n",
       "      <th>2</th>\n",
       "      <td>12748.0</td>\n",
       "      <td>1100.37</td>\n",
       "      <td>898.24</td>\n",
       "      <td>4228.13</td>\n",
       "      <td>1070.27</td>\n",
       "      <td>389.64</td>\n",
       "      <td>418.77</td>\n",
       "      <td>1113.27</td>\n",
       "      <td>2006.26</td>\n",
       "      <td>1179.37</td>\n",
       "      <td>2234.50</td>\n",
       "      <td>10639.23</td>\n",
       "      <td>2292.84</td>\n",
       "      <td>6148.84</td>\n",
       "    </tr>\n",
       "    <tr>\n",
       "      <th>3</th>\n",
       "      <td>12749.0</td>\n",
       "      <td>0.00</td>\n",
       "      <td>1896.13</td>\n",
       "      <td>0.00</td>\n",
       "      <td>763.06</td>\n",
       "      <td>0.00</td>\n",
       "      <td>0.00</td>\n",
       "      <td>0.00</td>\n",
       "      <td>0.00</td>\n",
       "      <td>0.00</td>\n",
       "      <td>859.10</td>\n",
       "      <td>572.59</td>\n",
       "      <td>0.00</td>\n",
       "      <td>0.00</td>\n",
       "    </tr>\n",
       "    <tr>\n",
       "      <th>4</th>\n",
       "      <td>12820.0</td>\n",
       "      <td>0.00</td>\n",
       "      <td>0.00</td>\n",
       "      <td>0.00</td>\n",
       "      <td>210.35</td>\n",
       "      <td>0.00</td>\n",
       "      <td>170.46</td>\n",
       "      <td>0.00</td>\n",
       "      <td>0.00</td>\n",
       "      <td>0.00</td>\n",
       "      <td>0.00</td>\n",
       "      <td>0.00</td>\n",
       "      <td>343.76</td>\n",
       "      <td>217.77</td>\n",
       "    </tr>\n",
       "  </tbody>\n",
       "</table>\n",
       "</div>"
      ],
      "text/plain": [
       "month_yr  CustomerID  Apr-2011  Aug-2011  Dec-2010  Dec-2011  Feb-2011  \\\n",
       "0            12346.0      0.00      0.00      0.00      0.00      0.00   \n",
       "1            12747.0      0.00    301.70    706.27    438.50      0.00   \n",
       "2            12748.0   1100.37    898.24   4228.13   1070.27    389.64   \n",
       "3            12749.0      0.00   1896.13      0.00    763.06      0.00   \n",
       "4            12820.0      0.00      0.00      0.00    210.35      0.00   \n",
       "\n",
       "month_yr  Jan-2011  Jul-2011  Jun-2011  Mar-2011  May-2011  Nov-2011  \\\n",
       "0         77183.60      0.00      0.00      0.00      0.00      0.00   \n",
       "1           303.04      0.00    376.30    310.78    771.31    312.73   \n",
       "2           418.77   1113.27   2006.26   1179.37   2234.50  10639.23   \n",
       "3             0.00      0.00      0.00      0.00    859.10    572.59   \n",
       "4           170.46      0.00      0.00      0.00      0.00      0.00   \n",
       "\n",
       "month_yr  Oct-2011  Sep-2011  \n",
       "0             0.00      0.00  \n",
       "1           675.38      0.00  \n",
       "2          2292.84   6148.84  \n",
       "3             0.00      0.00  \n",
       "4           343.76    217.77  "
      ]
     },
     "execution_count": 29,
     "metadata": {},
     "output_type": "execute_result"
    }
   ],
   "source": [
    "sale.head()\n"
   ]
  },
  {
   "cell_type": "code",
   "execution_count": 30,
   "id": "e2d9836f",
   "metadata": {},
   "outputs": [],
   "source": [
    "sale['CLV']=sale.iloc[:,2:].sum(axis=1)"
   ]
  },
  {
   "cell_type": "code",
   "execution_count": 31,
   "id": "0ff7ef7a",
   "metadata": {},
   "outputs": [
    {
     "data": {
      "text/html": [
       "<div>\n",
       "<style scoped>\n",
       "    .dataframe tbody tr th:only-of-type {\n",
       "        vertical-align: middle;\n",
       "    }\n",
       "\n",
       "    .dataframe tbody tr th {\n",
       "        vertical-align: top;\n",
       "    }\n",
       "\n",
       "    .dataframe thead th {\n",
       "        text-align: right;\n",
       "    }\n",
       "</style>\n",
       "<table border=\"1\" class=\"dataframe\">\n",
       "  <thead>\n",
       "    <tr style=\"text-align: right;\">\n",
       "      <th>month_yr</th>\n",
       "      <th>CustomerID</th>\n",
       "      <th>Apr-2011</th>\n",
       "      <th>Aug-2011</th>\n",
       "      <th>Dec-2010</th>\n",
       "      <th>Dec-2011</th>\n",
       "      <th>Feb-2011</th>\n",
       "      <th>Jan-2011</th>\n",
       "      <th>Jul-2011</th>\n",
       "      <th>Jun-2011</th>\n",
       "      <th>Mar-2011</th>\n",
       "      <th>May-2011</th>\n",
       "      <th>Nov-2011</th>\n",
       "      <th>Oct-2011</th>\n",
       "      <th>Sep-2011</th>\n",
       "      <th>CLV</th>\n",
       "    </tr>\n",
       "  </thead>\n",
       "  <tbody>\n",
       "    <tr>\n",
       "      <th>0</th>\n",
       "      <td>12346.0</td>\n",
       "      <td>0.00</td>\n",
       "      <td>0.00</td>\n",
       "      <td>0.00</td>\n",
       "      <td>0.00</td>\n",
       "      <td>0.00</td>\n",
       "      <td>77183.60</td>\n",
       "      <td>0.00</td>\n",
       "      <td>0.00</td>\n",
       "      <td>0.00</td>\n",
       "      <td>0.00</td>\n",
       "      <td>0.00</td>\n",
       "      <td>0.00</td>\n",
       "      <td>0.00</td>\n",
       "      <td>77183.60</td>\n",
       "    </tr>\n",
       "    <tr>\n",
       "      <th>1</th>\n",
       "      <td>12747.0</td>\n",
       "      <td>0.00</td>\n",
       "      <td>301.70</td>\n",
       "      <td>706.27</td>\n",
       "      <td>438.50</td>\n",
       "      <td>0.00</td>\n",
       "      <td>303.04</td>\n",
       "      <td>0.00</td>\n",
       "      <td>376.30</td>\n",
       "      <td>310.78</td>\n",
       "      <td>771.31</td>\n",
       "      <td>312.73</td>\n",
       "      <td>675.38</td>\n",
       "      <td>0.00</td>\n",
       "      <td>4196.01</td>\n",
       "    </tr>\n",
       "    <tr>\n",
       "      <th>2</th>\n",
       "      <td>12748.0</td>\n",
       "      <td>1100.37</td>\n",
       "      <td>898.24</td>\n",
       "      <td>4228.13</td>\n",
       "      <td>1070.27</td>\n",
       "      <td>389.64</td>\n",
       "      <td>418.77</td>\n",
       "      <td>1113.27</td>\n",
       "      <td>2006.26</td>\n",
       "      <td>1179.37</td>\n",
       "      <td>2234.50</td>\n",
       "      <td>10639.23</td>\n",
       "      <td>2292.84</td>\n",
       "      <td>6148.84</td>\n",
       "      <td>32619.36</td>\n",
       "    </tr>\n",
       "    <tr>\n",
       "      <th>3</th>\n",
       "      <td>12749.0</td>\n",
       "      <td>0.00</td>\n",
       "      <td>1896.13</td>\n",
       "      <td>0.00</td>\n",
       "      <td>763.06</td>\n",
       "      <td>0.00</td>\n",
       "      <td>0.00</td>\n",
       "      <td>0.00</td>\n",
       "      <td>0.00</td>\n",
       "      <td>0.00</td>\n",
       "      <td>859.10</td>\n",
       "      <td>572.59</td>\n",
       "      <td>0.00</td>\n",
       "      <td>0.00</td>\n",
       "      <td>4090.88</td>\n",
       "    </tr>\n",
       "    <tr>\n",
       "      <th>4</th>\n",
       "      <td>12820.0</td>\n",
       "      <td>0.00</td>\n",
       "      <td>0.00</td>\n",
       "      <td>0.00</td>\n",
       "      <td>210.35</td>\n",
       "      <td>0.00</td>\n",
       "      <td>170.46</td>\n",
       "      <td>0.00</td>\n",
       "      <td>0.00</td>\n",
       "      <td>0.00</td>\n",
       "      <td>0.00</td>\n",
       "      <td>0.00</td>\n",
       "      <td>343.76</td>\n",
       "      <td>217.77</td>\n",
       "      <td>942.34</td>\n",
       "    </tr>\n",
       "    <tr>\n",
       "      <th>...</th>\n",
       "      <td>...</td>\n",
       "      <td>...</td>\n",
       "      <td>...</td>\n",
       "      <td>...</td>\n",
       "      <td>...</td>\n",
       "      <td>...</td>\n",
       "      <td>...</td>\n",
       "      <td>...</td>\n",
       "      <td>...</td>\n",
       "      <td>...</td>\n",
       "      <td>...</td>\n",
       "      <td>...</td>\n",
       "      <td>...</td>\n",
       "      <td>...</td>\n",
       "      <td>...</td>\n",
       "    </tr>\n",
       "    <tr>\n",
       "      <th>95</th>\n",
       "      <td>12949.0</td>\n",
       "      <td>1534.30</td>\n",
       "      <td>1198.72</td>\n",
       "      <td>0.00</td>\n",
       "      <td>0.00</td>\n",
       "      <td>0.00</td>\n",
       "      <td>0.00</td>\n",
       "      <td>0.00</td>\n",
       "      <td>0.00</td>\n",
       "      <td>0.00</td>\n",
       "      <td>716.40</td>\n",
       "      <td>717.80</td>\n",
       "      <td>0.00</td>\n",
       "      <td>0.00</td>\n",
       "      <td>2632.92</td>\n",
       "    </tr>\n",
       "    <tr>\n",
       "      <th>96</th>\n",
       "      <td>12950.0</td>\n",
       "      <td>0.00</td>\n",
       "      <td>0.00</td>\n",
       "      <td>0.00</td>\n",
       "      <td>1531.40</td>\n",
       "      <td>0.00</td>\n",
       "      <td>0.00</td>\n",
       "      <td>0.00</td>\n",
       "      <td>0.00</td>\n",
       "      <td>0.00</td>\n",
       "      <td>0.00</td>\n",
       "      <td>311.60</td>\n",
       "      <td>0.00</td>\n",
       "      <td>0.00</td>\n",
       "      <td>1843.00</td>\n",
       "    </tr>\n",
       "    <tr>\n",
       "      <th>97</th>\n",
       "      <td>12951.0</td>\n",
       "      <td>155.19</td>\n",
       "      <td>0.00</td>\n",
       "      <td>0.00</td>\n",
       "      <td>312.29</td>\n",
       "      <td>0.00</td>\n",
       "      <td>306.09</td>\n",
       "      <td>0.00</td>\n",
       "      <td>126.90</td>\n",
       "      <td>0.00</td>\n",
       "      <td>163.60</td>\n",
       "      <td>0.00</td>\n",
       "      <td>0.00</td>\n",
       "      <td>0.00</td>\n",
       "      <td>908.88</td>\n",
       "    </tr>\n",
       "    <tr>\n",
       "      <th>98</th>\n",
       "      <td>12952.0</td>\n",
       "      <td>0.00</td>\n",
       "      <td>0.00</td>\n",
       "      <td>0.00</td>\n",
       "      <td>297.73</td>\n",
       "      <td>0.00</td>\n",
       "      <td>0.00</td>\n",
       "      <td>0.00</td>\n",
       "      <td>0.00</td>\n",
       "      <td>0.00</td>\n",
       "      <td>0.00</td>\n",
       "      <td>0.00</td>\n",
       "      <td>358.52</td>\n",
       "      <td>731.54</td>\n",
       "      <td>1387.79</td>\n",
       "    </tr>\n",
       "    <tr>\n",
       "      <th>99</th>\n",
       "      <td>12953.0</td>\n",
       "      <td>0.00</td>\n",
       "      <td>0.00</td>\n",
       "      <td>0.00</td>\n",
       "      <td>0.00</td>\n",
       "      <td>0.00</td>\n",
       "      <td>0.00</td>\n",
       "      <td>0.00</td>\n",
       "      <td>0.00</td>\n",
       "      <td>0.00</td>\n",
       "      <td>0.00</td>\n",
       "      <td>329.85</td>\n",
       "      <td>0.00</td>\n",
       "      <td>0.00</td>\n",
       "      <td>329.85</td>\n",
       "    </tr>\n",
       "  </tbody>\n",
       "</table>\n",
       "<p>100 rows × 15 columns</p>\n",
       "</div>"
      ],
      "text/plain": [
       "month_yr  CustomerID  Apr-2011  Aug-2011  Dec-2010  Dec-2011  Feb-2011  \\\n",
       "0            12346.0      0.00      0.00      0.00      0.00      0.00   \n",
       "1            12747.0      0.00    301.70    706.27    438.50      0.00   \n",
       "2            12748.0   1100.37    898.24   4228.13   1070.27    389.64   \n",
       "3            12749.0      0.00   1896.13      0.00    763.06      0.00   \n",
       "4            12820.0      0.00      0.00      0.00    210.35      0.00   \n",
       "..               ...       ...       ...       ...       ...       ...   \n",
       "95           12949.0   1534.30   1198.72      0.00      0.00      0.00   \n",
       "96           12950.0      0.00      0.00      0.00   1531.40      0.00   \n",
       "97           12951.0    155.19      0.00      0.00    312.29      0.00   \n",
       "98           12952.0      0.00      0.00      0.00    297.73      0.00   \n",
       "99           12953.0      0.00      0.00      0.00      0.00      0.00   \n",
       "\n",
       "month_yr  Jan-2011  Jul-2011  Jun-2011  Mar-2011  May-2011  Nov-2011  \\\n",
       "0         77183.60      0.00      0.00      0.00      0.00      0.00   \n",
       "1           303.04      0.00    376.30    310.78    771.31    312.73   \n",
       "2           418.77   1113.27   2006.26   1179.37   2234.50  10639.23   \n",
       "3             0.00      0.00      0.00      0.00    859.10    572.59   \n",
       "4           170.46      0.00      0.00      0.00      0.00      0.00   \n",
       "..             ...       ...       ...       ...       ...       ...   \n",
       "95            0.00      0.00      0.00      0.00    716.40    717.80   \n",
       "96            0.00      0.00      0.00      0.00      0.00    311.60   \n",
       "97          306.09      0.00    126.90      0.00    163.60      0.00   \n",
       "98            0.00      0.00      0.00      0.00      0.00      0.00   \n",
       "99            0.00      0.00      0.00      0.00      0.00    329.85   \n",
       "\n",
       "month_yr  Oct-2011  Sep-2011       CLV  \n",
       "0             0.00      0.00  77183.60  \n",
       "1           675.38      0.00   4196.01  \n",
       "2          2292.84   6148.84  32619.36  \n",
       "3             0.00      0.00   4090.88  \n",
       "4           343.76    217.77    942.34  \n",
       "..             ...       ...       ...  \n",
       "95            0.00      0.00   2632.92  \n",
       "96            0.00      0.00   1843.00  \n",
       "97            0.00      0.00    908.88  \n",
       "98          358.52    731.54   1387.79  \n",
       "99            0.00      0.00    329.85  \n",
       "\n",
       "[100 rows x 15 columns]"
      ]
     },
     "execution_count": 31,
     "metadata": {},
     "output_type": "execute_result"
    }
   ],
   "source": [
    "sale.head(100)"
   ]
  },
  {
   "cell_type": "code",
   "execution_count": 32,
   "id": "01c451ac",
   "metadata": {},
   "outputs": [],
   "source": [
    "## Selecting Feature"
   ]
  },
  {
   "cell_type": "code",
   "execution_count": 33,
   "id": "19a56e76",
   "metadata": {},
   "outputs": [],
   "source": [
    "X=sale[['Dec-2011','Nov-2011', 'Oct-2011','Sep-2011','Aug-2011','Jul-2011']]\n",
    "y=sale[['CLV']]"
   ]
  },
  {
   "cell_type": "code",
   "execution_count": 34,
   "id": "2bf35998",
   "metadata": {},
   "outputs": [],
   "source": [
    "## Splitting Data"
   ]
  },
  {
   "cell_type": "code",
   "execution_count": 35,
   "id": "ef4d3b86",
   "metadata": {},
   "outputs": [],
   "source": [
    "#split training set and test set\n",
    "from sklearn.model_selection import train_test_split\n",
    "X_train, X_test, y_train, y_test = train_test_split(X, y,random_state=0)"
   ]
  },
  {
   "cell_type": "code",
   "execution_count": 48,
   "id": "36342c04",
   "metadata": {},
   "outputs": [
    {
     "name": "stdout",
     "output_type": "stream",
     "text": [
      "float64\n"
     ]
    }
   ],
   "source": [
    "print(X.dtype)"
   ]
  },
  {
   "cell_type": "markdown",
   "id": "6a5cec6b",
   "metadata": {},
   "source": [
    "## Model No.1 - Logistic Regression"
   ]
  },
  {
   "cell_type": "code",
   "execution_count": 36,
   "id": "77dcbcb7",
   "metadata": {},
   "outputs": [],
   "source": [
    "# import model\n",
    "from sklearn.linear_model import LinearRegression\n",
    "\n",
    "# instantiate\n",
    "linreg = LinearRegression()\n",
    "\n",
    "# fit the model to the training data (learn the coefficients)\n",
    "linreg.fit(X_train, y_train)\n",
    "\n",
    "# make predictions on the testing set\n",
    "y_pred = linreg.predict(X_test)"
   ]
  },
  {
   "cell_type": "code",
   "execution_count": 37,
   "id": "3ea0f20b",
   "metadata": {},
   "outputs": [
    {
     "name": "stdout",
     "output_type": "stream",
     "text": [
      "[208.50969617]\n",
      "[[0.99880551 0.80381254 1.60226829 1.67433228 1.52860813 2.87959449]]\n"
     ]
    }
   ],
   "source": [
    "# print the intercept and coefficients\n",
    "print(linreg.intercept_)\n",
    "print(linreg.coef_)"
   ]
  },
  {
   "cell_type": "code",
   "execution_count": 38,
   "id": "c46fcb2c",
   "metadata": {},
   "outputs": [
    {
     "name": "stdout",
     "output_type": "stream",
     "text": [
      "R-Square: 0.9666074402817512\n"
     ]
    }
   ],
   "source": [
    "from sklearn import metrics\n",
    "\n",
    "# compute the R Square for model\n",
    "print(\"R-Square:\",metrics.r2_score(y_test, y_pred))"
   ]
  },
  {
   "cell_type": "markdown",
   "id": "9b4c0c3f",
   "metadata": {},
   "source": [
    "### Model Evaluation\n",
    "For regression problems following evaluation metrics used (Ritchie Ng):\n",
    "\n",
    "Mean Absolute Error (MAE) is the mean of the absolute value of the errors.\n",
    "Mean Squared Error (MSE) is the mean of the squared errors.\n",
    "Root Mean Squared Error (RMSE) is the square root of the mean of the squared errors."
   ]
  },
  {
   "cell_type": "code",
   "execution_count": 39,
   "id": "fadc2a3b",
   "metadata": {},
   "outputs": [
    {
     "name": "stdout",
     "output_type": "stream",
     "text": [
      "MAE: 595.0282284701236\n",
      "MSE 2114139.8898678934\n",
      "RMSE: 1454.0082151995887\n"
     ]
    }
   ],
   "source": [
    "# calculate MAE using scikit-learn\n",
    "print(\"MAE:\",metrics.mean_absolute_error(y_test,y_pred))\n",
    "\n",
    "#calculate mean squared error\n",
    "print(\"MSE\",metrics.mean_squared_error(y_test, y_pred))\n",
    "# compute the RMSE of our predictions\n",
    "print(\"RMSE:\",np.sqrt(metrics.mean_squared_error(y_test, y_pred)))"
   ]
  },
  {
   "cell_type": "code",
   "execution_count": 52,
   "id": "6433ec26",
   "metadata": {
    "scrolled": true
   },
   "outputs": [
    {
     "ename": "ValueError",
     "evalue": "matmul: Input operand 1 has a mismatch in its core dimension 0, with gufunc signature (n?,k),(k,m?)->(n?,m?) (size 6 is different from 1)",
     "output_type": "error",
     "traceback": [
      "\u001b[0;31m---------------------------------------------------------------------------\u001b[0m",
      "\u001b[0;31mValueError\u001b[0m                                Traceback (most recent call last)",
      "\u001b[0;32m/var/folders/vp/k70yvwj57vd00y1yn6zl3mkr0000gn/T/ipykernel_13999/21075259.py\u001b[0m in \u001b[0;36m<module>\u001b[0;34m\u001b[0m\n\u001b[0;32m----> 1\u001b[0;31m \u001b[0mtrain_preds\u001b[0m \u001b[0;34m=\u001b[0m  \u001b[0mlinreg\u001b[0m\u001b[0;34m.\u001b[0m\u001b[0mpredict\u001b[0m\u001b[0;34m(\u001b[0m\u001b[0mX_train\u001b[0m\u001b[0;34m)\u001b[0m\u001b[0;34m\u001b[0m\u001b[0;34m\u001b[0m\u001b[0m\n\u001b[0m\u001b[1;32m      2\u001b[0m \u001b[0mtest_preds\u001b[0m \u001b[0;34m=\u001b[0m \u001b[0mlinreg\u001b[0m\u001b[0;34m.\u001b[0m\u001b[0mpredict\u001b[0m\u001b[0;34m(\u001b[0m\u001b[0mX_test\u001b[0m\u001b[0;34m)\u001b[0m\u001b[0;34m\u001b[0m\u001b[0;34m\u001b[0m\u001b[0m\n\u001b[1;32m      3\u001b[0m \u001b[0;34m\u001b[0m\u001b[0m\n\u001b[1;32m      4\u001b[0m \u001b[0mplt\u001b[0m\u001b[0;34m.\u001b[0m\u001b[0mscatter\u001b[0m\u001b[0;34m(\u001b[0m\u001b[0my_train\u001b[0m\u001b[0;34m,\u001b[0m \u001b[0mtrain_preds\u001b[0m\u001b[0;34m)\u001b[0m\u001b[0;34m\u001b[0m\u001b[0;34m\u001b[0m\u001b[0m\n\u001b[1;32m      5\u001b[0m \u001b[0mplt\u001b[0m\u001b[0;34m.\u001b[0m\u001b[0mplot\u001b[0m\u001b[0;34m(\u001b[0m\u001b[0;34m[\u001b[0m\u001b[0;36m0\u001b[0m\u001b[0;34m,\u001b[0m \u001b[0mmax\u001b[0m\u001b[0;34m(\u001b[0m\u001b[0my_train\u001b[0m\u001b[0;34m)\u001b[0m\u001b[0;34m]\u001b[0m\u001b[0;34m,\u001b[0m \u001b[0;34m[\u001b[0m\u001b[0;36m0\u001b[0m\u001b[0;34m,\u001b[0m \u001b[0mmax\u001b[0m\u001b[0;34m(\u001b[0m\u001b[0mtrain_preds\u001b[0m\u001b[0;34m)\u001b[0m\u001b[0;34m]\u001b[0m\u001b[0;34m,\u001b[0m \u001b[0mcolor\u001b[0m\u001b[0;34m=\u001b[0m\u001b[0;34m'gray'\u001b[0m\u001b[0;34m,\u001b[0m \u001b[0mlw\u001b[0m\u001b[0;34m=\u001b[0m\u001b[0;36m1\u001b[0m\u001b[0;34m,\u001b[0m \u001b[0mlinestyle\u001b[0m\u001b[0;34m=\u001b[0m\u001b[0;34m'--'\u001b[0m\u001b[0;34m)\u001b[0m\u001b[0;34m\u001b[0m\u001b[0;34m\u001b[0m\u001b[0m\n",
      "\u001b[0;32m~/.local/lib/python3.8/site-packages/sklearn/linear_model/_base.py\u001b[0m in \u001b[0;36mpredict\u001b[0;34m(self, X)\u001b[0m\n\u001b[1;32m    236\u001b[0m             \u001b[0mReturns\u001b[0m \u001b[0mpredicted\u001b[0m \u001b[0mvalues\u001b[0m\u001b[0;34m.\u001b[0m\u001b[0;34m\u001b[0m\u001b[0;34m\u001b[0m\u001b[0m\n\u001b[1;32m    237\u001b[0m         \"\"\"\n\u001b[0;32m--> 238\u001b[0;31m         \u001b[0;32mreturn\u001b[0m \u001b[0mself\u001b[0m\u001b[0;34m.\u001b[0m\u001b[0m_decision_function\u001b[0m\u001b[0;34m(\u001b[0m\u001b[0mX\u001b[0m\u001b[0;34m)\u001b[0m\u001b[0;34m\u001b[0m\u001b[0;34m\u001b[0m\u001b[0m\n\u001b[0m\u001b[1;32m    239\u001b[0m \u001b[0;34m\u001b[0m\u001b[0m\n\u001b[1;32m    240\u001b[0m     \u001b[0m_preprocess_data\u001b[0m \u001b[0;34m=\u001b[0m \u001b[0mstaticmethod\u001b[0m\u001b[0;34m(\u001b[0m\u001b[0m_preprocess_data\u001b[0m\u001b[0;34m)\u001b[0m\u001b[0;34m\u001b[0m\u001b[0;34m\u001b[0m\u001b[0m\n",
      "\u001b[0;32m~/.local/lib/python3.8/site-packages/sklearn/linear_model/_base.py\u001b[0m in \u001b[0;36m_decision_function\u001b[0;34m(self, X)\u001b[0m\n\u001b[1;32m    219\u001b[0m \u001b[0;34m\u001b[0m\u001b[0m\n\u001b[1;32m    220\u001b[0m         \u001b[0mX\u001b[0m \u001b[0;34m=\u001b[0m \u001b[0mcheck_array\u001b[0m\u001b[0;34m(\u001b[0m\u001b[0mX\u001b[0m\u001b[0;34m,\u001b[0m \u001b[0maccept_sparse\u001b[0m\u001b[0;34m=\u001b[0m\u001b[0;34m[\u001b[0m\u001b[0;34m'csr'\u001b[0m\u001b[0;34m,\u001b[0m \u001b[0;34m'csc'\u001b[0m\u001b[0;34m,\u001b[0m \u001b[0;34m'coo'\u001b[0m\u001b[0;34m]\u001b[0m\u001b[0;34m)\u001b[0m\u001b[0;34m\u001b[0m\u001b[0;34m\u001b[0m\u001b[0m\n\u001b[0;32m--> 221\u001b[0;31m         return safe_sparse_dot(X, self.coef_.T,\n\u001b[0m\u001b[1;32m    222\u001b[0m                                dense_output=True) + self.intercept_\n\u001b[1;32m    223\u001b[0m \u001b[0;34m\u001b[0m\u001b[0m\n",
      "\u001b[0;32m~/.local/lib/python3.8/site-packages/sklearn/utils/validation.py\u001b[0m in \u001b[0;36minner_f\u001b[0;34m(*args, **kwargs)\u001b[0m\n\u001b[1;32m     61\u001b[0m             \u001b[0mextra_args\u001b[0m \u001b[0;34m=\u001b[0m \u001b[0mlen\u001b[0m\u001b[0;34m(\u001b[0m\u001b[0margs\u001b[0m\u001b[0;34m)\u001b[0m \u001b[0;34m-\u001b[0m \u001b[0mlen\u001b[0m\u001b[0;34m(\u001b[0m\u001b[0mall_args\u001b[0m\u001b[0;34m)\u001b[0m\u001b[0;34m\u001b[0m\u001b[0;34m\u001b[0m\u001b[0m\n\u001b[1;32m     62\u001b[0m             \u001b[0;32mif\u001b[0m \u001b[0mextra_args\u001b[0m \u001b[0;34m<=\u001b[0m \u001b[0;36m0\u001b[0m\u001b[0;34m:\u001b[0m\u001b[0;34m\u001b[0m\u001b[0;34m\u001b[0m\u001b[0m\n\u001b[0;32m---> 63\u001b[0;31m                 \u001b[0;32mreturn\u001b[0m \u001b[0mf\u001b[0m\u001b[0;34m(\u001b[0m\u001b[0;34m*\u001b[0m\u001b[0margs\u001b[0m\u001b[0;34m,\u001b[0m \u001b[0;34m**\u001b[0m\u001b[0mkwargs\u001b[0m\u001b[0;34m)\u001b[0m\u001b[0;34m\u001b[0m\u001b[0;34m\u001b[0m\u001b[0m\n\u001b[0m\u001b[1;32m     64\u001b[0m \u001b[0;34m\u001b[0m\u001b[0m\n\u001b[1;32m     65\u001b[0m             \u001b[0;31m# extra_args > 0\u001b[0m\u001b[0;34m\u001b[0m\u001b[0;34m\u001b[0m\u001b[0;34m\u001b[0m\u001b[0m\n",
      "\u001b[0;32m~/.local/lib/python3.8/site-packages/sklearn/utils/extmath.py\u001b[0m in \u001b[0;36msafe_sparse_dot\u001b[0;34m(a, b, dense_output)\u001b[0m\n\u001b[1;32m    150\u001b[0m             \u001b[0mret\u001b[0m \u001b[0;34m=\u001b[0m \u001b[0mnp\u001b[0m\u001b[0;34m.\u001b[0m\u001b[0mdot\u001b[0m\u001b[0;34m(\u001b[0m\u001b[0ma\u001b[0m\u001b[0;34m,\u001b[0m \u001b[0mb\u001b[0m\u001b[0;34m)\u001b[0m\u001b[0;34m\u001b[0m\u001b[0;34m\u001b[0m\u001b[0m\n\u001b[1;32m    151\u001b[0m     \u001b[0;32melse\u001b[0m\u001b[0;34m:\u001b[0m\u001b[0;34m\u001b[0m\u001b[0;34m\u001b[0m\u001b[0m\n\u001b[0;32m--> 152\u001b[0;31m         \u001b[0mret\u001b[0m \u001b[0;34m=\u001b[0m \u001b[0ma\u001b[0m \u001b[0;34m@\u001b[0m \u001b[0mb\u001b[0m\u001b[0;34m\u001b[0m\u001b[0;34m\u001b[0m\u001b[0m\n\u001b[0m\u001b[1;32m    153\u001b[0m \u001b[0;34m\u001b[0m\u001b[0m\n\u001b[1;32m    154\u001b[0m     if (sparse.issparse(a) and sparse.issparse(b)\n",
      "\u001b[0;31mValueError\u001b[0m: matmul: Input operand 1 has a mismatch in its core dimension 0, with gufunc signature (n?,k),(k,m?)->(n?,m?) (size 6 is different from 1)"
     ]
    }
   ],
   "source": [
    "train_preds =  linreg.predict(X_train)\n",
    "test_preds = linreg.predict(X_test)\n",
    "\n",
    "plt.scatter(y_train, train_preds)\n",
    "plt.plot([0, max(y_train)], [0, max(train_preds)], color='gray', lw=1, linestyle='--')\n",
    "\n",
    "plt.xlabel('actual')\n",
    "plt.ylabel('predicted')\n",
    "plt.title('In-Sample Actual vs. Predicted')\n",
    "plt.grid()\n",
    "\n",
    "plt.show()"
   ]
  },
  {
   "cell_type": "markdown",
   "id": "507aae42",
   "metadata": {},
   "source": [
    "RMSE is more popular than MSE and MAE because RMSE is interpretable with y because of the same units.\n"
   ]
  },
  {
   "cell_type": "markdown",
   "id": "29d602de",
   "metadata": {},
   "source": [
    "## Model No.2 — Robust Regression"
   ]
  },
  {
   "cell_type": "code",
   "execution_count": 46,
   "id": "33cd7f1a",
   "metadata": {},
   "outputs": [
    {
     "name": "stdout",
     "output_type": "stream",
     "text": [
      "The independent variable X has 1000 observations/samples\n",
      "The dependent variable y has shape (1000,)\n"
     ]
    },
    {
     "data": {
      "image/png": "[encoded data removed]",
      "text/plain": [
       "<Figure size 432x288 with 1 Axes>"
      ]
     },
     "metadata": {
      "needs_background": "light"
     },
     "output_type": "display_data"
    }
   ],
   "source": []
  },
  {
   "cell_type": "code",
   "execution_count": null,
   "id": "1c99de3f",
   "metadata": {},
   "outputs": [],
   "source": []
  },
  {
   "cell_type": "markdown",
   "id": "813a8895",
   "metadata": {},
   "source": []
  },
  {
   "cell_type": "code",
   "execution_count": null,
   "id": "e57e25fc",
   "metadata": {},
   "outputs": [],
   "source": []
  },
  {
   "cell_type": "code",
   "execution_count": null,
   "id": "1b36a6f7",
   "metadata": {},
   "outputs": [],
   "source": []
  },
  {
   "cell_type": "code",
   "execution_count": null,
   "id": "6e08dd65",
   "metadata": {},
   "outputs": [],
   "source": []
  },
  {
   "cell_type": "code",
   "execution_count": null,
   "id": "d2db4f6d",
   "metadata": {},
   "outputs": [],
   "source": []
  }
 ],
 "metadata": {
  "kernelspec": {
   "display_name": "Python 3 (ipykernel)",
   "language": "python",
   "name": "python3"
  },
  "language_info": {
   "codemirror_mode": {
    "name": "ipython",
    "version": 3
   },
   "file_extension": ".py",
   "mimetype": "text/x-python",
   "name": "python",
   "nbconvert_exporter": "python",
   "pygments_lexer": "ipython3",
   "version": "3.8.12"
  }
 },
 "nbformat": 4,
 "nbformat_minor": 5
}

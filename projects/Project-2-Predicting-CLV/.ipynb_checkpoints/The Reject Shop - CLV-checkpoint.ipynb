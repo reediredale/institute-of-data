{
 "cells": [
  {
   "cell_type": "markdown",
   "id": "178231fa",
   "metadata": {},
   "source": [
    "# Customer Value = Average Order Value * Purchase Frequency"
   ]
  },
  {
   "cell_type": "markdown",
   "id": "ac2b5ba7",
   "metadata": {},
   "source": [
    "## Average Order Value = Total Revenue / Total Number of Orders\n"
   ]
  },
  {
   "cell_type": "markdown",
   "id": "d5fb85ad",
   "metadata": {},
   "source": [
    "## Purchase Frequency =  Total Number of Orders / Total Number of Customers\n"
   ]
  },
  {
   "cell_type": "markdown",
   "id": "ee476680",
   "metadata": {},
   "source": [
    "## Customer Lifetime=1/Churn Rate\n"
   ]
  },
  {
   "cell_type": "markdown",
   "id": "eb41df93",
   "metadata": {},
   "source": [
    "## Churn Rate= 1-Repeat Rate\n"
   ]
  },
  {
   "cell_type": "code",
   "execution_count": 1,
   "id": "938a0dbd",
   "metadata": {},
   "outputs": [],
   "source": [
    "#import modules\n",
    "import pandas as pd # for dataframes\n",
    "import matplotlib.pyplot as plt # for plotting graphs\n",
    "import seaborn as sns # for plotting graphs\n",
    "import datetime as dt\n",
    "import numpy as np"
   ]
  },
  {
   "cell_type": "code",
   "execution_count": null,
   "id": "e9e54b60",
   "metadata": {},
   "outputs": [],
   "source": [
    "data = pd.read_excel(\"Online Retail.xlsx\")"
   ]
  },
  {
   "cell_type": "code",
   "execution_count": null,
   "id": "314eedd8",
   "metadata": {},
   "outputs": [],
   "source": [
    "data.head()\n"
   ]
  },
  {
   "cell_type": "code",
   "execution_count": null,
   "id": "a7376049",
   "metadata": {},
   "outputs": [],
   "source": [
    "filtered_data=data[['Country','CustomerID']].drop_duplicates()\n"
   ]
  },
  {
   "cell_type": "code",
   "execution_count": null,
   "id": "7e3eea00",
   "metadata": {},
   "outputs": [],
   "source": [
    "#Top ten country's customer\n",
    "filtered_data.Country.value_counts()[:10].plot(kind='bar')"
   ]
  },
  {
   "cell_type": "code",
   "execution_count": null,
   "id": "d15bea16",
   "metadata": {},
   "outputs": [],
   "source": [
    "uk_data=data[data.Country=='United Kingdom']\n",
    "uk_data.info()"
   ]
  },
  {
   "cell_type": "code",
   "execution_count": null,
   "id": "3ed832c0",
   "metadata": {},
   "outputs": [],
   "source": [
    "uk_data.describe()"
   ]
  },
  {
   "cell_type": "code",
   "execution_count": null,
   "id": "739715de",
   "metadata": {},
   "outputs": [],
   "source": [
    "uk_data = uk_data[(uk_data['Quantity']>0)]\n",
    "uk_data.info()"
   ]
  },
  {
   "cell_type": "code",
   "execution_count": null,
   "id": "913b18cb",
   "metadata": {},
   "outputs": [],
   "source": [
    "uk_data=uk_data[['CustomerID','InvoiceDate','InvoiceNo','Quantity','UnitPrice']]"
   ]
  },
  {
   "cell_type": "code",
   "execution_count": null,
   "id": "0eb1220e",
   "metadata": {},
   "outputs": [],
   "source": [
    "#Calulate total purchase\n",
    "\n",
    "uk_data['TotalPurchase'] = uk_data['Quantity'] * uk_data['UnitPrice']"
   ]
  },
  {
   "cell_type": "code",
   "execution_count": null,
   "id": "d51ab344",
   "metadata": {},
   "outputs": [],
   "source": [
    "uk_data_group=uk_data.groupby('CustomerID').agg({'InvoiceDate': lambda date: (date.max() - date.min()).days,\n",
    "                                        'InvoiceNo': lambda num: len(num),\n",
    "                                        'Quantity': lambda quant: quant.sum(),\n",
    "                                        'TotalPurchase': lambda price: price.sum()})"
   ]
  },
  {
   "cell_type": "code",
   "execution_count": null,
   "id": "a9080eb6",
   "metadata": {},
   "outputs": [],
   "source": [
    "uk_data_group.head()\n"
   ]
  },
  {
   "cell_type": "code",
   "execution_count": null,
   "id": "f4d77ce4",
   "metadata": {},
   "outputs": [],
   "source": [
    "# Change the name of columns\n",
    "uk_data_group.columns=['num_days','num_transactions','num_units','spent_money']\n",
    "uk_data_group.head()"
   ]
  },
  {
   "cell_type": "code",
   "execution_count": null,
   "id": "7527da41",
   "metadata": {},
   "outputs": [],
   "source": []
  },
  {
   "cell_type": "markdown",
   "id": "c460e751",
   "metadata": {},
   "source": [
    "## Calculate CLTV using following formula:\n",
    "\n",
    "CLTV = ((Average Order Value x Purchase Frequency)/Churn Rate) x Profit margin.\n",
    "\n",
    "Customer Value = Average Order Value * Purchase Frequency"
   ]
  },
  {
   "cell_type": "markdown",
   "id": "76aefc46",
   "metadata": {},
   "source": [
    "### 1. Calculate Average Order Value"
   ]
  },
  {
   "cell_type": "code",
   "execution_count": null,
   "id": "bada8925",
   "metadata": {},
   "outputs": [],
   "source": [
    "uk_data_group['avg_order_value']=uk_data_group['spent_money']/uk_data_group['num_transactions']\n"
   ]
  },
  {
   "cell_type": "code",
   "execution_count": null,
   "id": "c2a30402",
   "metadata": {},
   "outputs": [],
   "source": [
    "uk_data_group.head()\n"
   ]
  },
  {
   "cell_type": "markdown",
   "id": "9ecb0550",
   "metadata": {},
   "source": [
    "### 2. Calculate Purchase Frequency"
   ]
  },
  {
   "cell_type": "code",
   "execution_count": null,
   "id": "21f07c55",
   "metadata": {},
   "outputs": [],
   "source": [
    "purchase_frequency=sum(uk_data_group['num_transactions'])/uk_data_group.shape[0]"
   ]
  },
  {
   "cell_type": "markdown",
   "id": "accd39d2",
   "metadata": {},
   "source": [
    "### 3. Calculate Repeat Rate and Churn Rate"
   ]
  },
  {
   "cell_type": "code",
   "execution_count": null,
   "id": "fe590b99",
   "metadata": {},
   "outputs": [],
   "source": [
    "repeat_rate=uk_data_group[uk_data_group.num_transactions > 1].shape[0]/uk_data_group.shape[0]"
   ]
  },
  {
   "cell_type": "code",
   "execution_count": null,
   "id": "70998838",
   "metadata": {},
   "outputs": [],
   "source": [
    "#Churn Rate\n",
    "churn_rate=1-repeat_rate"
   ]
  },
  {
   "cell_type": "code",
   "execution_count": null,
   "id": "a951e94b",
   "metadata": {},
   "outputs": [],
   "source": [
    "purchase_frequency,repeat_rate,churn_rate"
   ]
  },
  {
   "cell_type": "markdown",
   "id": "f70461db",
   "metadata": {},
   "source": [
    "### 4. Calculate Profit Margin\n",
    "\n",
    "Profit margin is the commonly used profitability ratio. It represents how much percentage of total sales has earned as the gain. Let's assume our business has approx 5% profit on the total sale."
   ]
  },
  {
   "cell_type": "code",
   "execution_count": null,
   "id": "bd5b664b",
   "metadata": {},
   "outputs": [],
   "source": [
    "# Profit Margin\n",
    "uk_data_group['profit_margin']=uk_data_group['spent_money']*0.05"
   ]
  },
  {
   "cell_type": "code",
   "execution_count": null,
   "id": "40a00549",
   "metadata": {},
   "outputs": [],
   "source": [
    "uk_data_group.head()"
   ]
  },
  {
   "cell_type": "markdown",
   "id": "50a88964",
   "metadata": {},
   "source": [
    "## 5. Calculate Customer Lifetime Value"
   ]
  },
  {
   "cell_type": "code",
   "execution_count": null,
   "id": "c0e656e3",
   "metadata": {},
   "outputs": [],
   "source": [
    "# Customer Value\n",
    "uk_data_group['CLV']=(uk_data_group['avg_order_value']*purchase_frequency)/churn_rate"
   ]
  },
  {
   "cell_type": "code",
   "execution_count": null,
   "id": "305d6f65",
   "metadata": {},
   "outputs": [],
   "source": [
    "#Customer Lifetime Value\n",
    "uk_data_group['cust_lifetime_value']=uk_data_group['CLV']*uk_data_group['profit_margin']"
   ]
  },
  {
   "cell_type": "code",
   "execution_count": null,
   "id": "e719363a",
   "metadata": {},
   "outputs": [],
   "source": [
    "uk_data_group.head()"
   ]
  },
  {
   "cell_type": "markdown",
   "id": "5079a007",
   "metadata": {},
   "source": [
    "## Prediction Model for CLTV\n",
    "\n",
    "Let's build the CLTV prediction model.\n",
    "\n",
    "Here, you are going to predict CLTV using Linear Regression Model.\n",
    "\n",
    "Let's first use the data loaded and filtered above."
   ]
  },
  {
   "cell_type": "code",
   "execution_count": null,
   "id": "fb220b9a",
   "metadata": {},
   "outputs": [],
   "source": [
    "uk_data.head()"
   ]
  },
  {
   "cell_type": "code",
   "execution_count": null,
   "id": "94dcb4d4",
   "metadata": {},
   "outputs": [],
   "source": [
    "uk_data['month_yr'] = uk_data['InvoiceDate'].apply(lambda x: x.strftime('%b-%Y'))"
   ]
  },
  {
   "cell_type": "code",
   "execution_count": null,
   "id": "d45cd08f",
   "metadata": {},
   "outputs": [],
   "source": [
    "uk_data.head()"
   ]
  },
  {
   "cell_type": "code",
   "execution_count": null,
   "id": "afbc6fdc",
   "metadata": {},
   "outputs": [],
   "source": [
    "sale=uk_data.pivot_table(index=['CustomerID'],columns=['month_yr'],values='TotalPurchase',aggfunc='sum',fill_value=0).reset_index()"
   ]
  },
  {
   "cell_type": "code",
   "execution_count": null,
   "id": "c66149a4",
   "metadata": {},
   "outputs": [],
   "source": [
    "sale.head()\n"
   ]
  },
  {
   "cell_type": "code",
   "execution_count": null,
   "id": "e2d9836f",
   "metadata": {},
   "outputs": [],
   "source": [
    "sale['CLV']=sale.iloc[:,2:].sum(axis=1)"
   ]
  },
  {
   "cell_type": "code",
   "execution_count": null,
   "id": "0ff7ef7a",
   "metadata": {},
   "outputs": [],
   "source": [
    "sale.head(100)"
   ]
  },
  {
   "cell_type": "code",
   "execution_count": null,
   "id": "01c451ac",
   "metadata": {},
   "outputs": [],
   "source": [
    "## Selecting Feature"
   ]
  },
  {
   "cell_type": "code",
   "execution_count": null,
   "id": "19a56e76",
   "metadata": {},
   "outputs": [],
   "source": [
    "X=sale[['Dec-2011','Nov-2011', 'Oct-2011','Sep-2011','Aug-2011','Jul-2011']]\n",
    "y=sale[['CLV']]"
   ]
  },
  {
   "cell_type": "code",
   "execution_count": null,
   "id": "2bf35998",
   "metadata": {},
   "outputs": [],
   "source": [
    "## Splitting Data"
   ]
  },
  {
   "cell_type": "code",
   "execution_count": null,
   "id": "ef4d3b86",
   "metadata": {},
   "outputs": [],
   "source": [
    "#split training set and test set\n",
    "from sklearn.model_selection import train_test_split\n",
    "X_train, X_test, y_train, y_test = train_test_split(X, y,random_state=0)"
   ]
  },
  {
   "cell_type": "markdown",
   "id": "6a5cec6b",
   "metadata": {},
   "source": [
    "## Model Development No.1"
   ]
  },
  {
   "cell_type": "code",
   "execution_count": null,
   "id": "77dcbcb7",
   "metadata": {},
   "outputs": [],
   "source": [
    "# import model\n",
    "from sklearn.linear_model import LinearRegression\n",
    "\n",
    "# instantiate\n",
    "linreg = LinearRegression()\n",
    "\n",
    "# fit the model to the training data (learn the coefficients)\n",
    "linreg.fit(X_train, y_train)\n",
    "\n",
    "# make predictions on the testing set\n",
    "y_pred = linreg.predict(X_test)"
   ]
  },
  {
   "cell_type": "code",
   "execution_count": null,
   "id": "3ea0f20b",
   "metadata": {},
   "outputs": [],
   "source": [
    "# print the intercept and coefficients\n",
    "print(linreg.intercept_)\n",
    "print(linreg.coef_)"
   ]
  },
  {
   "cell_type": "code",
   "execution_count": null,
   "id": "c46fcb2c",
   "metadata": {},
   "outputs": [],
   "source": [
    "from sklearn import metrics\n",
    "\n",
    "# compute the R Square for model\n",
    "print(\"R-Square:\",metrics.r2_score(y_test, y_pred))"
   ]
  },
  {
   "cell_type": "markdown",
   "id": "9b4c0c3f",
   "metadata": {},
   "source": [
    "### Model Evaluation\n",
    "For regression problems following evaluation metrics used (Ritchie Ng):\n",
    "\n",
    "Mean Absolute Error (MAE) is the mean of the absolute value of the errors.\n",
    "Mean Squared Error (MSE) is the mean of the squared errors.\n",
    "Root Mean Squared Error (RMSE) is the square root of the mean of the squared errors."
   ]
  },
  {
   "cell_type": "code",
   "execution_count": null,
   "id": "fadc2a3b",
   "metadata": {},
   "outputs": [],
   "source": [
    "# calculate MAE using scikit-learn\n",
    "print(\"MAE:\",metrics.mean_absolute_error(y_test,y_pred))\n",
    "\n",
    "#calculate mean squared error\n",
    "print(\"MSE\",metrics.mean_squared_error(y_test, y_pred))\n",
    "# compute the RMSE of our predictions\n",
    "print(\"RMSE:\",np.sqrt(metrics.mean_squared_error(y_test, y_pred)))"
   ]
  },
  {
   "cell_type": "markdown",
   "id": "507aae42",
   "metadata": {},
   "source": [
    "RMSE is more popular than MSE and MAE because RMSE is interpretable with y because of the same units.\n"
   ]
  },
  {
   "cell_type": "code",
   "execution_count": null,
   "id": "1c99de3f",
   "metadata": {},
   "outputs": [],
   "source": []
  },
  {
   "cell_type": "markdown",
   "id": "29d602de",
   "metadata": {},
   "source": [
    "## Model No.2 — Robust Regression"
   ]
  },
  {
   "cell_type": "code",
   "execution_count": null,
   "id": "33cd7f1a",
   "metadata": {},
   "outputs": [],
   "source": [
    "# import numpy as np\n",
    "# from matplotlib import pyplot as plt\n",
    "# from sklearn import linear_model, datasets\n",
    "\n",
    "# n_samples = 1000\n",
    "# n_outliers = 50\n",
    "# X, y, coef = datasets.make_regression(n_samples=n_samples, n_features=1, n_informative=1, noise=10, coef=True, random_state=0)\n",
    "# # Add outlier data\n",
    "# np.random.seed(0)\n",
    "# X[:n_outliers] = 3 + 0.5 * np.random.normal(size=(n_outliers, 1))\n",
    "# y[:n_outliers] = -3 + 10 * np.random.normal(size=n_outliers)\n",
    "# print(\"The independent variable X has {} observations/samples\".format(X.shape[0]))\n",
    "# print(\"The dependent variable y has shape {}\".format(y.shape))\n",
    "\n",
    "# plt.scatter(X,y)\n",
    "# plt.show()"
   ]
  },
  {
   "cell_type": "code",
   "execution_count": null,
   "id": "c9220b30",
   "metadata": {},
   "outputs": [],
   "source": []
  },
  {
   "cell_type": "code",
   "execution_count": null,
   "id": "e57e25fc",
   "metadata": {},
   "outputs": [],
   "source": []
  },
  {
   "cell_type": "code",
   "execution_count": null,
   "id": "1b36a6f7",
   "metadata": {},
   "outputs": [],
   "source": []
  },
  {
   "cell_type": "code",
   "execution_count": null,
   "id": "6e08dd65",
   "metadata": {},
   "outputs": [],
   "source": []
  },
  {
   "cell_type": "code",
   "execution_count": null,
   "id": "d2db4f6d",
   "metadata": {},
   "outputs": [],
   "source": []
  }
 ],
 "metadata": {
  "kernelspec": {
   "display_name": "Python 3 (ipykernel)",
   "language": "python",
   "name": "python3"
  },
  "language_info": {
   "codemirror_mode": {
    "name": "ipython",
    "version": 3
   },
   "file_extension": ".py",
   "mimetype": "text/x-python",
   "name": "python",
   "nbconvert_exporter": "python",
   "pygments_lexer": "ipython3",
   "version": "3.8.12"
  }
 },
 "nbformat": 4,
 "nbformat_minor": 5
}

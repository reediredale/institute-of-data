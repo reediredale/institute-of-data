{
 "cells": [
  {
   "cell_type": "code",
   "execution_count": 19,
   "id": "49f9c9a2",
   "metadata": {},
   "outputs": [],
   "source": [
    "import pandas as pd\n",
    "import numpy as np\n",
    "import matplotlib.pyplot as plt\n",
    "\n",
    "%matplotlib inline"
   ]
  },
  {
   "cell_type": "code",
   "execution_count": 24,
   "id": "36b40b0b",
   "metadata": {},
   "outputs": [
    {
     "data": {
      "text/html": [
       "<div>\n",
       "<style scoped>\n",
       "    .dataframe tbody tr th:only-of-type {\n",
       "        vertical-align: middle;\n",
       "    }\n",
       "\n",
       "    .dataframe tbody tr th {\n",
       "        vertical-align: top;\n",
       "    }\n",
       "\n",
       "    .dataframe thead th {\n",
       "        text-align: right;\n",
       "    }\n",
       "</style>\n",
       "<table border=\"1\" class=\"dataframe\">\n",
       "  <thead>\n",
       "    <tr style=\"text-align: right;\">\n",
       "      <th></th>\n",
       "      <th>beginning_of_period_date</th>\n",
       "      <th>account_id</th>\n",
       "      <th>industry</th>\n",
       "      <th>market</th>\n",
       "      <th>first_paid_subscription_created_date_utc</th>\n",
       "      <th>latest_plan_tier_at_beginning_of_period</th>\n",
       "      <th>latest_plan_duration_at_beginning_of_period</th>\n",
       "      <th>latest_price_paid_usd_at_beginning_of_period</th>\n",
       "    </tr>\n",
       "  </thead>\n",
       "  <tbody>\n",
       "    <tr>\n",
       "      <th>0</th>\n",
       "      <td>2021-07-01</td>\n",
       "      <td>20855008.0</td>\n",
       "      <td>Home Maintenance and Outdoor Services</td>\n",
       "      <td>US</td>\n",
       "      <td>2015-09-02 22:39:42.000</td>\n",
       "      <td>Unlimited</td>\n",
       "      <td>Annual</td>\n",
       "      <td>399.99</td>\n",
       "    </tr>\n",
       "    <tr>\n",
       "      <th>1</th>\n",
       "      <td>2021-07-01</td>\n",
       "      <td>20904201.0</td>\n",
       "      <td>Home Maintenance and Outdoor Services</td>\n",
       "      <td>US</td>\n",
       "      <td>2015-09-25 00:33:38.000</td>\n",
       "      <td>Unlimited</td>\n",
       "      <td>Annual</td>\n",
       "      <td>399.00</td>\n",
       "    </tr>\n",
       "    <tr>\n",
       "      <th>2</th>\n",
       "      <td>2021-07-01</td>\n",
       "      <td>21032602.0</td>\n",
       "      <td>Construction and Trades</td>\n",
       "      <td>US</td>\n",
       "      <td>2015-12-08 00:12:55.740</td>\n",
       "      <td>Unlimited</td>\n",
       "      <td>Annual</td>\n",
       "      <td>207.33</td>\n",
       "    </tr>\n",
       "    <tr>\n",
       "      <th>3</th>\n",
       "      <td>2021-07-01</td>\n",
       "      <td>21189746.0</td>\n",
       "      <td>Marketing and Creative</td>\n",
       "      <td>US</td>\n",
       "      <td>2016-01-04 02:36:56.000</td>\n",
       "      <td>Unlimited</td>\n",
       "      <td>Annual</td>\n",
       "      <td>299.99</td>\n",
       "    </tr>\n",
       "    <tr>\n",
       "      <th>4</th>\n",
       "      <td>2021-07-01</td>\n",
       "      <td>21198731.0</td>\n",
       "      <td>Construction and Trades</td>\n",
       "      <td>US</td>\n",
       "      <td>2016-01-27 04:20:24.000</td>\n",
       "      <td>Advanced</td>\n",
       "      <td>Annual</td>\n",
       "      <td>239.00</td>\n",
       "    </tr>\n",
       "  </tbody>\n",
       "</table>\n",
       "</div>"
      ],
      "text/plain": [
       "  beginning_of_period_date  account_id                               industry  \\\n",
       "0               2021-07-01  20855008.0  Home Maintenance and Outdoor Services   \n",
       "1               2021-07-01  20904201.0  Home Maintenance and Outdoor Services   \n",
       "2               2021-07-01  21032602.0                Construction and Trades   \n",
       "3               2021-07-01  21189746.0                 Marketing and Creative   \n",
       "4               2021-07-01  21198731.0                Construction and Trades   \n",
       "\n",
       "  market first_paid_subscription_created_date_utc  \\\n",
       "0     US                  2015-09-02 22:39:42.000   \n",
       "1     US                  2015-09-25 00:33:38.000   \n",
       "2     US                  2015-12-08 00:12:55.740   \n",
       "3     US                  2016-01-04 02:36:56.000   \n",
       "4     US                  2016-01-27 04:20:24.000   \n",
       "\n",
       "  latest_plan_tier_at_beginning_of_period  \\\n",
       "0                               Unlimited   \n",
       "1                               Unlimited   \n",
       "2                               Unlimited   \n",
       "3                               Unlimited   \n",
       "4                                Advanced   \n",
       "\n",
       "  latest_plan_duration_at_beginning_of_period  \\\n",
       "0                                      Annual   \n",
       "1                                      Annual   \n",
       "2                                      Annual   \n",
       "3                                      Annual   \n",
       "4                                      Annual   \n",
       "\n",
       "   latest_price_paid_usd_at_beginning_of_period  \n",
       "0                                        399.99  \n",
       "1                                        399.00  \n",
       "2                                        207.33  \n",
       "3                                        299.99  \n",
       "4                                        239.00  "
      ]
     },
     "execution_count": 24,
     "metadata": {},
     "output_type": "execute_result"
    }
   ],
   "source": [
    "from pandas import ExcelFile\n",
    "\n",
    "df = pd.read_excel('./../../projects/product-mvp/launch-data.xlsx')\n",
    "df.head()"
   ]
  },
  {
   "cell_type": "code",
   "execution_count": 26,
   "id": "a9c18e9d",
   "metadata": {},
   "outputs": [
    {
     "data": {
      "text/plain": [
       "(685, 8)"
      ]
     },
     "execution_count": 26,
     "metadata": {},
     "output_type": "execute_result"
    }
   ],
   "source": [
    "df.shape"
   ]
  },
  {
   "cell_type": "code",
   "execution_count": 27,
   "id": "dda51c26",
   "metadata": {},
   "outputs": [
    {
     "data": {
      "text/plain": [
       "Index(['beginning_of_period_date', 'account_id', 'industry', 'market',\n",
       "       'first_paid_subscription_created_date_utc',\n",
       "       'latest_plan_tier_at_beginning_of_period',\n",
       "       'latest_plan_duration_at_beginning_of_period',\n",
       "       'latest_price_paid_usd_at_beginning_of_period'],\n",
       "      dtype='object')"
      ]
     },
     "execution_count": 27,
     "metadata": {},
     "output_type": "execute_result"
    }
   ],
   "source": [
    "df.columns"
   ]
  },
  {
   "cell_type": "code",
   "execution_count": 28,
   "id": "c78de543",
   "metadata": {},
   "outputs": [
    {
     "name": "stdout",
     "output_type": "stream",
     "text": [
      "0      Home Maintenance and Outdoor Services\n",
      "1      Home Maintenance and Outdoor Services\n",
      "2                    Construction and Trades\n",
      "3                     Marketing and Creative\n",
      "4                    Construction and Trades\n",
      "                       ...                  \n",
      "680                  Construction and Trades\n",
      "681                  Construction and Trades\n",
      "682                  Construction and Trades\n",
      "683                  Construction and Trades\n",
      "684                  Construction and Trades\n",
      "Name: industry, Length: 685, dtype: object\n"
     ]
    }
   ],
   "source": [
    "print(df['industry'])"
   ]
  },
  {
   "cell_type": "code",
   "execution_count": 29,
   "id": "e9e76654",
   "metadata": {},
   "outputs": [
    {
     "data": {
      "text/plain": [
       "Construction and Trades                        444\n",
       "Home Maintenance and Outdoor Services          182\n",
       "Marketing and Creative                          25\n",
       "Consulting, Legal, and Financial Services       21\n",
       "Other/Unknown                                   11\n",
       "Automotive, Transportation, and Warehousing      2\n",
       "Name: industry, dtype: int64"
      ]
     },
     "execution_count": 29,
     "metadata": {},
     "output_type": "execute_result"
    }
   ],
   "source": [
    "df['industry'].value_counts()"
   ]
  },
  {
   "cell_type": "code",
   "execution_count": 30,
   "id": "19103445",
   "metadata": {},
   "outputs": [
    {
     "data": {
      "text/plain": [
       "Unlimited    381\n",
       "Advanced     286\n",
       "Standard      16\n",
       "Lite           2\n",
       "Name: latest_plan_tier_at_beginning_of_period, dtype: int64"
      ]
     },
     "execution_count": 30,
     "metadata": {},
     "output_type": "execute_result"
    }
   ],
   "source": [
    "df['latest_plan_tier_at_beginning_of_period'].value_counts()"
   ]
  }
 ],
 "metadata": {
  "kernelspec": {
   "display_name": "Python 3 (ipykernel)",
   "language": "python",
   "name": "python3"
  },
  "language_info": {
   "codemirror_mode": {
    "name": "ipython",
    "version": 3
   },
   "file_extension": ".py",
   "mimetype": "text/x-python",
   "name": "python",
   "nbconvert_exporter": "python",
   "pygments_lexer": "ipython3",
   "version": "3.8.12"
  }
 },
 "nbformat": 4,
 "nbformat_minor": 5
}

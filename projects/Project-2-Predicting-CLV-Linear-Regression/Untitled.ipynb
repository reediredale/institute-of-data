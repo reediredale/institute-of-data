{
 "cells": [
  {
   "cell_type": "code",
   "execution_count": 3,
   "id": "c31dbe00",
   "metadata": {},
   "outputs": [
    {
     "ename": "SyntaxError",
     "evalue": "invalid character in identifier (715627793.py, line 11)",
     "output_type": "error",
     "traceback": [
      "\u001b[0;36m  File \u001b[0;32m\"/var/folders/vp/k70yvwj57vd00y1yn6zl3mkr0000gn/T/ipykernel_5126/715627793.py\"\u001b[0;36m, line \u001b[0;32m11\u001b[0m\n\u001b[0;31m    interquantile_range = quartile3 — quartile1\u001b[0m\n\u001b[0m                                    ^\u001b[0m\n\u001b[0;31mSyntaxError\u001b[0m\u001b[0;31m:\u001b[0m invalid character in identifier\n"
     ]
    }
   ],
   "source": [
    "from sqlalchemy import create_engine\n",
    "import datetime as dt\n",
    "import pandas as pd\n",
    "import matplotlib.pyplot as plt\n",
    "from lifetimes import BetaGeoFitter\n",
    "from lifetimes import GammaGammaFitter\n",
    "from lifetimes.plotting import plot_period_transactions\n",
    "def outlier_thresholds(dataframe, variable):\n",
    " quartile1 = dataframe[variable].quantile(0.01)\n",
    " quartile3 = dataframe[variable].quantile(0.99)\n",
    " interquantile_range = quartile3 — quartile1\n",
    " up_limit = quartile3 + 1.5 * interquantile_range\n",
    " low_limit = quartile1–1.5 * interquantile_range\n",
    " return low_limit, up_limit\n",
    "def replace_with_thresholds(dataframe, variable):\n",
    "    low_limit, up_limit = outlier_thresholds(dataframe, variable)\n",
    "    dataframe.loc[(dataframe[variable] < low_limit), variable] = low_limit\n",
    "    dataframe.loc[(dataframe[variable] > up_limit), variable] = up_limit\n",
    "# Additional info; 'outlier_thresholds' function, is so useful function you can use it in your data preparation process, it finds out outlier_thresholds and equals it either up_limit or low_limit. They are simultaneously used with replace_with_thresholds function. With the help of these two function, We will equalize our outlier thresholds to determined low_limit and up_limit values without taking a long time.\n",
    "#Where you can find the dataset https://archive.ics.uci.edu/ml/datasets/Online+Retail+II\n",
    "df_ = pd.read_excel(“online_retail_II.xlsx”,\n",
    " sheet_name=”Year 2010–2011\")\n",
    "df = df_.copy()\n",
    "df.shape\n",
    "OUT = (541910, 8)\n",
    "df.describe().T"
   ]
  },
  {
   "cell_type": "code",
   "execution_count": null,
   "id": "01442ae2",
   "metadata": {},
   "outputs": [],
   "source": []
  }
 ],
 "metadata": {
  "kernelspec": {
   "display_name": "Python 3 (ipykernel)",
   "language": "python",
   "name": "python3"
  },
  "language_info": {
   "codemirror_mode": {
    "name": "ipython",
    "version": 3
   },
   "file_extension": ".py",
   "mimetype": "text/x-python",
   "name": "python",
   "nbconvert_exporter": "python",
   "pygments_lexer": "ipython3",
   "version": "3.8.12"
  }
 },
 "nbformat": 4,
 "nbformat_minor": 5
}

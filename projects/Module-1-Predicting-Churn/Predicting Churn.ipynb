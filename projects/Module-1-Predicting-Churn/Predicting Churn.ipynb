{
 "cells": [
  {
   "cell_type": "markdown",
   "id": "503ab45a",
   "metadata": {},
   "source": [
    "**"
   ]
  },
  {
   "cell_type": "markdown",
   "id": "92837e4b",
   "metadata": {},
   "source": [
    "# Minit Project 1 - Anticipating credit card churn\n",
    "\n",
    "## Business context\n",
    "\n",
    "Macquarie Bank’s Credit Card Manager is uncomfortable with more and more customers leaving their Ratesaver credit card service. They would really appreciate it if someone could predict who will be affected so that they can proactively go to the customer to provide them with a better services and turn customer decisions in the opposite direction. "
   ]
  },
  {
   "cell_type": "markdown",
   "id": "92ad874f",
   "metadata": {},
   "source": [
    "## Business question - Can we anticipate credit card churn?\n",
    "\n",
    "Can We Anticipate Churn on Macquarie Bank Credit Cards?"
   ]
  },
  {
   "cell_type": "markdown",
   "id": "2558095d",
   "metadata": {},
   "source": [
    "## Data pipeline\n",
    "\n",
    "The data in is a standard CSV file from The Macquarie Bank Credit Card Manager."
   ]
  },
  {
   "cell_type": "code",
   "execution_count": 40,
   "id": "6471f9eb",
   "metadata": {},
   "outputs": [
    {
     "name": "stdout",
     "output_type": "stream",
     "text": [
      "Populating the interactive namespace from numpy and matplotlib\n"
     ]
    }
   ],
   "source": [
    "import pandas as pd\n",
    "import numpy as np\n",
    "import matplotlib.pyplot as plt\n",
    "import matplotlib.pylab as pylab\n",
    "import seaborn as sns\n",
    "\n",
    "from scipy import stats\n",
    "from sklearn.preprocessing import LabelEncoder\n",
    "\n",
    "%pylab inline\n",
    "%matplotlib inline"
   ]
  },
  {
   "cell_type": "markdown",
   "id": "755250bd",
   "metadata": {},
   "source": [
    "## Step 1. Import data"
   ]
  },
  {
   "cell_type": "code",
   "execution_count": 100,
   "id": "79b4b72a",
   "metadata": {},
   "outputs": [
    {
     "data": {
      "text/html": [
       "<div>\n",
       "<style scoped>\n",
       "    .dataframe tbody tr th:only-of-type {\n",
       "        vertical-align: middle;\n",
       "    }\n",
       "\n",
       "    .dataframe tbody tr th {\n",
       "        vertical-align: top;\n",
       "    }\n",
       "\n",
       "    .dataframe thead th {\n",
       "        text-align: right;\n",
       "    }\n",
       "</style>\n",
       "<table border=\"1\" class=\"dataframe\">\n",
       "  <thead>\n",
       "    <tr style=\"text-align: right;\">\n",
       "      <th></th>\n",
       "      <th>CLIENTNUM</th>\n",
       "      <th>Attrition_Flag</th>\n",
       "      <th>Customer_Age</th>\n",
       "      <th>Gender</th>\n",
       "      <th>Dependent_count</th>\n",
       "      <th>Education_Level</th>\n",
       "      <th>Marital_Status</th>\n",
       "      <th>Income_Category</th>\n",
       "      <th>Card_Category</th>\n",
       "      <th>Months_on_book</th>\n",
       "      <th>...</th>\n",
       "      <th>Credit_Limit</th>\n",
       "      <th>Total_Revolving_Bal</th>\n",
       "      <th>Avg_Open_To_Buy</th>\n",
       "      <th>Total_Amt_Chng_Q4_Q1</th>\n",
       "      <th>Total_Trans_Amt</th>\n",
       "      <th>Total_Trans_Ct</th>\n",
       "      <th>Total_Ct_Chng_Q4_Q1</th>\n",
       "      <th>Avg_Utilization_Ratio</th>\n",
       "      <th>Naive_Bayes_Classifier_Attrition_Flag_Card_Category_Contacts_Count_12_mon_Dependent_count_Education_Level_Months_Inactive_12_mon_1</th>\n",
       "      <th>Naive_Bayes_Classifier_Attrition_Flag_Card_Category_Contacts_Count_12_mon_Dependent_count_Education_Level_Months_Inactive_12_mon_2</th>\n",
       "    </tr>\n",
       "  </thead>\n",
       "  <tbody>\n",
       "    <tr>\n",
       "      <th>0</th>\n",
       "      <td>768805383</td>\n",
       "      <td>Existing Customer</td>\n",
       "      <td>45</td>\n",
       "      <td>M</td>\n",
       "      <td>3</td>\n",
       "      <td>High School</td>\n",
       "      <td>Married</td>\n",
       "      <td>$60K - $80K</td>\n",
       "      <td>Blue</td>\n",
       "      <td>39</td>\n",
       "      <td>...</td>\n",
       "      <td>12691.0</td>\n",
       "      <td>777</td>\n",
       "      <td>11914.0</td>\n",
       "      <td>1.335</td>\n",
       "      <td>1144</td>\n",
       "      <td>42</td>\n",
       "      <td>1.625</td>\n",
       "      <td>0.061</td>\n",
       "      <td>0.000093</td>\n",
       "      <td>0.99991</td>\n",
       "    </tr>\n",
       "    <tr>\n",
       "      <th>1</th>\n",
       "      <td>818770008</td>\n",
       "      <td>Existing Customer</td>\n",
       "      <td>49</td>\n",
       "      <td>F</td>\n",
       "      <td>5</td>\n",
       "      <td>Graduate</td>\n",
       "      <td>Single</td>\n",
       "      <td>Less than $40K</td>\n",
       "      <td>Blue</td>\n",
       "      <td>44</td>\n",
       "      <td>...</td>\n",
       "      <td>8256.0</td>\n",
       "      <td>864</td>\n",
       "      <td>7392.0</td>\n",
       "      <td>1.541</td>\n",
       "      <td>1291</td>\n",
       "      <td>33</td>\n",
       "      <td>3.714</td>\n",
       "      <td>0.105</td>\n",
       "      <td>0.000057</td>\n",
       "      <td>0.99994</td>\n",
       "    </tr>\n",
       "    <tr>\n",
       "      <th>2</th>\n",
       "      <td>713982108</td>\n",
       "      <td>Existing Customer</td>\n",
       "      <td>51</td>\n",
       "      <td>M</td>\n",
       "      <td>3</td>\n",
       "      <td>Graduate</td>\n",
       "      <td>Married</td>\n",
       "      <td>$80K - $120K</td>\n",
       "      <td>Blue</td>\n",
       "      <td>36</td>\n",
       "      <td>...</td>\n",
       "      <td>3418.0</td>\n",
       "      <td>0</td>\n",
       "      <td>3418.0</td>\n",
       "      <td>2.594</td>\n",
       "      <td>1887</td>\n",
       "      <td>20</td>\n",
       "      <td>2.333</td>\n",
       "      <td>0.000</td>\n",
       "      <td>0.000021</td>\n",
       "      <td>0.99998</td>\n",
       "    </tr>\n",
       "    <tr>\n",
       "      <th>3</th>\n",
       "      <td>769911858</td>\n",
       "      <td>Existing Customer</td>\n",
       "      <td>40</td>\n",
       "      <td>F</td>\n",
       "      <td>4</td>\n",
       "      <td>High School</td>\n",
       "      <td>Unknown</td>\n",
       "      <td>Less than $40K</td>\n",
       "      <td>Blue</td>\n",
       "      <td>34</td>\n",
       "      <td>...</td>\n",
       "      <td>3313.0</td>\n",
       "      <td>2517</td>\n",
       "      <td>796.0</td>\n",
       "      <td>1.405</td>\n",
       "      <td>1171</td>\n",
       "      <td>20</td>\n",
       "      <td>2.333</td>\n",
       "      <td>0.760</td>\n",
       "      <td>0.000134</td>\n",
       "      <td>0.99987</td>\n",
       "    </tr>\n",
       "    <tr>\n",
       "      <th>4</th>\n",
       "      <td>709106358</td>\n",
       "      <td>Existing Customer</td>\n",
       "      <td>40</td>\n",
       "      <td>M</td>\n",
       "      <td>3</td>\n",
       "      <td>Uneducated</td>\n",
       "      <td>Married</td>\n",
       "      <td>$60K - $80K</td>\n",
       "      <td>Blue</td>\n",
       "      <td>21</td>\n",
       "      <td>...</td>\n",
       "      <td>4716.0</td>\n",
       "      <td>0</td>\n",
       "      <td>4716.0</td>\n",
       "      <td>2.175</td>\n",
       "      <td>816</td>\n",
       "      <td>28</td>\n",
       "      <td>2.500</td>\n",
       "      <td>0.000</td>\n",
       "      <td>0.000022</td>\n",
       "      <td>0.99998</td>\n",
       "    </tr>\n",
       "  </tbody>\n",
       "</table>\n",
       "<p>5 rows × 23 columns</p>\n",
       "</div>"
      ],
      "text/plain": [
       "   CLIENTNUM     Attrition_Flag  Customer_Age Gender  Dependent_count  \\\n",
       "0  768805383  Existing Customer            45      M                3   \n",
       "1  818770008  Existing Customer            49      F                5   \n",
       "2  713982108  Existing Customer            51      M                3   \n",
       "3  769911858  Existing Customer            40      F                4   \n",
       "4  709106358  Existing Customer            40      M                3   \n",
       "\n",
       "  Education_Level Marital_Status Income_Category Card_Category  \\\n",
       "0     High School        Married     $60K - $80K          Blue   \n",
       "1        Graduate         Single  Less than $40K          Blue   \n",
       "2        Graduate        Married    $80K - $120K          Blue   \n",
       "3     High School        Unknown  Less than $40K          Blue   \n",
       "4      Uneducated        Married     $60K - $80K          Blue   \n",
       "\n",
       "   Months_on_book  ...  Credit_Limit  Total_Revolving_Bal  Avg_Open_To_Buy  \\\n",
       "0              39  ...       12691.0                  777          11914.0   \n",
       "1              44  ...        8256.0                  864           7392.0   \n",
       "2              36  ...        3418.0                    0           3418.0   \n",
       "3              34  ...        3313.0                 2517            796.0   \n",
       "4              21  ...        4716.0                    0           4716.0   \n",
       "\n",
       "   Total_Amt_Chng_Q4_Q1  Total_Trans_Amt  Total_Trans_Ct  Total_Ct_Chng_Q4_Q1  \\\n",
       "0                 1.335             1144              42                1.625   \n",
       "1                 1.541             1291              33                3.714   \n",
       "2                 2.594             1887              20                2.333   \n",
       "3                 1.405             1171              20                2.333   \n",
       "4                 2.175              816              28                2.500   \n",
       "\n",
       "   Avg_Utilization_Ratio  \\\n",
       "0                  0.061   \n",
       "1                  0.105   \n",
       "2                  0.000   \n",
       "3                  0.760   \n",
       "4                  0.000   \n",
       "\n",
       "   Naive_Bayes_Classifier_Attrition_Flag_Card_Category_Contacts_Count_12_mon_Dependent_count_Education_Level_Months_Inactive_12_mon_1  \\\n",
       "0                                           0.000093                                                                                    \n",
       "1                                           0.000057                                                                                    \n",
       "2                                           0.000021                                                                                    \n",
       "3                                           0.000134                                                                                    \n",
       "4                                           0.000022                                                                                    \n",
       "\n",
       "   Naive_Bayes_Classifier_Attrition_Flag_Card_Category_Contacts_Count_12_mon_Dependent_count_Education_Level_Months_Inactive_12_mon_2  \n",
       "0                                            0.99991                                                                                   \n",
       "1                                            0.99994                                                                                   \n",
       "2                                            0.99998                                                                                   \n",
       "3                                            0.99987                                                                                   \n",
       "4                                            0.99998                                                                                   \n",
       "\n",
       "[5 rows x 23 columns]"
      ]
     },
     "execution_count": 100,
     "metadata": {},
     "output_type": "execute_result"
    }
   ],
   "source": [
    "df = pd.read_csv('predicting-credit-card-churn-ReedBank.csv')\n",
    "df.head()"
   ]
  },
  {
   "cell_type": "markdown",
   "id": "b81a3bff",
   "metadata": {},
   "source": [
    "## Data Summary\n",
    "\n",
    "- **Attrition Flag**: This is our target variable, means whether our customer decided to leave the organization or that there is a high probability the customer will leave.\n",
    "- **Gender**: Male or Female\n",
    "- **Customer age**: Age of the customer\n",
    "- **Income category**: To which income category does the customer belongs to.\n",
    "- **Card category**: Which card category does the customer have?\n",
    "- **Months Inactive**: Amount of inactivity when using the credit card.\n",
    "- **Credit Limit**: Credit Limit the customer currently has.\n",
    "- **Total Revolving Balance**: The unpaid portion that carries over to the next month when a customer does not pay.\n",
    "- **Average Utiliwation Ratio**: Measures how much credit you are using compared to how much you have available.\n",
    "- **Open to buy**: The amount of credit available at a given time on a credit card holders account. Thus, the average open to buy is the average credit available allocated to a specific customer."
   ]
  },
  {
   "cell_type": "markdown",
   "id": "a8a511b2",
   "metadata": {},
   "source": [
    "## Step 2. Data cleaning"
   ]
  },
  {
   "cell_type": "code",
   "execution_count": 101,
   "id": "28765354",
   "metadata": {},
   "outputs": [
    {
     "data": {
      "text/plain": [
       "(10127, 23)"
      ]
     },
     "execution_count": 101,
     "metadata": {},
     "output_type": "execute_result"
    }
   ],
   "source": [
    "df.shape"
   ]
  },
  {
   "cell_type": "code",
   "execution_count": 102,
   "id": "92863e1d",
   "metadata": {},
   "outputs": [
    {
     "data": {
      "text/plain": [
       "Index(['CLIENTNUM', 'Attrition_Flag', 'Customer_Age', 'Gender',\n",
       "       'Dependent_count', 'Education_Level', 'Marital_Status',\n",
       "       'Income_Category', 'Card_Category', 'Months_on_book',\n",
       "       'Total_Relationship_Count', 'Months_Inactive_12_mon',\n",
       "       'Contacts_Count_12_mon', 'Credit_Limit', 'Total_Revolving_Bal',\n",
       "       'Avg_Open_To_Buy', 'Total_Amt_Chng_Q4_Q1', 'Total_Trans_Amt',\n",
       "       'Total_Trans_Ct', 'Total_Ct_Chng_Q4_Q1', 'Avg_Utilization_Ratio',\n",
       "       'Naive_Bayes_Classifier_Attrition_Flag_Card_Category_Contacts_Count_12_mon_Dependent_count_Education_Level_Months_Inactive_12_mon_1',\n",
       "       'Naive_Bayes_Classifier_Attrition_Flag_Card_Category_Contacts_Count_12_mon_Dependent_count_Education_Level_Months_Inactive_12_mon_2'],\n",
       "      dtype='object')"
      ]
     },
     "execution_count": 102,
     "metadata": {},
     "output_type": "execute_result"
    }
   ],
   "source": [
    "df.columns"
   ]
  },
  {
   "cell_type": "code",
   "execution_count": 103,
   "id": "02ae57b0",
   "metadata": {},
   "outputs": [
    {
     "data": {
      "text/plain": [
       "Existing Customer    8500\n",
       "Attrited Customer    1627\n",
       "Name: Attrition_Flag, dtype: int64"
      ]
     },
     "execution_count": 103,
     "metadata": {},
     "output_type": "execute_result"
    }
   ],
   "source": [
    "df['Attrition_Flag'].value_counts()"
   ]
  },
  {
   "cell_type": "code",
   "execution_count": 104,
   "id": "20cc4ecd",
   "metadata": {},
   "outputs": [
    {
     "name": "stdout",
     "output_type": "stream",
     "text": [
      "Number of missing values by column:\n"
     ]
    },
    {
     "data": {
      "text/plain": [
       "CLIENTNUM                                                                                                                             0\n",
       "Attrition_Flag                                                                                                                        0\n",
       "Customer_Age                                                                                                                          0\n",
       "Gender                                                                                                                                0\n",
       "Dependent_count                                                                                                                       0\n",
       "Education_Level                                                                                                                       0\n",
       "Marital_Status                                                                                                                        0\n",
       "Income_Category                                                                                                                       0\n",
       "Card_Category                                                                                                                         0\n",
       "Months_on_book                                                                                                                        0\n",
       "Total_Relationship_Count                                                                                                              0\n",
       "Months_Inactive_12_mon                                                                                                                0\n",
       "Contacts_Count_12_mon                                                                                                                 0\n",
       "Credit_Limit                                                                                                                          0\n",
       "Total_Revolving_Bal                                                                                                                   0\n",
       "Avg_Open_To_Buy                                                                                                                       0\n",
       "Total_Amt_Chng_Q4_Q1                                                                                                                  0\n",
       "Total_Trans_Amt                                                                                                                       0\n",
       "Total_Trans_Ct                                                                                                                        0\n",
       "Total_Ct_Chng_Q4_Q1                                                                                                                   0\n",
       "Avg_Utilization_Ratio                                                                                                                 0\n",
       "Naive_Bayes_Classifier_Attrition_Flag_Card_Category_Contacts_Count_12_mon_Dependent_count_Education_Level_Months_Inactive_12_mon_1    0\n",
       "Naive_Bayes_Classifier_Attrition_Flag_Card_Category_Contacts_Count_12_mon_Dependent_count_Education_Level_Months_Inactive_12_mon_2    0\n",
       "dtype: int64"
      ]
     },
     "execution_count": 104,
     "metadata": {},
     "output_type": "execute_result"
    }
   ],
   "source": [
    "print('Number of missing values by column:')\n",
    "df.isna().sum()"
   ]
  },
  {
   "cell_type": "code",
   "execution_count": 105,
   "id": "0dd320fc",
   "metadata": {},
   "outputs": [
    {
     "data": {
      "text/plain": [
       "Less than $40K    3561\n",
       "$40K - $60K       1790\n",
       "$80K - $120K      1535\n",
       "$60K - $80K       1402\n",
       "Unknown           1112\n",
       "$120K +            727\n",
       "Name: Income_Category, dtype: int64"
      ]
     },
     "execution_count": 105,
     "metadata": {},
     "output_type": "execute_result"
    }
   ],
   "source": [
    "df['Income_Category'].value_counts()"
   ]
  },
  {
   "cell_type": "code",
   "execution_count": 106,
   "id": "868f9301",
   "metadata": {},
   "outputs": [],
   "source": [
    "df.drop(['Naive_Bayes_Classifier_Attrition_Flag_Card_Category_Contacts_Count_12_mon_Dependent_count_Education_Level_Months_Inactive_12_mon_1', 'Naive_Bayes_Classifier_Attrition_Flag_Card_Category_Contacts_Count_12_mon_Dependent_count_Education_Level_Months_Inactive_12_mon_2'], axis = 1, inplace = True)"
   ]
  },
  {
   "cell_type": "code",
   "execution_count": 107,
   "id": "fa0bfb79",
   "metadata": {},
   "outputs": [
    {
     "data": {
      "text/plain": [
       "Index(['CLIENTNUM', 'Attrition_Flag', 'Customer_Age', 'Gender',\n",
       "       'Dependent_count', 'Education_Level', 'Marital_Status',\n",
       "       'Income_Category', 'Card_Category', 'Months_on_book',\n",
       "       'Total_Relationship_Count', 'Months_Inactive_12_mon',\n",
       "       'Contacts_Count_12_mon', 'Credit_Limit', 'Total_Revolving_Bal',\n",
       "       'Avg_Open_To_Buy', 'Total_Amt_Chng_Q4_Q1', 'Total_Trans_Amt',\n",
       "       'Total_Trans_Ct', 'Total_Ct_Chng_Q4_Q1', 'Avg_Utilization_Ratio'],\n",
       "      dtype='object')"
      ]
     },
     "execution_count": 107,
     "metadata": {},
     "output_type": "execute_result"
    }
   ],
   "source": [
    "df.columns"
   ]
  },
  {
   "cell_type": "code",
   "execution_count": 108,
   "id": "3b575513",
   "metadata": {},
   "outputs": [
    {
     "name": "stdout",
     "output_type": "stream",
     "text": [
      "After filtration 7081 remains for anlysis\n"
     ]
    }
   ],
   "source": [
    "df = df.mask(df.eq('Unknown')).dropna()\n",
    "print('After filtration {} remains for anlysis'.format(df.shape[0]))\n",
    "# Removed empty rows"
   ]
  },
  {
   "cell_type": "code",
   "execution_count": 109,
   "id": "c981fdee",
   "metadata": {},
   "outputs": [
    {
     "data": {
      "text/html": [
       "<div>\n",
       "<style scoped>\n",
       "    .dataframe tbody tr th:only-of-type {\n",
       "        vertical-align: middle;\n",
       "    }\n",
       "\n",
       "    .dataframe tbody tr th {\n",
       "        vertical-align: top;\n",
       "    }\n",
       "\n",
       "    .dataframe thead th {\n",
       "        text-align: right;\n",
       "    }\n",
       "</style>\n",
       "<table border=\"1\" class=\"dataframe\">\n",
       "  <thead>\n",
       "    <tr style=\"text-align: right;\">\n",
       "      <th></th>\n",
       "      <th>CLIENTNUM</th>\n",
       "      <th>Attrition_Flag</th>\n",
       "      <th>Age</th>\n",
       "      <th>Gender</th>\n",
       "      <th>Dependent_count</th>\n",
       "      <th>Education</th>\n",
       "      <th>Marital_Status</th>\n",
       "      <th>Income_Category</th>\n",
       "      <th>Card_Category</th>\n",
       "      <th>Months_on_book</th>\n",
       "      <th>...</th>\n",
       "      <th>Months_Inactive_12_mon</th>\n",
       "      <th>Contacts_Count_12_mon</th>\n",
       "      <th>Credit_Limit</th>\n",
       "      <th>Total_Revolving_Bal</th>\n",
       "      <th>Avg_Open_To_Buy</th>\n",
       "      <th>Total_Amt_Chng_Q4_Q1</th>\n",
       "      <th>Total_Trans_Amt</th>\n",
       "      <th>Total_Trans_Ct</th>\n",
       "      <th>Total_Ct_Chng_Q4_Q1</th>\n",
       "      <th>Avg_Utilization_Ratio</th>\n",
       "    </tr>\n",
       "  </thead>\n",
       "  <tbody>\n",
       "    <tr>\n",
       "      <th>0</th>\n",
       "      <td>768805383</td>\n",
       "      <td>Existing Customer</td>\n",
       "      <td>45</td>\n",
       "      <td>M</td>\n",
       "      <td>3</td>\n",
       "      <td>High School</td>\n",
       "      <td>Married</td>\n",
       "      <td>$60K - $80K</td>\n",
       "      <td>Blue</td>\n",
       "      <td>39</td>\n",
       "      <td>...</td>\n",
       "      <td>1</td>\n",
       "      <td>3</td>\n",
       "      <td>12691.0</td>\n",
       "      <td>777</td>\n",
       "      <td>11914.0</td>\n",
       "      <td>1.335</td>\n",
       "      <td>1144</td>\n",
       "      <td>42</td>\n",
       "      <td>1.625</td>\n",
       "      <td>0.061</td>\n",
       "    </tr>\n",
       "    <tr>\n",
       "      <th>1</th>\n",
       "      <td>818770008</td>\n",
       "      <td>Existing Customer</td>\n",
       "      <td>49</td>\n",
       "      <td>F</td>\n",
       "      <td>5</td>\n",
       "      <td>Graduate</td>\n",
       "      <td>Single</td>\n",
       "      <td>Less than $40K</td>\n",
       "      <td>Blue</td>\n",
       "      <td>44</td>\n",
       "      <td>...</td>\n",
       "      <td>1</td>\n",
       "      <td>2</td>\n",
       "      <td>8256.0</td>\n",
       "      <td>864</td>\n",
       "      <td>7392.0</td>\n",
       "      <td>1.541</td>\n",
       "      <td>1291</td>\n",
       "      <td>33</td>\n",
       "      <td>3.714</td>\n",
       "      <td>0.105</td>\n",
       "    </tr>\n",
       "    <tr>\n",
       "      <th>2</th>\n",
       "      <td>713982108</td>\n",
       "      <td>Existing Customer</td>\n",
       "      <td>51</td>\n",
       "      <td>M</td>\n",
       "      <td>3</td>\n",
       "      <td>Graduate</td>\n",
       "      <td>Married</td>\n",
       "      <td>$80K - $120K</td>\n",
       "      <td>Blue</td>\n",
       "      <td>36</td>\n",
       "      <td>...</td>\n",
       "      <td>1</td>\n",
       "      <td>0</td>\n",
       "      <td>3418.0</td>\n",
       "      <td>0</td>\n",
       "      <td>3418.0</td>\n",
       "      <td>2.594</td>\n",
       "      <td>1887</td>\n",
       "      <td>20</td>\n",
       "      <td>2.333</td>\n",
       "      <td>0.000</td>\n",
       "    </tr>\n",
       "    <tr>\n",
       "      <th>4</th>\n",
       "      <td>709106358</td>\n",
       "      <td>Existing Customer</td>\n",
       "      <td>40</td>\n",
       "      <td>M</td>\n",
       "      <td>3</td>\n",
       "      <td>Uneducated</td>\n",
       "      <td>Married</td>\n",
       "      <td>$60K - $80K</td>\n",
       "      <td>Blue</td>\n",
       "      <td>21</td>\n",
       "      <td>...</td>\n",
       "      <td>1</td>\n",
       "      <td>0</td>\n",
       "      <td>4716.0</td>\n",
       "      <td>0</td>\n",
       "      <td>4716.0</td>\n",
       "      <td>2.175</td>\n",
       "      <td>816</td>\n",
       "      <td>28</td>\n",
       "      <td>2.500</td>\n",
       "      <td>0.000</td>\n",
       "    </tr>\n",
       "    <tr>\n",
       "      <th>5</th>\n",
       "      <td>713061558</td>\n",
       "      <td>Existing Customer</td>\n",
       "      <td>44</td>\n",
       "      <td>M</td>\n",
       "      <td>2</td>\n",
       "      <td>Graduate</td>\n",
       "      <td>Married</td>\n",
       "      <td>$40K - $60K</td>\n",
       "      <td>Blue</td>\n",
       "      <td>36</td>\n",
       "      <td>...</td>\n",
       "      <td>1</td>\n",
       "      <td>2</td>\n",
       "      <td>4010.0</td>\n",
       "      <td>1247</td>\n",
       "      <td>2763.0</td>\n",
       "      <td>1.376</td>\n",
       "      <td>1088</td>\n",
       "      <td>24</td>\n",
       "      <td>0.846</td>\n",
       "      <td>0.311</td>\n",
       "    </tr>\n",
       "  </tbody>\n",
       "</table>\n",
       "<p>5 rows × 21 columns</p>\n",
       "</div>"
      ],
      "text/plain": [
       "   CLIENTNUM     Attrition_Flag  Age Gender  Dependent_count    Education  \\\n",
       "0  768805383  Existing Customer   45      M                3  High School   \n",
       "1  818770008  Existing Customer   49      F                5     Graduate   \n",
       "2  713982108  Existing Customer   51      M                3     Graduate   \n",
       "4  709106358  Existing Customer   40      M                3   Uneducated   \n",
       "5  713061558  Existing Customer   44      M                2     Graduate   \n",
       "\n",
       "  Marital_Status Income_Category Card_Category  Months_on_book  ...  \\\n",
       "0        Married     $60K - $80K          Blue              39  ...   \n",
       "1         Single  Less than $40K          Blue              44  ...   \n",
       "2        Married    $80K - $120K          Blue              36  ...   \n",
       "4        Married     $60K - $80K          Blue              21  ...   \n",
       "5        Married     $40K - $60K          Blue              36  ...   \n",
       "\n",
       "   Months_Inactive_12_mon  Contacts_Count_12_mon  Credit_Limit  \\\n",
       "0                       1                      3       12691.0   \n",
       "1                       1                      2        8256.0   \n",
       "2                       1                      0        3418.0   \n",
       "4                       1                      0        4716.0   \n",
       "5                       1                      2        4010.0   \n",
       "\n",
       "   Total_Revolving_Bal  Avg_Open_To_Buy  Total_Amt_Chng_Q4_Q1  \\\n",
       "0                  777          11914.0                 1.335   \n",
       "1                  864           7392.0                 1.541   \n",
       "2                    0           3418.0                 2.594   \n",
       "4                    0           4716.0                 2.175   \n",
       "5                 1247           2763.0                 1.376   \n",
       "\n",
       "   Total_Trans_Amt  Total_Trans_Ct  Total_Ct_Chng_Q4_Q1  Avg_Utilization_Ratio  \n",
       "0             1144              42                1.625                  0.061  \n",
       "1             1291              33                3.714                  0.105  \n",
       "2             1887              20                2.333                  0.000  \n",
       "4              816              28                2.500                  0.000  \n",
       "5             1088              24                0.846                  0.311  \n",
       "\n",
       "[5 rows x 21 columns]"
      ]
     },
     "execution_count": 109,
     "metadata": {},
     "output_type": "execute_result"
    }
   ],
   "source": [
    "df.rename(columns = {'Customer_Age': 'Age', 'Education_Level' : 'Education'}, inplace = True)\n",
    "df.head()"
   ]
  },
  {
   "cell_type": "code",
   "execution_count": 110,
   "id": "85489f51",
   "metadata": {},
   "outputs": [
    {
     "data": {
      "text/plain": [
       "'Categories of incomes:'"
      ]
     },
     "metadata": {},
     "output_type": "display_data"
    },
    {
     "data": {
      "text/plain": [
       "Less than $40K    2792\n",
       "$40K - $60K       1412\n",
       "$80K - $120K      1202\n",
       "$60K - $80K       1103\n",
       "$120K +            572\n",
       "Name: Income_Category, dtype: int64"
      ]
     },
     "metadata": {},
     "output_type": "display_data"
    }
   ],
   "source": [
    "display('Categories of incomes:',df['Income_Category'].value_counts())"
   ]
  },
  {
   "cell_type": "code",
   "execution_count": 111,
   "id": "b03d497e",
   "metadata": {},
   "outputs": [
    {
     "data": {
      "text/plain": [
       "low             2792\n",
       "medium          1412\n",
       "high            1202\n",
       "above medium    1103\n",
       "very high        572\n",
       "Name: Income_Category, dtype: int64"
      ]
     },
     "execution_count": 111,
     "metadata": {},
     "output_type": "execute_result"
    }
   ],
   "source": [
    "# Replace the categories with labels which describes the level of income\n",
    "income_categories_labels = {'Less than $40K' : 'low', '$40K - $60K' : 'medium',\n",
    "                            '$60K - $80K': 'above medium', '$80K - $120K':'high', '$120K +' : 'very high'}\n",
    "df['Income_Category'] = df['Income_Category'].replace(income_categories_labels)\n",
    "# Display the counts of the the new income labels\n",
    "df['Income_Category'].value_counts()"
   ]
  },
  {
   "cell_type": "code",
   "execution_count": 112,
   "id": "5adde09a",
   "metadata": {},
   "outputs": [
    {
     "data": {
      "text/html": [
       "<div>\n",
       "<style scoped>\n",
       "    .dataframe tbody tr th:only-of-type {\n",
       "        vertical-align: middle;\n",
       "    }\n",
       "\n",
       "    .dataframe tbody tr th {\n",
       "        vertical-align: top;\n",
       "    }\n",
       "\n",
       "    .dataframe thead th {\n",
       "        text-align: right;\n",
       "    }\n",
       "</style>\n",
       "<table border=\"1\" class=\"dataframe\">\n",
       "  <thead>\n",
       "    <tr style=\"text-align: right;\">\n",
       "      <th></th>\n",
       "      <th>CLIENTNUM</th>\n",
       "      <th>Attrition_Flag</th>\n",
       "      <th>Age</th>\n",
       "      <th>Gender</th>\n",
       "      <th>Dependent_count</th>\n",
       "      <th>Education</th>\n",
       "      <th>Marital_Status</th>\n",
       "      <th>Income_Category</th>\n",
       "      <th>Card_Category</th>\n",
       "      <th>Months_on_book</th>\n",
       "      <th>...</th>\n",
       "      <th>Months_Inactive_12_mon</th>\n",
       "      <th>Contacts_Count_12_mon</th>\n",
       "      <th>Credit_Limit</th>\n",
       "      <th>Total_Revolving_Bal</th>\n",
       "      <th>Avg_Open_To_Buy</th>\n",
       "      <th>Total_Amt_Chng_Q4_Q1</th>\n",
       "      <th>Total_Trans_Amt</th>\n",
       "      <th>Total_Trans_Ct</th>\n",
       "      <th>Total_Ct_Chng_Q4_Q1</th>\n",
       "      <th>Avg_Utilization_Ratio</th>\n",
       "    </tr>\n",
       "  </thead>\n",
       "  <tbody>\n",
       "    <tr>\n",
       "      <th>0</th>\n",
       "      <td>768805383</td>\n",
       "      <td>1</td>\n",
       "      <td>45</td>\n",
       "      <td>M</td>\n",
       "      <td>3</td>\n",
       "      <td>High School</td>\n",
       "      <td>Married</td>\n",
       "      <td>above medium</td>\n",
       "      <td>Blue</td>\n",
       "      <td>39</td>\n",
       "      <td>...</td>\n",
       "      <td>1</td>\n",
       "      <td>3</td>\n",
       "      <td>12691.0</td>\n",
       "      <td>777</td>\n",
       "      <td>11914.0</td>\n",
       "      <td>1.335</td>\n",
       "      <td>1144</td>\n",
       "      <td>42</td>\n",
       "      <td>1.625</td>\n",
       "      <td>0.061</td>\n",
       "    </tr>\n",
       "    <tr>\n",
       "      <th>1</th>\n",
       "      <td>818770008</td>\n",
       "      <td>1</td>\n",
       "      <td>49</td>\n",
       "      <td>F</td>\n",
       "      <td>5</td>\n",
       "      <td>Graduate</td>\n",
       "      <td>Single</td>\n",
       "      <td>low</td>\n",
       "      <td>Blue</td>\n",
       "      <td>44</td>\n",
       "      <td>...</td>\n",
       "      <td>1</td>\n",
       "      <td>2</td>\n",
       "      <td>8256.0</td>\n",
       "      <td>864</td>\n",
       "      <td>7392.0</td>\n",
       "      <td>1.541</td>\n",
       "      <td>1291</td>\n",
       "      <td>33</td>\n",
       "      <td>3.714</td>\n",
       "      <td>0.105</td>\n",
       "    </tr>\n",
       "    <tr>\n",
       "      <th>2</th>\n",
       "      <td>713982108</td>\n",
       "      <td>1</td>\n",
       "      <td>51</td>\n",
       "      <td>M</td>\n",
       "      <td>3</td>\n",
       "      <td>Graduate</td>\n",
       "      <td>Married</td>\n",
       "      <td>high</td>\n",
       "      <td>Blue</td>\n",
       "      <td>36</td>\n",
       "      <td>...</td>\n",
       "      <td>1</td>\n",
       "      <td>0</td>\n",
       "      <td>3418.0</td>\n",
       "      <td>0</td>\n",
       "      <td>3418.0</td>\n",
       "      <td>2.594</td>\n",
       "      <td>1887</td>\n",
       "      <td>20</td>\n",
       "      <td>2.333</td>\n",
       "      <td>0.000</td>\n",
       "    </tr>\n",
       "    <tr>\n",
       "      <th>4</th>\n",
       "      <td>709106358</td>\n",
       "      <td>1</td>\n",
       "      <td>40</td>\n",
       "      <td>M</td>\n",
       "      <td>3</td>\n",
       "      <td>Uneducated</td>\n",
       "      <td>Married</td>\n",
       "      <td>above medium</td>\n",
       "      <td>Blue</td>\n",
       "      <td>21</td>\n",
       "      <td>...</td>\n",
       "      <td>1</td>\n",
       "      <td>0</td>\n",
       "      <td>4716.0</td>\n",
       "      <td>0</td>\n",
       "      <td>4716.0</td>\n",
       "      <td>2.175</td>\n",
       "      <td>816</td>\n",
       "      <td>28</td>\n",
       "      <td>2.500</td>\n",
       "      <td>0.000</td>\n",
       "    </tr>\n",
       "    <tr>\n",
       "      <th>5</th>\n",
       "      <td>713061558</td>\n",
       "      <td>1</td>\n",
       "      <td>44</td>\n",
       "      <td>M</td>\n",
       "      <td>2</td>\n",
       "      <td>Graduate</td>\n",
       "      <td>Married</td>\n",
       "      <td>medium</td>\n",
       "      <td>Blue</td>\n",
       "      <td>36</td>\n",
       "      <td>...</td>\n",
       "      <td>1</td>\n",
       "      <td>2</td>\n",
       "      <td>4010.0</td>\n",
       "      <td>1247</td>\n",
       "      <td>2763.0</td>\n",
       "      <td>1.376</td>\n",
       "      <td>1088</td>\n",
       "      <td>24</td>\n",
       "      <td>0.846</td>\n",
       "      <td>0.311</td>\n",
       "    </tr>\n",
       "  </tbody>\n",
       "</table>\n",
       "<p>5 rows × 21 columns</p>\n",
       "</div>"
      ],
      "text/plain": [
       "   CLIENTNUM  Attrition_Flag  Age Gender  Dependent_count    Education  \\\n",
       "0  768805383               1   45      M                3  High School   \n",
       "1  818770008               1   49      F                5     Graduate   \n",
       "2  713982108               1   51      M                3     Graduate   \n",
       "4  709106358               1   40      M                3   Uneducated   \n",
       "5  713061558               1   44      M                2     Graduate   \n",
       "\n",
       "  Marital_Status Income_Category Card_Category  Months_on_book  ...  \\\n",
       "0        Married    above medium          Blue              39  ...   \n",
       "1         Single             low          Blue              44  ...   \n",
       "2        Married            high          Blue              36  ...   \n",
       "4        Married    above medium          Blue              21  ...   \n",
       "5        Married          medium          Blue              36  ...   \n",
       "\n",
       "   Months_Inactive_12_mon  Contacts_Count_12_mon  Credit_Limit  \\\n",
       "0                       1                      3       12691.0   \n",
       "1                       1                      2        8256.0   \n",
       "2                       1                      0        3418.0   \n",
       "4                       1                      0        4716.0   \n",
       "5                       1                      2        4010.0   \n",
       "\n",
       "   Total_Revolving_Bal  Avg_Open_To_Buy  Total_Amt_Chng_Q4_Q1  \\\n",
       "0                  777          11914.0                 1.335   \n",
       "1                  864           7392.0                 1.541   \n",
       "2                    0           3418.0                 2.594   \n",
       "4                    0           4716.0                 2.175   \n",
       "5                 1247           2763.0                 1.376   \n",
       "\n",
       "   Total_Trans_Amt  Total_Trans_Ct  Total_Ct_Chng_Q4_Q1  Avg_Utilization_Ratio  \n",
       "0             1144              42                1.625                  0.061  \n",
       "1             1291              33                3.714                  0.105  \n",
       "2             1887              20                2.333                  0.000  \n",
       "4              816              28                2.500                  0.000  \n",
       "5             1088              24                0.846                  0.311  \n",
       "\n",
       "[5 rows x 21 columns]"
      ]
     },
     "execution_count": 112,
     "metadata": {},
     "output_type": "execute_result"
    }
   ],
   "source": [
    "encoder = LabelEncoder()\n",
    "df['Attrition_Flag'] = encoder.fit_transform(df['Attrition_Flag'])\n",
    "df.head()"
   ]
  },
  {
   "cell_type": "markdown",
   "id": "e94b70dc",
   "metadata": {},
   "source": [
    "## Step 3. EDA - Exporatory data analysis"
   ]
  },
  {
   "cell_type": "code",
   "execution_count": null,
   "id": "8fd5b609",
   "metadata": {},
   "outputs": [],
   "source": []
  },
  {
   "cell_type": "markdown",
   "id": "6d4ff0b9",
   "metadata": {},
   "source": [
    "## What can we tell from the mean?\n",
    "\n",
    "In the given dataset, you have two types of customers one who stayed and another who left the company. So, you can divide data into two groups and compare their characteristics. Here, you can find the average of both.\n"
   ]
  },
  {
   "cell_type": "code",
   "execution_count": 113,
   "id": "ca542f36",
   "metadata": {},
   "outputs": [
    {
     "data": {
      "text/html": [
       "<div>\n",
       "<style scoped>\n",
       "    .dataframe tbody tr th:only-of-type {\n",
       "        vertical-align: middle;\n",
       "    }\n",
       "\n",
       "    .dataframe tbody tr th {\n",
       "        vertical-align: top;\n",
       "    }\n",
       "\n",
       "    .dataframe thead th {\n",
       "        text-align: right;\n",
       "    }\n",
       "</style>\n",
       "<table border=\"1\" class=\"dataframe\">\n",
       "  <thead>\n",
       "    <tr style=\"text-align: right;\">\n",
       "      <th></th>\n",
       "      <th>CLIENTNUM</th>\n",
       "      <th>Age</th>\n",
       "      <th>Dependent_count</th>\n",
       "      <th>Months_on_book</th>\n",
       "      <th>Total_Relationship_Count</th>\n",
       "      <th>Months_Inactive_12_mon</th>\n",
       "      <th>Contacts_Count_12_mon</th>\n",
       "      <th>Credit_Limit</th>\n",
       "      <th>Total_Revolving_Bal</th>\n",
       "      <th>Avg_Open_To_Buy</th>\n",
       "      <th>Total_Amt_Chng_Q4_Q1</th>\n",
       "      <th>Total_Trans_Amt</th>\n",
       "      <th>Total_Trans_Ct</th>\n",
       "      <th>Total_Ct_Chng_Q4_Q1</th>\n",
       "      <th>Avg_Utilization_Ratio</th>\n",
       "    </tr>\n",
       "    <tr>\n",
       "      <th>Attrition_Flag</th>\n",
       "      <th></th>\n",
       "      <th></th>\n",
       "      <th></th>\n",
       "      <th></th>\n",
       "      <th></th>\n",
       "      <th></th>\n",
       "      <th></th>\n",
       "      <th></th>\n",
       "      <th></th>\n",
       "      <th></th>\n",
       "      <th></th>\n",
       "      <th></th>\n",
       "      <th></th>\n",
       "      <th></th>\n",
       "      <th></th>\n",
       "    </tr>\n",
       "  </thead>\n",
       "  <tbody>\n",
       "    <tr>\n",
       "      <th>0</th>\n",
       "      <td>7.355905e+08</td>\n",
       "      <td>46.510332</td>\n",
       "      <td>2.371968</td>\n",
       "      <td>36.152740</td>\n",
       "      <td>3.298293</td>\n",
       "      <td>2.694519</td>\n",
       "      <td>2.950584</td>\n",
       "      <td>8158.579964</td>\n",
       "      <td>668.353998</td>\n",
       "      <td>7490.225966</td>\n",
       "      <td>0.692021</td>\n",
       "      <td>3106.296496</td>\n",
       "      <td>44.807727</td>\n",
       "      <td>0.556502</td>\n",
       "      <td>0.163571</td>\n",
       "    </tr>\n",
       "    <tr>\n",
       "      <th>1</th>\n",
       "      <td>7.397449e+08</td>\n",
       "      <td>46.317359</td>\n",
       "      <td>2.331434</td>\n",
       "      <td>35.949397</td>\n",
       "      <td>3.916555</td>\n",
       "      <td>2.276977</td>\n",
       "      <td>2.361930</td>\n",
       "      <td>8555.099196</td>\n",
       "      <td>1260.589980</td>\n",
       "      <td>7294.509216</td>\n",
       "      <td>0.773370</td>\n",
       "      <td>4634.505529</td>\n",
       "      <td>68.176441</td>\n",
       "      <td>0.740415</td>\n",
       "      <td>0.304458</td>\n",
       "    </tr>\n",
       "  </tbody>\n",
       "</table>\n",
       "</div>"
      ],
      "text/plain": [
       "                   CLIENTNUM        Age  Dependent_count  Months_on_book  \\\n",
       "Attrition_Flag                                                             \n",
       "0               7.355905e+08  46.510332         2.371968       36.152740   \n",
       "1               7.397449e+08  46.317359         2.331434       35.949397   \n",
       "\n",
       "                Total_Relationship_Count  Months_Inactive_12_mon  \\\n",
       "Attrition_Flag                                                     \n",
       "0                               3.298293                2.694519   \n",
       "1                               3.916555                2.276977   \n",
       "\n",
       "                Contacts_Count_12_mon  Credit_Limit  Total_Revolving_Bal  \\\n",
       "Attrition_Flag                                                             \n",
       "0                            2.950584   8158.579964           668.353998   \n",
       "1                            2.361930   8555.099196          1260.589980   \n",
       "\n",
       "                Avg_Open_To_Buy  Total_Amt_Chng_Q4_Q1  Total_Trans_Amt  \\\n",
       "Attrition_Flag                                                           \n",
       "0                   7490.225966              0.692021      3106.296496   \n",
       "1                   7294.509216              0.773370      4634.505529   \n",
       "\n",
       "                Total_Trans_Ct  Total_Ct_Chng_Q4_Q1  Avg_Utilization_Ratio  \n",
       "Attrition_Flag                                                              \n",
       "0                    44.807727             0.556502               0.163571  \n",
       "1                    68.176441             0.740415               0.304458  "
      ]
     },
     "execution_count": 113,
     "metadata": {},
     "output_type": "execute_result"
    }
   ],
   "source": [
    "left = df.groupby('Attrition_Flag')\n",
    "left.mean()"
   ]
  },
  {
   "cell_type": "code",
   "execution_count": 114,
   "id": "0430a010",
   "metadata": {},
   "outputs": [
    {
     "data": {
      "text/html": [
       "<div>\n",
       "<style scoped>\n",
       "    .dataframe tbody tr th:only-of-type {\n",
       "        vertical-align: middle;\n",
       "    }\n",
       "\n",
       "    .dataframe tbody tr th {\n",
       "        vertical-align: top;\n",
       "    }\n",
       "\n",
       "    .dataframe thead th {\n",
       "        text-align: right;\n",
       "    }\n",
       "</style>\n",
       "<table border=\"1\" class=\"dataframe\">\n",
       "  <thead>\n",
       "    <tr style=\"text-align: right;\">\n",
       "      <th></th>\n",
       "      <th>CLIENTNUM</th>\n",
       "      <th>Attrition_Flag</th>\n",
       "      <th>Age</th>\n",
       "      <th>Dependent_count</th>\n",
       "      <th>Months_on_book</th>\n",
       "      <th>Total_Relationship_Count</th>\n",
       "      <th>Months_Inactive_12_mon</th>\n",
       "      <th>Contacts_Count_12_mon</th>\n",
       "      <th>Credit_Limit</th>\n",
       "      <th>Total_Revolving_Bal</th>\n",
       "      <th>Avg_Open_To_Buy</th>\n",
       "      <th>Total_Amt_Chng_Q4_Q1</th>\n",
       "      <th>Total_Trans_Amt</th>\n",
       "      <th>Total_Trans_Ct</th>\n",
       "      <th>Total_Ct_Chng_Q4_Q1</th>\n",
       "      <th>Avg_Utilization_Ratio</th>\n",
       "    </tr>\n",
       "  </thead>\n",
       "  <tbody>\n",
       "    <tr>\n",
       "      <th>count</th>\n",
       "      <td>7.081000e+03</td>\n",
       "      <td>7081.000000</td>\n",
       "      <td>7081.000000</td>\n",
       "      <td>7081.000000</td>\n",
       "      <td>7081.000000</td>\n",
       "      <td>7081.000000</td>\n",
       "      <td>7081.000000</td>\n",
       "      <td>7081.000000</td>\n",
       "      <td>7081.000000</td>\n",
       "      <td>7081.000000</td>\n",
       "      <td>7081.000000</td>\n",
       "      <td>7081.000000</td>\n",
       "      <td>7081.000000</td>\n",
       "      <td>7081.000000</td>\n",
       "      <td>7081.000000</td>\n",
       "      <td>7081.000000</td>\n",
       "    </tr>\n",
       "    <tr>\n",
       "      <th>mean</th>\n",
       "      <td>7.390919e+08</td>\n",
       "      <td>0.842819</td>\n",
       "      <td>46.347691</td>\n",
       "      <td>2.337805</td>\n",
       "      <td>35.981359</td>\n",
       "      <td>3.819376</td>\n",
       "      <td>2.342607</td>\n",
       "      <td>2.454456</td>\n",
       "      <td>8492.773831</td>\n",
       "      <td>1167.501624</td>\n",
       "      <td>7325.272207</td>\n",
       "      <td>0.760584</td>\n",
       "      <td>4394.299816</td>\n",
       "      <td>64.503319</td>\n",
       "      <td>0.711508</td>\n",
       "      <td>0.282313</td>\n",
       "    </tr>\n",
       "    <tr>\n",
       "      <th>std</th>\n",
       "      <td>3.685244e+07</td>\n",
       "      <td>0.363997</td>\n",
       "      <td>8.041225</td>\n",
       "      <td>1.291649</td>\n",
       "      <td>8.002609</td>\n",
       "      <td>1.544444</td>\n",
       "      <td>0.995104</td>\n",
       "      <td>1.104917</td>\n",
       "      <td>9126.072520</td>\n",
       "      <td>812.315606</td>\n",
       "      <td>9131.217585</td>\n",
       "      <td>0.223139</td>\n",
       "      <td>3468.461606</td>\n",
       "      <td>23.809330</td>\n",
       "      <td>0.238693</td>\n",
       "      <td>0.278731</td>\n",
       "    </tr>\n",
       "    <tr>\n",
       "      <th>min</th>\n",
       "      <td>7.080821e+08</td>\n",
       "      <td>0.000000</td>\n",
       "      <td>26.000000</td>\n",
       "      <td>0.000000</td>\n",
       "      <td>13.000000</td>\n",
       "      <td>1.000000</td>\n",
       "      <td>0.000000</td>\n",
       "      <td>0.000000</td>\n",
       "      <td>1438.300000</td>\n",
       "      <td>0.000000</td>\n",
       "      <td>3.000000</td>\n",
       "      <td>0.000000</td>\n",
       "      <td>510.000000</td>\n",
       "      <td>10.000000</td>\n",
       "      <td>0.000000</td>\n",
       "      <td>0.000000</td>\n",
       "    </tr>\n",
       "    <tr>\n",
       "      <th>25%</th>\n",
       "      <td>7.130105e+08</td>\n",
       "      <td>1.000000</td>\n",
       "      <td>41.000000</td>\n",
       "      <td>1.000000</td>\n",
       "      <td>31.000000</td>\n",
       "      <td>3.000000</td>\n",
       "      <td>2.000000</td>\n",
       "      <td>2.000000</td>\n",
       "      <td>2498.000000</td>\n",
       "      <td>463.000000</td>\n",
       "      <td>1248.000000</td>\n",
       "      <td>0.629000</td>\n",
       "      <td>2089.000000</td>\n",
       "      <td>44.000000</td>\n",
       "      <td>0.583000</td>\n",
       "      <td>0.026000</td>\n",
       "    </tr>\n",
       "    <tr>\n",
       "      <th>50%</th>\n",
       "      <td>7.178438e+08</td>\n",
       "      <td>1.000000</td>\n",
       "      <td>46.000000</td>\n",
       "      <td>2.000000</td>\n",
       "      <td>36.000000</td>\n",
       "      <td>4.000000</td>\n",
       "      <td>2.000000</td>\n",
       "      <td>2.000000</td>\n",
       "      <td>4287.000000</td>\n",
       "      <td>1282.000000</td>\n",
       "      <td>3250.000000</td>\n",
       "      <td>0.735000</td>\n",
       "      <td>3831.000000</td>\n",
       "      <td>67.000000</td>\n",
       "      <td>0.700000</td>\n",
       "      <td>0.186000</td>\n",
       "    </tr>\n",
       "    <tr>\n",
       "      <th>75%</th>\n",
       "      <td>7.732370e+08</td>\n",
       "      <td>1.000000</td>\n",
       "      <td>52.000000</td>\n",
       "      <td>3.000000</td>\n",
       "      <td>40.000000</td>\n",
       "      <td>5.000000</td>\n",
       "      <td>3.000000</td>\n",
       "      <td>3.000000</td>\n",
       "      <td>10729.000000</td>\n",
       "      <td>1781.000000</td>\n",
       "      <td>9491.000000</td>\n",
       "      <td>0.858000</td>\n",
       "      <td>4740.000000</td>\n",
       "      <td>80.000000</td>\n",
       "      <td>0.818000</td>\n",
       "      <td>0.515000</td>\n",
       "    </tr>\n",
       "    <tr>\n",
       "      <th>max</th>\n",
       "      <td>8.282989e+08</td>\n",
       "      <td>1.000000</td>\n",
       "      <td>73.000000</td>\n",
       "      <td>5.000000</td>\n",
       "      <td>56.000000</td>\n",
       "      <td>6.000000</td>\n",
       "      <td>6.000000</td>\n",
       "      <td>6.000000</td>\n",
       "      <td>34516.000000</td>\n",
       "      <td>2517.000000</td>\n",
       "      <td>34516.000000</td>\n",
       "      <td>3.397000</td>\n",
       "      <td>17995.000000</td>\n",
       "      <td>134.000000</td>\n",
       "      <td>3.714000</td>\n",
       "      <td>0.999000</td>\n",
       "    </tr>\n",
       "  </tbody>\n",
       "</table>\n",
       "</div>"
      ],
      "text/plain": [
       "          CLIENTNUM  Attrition_Flag          Age  Dependent_count  \\\n",
       "count  7.081000e+03     7081.000000  7081.000000      7081.000000   \n",
       "mean   7.390919e+08        0.842819    46.347691         2.337805   \n",
       "std    3.685244e+07        0.363997     8.041225         1.291649   \n",
       "min    7.080821e+08        0.000000    26.000000         0.000000   \n",
       "25%    7.130105e+08        1.000000    41.000000         1.000000   \n",
       "50%    7.178438e+08        1.000000    46.000000         2.000000   \n",
       "75%    7.732370e+08        1.000000    52.000000         3.000000   \n",
       "max    8.282989e+08        1.000000    73.000000         5.000000   \n",
       "\n",
       "       Months_on_book  Total_Relationship_Count  Months_Inactive_12_mon  \\\n",
       "count     7081.000000               7081.000000             7081.000000   \n",
       "mean        35.981359                  3.819376                2.342607   \n",
       "std          8.002609                  1.544444                0.995104   \n",
       "min         13.000000                  1.000000                0.000000   \n",
       "25%         31.000000                  3.000000                2.000000   \n",
       "50%         36.000000                  4.000000                2.000000   \n",
       "75%         40.000000                  5.000000                3.000000   \n",
       "max         56.000000                  6.000000                6.000000   \n",
       "\n",
       "       Contacts_Count_12_mon  Credit_Limit  Total_Revolving_Bal  \\\n",
       "count            7081.000000   7081.000000          7081.000000   \n",
       "mean                2.454456   8492.773831          1167.501624   \n",
       "std                 1.104917   9126.072520           812.315606   \n",
       "min                 0.000000   1438.300000             0.000000   \n",
       "25%                 2.000000   2498.000000           463.000000   \n",
       "50%                 2.000000   4287.000000          1282.000000   \n",
       "75%                 3.000000  10729.000000          1781.000000   \n",
       "max                 6.000000  34516.000000          2517.000000   \n",
       "\n",
       "       Avg_Open_To_Buy  Total_Amt_Chng_Q4_Q1  Total_Trans_Amt  Total_Trans_Ct  \\\n",
       "count      7081.000000           7081.000000      7081.000000     7081.000000   \n",
       "mean       7325.272207              0.760584      4394.299816       64.503319   \n",
       "std        9131.217585              0.223139      3468.461606       23.809330   \n",
       "min           3.000000              0.000000       510.000000       10.000000   \n",
       "25%        1248.000000              0.629000      2089.000000       44.000000   \n",
       "50%        3250.000000              0.735000      3831.000000       67.000000   \n",
       "75%        9491.000000              0.858000      4740.000000       80.000000   \n",
       "max       34516.000000              3.397000     17995.000000      134.000000   \n",
       "\n",
       "       Total_Ct_Chng_Q4_Q1  Avg_Utilization_Ratio  \n",
       "count          7081.000000            7081.000000  \n",
       "mean              0.711508               0.282313  \n",
       "std               0.238693               0.278731  \n",
       "min               0.000000               0.000000  \n",
       "25%               0.583000               0.026000  \n",
       "50%               0.700000               0.186000  \n",
       "75%               0.818000               0.515000  \n",
       "max               3.714000               0.999000  "
      ]
     },
     "execution_count": 114,
     "metadata": {},
     "output_type": "execute_result"
    }
   ],
   "source": [
    "df.describe()"
   ]
  },
  {
   "cell_type": "markdown",
   "id": "3d693246",
   "metadata": {},
   "source": [
    "## How many customers have churned?"
   ]
  },
  {
   "cell_type": "code",
   "execution_count": 115,
   "id": "a31e67cd",
   "metadata": {
    "scrolled": true
   },
   "outputs": [
    {
     "data": {
      "text/plain": [
       "1    5968\n",
       "0    1113\n",
       "Name: Attrition_Flag, dtype: int64"
      ]
     },
     "execution_count": 115,
     "metadata": {},
     "output_type": "execute_result"
    }
   ],
   "source": [
    "df.Attrition_Flag.value_counts()\n"
   ]
  },
  {
   "cell_type": "markdown",
   "id": "c08341bc",
   "metadata": {},
   "source": [
    "## Was there a product issue?\n",
    "\n",
    "The cheapest is clearly used most. So we're dealing with price buyers. Which means they are focused on cost, but from looking at this the pricing of the tiers is broken."
   ]
  },
  {
   "cell_type": "code",
   "execution_count": 116,
   "id": "43f8b273",
   "metadata": {},
   "outputs": [
    {
     "data": {
      "image/png": "[encoded data removed]",
      "text/plain": [
       "<Figure size 432x288 with 1 Axes>"
      ]
     },
     "metadata": {},
     "output_type": "display_data"
    }
   ],
   "source": [
    "revbal=df.groupby('Card_Category').count()\n",
    "plt.bar(revbal.index.values, revbal['Attrition_Flag'])\n",
    "plt.xlabel('Card')\n",
    "plt.ylabel('Customers')\n",
    "plt.show()"
   ]
  },
  {
   "cell_type": "markdown",
   "id": "624782ad",
   "metadata": {},
   "source": [
    "## There is a clear median but the median isn't the full story\n",
    "\n",
    "We can rule out the product being the real problem though. Going on my gut, I'd say it's a customer service or price issue."
   ]
  },
  {
   "cell_type": "code",
   "execution_count": 117,
   "id": "a39c59dd",
   "metadata": {},
   "outputs": [
    {
     "data": {
      "text/plain": [
       "Text(0, 0.5, 'Test')"
      ]
     },
     "execution_count": 117,
     "metadata": {},
     "output_type": "execute_result"
    },
    {
     "data": {
      "image/png": "[encoded data removed]",
      "text/plain": [
       "<Figure size 432x288 with 1 Axes>"
      ]
     },
     "metadata": {},
     "output_type": "display_data"
    }
   ],
   "source": [
    "revbal=df.groupby('Months_on_book').count()\n",
    "plt.bar(revbal.index.values, revbal['Attrition_Flag'])\n",
    "plt.xlabel('Test')\n",
    "plt.ylabel('Test')"
   ]
  },
  {
   "cell_type": "markdown",
   "id": "49ff33c6",
   "metadata": {},
   "source": [
    "## Card type\n"
   ]
  },
  {
   "cell_type": "code",
   "execution_count": 118,
   "id": "cb6c46c3",
   "metadata": {},
   "outputs": [
    {
     "data": {
      "text/plain": [
       "Income_Category  Card_Category\n",
       "above medium     Blue             1006\n",
       "                 Silver             72\n",
       "                 Gold               22\n",
       "                 Platinum            3\n",
       "high             Blue             1088\n",
       "                 Silver             98\n",
       "                 Gold               16\n",
       "low              Blue             2669\n",
       "                 Silver            101\n",
       "                 Gold               19\n",
       "                 Platinum            3\n",
       "medium           Blue             1327\n",
       "                 Silver             74\n",
       "                 Gold               10\n",
       "                 Platinum            1\n",
       "very high        Blue              508\n",
       "                 Silver             46\n",
       "                 Gold               14\n",
       "                 Platinum            4\n",
       "Name: Card_Category, dtype: int64"
      ]
     },
     "execution_count": 118,
     "metadata": {},
     "output_type": "execute_result"
    }
   ],
   "source": [
    "df.groupby('Income_Category')['Card_Category'].value_counts()"
   ]
  },
  {
   "cell_type": "code",
   "execution_count": 119,
   "id": "c556d6ae",
   "metadata": {},
   "outputs": [
    {
     "data": {
      "text/plain": [
       "<matplotlib.collections.PathCollection at 0x7feb5e947340>"
      ]
     },
     "execution_count": 119,
     "metadata": {},
     "output_type": "execute_result"
    },
    {
     "data": {
      "image/png": "[encoded data removed]",
      "text/plain": [
       "<Figure size 432x288 with 1 Axes>"
      ]
     },
     "metadata": {},
     "output_type": "display_data"
    }
   ],
   "source": [
    "# Card type churn\n",
    "churned = [df['Attrition_Flag'] == '0']   \n",
    "\n",
    "import matplotlib.pyplot as plt\n",
    "yAxis = churned\n",
    "xAxis = df['Card_Category']\n",
    "\n",
    "\n",
    "plt.title('Churn Across Cards') #title of the graph\n",
    "plt.xlabel('Card Type') #title of the x axis\n",
    "plt.ylabel('Churn') #title of the y axis\n",
    "\n",
    "plt.scatter(xAxis,yAxis) #show the graph"
   ]
  },
  {
   "cell_type": "markdown",
   "id": "f2f9cbe6",
   "metadata": {},
   "source": [
    "## I'm curious about Revolving Balance\n",
    "I need more information from the stakeholders about what it means, but it tapers off over time from the bottom out, which might mean the business isn't addressing a financing issue for the customer. My initial guess is around limits for customers with high incomes."
   ]
  },
  {
   "cell_type": "code",
   "execution_count": 120,
   "id": "e92cc9fd",
   "metadata": {},
   "outputs": [
    {
     "data": {
      "text/plain": [
       "Text(0.5, 0, 'Time as Customer (Months)')"
      ]
     },
     "execution_count": 120,
     "metadata": {},
     "output_type": "execute_result"
    },
    {
     "data": {
      "image/png": "[encoded data removed]",
      "text/plain": [
       "<Figure size 432x288 with 1 Axes>"
      ]
     },
     "metadata": {},
     "output_type": "display_data"
    }
   ],
   "source": [
    "plt.grid()\n",
    "plt.scatter(y = df.Total_Revolving_Bal, x = df.Months_on_book, marker = '.')\n",
    "plt.title('Scatter plot of Revoling Balance and Time as Customer')\n",
    "plt.ylabel('Revolving Balance')\n",
    "plt.xlabel('Time as Customer (Months)')"
   ]
  },
  {
   "cell_type": "code",
   "execution_count": 121,
   "id": "99d1feb6",
   "metadata": {},
   "outputs": [],
   "source": [
    "## Churned Customers"
   ]
  },
  {
   "cell_type": "code",
   "execution_count": 122,
   "id": "0bfb3f7e",
   "metadata": {},
   "outputs": [],
   "source": [
    "churn = df[df[\"Attrition_Flag\"] == '0']\n",
    "non_churn = df[df[\"Attrition_Flag\"] == '1']"
   ]
  },
  {
   "cell_type": "code",
   "execution_count": 99,
   "id": "8fc02c90",
   "metadata": {},
   "outputs": [
    {
     "data": {
      "text/html": [
       "<div>\n",
       "<style scoped>\n",
       "    .dataframe tbody tr th:only-of-type {\n",
       "        vertical-align: middle;\n",
       "    }\n",
       "\n",
       "    .dataframe tbody tr th {\n",
       "        vertical-align: top;\n",
       "    }\n",
       "\n",
       "    .dataframe thead th {\n",
       "        text-align: right;\n",
       "    }\n",
       "</style>\n",
       "<table border=\"1\" class=\"dataframe\">\n",
       "  <thead>\n",
       "    <tr style=\"text-align: right;\">\n",
       "      <th></th>\n",
       "      <th>CLIENTNUM</th>\n",
       "      <th>Attrition_Flag</th>\n",
       "      <th>Age</th>\n",
       "      <th>Gender</th>\n",
       "      <th>Dependent_count</th>\n",
       "      <th>Education</th>\n",
       "      <th>Marital_Status</th>\n",
       "      <th>Income_Category</th>\n",
       "      <th>Card_Category</th>\n",
       "      <th>Months_on_book</th>\n",
       "      <th>...</th>\n",
       "      <th>Months_Inactive_12_mon</th>\n",
       "      <th>Contacts_Count_12_mon</th>\n",
       "      <th>Credit_Limit</th>\n",
       "      <th>Total_Revolving_Bal</th>\n",
       "      <th>Avg_Open_To_Buy</th>\n",
       "      <th>Total_Amt_Chng_Q4_Q1</th>\n",
       "      <th>Total_Trans_Amt</th>\n",
       "      <th>Total_Trans_Ct</th>\n",
       "      <th>Total_Ct_Chng_Q4_Q1</th>\n",
       "      <th>Avg_Utilization_Ratio</th>\n",
       "    </tr>\n",
       "  </thead>\n",
       "  <tbody>\n",
       "  </tbody>\n",
       "</table>\n",
       "<p>0 rows × 21 columns</p>\n",
       "</div>"
      ],
      "text/plain": [
       "Empty DataFrame\n",
       "Columns: [CLIENTNUM, Attrition_Flag, Age, Gender, Dependent_count, Education, Marital_Status, Income_Category, Card_Category, Months_on_book, Total_Relationship_Count, Months_Inactive_12_mon, Contacts_Count_12_mon, Credit_Limit, Total_Revolving_Bal, Avg_Open_To_Buy, Total_Amt_Chng_Q4_Q1, Total_Trans_Amt, Total_Trans_Ct, Total_Ct_Chng_Q4_Q1, Avg_Utilization_Ratio]\n",
       "Index: []\n",
       "\n",
       "[0 rows x 21 columns]"
      ]
     },
     "execution_count": 99,
     "metadata": {},
     "output_type": "execute_result"
    }
   ],
   "source": [
    "churn.head()"
   ]
  },
  {
   "cell_type": "markdown",
   "id": "349f17b4",
   "metadata": {},
   "source": [
    "## Step 4. Findings"
   ]
  },
  {
   "cell_type": "markdown",
   "id": "23916ace",
   "metadata": {},
   "source": [
    "### Can We Anticipate Churn?\n",
    "\n",
    "Yes. \n",
    "\n",
    "I'd say high-income earners aren't being pushed to a higher limit soon enough as the primary problem. Too many are focused on the cheap product when you're a premium brand."
   ]
  },
  {
   "cell_type": "markdown",
   "id": "03775274",
   "metadata": {},
   "source": [
    "## Step 5. Decision Making\n",
    "\n",
    "1. Focus on the the 2 products immediately higher than blue and incentivise moving up to a higher tier, sooner.\n",
    "2. Act when activity is low.\n",
    "3. Increase credit card limits to those with lower revolving balance."
   ]
  },
  {
   "cell_type": "code",
   "execution_count": null,
   "id": "3257a80f",
   "metadata": {},
   "outputs": [],
   "source": []
  },
  {
   "cell_type": "code",
   "execution_count": null,
   "id": "b6fb1b54",
   "metadata": {},
   "outputs": [],
   "source": []
  },
  {
   "cell_type": "code",
   "execution_count": null,
   "id": "c045dc35",
   "metadata": {},
   "outputs": [],
   "source": []
  },
  {
   "cell_type": "code",
   "execution_count": null,
   "id": "24118317",
   "metadata": {},
   "outputs": [],
   "source": []
  },
  {
   "cell_type": "code",
   "execution_count": null,
   "id": "ad441564",
   "metadata": {},
   "outputs": [],
   "source": []
  },
  {
   "cell_type": "code",
   "execution_count": null,
   "id": "f8fcc8fc",
   "metadata": {},
   "outputs": [],
   "source": []
  },
  {
   "cell_type": "code",
   "execution_count": null,
   "id": "3ca83f98",
   "metadata": {},
   "outputs": [],
   "source": []
  },
  {
   "cell_type": "code",
   "execution_count": null,
   "id": "ed2a8b01",
   "metadata": {},
   "outputs": [],
   "source": []
  },
  {
   "cell_type": "code",
   "execution_count": null,
   "id": "9d5b6bb5",
   "metadata": {},
   "outputs": [],
   "source": []
  },
  {
   "cell_type": "code",
   "execution_count": null,
   "id": "bc9cdcf9",
   "metadata": {},
   "outputs": [],
   "source": []
  }
 ],
 "metadata": {
  "kernelspec": {
   "display_name": "Python 3 (ipykernel)",
   "language": "python",
   "name": "python3"
  },
  "language_info": {
   "codemirror_mode": {
    "name": "ipython",
    "version": 3
   },
   "file_extension": ".py",
   "mimetype": "text/x-python",
   "name": "python",
   "nbconvert_exporter": "python",
   "pygments_lexer": "ipython3",
   "version": "3.8.12"
  }
 },
 "nbformat": 4,
 "nbformat_minor": 5
}

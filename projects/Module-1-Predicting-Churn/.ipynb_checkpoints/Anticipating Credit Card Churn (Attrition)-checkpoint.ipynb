{
 "cells": [
  {
   "cell_type": "markdown",
   "id": "07fb4003",
   "metadata": {
    "papermill": {
     "duration": 0.055415,
     "end_time": "2021-09-30T08:24:52.354989",
     "exception": false,
     "start_time": "2021-09-30T08:24:52.299574",
     "status": "completed"
    },
    "tags": []
   },
   "source": [
    "# Predicting Credit Card Churn"
   ]
  },
  {
   "cell_type": "markdown",
   "id": "19b3781a",
   "metadata": {
    "papermill": {
     "duration": 0.052735,
     "end_time": "2021-09-30T08:24:52.586854",
     "exception": false,
     "start_time": "2021-09-30T08:24:52.534119",
     "status": "completed"
    },
    "tags": []
   },
   "source": [
    "## *Data Exploration Analysis (EDA)*"
   ]
  },
  {
   "cell_type": "code",
   "execution_count": 1,
   "id": "2479012e",
   "metadata": {
    "execution": {
     "iopub.execute_input": "2021-09-30T08:24:52.916788Z",
     "iopub.status.busy": "2021-09-30T08:24:52.915492Z",
     "iopub.status.idle": "2021-09-30T08:24:53.887958Z",
     "shell.execute_reply": "2021-09-30T08:24:53.888550Z",
     "shell.execute_reply.started": "2021-09-30T08:23:19.974478Z"
    },
    "papermill": {
     "duration": 1.033614,
     "end_time": "2021-09-30T08:24:53.888885",
     "exception": false,
     "start_time": "2021-09-30T08:24:52.855271",
     "status": "completed"
    },
    "tags": []
   },
   "outputs": [],
   "source": [
    "import pandas as pd\n",
    "import numpy as np\n",
    "import seaborn as sns\n",
    "import matplotlib.pyplot as plt"
   ]
  },
  {
   "cell_type": "code",
   "execution_count": 2,
   "id": "227c60fc",
   "metadata": {
    "execution": {
     "iopub.execute_input": "2021-09-30T08:24:53.994790Z",
     "iopub.status.busy": "2021-09-30T08:24:53.994107Z",
     "iopub.status.idle": "2021-09-30T08:24:54.084942Z",
     "shell.execute_reply": "2021-09-30T08:24:54.084208Z",
     "shell.execute_reply.started": "2021-09-30T08:23:20.977715Z"
    },
    "papermill": {
     "duration": 0.145079,
     "end_time": "2021-09-30T08:24:54.085111",
     "exception": false,
     "start_time": "2021-09-30T08:24:53.940032",
     "status": "completed"
    },
    "tags": []
   },
   "outputs": [],
   "source": [
    "customer_data = pd.read_csv('predicting-credit-card-churn-ReedBank.csv')"
   ]
  },
  {
   "cell_type": "code",
   "execution_count": 3,
   "id": "4e2cbcc5",
   "metadata": {
    "execution": {
     "iopub.execute_input": "2021-09-30T08:24:54.195197Z",
     "iopub.status.busy": "2021-09-30T08:24:54.194522Z",
     "iopub.status.idle": "2021-09-30T08:24:54.227602Z",
     "shell.execute_reply": "2021-09-30T08:24:54.228145Z",
     "shell.execute_reply.started": "2021-09-30T08:23:21.067341Z"
    },
    "papermill": {
     "duration": 0.092558,
     "end_time": "2021-09-30T08:24:54.228342",
     "exception": false,
     "start_time": "2021-09-30T08:24:54.135784",
     "status": "completed"
    },
    "tags": []
   },
   "outputs": [
    {
     "data": {
      "text/html": [
       "<div>\n",
       "<style scoped>\n",
       "    .dataframe tbody tr th:only-of-type {\n",
       "        vertical-align: middle;\n",
       "    }\n",
       "\n",
       "    .dataframe tbody tr th {\n",
       "        vertical-align: top;\n",
       "    }\n",
       "\n",
       "    .dataframe thead th {\n",
       "        text-align: right;\n",
       "    }\n",
       "</style>\n",
       "<table border=\"1\" class=\"dataframe\">\n",
       "  <thead>\n",
       "    <tr style=\"text-align: right;\">\n",
       "      <th></th>\n",
       "      <th>CLIENTNUM</th>\n",
       "      <th>Attrition_Flag</th>\n",
       "      <th>Customer_Age</th>\n",
       "      <th>Gender</th>\n",
       "      <th>Dependent_count</th>\n",
       "      <th>Education_Level</th>\n",
       "      <th>Marital_Status</th>\n",
       "      <th>Income_Category</th>\n",
       "      <th>Card_Category</th>\n",
       "      <th>Months_on_book</th>\n",
       "      <th>...</th>\n",
       "      <th>Credit_Limit</th>\n",
       "      <th>Total_Revolving_Bal</th>\n",
       "      <th>Avg_Open_To_Buy</th>\n",
       "      <th>Total_Amt_Chng_Q4_Q1</th>\n",
       "      <th>Total_Trans_Amt</th>\n",
       "      <th>Total_Trans_Ct</th>\n",
       "      <th>Total_Ct_Chng_Q4_Q1</th>\n",
       "      <th>Avg_Utilization_Ratio</th>\n",
       "      <th>Naive_Bayes_Classifier_Attrition_Flag_Card_Category_Contacts_Count_12_mon_Dependent_count_Education_Level_Months_Inactive_12_mon_1</th>\n",
       "      <th>Naive_Bayes_Classifier_Attrition_Flag_Card_Category_Contacts_Count_12_mon_Dependent_count_Education_Level_Months_Inactive_12_mon_2</th>\n",
       "    </tr>\n",
       "  </thead>\n",
       "  <tbody>\n",
       "    <tr>\n",
       "      <th>0</th>\n",
       "      <td>768805383</td>\n",
       "      <td>Existing Customer</td>\n",
       "      <td>45</td>\n",
       "      <td>M</td>\n",
       "      <td>3</td>\n",
       "      <td>High School</td>\n",
       "      <td>Married</td>\n",
       "      <td>$60K - $80K</td>\n",
       "      <td>Blue</td>\n",
       "      <td>39</td>\n",
       "      <td>...</td>\n",
       "      <td>12691.0</td>\n",
       "      <td>777</td>\n",
       "      <td>11914.0</td>\n",
       "      <td>1.335</td>\n",
       "      <td>1144</td>\n",
       "      <td>42</td>\n",
       "      <td>1.625</td>\n",
       "      <td>0.061</td>\n",
       "      <td>0.000093</td>\n",
       "      <td>0.99991</td>\n",
       "    </tr>\n",
       "    <tr>\n",
       "      <th>1</th>\n",
       "      <td>818770008</td>\n",
       "      <td>Existing Customer</td>\n",
       "      <td>49</td>\n",
       "      <td>F</td>\n",
       "      <td>5</td>\n",
       "      <td>Graduate</td>\n",
       "      <td>Single</td>\n",
       "      <td>Less than $40K</td>\n",
       "      <td>Blue</td>\n",
       "      <td>44</td>\n",
       "      <td>...</td>\n",
       "      <td>8256.0</td>\n",
       "      <td>864</td>\n",
       "      <td>7392.0</td>\n",
       "      <td>1.541</td>\n",
       "      <td>1291</td>\n",
       "      <td>33</td>\n",
       "      <td>3.714</td>\n",
       "      <td>0.105</td>\n",
       "      <td>0.000057</td>\n",
       "      <td>0.99994</td>\n",
       "    </tr>\n",
       "    <tr>\n",
       "      <th>2</th>\n",
       "      <td>713982108</td>\n",
       "      <td>Existing Customer</td>\n",
       "      <td>51</td>\n",
       "      <td>M</td>\n",
       "      <td>3</td>\n",
       "      <td>Graduate</td>\n",
       "      <td>Married</td>\n",
       "      <td>$80K - $120K</td>\n",
       "      <td>Blue</td>\n",
       "      <td>36</td>\n",
       "      <td>...</td>\n",
       "      <td>3418.0</td>\n",
       "      <td>0</td>\n",
       "      <td>3418.0</td>\n",
       "      <td>2.594</td>\n",
       "      <td>1887</td>\n",
       "      <td>20</td>\n",
       "      <td>2.333</td>\n",
       "      <td>0.000</td>\n",
       "      <td>0.000021</td>\n",
       "      <td>0.99998</td>\n",
       "    </tr>\n",
       "    <tr>\n",
       "      <th>3</th>\n",
       "      <td>769911858</td>\n",
       "      <td>Existing Customer</td>\n",
       "      <td>40</td>\n",
       "      <td>F</td>\n",
       "      <td>4</td>\n",
       "      <td>High School</td>\n",
       "      <td>Unknown</td>\n",
       "      <td>Less than $40K</td>\n",
       "      <td>Blue</td>\n",
       "      <td>34</td>\n",
       "      <td>...</td>\n",
       "      <td>3313.0</td>\n",
       "      <td>2517</td>\n",
       "      <td>796.0</td>\n",
       "      <td>1.405</td>\n",
       "      <td>1171</td>\n",
       "      <td>20</td>\n",
       "      <td>2.333</td>\n",
       "      <td>0.760</td>\n",
       "      <td>0.000134</td>\n",
       "      <td>0.99987</td>\n",
       "    </tr>\n",
       "    <tr>\n",
       "      <th>4</th>\n",
       "      <td>709106358</td>\n",
       "      <td>Existing Customer</td>\n",
       "      <td>40</td>\n",
       "      <td>M</td>\n",
       "      <td>3</td>\n",
       "      <td>Uneducated</td>\n",
       "      <td>Married</td>\n",
       "      <td>$60K - $80K</td>\n",
       "      <td>Blue</td>\n",
       "      <td>21</td>\n",
       "      <td>...</td>\n",
       "      <td>4716.0</td>\n",
       "      <td>0</td>\n",
       "      <td>4716.0</td>\n",
       "      <td>2.175</td>\n",
       "      <td>816</td>\n",
       "      <td>28</td>\n",
       "      <td>2.500</td>\n",
       "      <td>0.000</td>\n",
       "      <td>0.000022</td>\n",
       "      <td>0.99998</td>\n",
       "    </tr>\n",
       "  </tbody>\n",
       "</table>\n",
       "<p>5 rows × 23 columns</p>\n",
       "</div>"
      ],
      "text/plain": [
       "   CLIENTNUM     Attrition_Flag  Customer_Age Gender  Dependent_count  \\\n",
       "0  768805383  Existing Customer            45      M                3   \n",
       "1  818770008  Existing Customer            49      F                5   \n",
       "2  713982108  Existing Customer            51      M                3   \n",
       "3  769911858  Existing Customer            40      F                4   \n",
       "4  709106358  Existing Customer            40      M                3   \n",
       "\n",
       "  Education_Level Marital_Status Income_Category Card_Category  \\\n",
       "0     High School        Married     $60K - $80K          Blue   \n",
       "1        Graduate         Single  Less than $40K          Blue   \n",
       "2        Graduate        Married    $80K - $120K          Blue   \n",
       "3     High School        Unknown  Less than $40K          Blue   \n",
       "4      Uneducated        Married     $60K - $80K          Blue   \n",
       "\n",
       "   Months_on_book  ...  Credit_Limit  Total_Revolving_Bal  Avg_Open_To_Buy  \\\n",
       "0              39  ...       12691.0                  777          11914.0   \n",
       "1              44  ...        8256.0                  864           7392.0   \n",
       "2              36  ...        3418.0                    0           3418.0   \n",
       "3              34  ...        3313.0                 2517            796.0   \n",
       "4              21  ...        4716.0                    0           4716.0   \n",
       "\n",
       "   Total_Amt_Chng_Q4_Q1  Total_Trans_Amt  Total_Trans_Ct  Total_Ct_Chng_Q4_Q1  \\\n",
       "0                 1.335             1144              42                1.625   \n",
       "1                 1.541             1291              33                3.714   \n",
       "2                 2.594             1887              20                2.333   \n",
       "3                 1.405             1171              20                2.333   \n",
       "4                 2.175              816              28                2.500   \n",
       "\n",
       "   Avg_Utilization_Ratio  \\\n",
       "0                  0.061   \n",
       "1                  0.105   \n",
       "2                  0.000   \n",
       "3                  0.760   \n",
       "4                  0.000   \n",
       "\n",
       "   Naive_Bayes_Classifier_Attrition_Flag_Card_Category_Contacts_Count_12_mon_Dependent_count_Education_Level_Months_Inactive_12_mon_1  \\\n",
       "0                                           0.000093                                                                                    \n",
       "1                                           0.000057                                                                                    \n",
       "2                                           0.000021                                                                                    \n",
       "3                                           0.000134                                                                                    \n",
       "4                                           0.000022                                                                                    \n",
       "\n",
       "   Naive_Bayes_Classifier_Attrition_Flag_Card_Category_Contacts_Count_12_mon_Dependent_count_Education_Level_Months_Inactive_12_mon_2  \n",
       "0                                            0.99991                                                                                   \n",
       "1                                            0.99994                                                                                   \n",
       "2                                            0.99998                                                                                   \n",
       "3                                            0.99987                                                                                   \n",
       "4                                            0.99998                                                                                   \n",
       "\n",
       "[5 rows x 23 columns]"
      ]
     },
     "execution_count": 3,
     "metadata": {},
     "output_type": "execute_result"
    }
   ],
   "source": [
    "customer_data.head()"
   ]
  },
  {
   "cell_type": "code",
   "execution_count": 4,
   "id": "09241891",
   "metadata": {
    "execution": {
     "iopub.execute_input": "2021-09-30T08:24:54.462571Z",
     "iopub.status.busy": "2021-09-30T08:24:54.461696Z",
     "iopub.status.idle": "2021-09-30T08:24:54.464934Z",
     "shell.execute_reply": "2021-09-30T08:24:54.465473Z",
     "shell.execute_reply.started": "2021-09-30T08:23:21.110671Z"
    },
    "papermill": {
     "duration": 0.081836,
     "end_time": "2021-09-30T08:24:54.465666",
     "exception": false,
     "start_time": "2021-09-30T08:24:54.383830",
     "status": "completed"
    },
    "tags": []
   },
   "outputs": [],
   "source": [
    "customer_data = customer_data.iloc[:, 1:-2]"
   ]
  },
  {
   "cell_type": "code",
   "execution_count": 5,
   "id": "669c3d37",
   "metadata": {
    "execution": {
     "iopub.execute_input": "2021-09-30T08:24:54.669672Z",
     "iopub.status.busy": "2021-09-30T08:24:54.668918Z",
     "iopub.status.idle": "2021-09-30T08:24:54.674245Z",
     "shell.execute_reply": "2021-09-30T08:24:54.673647Z",
     "shell.execute_reply.started": "2021-09-30T08:23:21.120043Z"
    },
    "papermill": {
     "duration": 0.146281,
     "end_time": "2021-09-30T08:24:54.674418",
     "exception": false,
     "start_time": "2021-09-30T08:24:54.528137",
     "status": "completed"
    },
    "tags": []
   },
   "outputs": [
    {
     "name": "stdout",
     "output_type": "stream",
     "text": [
      "Data Types:\n",
      "Attrition_Flag               object\n",
      "Customer_Age                  int64\n",
      "Gender                       object\n",
      "Dependent_count               int64\n",
      "Education_Level              object\n",
      "Marital_Status               object\n",
      "Income_Category              object\n",
      "Card_Category                object\n",
      "Months_on_book                int64\n",
      "Total_Relationship_Count      int64\n",
      "Months_Inactive_12_mon        int64\n",
      "Contacts_Count_12_mon         int64\n",
      "Credit_Limit                float64\n",
      "Total_Revolving_Bal           int64\n",
      "Avg_Open_To_Buy             float64\n",
      "Total_Amt_Chng_Q4_Q1        float64\n",
      "Total_Trans_Amt               int64\n",
      "Total_Trans_Ct                int64\n",
      "Total_Ct_Chng_Q4_Q1         float64\n",
      "Avg_Utilization_Ratio       float64\n",
      "dtype: object\n",
      "\n",
      "Rows and Columns:\n",
      "(10127, 20)\n",
      "\n",
      "Column Names:\n",
      "Index(['Attrition_Flag', 'Customer_Age', 'Gender', 'Dependent_count',\n",
      "       'Education_Level', 'Marital_Status', 'Income_Category', 'Card_Category',\n",
      "       'Months_on_book', 'Total_Relationship_Count', 'Months_Inactive_12_mon',\n",
      "       'Contacts_Count_12_mon', 'Credit_Limit', 'Total_Revolving_Bal',\n",
      "       'Avg_Open_To_Buy', 'Total_Amt_Chng_Q4_Q1', 'Total_Trans_Amt',\n",
      "       'Total_Trans_Ct', 'Total_Ct_Chng_Q4_Q1', 'Avg_Utilization_Ratio'],\n",
      "      dtype='object')\n",
      "\n",
      "Null Values %:\n",
      "Attrition_Flag              0.0\n",
      "Customer_Age                0.0\n",
      "Gender                      0.0\n",
      "Dependent_count             0.0\n",
      "Education_Level             0.0\n",
      "Marital_Status              0.0\n",
      "Income_Category             0.0\n",
      "Card_Category               0.0\n",
      "Months_on_book              0.0\n",
      "Total_Relationship_Count    0.0\n",
      "Months_Inactive_12_mon      0.0\n",
      "Contacts_Count_12_mon       0.0\n",
      "Credit_Limit                0.0\n",
      "Total_Revolving_Bal         0.0\n",
      "Avg_Open_To_Buy             0.0\n",
      "Total_Amt_Chng_Q4_Q1        0.0\n",
      "Total_Trans_Amt             0.0\n",
      "Total_Trans_Ct              0.0\n",
      "Total_Ct_Chng_Q4_Q1         0.0\n",
      "Avg_Utilization_Ratio       0.0\n",
      "dtype: float64\n",
      "\n",
      "Unknown Values %:\n",
      "Attrition_Flag              0.000000\n",
      "Customer_Age                0.000000\n",
      "Gender                      0.000000\n",
      "Dependent_count             0.000000\n",
      "Education_Level             0.149995\n",
      "Marital_Status              0.073961\n",
      "Income_Category             0.109805\n",
      "Card_Category               0.000000\n",
      "Months_on_book              0.000000\n",
      "Total_Relationship_Count    0.000000\n",
      "Months_Inactive_12_mon      0.000000\n",
      "Contacts_Count_12_mon       0.000000\n",
      "Credit_Limit                0.000000\n",
      "Total_Revolving_Bal         0.000000\n",
      "Avg_Open_To_Buy             0.000000\n",
      "Total_Amt_Chng_Q4_Q1        0.000000\n",
      "Total_Trans_Amt             0.000000\n",
      "Total_Trans_Ct              0.000000\n",
      "Total_Ct_Chng_Q4_Q1         0.000000\n",
      "Avg_Utilization_Ratio       0.000000\n",
      "dtype: float64\n"
     ]
    }
   ],
   "source": [
    "print(f\"Data Types:\\n{customer_data.dtypes}\")\n",
    "print(f\"\\nRows and Columns:\\n{customer_data.shape}\")\n",
    "print(f\"\\nColumn Names:\\n{customer_data.columns}\")\n",
    "print(f\"\\nNull Values %:\\n{customer_data.apply(lambda x: sum(x.isnull()) / len(customer_data))}\")\n",
    "print(f\"\\nUnknown Values %:\\n{customer_data.apply(lambda x: sum(x=='Unknown') / len(customer_data))}\")\n"
   ]
  },
  {
   "cell_type": "code",
   "execution_count": 6,
   "id": "c5fe6671",
   "metadata": {
    "execution": {
     "iopub.execute_input": "2021-09-30T08:24:54.888308Z",
     "iopub.status.busy": "2021-09-30T08:24:54.887258Z",
     "iopub.status.idle": "2021-09-30T08:24:54.960572Z",
     "shell.execute_reply": "2021-09-30T08:24:54.959995Z",
     "shell.execute_reply.started": "2021-09-30T08:23:21.218659Z"
    },
    "papermill": {
     "duration": 0.129516,
     "end_time": "2021-09-30T08:24:54.960729",
     "exception": false,
     "start_time": "2021-09-30T08:24:54.831213",
     "status": "completed"
    },
    "tags": []
   },
   "outputs": [
    {
     "data": {
      "text/html": [
       "<div>\n",
       "<style scoped>\n",
       "    .dataframe tbody tr th:only-of-type {\n",
       "        vertical-align: middle;\n",
       "    }\n",
       "\n",
       "    .dataframe tbody tr th {\n",
       "        vertical-align: top;\n",
       "    }\n",
       "\n",
       "    .dataframe thead th {\n",
       "        text-align: right;\n",
       "    }\n",
       "</style>\n",
       "<table border=\"1\" class=\"dataframe\">\n",
       "  <thead>\n",
       "    <tr style=\"text-align: right;\">\n",
       "      <th>Attrition_Flag</th>\n",
       "      <th>Attrited Customer</th>\n",
       "      <th>Existing Customer</th>\n",
       "      <th>Total</th>\n",
       "    </tr>\n",
       "    <tr>\n",
       "      <th>Gender</th>\n",
       "      <th></th>\n",
       "      <th></th>\n",
       "      <th></th>\n",
       "    </tr>\n",
       "  </thead>\n",
       "  <tbody>\n",
       "    <tr>\n",
       "      <th>F</th>\n",
       "      <td>930</td>\n",
       "      <td>4428</td>\n",
       "      <td>5358</td>\n",
       "    </tr>\n",
       "    <tr>\n",
       "      <th>M</th>\n",
       "      <td>697</td>\n",
       "      <td>4072</td>\n",
       "      <td>4769</td>\n",
       "    </tr>\n",
       "    <tr>\n",
       "      <th>Total</th>\n",
       "      <td>1627</td>\n",
       "      <td>8500</td>\n",
       "      <td>10127</td>\n",
       "    </tr>\n",
       "  </tbody>\n",
       "</table>\n",
       "</div>"
      ],
      "text/plain": [
       "Attrition_Flag  Attrited Customer  Existing Customer  Total\n",
       "Gender                                                     \n",
       "F                             930               4428   5358\n",
       "M                             697               4072   4769\n",
       "Total                        1627               8500  10127"
      ]
     },
     "execution_count": 6,
     "metadata": {},
     "output_type": "execute_result"
    }
   ],
   "source": [
    "pd.crosstab(customer_data['Gender'], customer_data['Attrition_Flag'], margins = True, margins_name = \"Total\")"
   ]
  },
  {
   "cell_type": "code",
   "execution_count": 7,
   "id": "96885904",
   "metadata": {
    "execution": {
     "iopub.execute_input": "2021-09-30T08:24:55.069726Z",
     "iopub.status.busy": "2021-09-30T08:24:55.068683Z",
     "iopub.status.idle": "2021-09-30T08:24:55.755041Z",
     "shell.execute_reply": "2021-09-30T08:24:55.754001Z",
     "shell.execute_reply.started": "2021-09-30T08:23:21.295525Z"
    },
    "papermill": {
     "duration": 0.742134,
     "end_time": "2021-09-30T08:24:55.755217",
     "exception": false,
     "start_time": "2021-09-30T08:24:55.013083",
     "status": "completed"
    },
    "tags": []
   },
   "outputs": [
    {
     "data": {
      "image/png": "[encoded data removed]",
      "text/plain": [
       "<Figure size 448.075x288 with 2 Axes>"
      ]
     },
     "metadata": {
      "needs_background": "light"
     },
     "output_type": "display_data"
    }
   ],
   "source": [
    "sns.catplot(x=\"Card_Category\", hue=\"Gender\", col=\"Attrition_Flag\",\n",
    "                data=customer_data, kind=\"count\",\n",
    "                height=4, aspect=.7);"
   ]
  },
  {
   "cell_type": "markdown",
   "id": "dd93aa0a",
   "metadata": {
    "papermill": {
     "duration": 0.053315,
     "end_time": "2021-09-30T08:24:55.861656",
     "exception": false,
     "start_time": "2021-09-30T08:24:55.808341",
     "status": "completed"
    },
    "tags": []
   },
   "source": [
    "The graph above gives us more information and yet not enough to know what to do. We need to shift to probabilities. Let's see information in probabilities:"
   ]
  },
  {
   "cell_type": "code",
   "execution_count": 8,
   "id": "93ef5db4",
   "metadata": {
    "execution": {
     "iopub.execute_input": "2021-09-30T08:24:55.976569Z",
     "iopub.status.busy": "2021-09-30T08:24:55.975496Z",
     "iopub.status.idle": "2021-09-30T08:24:56.302393Z",
     "shell.execute_reply": "2021-09-30T08:24:56.301374Z",
     "shell.execute_reply.started": "2021-09-30T08:23:21.984574Z"
    },
    "papermill": {
     "duration": 0.38753,
     "end_time": "2021-09-30T08:24:56.302579",
     "exception": false,
     "start_time": "2021-09-30T08:24:55.915049",
     "status": "completed"
    },
    "tags": []
   },
   "outputs": [
    {
     "data": {
      "text/html": [
       "<div>\n",
       "<style scoped>\n",
       "    .dataframe tbody tr th:only-of-type {\n",
       "        vertical-align: middle;\n",
       "    }\n",
       "\n",
       "    .dataframe tbody tr th {\n",
       "        vertical-align: top;\n",
       "    }\n",
       "\n",
       "    .dataframe thead th {\n",
       "        text-align: right;\n",
       "    }\n",
       "</style>\n",
       "<table border=\"1\" class=\"dataframe\">\n",
       "  <thead>\n",
       "    <tr style=\"text-align: right;\">\n",
       "      <th>Attrition_Flag</th>\n",
       "      <th>Attrited Customer</th>\n",
       "      <th>Existing Customer</th>\n",
       "    </tr>\n",
       "    <tr>\n",
       "      <th>Gender</th>\n",
       "      <th></th>\n",
       "      <th></th>\n",
       "    </tr>\n",
       "  </thead>\n",
       "  <tbody>\n",
       "    <tr>\n",
       "      <th>F</th>\n",
       "      <td>0.173572</td>\n",
       "      <td>0.826428</td>\n",
       "    </tr>\n",
       "    <tr>\n",
       "      <th>M</th>\n",
       "      <td>0.146152</td>\n",
       "      <td>0.853848</td>\n",
       "    </tr>\n",
       "    <tr>\n",
       "      <th>% row</th>\n",
       "      <td>0.160660</td>\n",
       "      <td>0.839340</td>\n",
       "    </tr>\n",
       "  </tbody>\n",
       "</table>\n",
       "</div>"
      ],
      "text/plain": [
       "Attrition_Flag  Attrited Customer  Existing Customer\n",
       "Gender                                              \n",
       "F                        0.173572           0.826428\n",
       "M                        0.146152           0.853848\n",
       "% row                    0.160660           0.839340"
      ]
     },
     "metadata": {},
     "output_type": "display_data"
    },
    {
     "data": {
      "text/plain": [
       "<AxesSubplot:xlabel='Attrition_Flag', ylabel='Gender'>"
      ]
     },
     "execution_count": 8,
     "metadata": {},
     "output_type": "execute_result"
    },
    {
     "data": {
      "image/png": "[encoded data removed]",
      "text/plain": [
       "<Figure size 432x288 with 2 Axes>"
      ]
     },
     "metadata": {
      "needs_background": "light"
     },
     "output_type": "display_data"
    }
   ],
   "source": [
    "cross = pd.crosstab(customer_data['Gender'], \n",
    "            customer_data['Attrition_Flag'], \n",
    "            margins = True, \n",
    "            margins_name = \"% row\", \n",
    "            normalize='index')\n",
    "display(cross)\n",
    "sns.heatmap(cross, annot=True, fmt='.0%', cmap='Blues')"
   ]
  },
  {
   "cell_type": "code",
   "execution_count": 9,
   "id": "e3bab79a",
   "metadata": {
    "execution": {
     "iopub.execute_input": "2021-09-30T08:24:56.423123Z",
     "iopub.status.busy": "2021-09-30T08:24:56.421463Z",
     "iopub.status.idle": "2021-09-30T08:24:56.751047Z",
     "shell.execute_reply": "2021-09-30T08:24:56.750461Z",
     "shell.execute_reply.started": "2021-09-30T08:23:22.311552Z"
    },
    "papermill": {
     "duration": 0.393135,
     "end_time": "2021-09-30T08:24:56.751199",
     "exception": false,
     "start_time": "2021-09-30T08:24:56.358064",
     "status": "completed"
    },
    "tags": []
   },
   "outputs": [
    {
     "data": {
      "text/html": [
       "<div>\n",
       "<style scoped>\n",
       "    .dataframe tbody tr th:only-of-type {\n",
       "        vertical-align: middle;\n",
       "    }\n",
       "\n",
       "    .dataframe tbody tr th {\n",
       "        vertical-align: top;\n",
       "    }\n",
       "\n",
       "    .dataframe thead th {\n",
       "        text-align: right;\n",
       "    }\n",
       "</style>\n",
       "<table border=\"1\" class=\"dataframe\">\n",
       "  <thead>\n",
       "    <tr style=\"text-align: right;\">\n",
       "      <th>Attrition_Flag</th>\n",
       "      <th>Attrited Customer</th>\n",
       "      <th>Existing Customer</th>\n",
       "      <th>% columns</th>\n",
       "    </tr>\n",
       "    <tr>\n",
       "      <th>Gender</th>\n",
       "      <th></th>\n",
       "      <th></th>\n",
       "      <th></th>\n",
       "    </tr>\n",
       "  </thead>\n",
       "  <tbody>\n",
       "    <tr>\n",
       "      <th>F</th>\n",
       "      <td>0.571604</td>\n",
       "      <td>0.520941</td>\n",
       "      <td>0.529081</td>\n",
       "    </tr>\n",
       "    <tr>\n",
       "      <th>M</th>\n",
       "      <td>0.428396</td>\n",
       "      <td>0.479059</td>\n",
       "      <td>0.470919</td>\n",
       "    </tr>\n",
       "  </tbody>\n",
       "</table>\n",
       "</div>"
      ],
      "text/plain": [
       "Attrition_Flag  Attrited Customer  Existing Customer  % columns\n",
       "Gender                                                         \n",
       "F                        0.571604           0.520941   0.529081\n",
       "M                        0.428396           0.479059   0.470919"
      ]
     },
     "metadata": {},
     "output_type": "display_data"
    },
    {
     "data": {
      "text/plain": [
       "<AxesSubplot:xlabel='Attrition_Flag', ylabel='Gender'>"
      ]
     },
     "execution_count": 9,
     "metadata": {},
     "output_type": "execute_result"
    },
    {
     "data": {
      "image/png": "[encoded data removed]",
      "text/plain": [
       "<Figure size 432x288 with 2 Axes>"
      ]
     },
     "metadata": {
      "needs_background": "light"
     },
     "output_type": "display_data"
    }
   ],
   "source": [
    "cross = pd.crosstab(customer_data['Gender'], \n",
    "            customer_data['Attrition_Flag'], \n",
    "            margins = True, \n",
    "            margins_name = \"% columns\", \n",
    "            normalize='columns')\n",
    "display(cross)\n",
    "sns.heatmap(cross, annot=True, fmt='.0%', cmap='Blues')"
   ]
  },
  {
   "cell_type": "code",
   "execution_count": 10,
   "id": "ff017de1",
   "metadata": {
    "execution": {
     "iopub.execute_input": "2021-09-30T08:24:56.873548Z",
     "iopub.status.busy": "2021-09-30T08:24:56.872751Z",
     "iopub.status.idle": "2021-09-30T08:24:57.205360Z",
     "shell.execute_reply": "2021-09-30T08:24:57.204770Z",
     "shell.execute_reply.started": "2021-09-30T08:23:22.651494Z"
    },
    "papermill": {
     "duration": 0.398078,
     "end_time": "2021-09-30T08:24:57.205536",
     "exception": false,
     "start_time": "2021-09-30T08:24:56.807458",
     "status": "completed"
    },
    "tags": []
   },
   "outputs": [
    {
     "data": {
      "text/html": [
       "<div>\n",
       "<style scoped>\n",
       "    .dataframe tbody tr th:only-of-type {\n",
       "        vertical-align: middle;\n",
       "    }\n",
       "\n",
       "    .dataframe tbody tr th {\n",
       "        vertical-align: top;\n",
       "    }\n",
       "\n",
       "    .dataframe thead th {\n",
       "        text-align: right;\n",
       "    }\n",
       "</style>\n",
       "<table border=\"1\" class=\"dataframe\">\n",
       "  <thead>\n",
       "    <tr style=\"text-align: right;\">\n",
       "      <th>Attrition_Flag</th>\n",
       "      <th>Attrited Customer</th>\n",
       "      <th>Existing Customer</th>\n",
       "      <th>% all</th>\n",
       "    </tr>\n",
       "    <tr>\n",
       "      <th>Gender</th>\n",
       "      <th></th>\n",
       "      <th></th>\n",
       "      <th></th>\n",
       "    </tr>\n",
       "  </thead>\n",
       "  <tbody>\n",
       "    <tr>\n",
       "      <th>F</th>\n",
       "      <td>0.091834</td>\n",
       "      <td>0.437247</td>\n",
       "      <td>0.529081</td>\n",
       "    </tr>\n",
       "    <tr>\n",
       "      <th>M</th>\n",
       "      <td>0.068826</td>\n",
       "      <td>0.402093</td>\n",
       "      <td>0.470919</td>\n",
       "    </tr>\n",
       "    <tr>\n",
       "      <th>% all</th>\n",
       "      <td>0.160660</td>\n",
       "      <td>0.839340</td>\n",
       "      <td>1.000000</td>\n",
       "    </tr>\n",
       "  </tbody>\n",
       "</table>\n",
       "</div>"
      ],
      "text/plain": [
       "Attrition_Flag  Attrited Customer  Existing Customer     % all\n",
       "Gender                                                        \n",
       "F                        0.091834           0.437247  0.529081\n",
       "M                        0.068826           0.402093  0.470919\n",
       "% all                    0.160660           0.839340  1.000000"
      ]
     },
     "metadata": {},
     "output_type": "display_data"
    },
    {
     "data": {
      "text/plain": [
       "<AxesSubplot:xlabel='Attrition_Flag', ylabel='Gender'>"
      ]
     },
     "execution_count": 10,
     "metadata": {},
     "output_type": "execute_result"
    },
    {
     "data": {
      "image/png": "[encoded data removed]",
      "text/plain": [
       "<Figure size 432x288 with 2 Axes>"
      ]
     },
     "metadata": {
      "needs_background": "light"
     },
     "output_type": "display_data"
    }
   ],
   "source": [
    "cross = pd.crosstab(customer_data['Gender'], \n",
    "            customer_data['Attrition_Flag'], \n",
    "            margins = True, \n",
    "            margins_name = \"% all\", \n",
    "            normalize='all')\n",
    "display(cross)\n",
    "sns.heatmap(cross, annot=True, fmt='.0%', cmap='Blues')"
   ]
  },
  {
   "cell_type": "markdown",
   "id": "9897384d",
   "metadata": {
    "papermill": {
     "duration": 0.059779,
     "end_time": "2021-09-30T08:24:57.443273",
     "exception": false,
     "start_time": "2021-09-30T08:24:57.383494",
     "status": "completed"
    },
    "tags": []
   },
   "source": [
    "## Data Manipulation ##"
   ]
  },
  {
   "cell_type": "code",
   "execution_count": 11,
   "id": "37202eb1",
   "metadata": {
    "execution": {
     "iopub.execute_input": "2021-09-30T08:24:57.689849Z",
     "iopub.status.busy": "2021-09-30T08:24:57.689105Z",
     "iopub.status.idle": "2021-09-30T08:24:57.692375Z",
     "shell.execute_reply": "2021-09-30T08:24:57.692959Z",
     "shell.execute_reply.started": "2021-09-30T08:23:23.108482Z"
    },
    "papermill": {
     "duration": 0.072399,
     "end_time": "2021-09-30T08:24:57.693146",
     "exception": false,
     "start_time": "2021-09-30T08:24:57.620747",
     "status": "completed"
    },
    "tags": []
   },
   "outputs": [
    {
     "name": "stdout",
     "output_type": "stream",
     "text": [
      "6 Categorical features:\n",
      "['Attrition_Flag', 'Gender', 'Education_Level', 'Marital_Status', 'Income_Category', 'Card_Category']\n",
      "\n",
      "5 float64 features:\n",
      "['Credit_Limit', 'Avg_Open_To_Buy', 'Total_Amt_Chng_Q4_Q1', 'Total_Ct_Chng_Q4_Q1', 'Avg_Utilization_Ratio']\n",
      "\n",
      "9 int features:\n",
      "['Customer_Age', 'Dependent_count', 'Months_on_book', 'Total_Relationship_Count', 'Months_Inactive_12_mon', 'Contacts_Count_12_mon', 'Total_Revolving_Bal', 'Total_Trans_Amt', 'Total_Trans_Ct']\n"
     ]
    }
   ],
   "source": [
    "# list of features name that are int64, object, and float64\n",
    "s = (customer_data.dtypes == 'object')\n",
    "cat_cols = list(s[s].index)\n",
    "print(f\"{len(cat_cols)} Categorical features:\\n{cat_cols}\")\n",
    "\n",
    "s = (customer_data.dtypes == 'float64')\n",
    "float64_cols = list(s[s].index)\n",
    "print(f\"\\n{len(float64_cols)} float64 features:\\n{float64_cols}\")\n",
    "\n",
    "s = (customer_data.dtypes == 'int64')\n",
    "int64_cols = list(s[s].index)\n",
    "print(f\"\\n{len(int64_cols)} int features:\\n{int64_cols}\")\n",
    "del s"
   ]
  },
  {
   "cell_type": "code",
   "execution_count": 12,
   "id": "c5d13e22",
   "metadata": {
    "execution": {
     "iopub.execute_input": "2021-09-30T08:24:57.934893Z",
     "iopub.status.busy": "2021-09-30T08:24:57.934206Z",
     "iopub.status.idle": "2021-09-30T08:24:57.940527Z",
     "shell.execute_reply": "2021-09-30T08:24:57.941039Z",
     "shell.execute_reply.started": "2021-09-30T08:23:23.121398Z"
    },
    "papermill": {
     "duration": 0.069221,
     "end_time": "2021-09-30T08:24:57.941231",
     "exception": false,
     "start_time": "2021-09-30T08:24:57.872010",
     "status": "completed"
    },
    "tags": []
   },
   "outputs": [
    {
     "name": "stdout",
     "output_type": "stream",
     "text": [
      "\n",
      "5 numpy.number features::\n",
      "['Credit_Limit', 'Avg_Open_To_Buy', 'Total_Amt_Chng_Q4_Q1', 'Total_Ct_Chng_Q4_Q1', 'Avg_Utilization_Ratio']\n"
     ]
    }
   ],
   "source": [
    "s = (customer_data.dtypes == np.number)\n",
    "num_cols = list(s[s].index)\n",
    "print(f\"\\n{len(num_cols)} numpy.number features::\\n{num_cols}\")\n",
    "del s"
   ]
  },
  {
   "cell_type": "code",
   "execution_count": 13,
   "id": "605a27d2",
   "metadata": {
    "execution": {
     "iopub.execute_input": "2021-09-30T08:24:58.183361Z",
     "iopub.status.busy": "2021-09-30T08:24:58.182704Z",
     "iopub.status.idle": "2021-09-30T08:24:58.217734Z",
     "shell.execute_reply": "2021-09-30T08:24:58.218271Z",
     "shell.execute_reply.started": "2021-09-30T08:23:23.134484Z"
    },
    "papermill": {
     "duration": 0.098521,
     "end_time": "2021-09-30T08:24:58.218492",
     "exception": false,
     "start_time": "2021-09-30T08:24:58.119971",
     "status": "completed"
    },
    "tags": []
   },
   "outputs": [
    {
     "data": {
      "text/html": [
       "<div>\n",
       "<style scoped>\n",
       "    .dataframe tbody tr th:only-of-type {\n",
       "        vertical-align: middle;\n",
       "    }\n",
       "\n",
       "    .dataframe tbody tr th {\n",
       "        vertical-align: top;\n",
       "    }\n",
       "\n",
       "    .dataframe thead th {\n",
       "        text-align: right;\n",
       "    }\n",
       "</style>\n",
       "<table border=\"1\" class=\"dataframe\">\n",
       "  <thead>\n",
       "    <tr style=\"text-align: right;\">\n",
       "      <th></th>\n",
       "      <th>Attrition_Flag</th>\n",
       "      <th>Gender</th>\n",
       "      <th>Education_Level</th>\n",
       "      <th>Marital_Status</th>\n",
       "      <th>Income_Category</th>\n",
       "      <th>Card_Category</th>\n",
       "    </tr>\n",
       "  </thead>\n",
       "  <tbody>\n",
       "    <tr>\n",
       "      <th>count</th>\n",
       "      <td>10127</td>\n",
       "      <td>10127</td>\n",
       "      <td>10127</td>\n",
       "      <td>10127</td>\n",
       "      <td>10127</td>\n",
       "      <td>10127</td>\n",
       "    </tr>\n",
       "    <tr>\n",
       "      <th>unique</th>\n",
       "      <td>2</td>\n",
       "      <td>2</td>\n",
       "      <td>7</td>\n",
       "      <td>4</td>\n",
       "      <td>6</td>\n",
       "      <td>4</td>\n",
       "    </tr>\n",
       "    <tr>\n",
       "      <th>top</th>\n",
       "      <td>Existing Customer</td>\n",
       "      <td>F</td>\n",
       "      <td>Graduate</td>\n",
       "      <td>Married</td>\n",
       "      <td>Less than $40K</td>\n",
       "      <td>Blue</td>\n",
       "    </tr>\n",
       "    <tr>\n",
       "      <th>freq</th>\n",
       "      <td>8500</td>\n",
       "      <td>5358</td>\n",
       "      <td>3128</td>\n",
       "      <td>4687</td>\n",
       "      <td>3561</td>\n",
       "      <td>9436</td>\n",
       "    </tr>\n",
       "  </tbody>\n",
       "</table>\n",
       "</div>"
      ],
      "text/plain": [
       "           Attrition_Flag Gender Education_Level Marital_Status  \\\n",
       "count               10127  10127           10127          10127   \n",
       "unique                  2      2               7              4   \n",
       "top     Existing Customer      F        Graduate        Married   \n",
       "freq                 8500   5358            3128           4687   \n",
       "\n",
       "       Income_Category Card_Category  \n",
       "count            10127         10127  \n",
       "unique               6             4  \n",
       "top     Less than $40K          Blue  \n",
       "freq              3561          9436  "
      ]
     },
     "execution_count": 13,
     "metadata": {},
     "output_type": "execute_result"
    }
   ],
   "source": [
    "customer_data[cat_cols].describe()"
   ]
  },
  {
   "cell_type": "code",
   "execution_count": 14,
   "id": "549d9ae5",
   "metadata": {
    "execution": {
     "iopub.execute_input": "2021-09-30T08:24:58.461542Z",
     "iopub.status.busy": "2021-09-30T08:24:58.460793Z",
     "iopub.status.idle": "2021-09-30T08:24:58.485797Z",
     "shell.execute_reply": "2021-09-30T08:24:58.486450Z",
     "shell.execute_reply.started": "2021-09-30T08:23:23.187667Z"
    },
    "papermill": {
     "duration": 0.088792,
     "end_time": "2021-09-30T08:24:58.486642",
     "exception": false,
     "start_time": "2021-09-30T08:24:58.397850",
     "status": "completed"
    },
    "tags": []
   },
   "outputs": [
    {
     "name": "stdout",
     "output_type": "stream",
     "text": [
      "Memory Usage as Object type:\n",
      "Index                128\n",
      "Attrition_Flag     81016\n",
      "Gender             81016\n",
      "Education_Level    81016\n",
      "Marital_Status     81016\n",
      "Income_Category    81016\n",
      "Card_Category      81016\n",
      "dtype: int64\n",
      "\n",
      "Memory Usage as Category type:\n",
      "Index                128\n",
      "Attrition_Flag     10251\n",
      "Gender             10251\n",
      "Education_Level    10483\n",
      "Marital_Status     10331\n",
      "Income_Category    10347\n",
      "Card_Category      10331\n",
      "dtype: int64\n"
     ]
    }
   ],
   "source": [
    "print(f'Memory Usage as Object type:\\n{customer_data[cat_cols].memory_usage()}')\n",
    "customer_data[cat_cols] = customer_data[cat_cols].astype('category')\n",
    "print(f'\\nMemory Usage as Category type:\\n{customer_data[cat_cols].memory_usage()}')\n"
   ]
  },
  {
   "cell_type": "code",
   "execution_count": 15,
   "id": "fdcad319",
   "metadata": {
    "execution": {
     "iopub.execute_input": "2021-09-30T08:24:58.733164Z",
     "iopub.status.busy": "2021-09-30T08:24:58.730836Z",
     "iopub.status.idle": "2021-09-30T08:24:59.311574Z",
     "shell.execute_reply": "2021-09-30T08:24:59.310321Z",
     "shell.execute_reply.started": "2021-09-30T08:23:23.220039Z"
    },
    "papermill": {
     "duration": 0.644491,
     "end_time": "2021-09-30T08:24:59.311736",
     "exception": false,
     "start_time": "2021-09-30T08:24:58.667245",
     "status": "completed"
    },
    "tags": []
   },
   "outputs": [
    {
     "data": {
      "text/plain": [
       "-0.033605016317173456"
      ]
     },
     "metadata": {},
     "output_type": "display_data"
    },
    {
     "data": {
      "text/plain": [
       "<AxesSubplot:xlabel='Customer_Age', ylabel='Count'>"
      ]
     },
     "execution_count": 15,
     "metadata": {},
     "output_type": "execute_result"
    },
    {
     "data": {
      "image/png": "[encoded data removed]",
      "text/plain": [
       "<Figure size 432x288 with 1 Axes>"
      ]
     },
     "metadata": {
      "needs_background": "light"
     },
     "output_type": "display_data"
    }
   ],
   "source": [
    "display(customer_data['Customer_Age'].skew())\n",
    "sns.histplot(customer_data.Customer_Age,kde=True)"
   ]
  },
  {
   "cell_type": "code",
   "execution_count": 16,
   "id": "d0bb6885",
   "metadata": {
    "execution": {
     "iopub.execute_input": "2021-09-30T08:24:59.604694Z",
     "iopub.status.busy": "2021-09-30T08:24:59.575323Z",
     "iopub.status.idle": "2021-09-30T08:24:59.957036Z",
     "shell.execute_reply": "2021-09-30T08:24:59.957602Z",
     "shell.execute_reply.started": "2021-09-30T08:23:23.683069Z"
    },
    "papermill": {
     "duration": 0.458868,
     "end_time": "2021-09-30T08:24:59.957785",
     "exception": false,
     "start_time": "2021-09-30T08:24:59.498917",
     "status": "completed"
    },
    "tags": []
   },
   "outputs": [
    {
     "name": "stdout",
     "output_type": "stream",
     "text": [
      "Cutomer_Age std: 8.016814032549084\n"
     ]
    },
    {
     "data": {
      "text/plain": [
       "<AxesSubplot:xlabel='Customer_Age', ylabel='Count'>"
      ]
     },
     "execution_count": 16,
     "metadata": {},
     "output_type": "execute_result"
    },
    {
     "data": {
      "image/png": "[encoded data removed]",
      "text/plain": [
       "<Figure size 432x288 with 1 Axes>"
      ]
     },
     "metadata": {
      "needs_background": "light"
     },
     "output_type": "display_data"
    }
   ],
   "source": [
    "print(f\"Cutomer_Age std: {customer_data['Customer_Age'].std()}\")\n",
    "sns.histplot(customer_data.Customer_Age,kde=True, bins=int(customer_data['Customer_Age'].std()))"
   ]
  },
  {
   "cell_type": "markdown",
   "id": "86ac77a3",
   "metadata": {
    "papermill": {
     "duration": 0.062991,
     "end_time": "2021-09-30T08:25:00.083742",
     "exception": false,
     "start_time": "2021-09-30T08:25:00.020751",
     "status": "completed"
    },
    "tags": []
   },
   "source": [
    "I can conclude that std is around 8 and setting this value to number of bins gives us a good split for group age in the dataset as can be seen in the following graphs:"
   ]
  },
  {
   "cell_type": "code",
   "execution_count": 17,
   "id": "6cd904fd",
   "metadata": {
    "execution": {
     "iopub.execute_input": "2021-09-30T08:25:00.214444Z",
     "iopub.status.busy": "2021-09-30T08:25:00.213732Z",
     "iopub.status.idle": "2021-09-30T08:25:00.228896Z",
     "shell.execute_reply": "2021-09-30T08:25:00.228184Z",
     "shell.execute_reply.started": "2021-09-30T08:23:24.052017Z"
    },
    "papermill": {
     "duration": 0.081806,
     "end_time": "2021-09-30T08:25:00.229064",
     "exception": false,
     "start_time": "2021-09-30T08:25:00.147258",
     "status": "completed"
    },
    "tags": []
   },
   "outputs": [],
   "source": [
    "customer_data['Customer_Age_period'] = pd.cut(np.array(customer_data['Customer_Age']), \n",
    "                                              bins=int(customer_data.Customer_Age.std()),\n",
    "                                              precision=0)"
   ]
  },
  {
   "cell_type": "code",
   "execution_count": 18,
   "id": "7c178cd2",
   "metadata": {
    "execution": {
     "iopub.execute_input": "2021-09-30T08:25:00.364356Z",
     "iopub.status.busy": "2021-09-30T08:25:00.363259Z",
     "iopub.status.idle": "2021-09-30T08:25:00.675962Z",
     "shell.execute_reply": "2021-09-30T08:25:00.675330Z",
     "shell.execute_reply.started": "2021-09-30T08:23:24.068758Z"
    },
    "papermill": {
     "duration": 0.383901,
     "end_time": "2021-09-30T08:25:00.676121",
     "exception": false,
     "start_time": "2021-09-30T08:25:00.292220",
     "status": "completed"
    },
    "tags": []
   },
   "outputs": [
    {
     "data": {
      "image/png": "[encoded data removed]",
      "text/plain": [
       "<Figure size 432x288 with 1 Axes>"
      ]
     },
     "metadata": {
      "needs_background": "light"
     },
     "output_type": "display_data"
    }
   ],
   "source": [
    "ax = sns.countplot(x=\"Customer_Age_period\", data=customer_data)\n",
    "ax.set_xticklabels(ax.get_xticklabels(), rotation=40, ha=\"right\")\n",
    "plt.tight_layout()"
   ]
  },
  {
   "cell_type": "code",
   "execution_count": 19,
   "id": "0b283ea9",
   "metadata": {
    "execution": {
     "iopub.execute_input": "2021-09-30T08:25:00.813305Z",
     "iopub.status.busy": "2021-09-30T08:25:00.812219Z",
     "iopub.status.idle": "2021-09-30T08:25:01.241230Z",
     "shell.execute_reply": "2021-09-30T08:25:01.240478Z",
     "shell.execute_reply.started": "2021-09-30T08:23:24.350626Z"
    },
    "papermill": {
     "duration": 0.500457,
     "end_time": "2021-09-30T08:25:01.241384",
     "exception": false,
     "start_time": "2021-09-30T08:25:00.740927",
     "status": "completed"
    },
    "tags": []
   },
   "outputs": [
    {
     "data": {
      "image/png": "[encoded data removed]",
      "text/plain": [
       "<Figure size 432x288 with 1 Axes>"
      ]
     },
     "metadata": {
      "needs_background": "light"
     },
     "output_type": "display_data"
    }
   ],
   "source": [
    "ax = sns.countplot(x=\"Customer_Age_period\", hue='Gender', data=customer_data, palette=\"spring\")\n",
    "ax.set_xticklabels(ax.get_xticklabels(), rotation=40, ha=\"right\")\n",
    "plt.tight_layout()"
   ]
  },
  {
   "cell_type": "code",
   "execution_count": 20,
   "id": "423e37c5",
   "metadata": {
    "execution": {
     "iopub.execute_input": "2021-09-30T08:25:01.380572Z",
     "iopub.status.busy": "2021-09-30T08:25:01.379423Z",
     "iopub.status.idle": "2021-09-30T08:25:01.782631Z",
     "shell.execute_reply": "2021-09-30T08:25:01.782056Z",
     "shell.execute_reply.started": "2021-09-30T08:23:24.723980Z"
    },
    "papermill": {
     "duration": 0.476287,
     "end_time": "2021-09-30T08:25:01.782791",
     "exception": false,
     "start_time": "2021-09-30T08:25:01.306504",
     "status": "completed"
    },
    "tags": []
   },
   "outputs": [
    {
     "data": {
      "image/png": "[encoded data removed]",
      "text/plain": [
       "<Figure size 432x288 with 1 Axes>"
      ]
     },
     "metadata": {
      "needs_background": "light"
     },
     "output_type": "display_data"
    }
   ],
   "source": [
    "ax = sns.countplot(x=\"Customer_Age_period\", hue='Attrition_Flag', data=customer_data, palette=\"spring\")\n",
    "ax.set_xticklabels(ax.get_xticklabels(), rotation=40, ha=\"right\")\n",
    "plt.tight_layout()"
   ]
  },
  {
   "cell_type": "markdown",
   "id": "d4c00042",
   "metadata": {
    "papermill": {
     "duration": 0.067882,
     "end_time": "2021-09-30T08:25:01.917616",
     "exception": false,
     "start_time": "2021-09-30T08:25:01.849734",
     "status": "completed"
    },
    "tags": []
   },
   "source": [
    "I will perform the same procedure in `Months_on_book` feature because it has 44 distinct value. "
   ]
  },
  {
   "cell_type": "code",
   "execution_count": 21,
   "id": "fd2b396e",
   "metadata": {
    "execution": {
     "iopub.execute_input": "2021-09-30T08:25:02.055565Z",
     "iopub.status.busy": "2021-09-30T08:25:02.054831Z",
     "iopub.status.idle": "2021-09-30T08:25:02.392776Z",
     "shell.execute_reply": "2021-09-30T08:25:02.393712Z",
     "shell.execute_reply.started": "2021-09-30T08:23:25.073109Z"
    },
    "papermill": {
     "duration": 0.409151,
     "end_time": "2021-09-30T08:25:02.394006",
     "exception": false,
     "start_time": "2021-09-30T08:25:01.984855",
     "status": "completed"
    },
    "tags": []
   },
   "outputs": [
    {
     "name": "stdout",
     "output_type": "stream",
     "text": [
      "Number of unique values for 'Months_on_book' feature: 44\n"
     ]
    },
    {
     "data": {
      "image/png": "[encoded data removed]",
      "text/plain": [
       "<Figure size 432x288 with 1 Axes>"
      ]
     },
     "metadata": {
      "needs_background": "light"
     },
     "output_type": "display_data"
    }
   ],
   "source": [
    "print(f\"Number of unique values for 'Months_on_book' feature: {customer_data['Months_on_book'].nunique()}\")\n",
    "customer_data['Months_on_book_Period'] = pd.cut(customer_data['Months_on_book'],\n",
    "                                                bins=int(customer_data['Months_on_book'].std()))\n",
    "ax = sns.countplot(x=\"Months_on_book_Period\", data=customer_data)\n",
    "ax.set_xticklabels(ax.get_xticklabels(), rotation=40, ha=\"right\")\n",
    "plt.tight_layout()"
   ]
  },
  {
   "cell_type": "code",
   "execution_count": 22,
   "id": "06f18c9b",
   "metadata": {
    "execution": {
     "iopub.execute_input": "2021-09-30T08:25:02.548569Z",
     "iopub.status.busy": "2021-09-30T08:25:02.544801Z",
     "iopub.status.idle": "2021-09-30T08:25:02.963279Z",
     "shell.execute_reply": "2021-09-30T08:25:02.963855Z",
     "shell.execute_reply.started": "2021-09-30T08:23:25.367914Z"
    },
    "papermill": {
     "duration": 0.496149,
     "end_time": "2021-09-30T08:25:02.964042",
     "exception": false,
     "start_time": "2021-09-30T08:25:02.467893",
     "status": "completed"
    },
    "tags": []
   },
   "outputs": [
    {
     "name": "stdout",
     "output_type": "stream",
     "text": [
      "Number of unique values for 'Months_on_book' feature: 44\n"
     ]
    },
    {
     "data": {
      "image/png": "[encoded data removed]",
      "text/plain": [
       "<Figure size 432x288 with 1 Axes>"
      ]
     },
     "metadata": {
      "needs_background": "light"
     },
     "output_type": "display_data"
    }
   ],
   "source": [
    "print(f\"Number of unique values for 'Months_on_book' feature: {customer_data['Months_on_book'].nunique()}\")\n",
    "customer_data['Months_on_book_Period'] = pd.cut(customer_data['Months_on_book'],\n",
    "                                                bins=int(customer_data['Months_on_book'].std()))\n",
    "ax = sns.countplot(x=\"Months_on_book_Period\", hue='Attrition_Flag', data=customer_data)\n",
    "ax.set_xticklabels(ax.get_xticklabels(), rotation=40, ha=\"right\")\n",
    "plt.tight_layout()"
   ]
  },
  {
   "cell_type": "markdown",
   "id": "b3d50440",
   "metadata": {
    "papermill": {
     "duration": 0.069507,
     "end_time": "2021-09-30T08:25:03.103229",
     "exception": false,
     "start_time": "2021-09-30T08:25:03.033722",
     "status": "completed"
    },
    "tags": []
   },
   "source": [
    "Refresh *cat_cols, float64_cols*. All *int64_cols* are update to be ordinal values and *category* type"
   ]
  },
  {
   "cell_type": "code",
   "execution_count": 23,
   "id": "0b810e4a",
   "metadata": {
    "execution": {
     "iopub.execute_input": "2021-09-30T08:25:03.253217Z",
     "iopub.status.busy": "2021-09-30T08:25:03.252537Z",
     "iopub.status.idle": "2021-09-30T08:25:03.257286Z",
     "shell.execute_reply": "2021-09-30T08:25:03.256585Z",
     "shell.execute_reply.started": "2021-09-30T08:23:25.730732Z"
    },
    "papermill": {
     "duration": 0.083805,
     "end_time": "2021-09-30T08:25:03.257508",
     "exception": false,
     "start_time": "2021-09-30T08:25:03.173703",
     "status": "completed"
    },
    "tags": []
   },
   "outputs": [
    {
     "name": "stdout",
     "output_type": "stream",
     "text": [
      "9 int64 features:\n",
      "['Customer_Age', 'Dependent_count', 'Months_on_book', 'Total_Relationship_Count', 'Months_Inactive_12_mon', 'Contacts_Count_12_mon', 'Total_Revolving_Bal', 'Total_Trans_Amt', 'Total_Trans_Ct']\n",
      "\n",
      "8 Categorical features:\n",
      "['Attrition_Flag', 'Gender', 'Education_Level', 'Marital_Status', 'Income_Category', 'Card_Category', 'Customer_Age_period', 'Months_on_book_Period']\n",
      "\n",
      "5 float64 features:\n",
      "['Credit_Limit', 'Avg_Open_To_Buy', 'Total_Amt_Chng_Q4_Q1', 'Total_Ct_Chng_Q4_Q1', 'Avg_Utilization_Ratio']\n"
     ]
    }
   ],
   "source": [
    "# list of features name that are int64, object, and float64\n",
    "s = (customer_data.dtypes == 'int64')\n",
    "int64_cols = list(s[s].index)\n",
    "print(f\"{len(int64_cols)} int64 features:\\n{int64_cols}\")\n",
    "\n",
    "s = (customer_data.dtypes == 'category')\n",
    "cat_cols = list(s[s].index)\n",
    "print(f\"\\n{len(cat_cols)} Categorical features:\\n{cat_cols}\")\n",
    "\n",
    "s = (customer_data.dtypes == 'float64')\n",
    "float64_cols = list(s[s].index)\n",
    "print(f\"\\n{len(float64_cols)} float64 features:\\n{float64_cols}\")\n",
    "del s"
   ]
  },
  {
   "cell_type": "markdown",
   "id": "b28ba392",
   "metadata": {
    "papermill": {
     "duration": 0.069559,
     "end_time": "2021-09-30T08:25:03.396638",
     "exception": false,
     "start_time": "2021-09-30T08:25:03.327079",
     "status": "completed"
    },
    "tags": []
   },
   "source": [
    "### Correlation ###\n",
    "I would like to see which feature are correlated in some way to the target. Since correlation works only on numerical type, I will encode all catgeorical values in the categorical features to numbers using [pandas.factorize](https://pandas.pydata.org/pandas-docs/stable/reference/api/pandas.factorize.html). Once done I will show that we need a different approach to see correlation since most of our data is categorical.   "
   ]
  },
  {
   "cell_type": "code",
   "execution_count": 24,
   "id": "a07cef57",
   "metadata": {
    "execution": {
     "iopub.execute_input": "2021-09-30T08:25:03.543683Z",
     "iopub.status.busy": "2021-09-30T08:25:03.542952Z",
     "iopub.status.idle": "2021-09-30T08:25:03.563035Z",
     "shell.execute_reply": "2021-09-30T08:25:03.563840Z",
     "shell.execute_reply.started": "2021-09-30T08:23:25.741450Z"
    },
    "papermill": {
     "duration": 0.096996,
     "end_time": "2021-09-30T08:25:03.564128",
     "exception": false,
     "start_time": "2021-09-30T08:25:03.467132",
     "status": "completed"
    },
    "tags": []
   },
   "outputs": [
    {
     "name": "stdout",
     "output_type": "stream",
     "text": [
      "<class 'pandas.core.frame.DataFrame'>\n",
      "RangeIndex: 10127 entries, 0 to 10126\n",
      "Data columns (total 8 columns):\n",
      " #   Column                 Non-Null Count  Dtype\n",
      "---  ------                 --------------  -----\n",
      " 0   Attrition_Flag         10127 non-null  int64\n",
      " 1   Gender                 10127 non-null  int64\n",
      " 2   Education_Level        10127 non-null  int64\n",
      " 3   Marital_Status         10127 non-null  int64\n",
      " 4   Income_Category        10127 non-null  int64\n",
      " 5   Card_Category          10127 non-null  int64\n",
      " 6   Customer_Age_period    10127 non-null  int64\n",
      " 7   Months_on_book_Period  10127 non-null  int64\n",
      "dtypes: int64(8)\n",
      "memory usage: 633.1 KB\n"
     ]
    }
   ],
   "source": [
    "cat_df = customer_data[cat_cols].apply(lambda x : pd.factorize(x)[0])\n",
    "cat_df.info()"
   ]
  },
  {
   "cell_type": "markdown",
   "id": "bc208b09",
   "metadata": {
    "papermill": {
     "duration": 0.070357,
     "end_time": "2021-09-30T08:25:03.705623",
     "exception": false,
     "start_time": "2021-09-30T08:25:03.635266",
     "status": "completed"
    },
    "tags": []
   },
   "source": [
    "Now, i would like to concatinate the cat_df with `int64` features"
   ]
  },
  {
   "cell_type": "code",
   "execution_count": 25,
   "id": "df7375f2",
   "metadata": {
    "execution": {
     "iopub.execute_input": "2021-09-30T08:25:03.853693Z",
     "iopub.status.busy": "2021-09-30T08:25:03.852988Z",
     "iopub.status.idle": "2021-09-30T08:25:03.866134Z",
     "shell.execute_reply": "2021-09-30T08:25:03.866708Z",
     "shell.execute_reply.started": "2021-09-30T08:23:25.776038Z"
    },
    "papermill": {
     "duration": 0.090865,
     "end_time": "2021-09-30T08:25:03.866906",
     "exception": false,
     "start_time": "2021-09-30T08:25:03.776041",
     "status": "completed"
    },
    "tags": []
   },
   "outputs": [
    {
     "name": "stdout",
     "output_type": "stream",
     "text": [
      "<class 'pandas.core.frame.DataFrame'>\n",
      "RangeIndex: 10127 entries, 0 to 10126\n",
      "Data columns (total 17 columns):\n",
      " #   Column                    Non-Null Count  Dtype\n",
      "---  ------                    --------------  -----\n",
      " 0   Attrition_Flag            10127 non-null  int64\n",
      " 1   Gender                    10127 non-null  int64\n",
      " 2   Education_Level           10127 non-null  int64\n",
      " 3   Marital_Status            10127 non-null  int64\n",
      " 4   Income_Category           10127 non-null  int64\n",
      " 5   Card_Category             10127 non-null  int64\n",
      " 6   Customer_Age_period       10127 non-null  int64\n",
      " 7   Months_on_book_Period     10127 non-null  int64\n",
      " 8   Customer_Age              10127 non-null  int64\n",
      " 9   Dependent_count           10127 non-null  int64\n",
      " 10  Months_on_book            10127 non-null  int64\n",
      " 11  Total_Relationship_Count  10127 non-null  int64\n",
      " 12  Months_Inactive_12_mon    10127 non-null  int64\n",
      " 13  Contacts_Count_12_mon     10127 non-null  int64\n",
      " 14  Total_Revolving_Bal       10127 non-null  int64\n",
      " 15  Total_Trans_Amt           10127 non-null  int64\n",
      " 16  Total_Trans_Ct            10127 non-null  int64\n",
      "dtypes: int64(17)\n",
      "memory usage: 1.3 MB\n"
     ]
    }
   ],
   "source": [
    "concat_df = pd.concat([cat_df, customer_data[int64_cols]], axis=1)\n",
    "concat_df.info()"
   ]
  },
  {
   "cell_type": "code",
   "execution_count": 26,
   "id": "42ceb3ba",
   "metadata": {
    "execution": {
     "iopub.execute_input": "2021-09-30T08:25:04.013382Z",
     "iopub.status.busy": "2021-09-30T08:25:04.012732Z",
     "iopub.status.idle": "2021-09-30T08:25:04.681671Z",
     "shell.execute_reply": "2021-09-30T08:25:04.682212Z",
     "shell.execute_reply.started": "2021-09-30T08:23:25.797258Z"
    },
    "papermill": {
     "duration": 0.743396,
     "end_time": "2021-09-30T08:25:04.682419",
     "exception": false,
     "start_time": "2021-09-30T08:25:03.939023",
     "status": "completed"
    },
    "scrolled": true,
    "tags": []
   },
   "outputs": [
    {
     "data": {
      "text/plain": [
       "<AxesSubplot:>"
      ]
     },
     "execution_count": 26,
     "metadata": {},
     "output_type": "execute_result"
    },
    {
     "data": {
      "image/png": "[encoded data removed]",
      "text/plain": [
       "<Figure size 432x288 with 2 Axes>"
      ]
     },
     "metadata": {
      "needs_background": "light"
     },
     "output_type": "display_data"
    }
   ],
   "source": [
    "sns.heatmap(concat_df.corr(), cmap='Blues')"
   ]
  },
  {
   "cell_type": "markdown",
   "id": "06557486",
   "metadata": {
    "papermill": {
     "duration": 0.071161,
     "end_time": "2021-09-30T08:25:04.825437",
     "exception": false,
     "start_time": "2021-09-30T08:25:04.754276",
     "status": "completed"
    },
    "tags": []
   },
   "source": [
    "Examining Attrition_Age with other feature doesn’t show us any correlation. However, by using [Chi-square test](https://www.ling.upenn.edu/~clight/chisquared.htm) we can see that some features are dependent with the target. I will use [chi2_contingency](https://docs.scipy.org/doc/scipy/reference/generated/scipy.stats.chi2_contingency.html) (more information about chi2 can be found [here](https://machinelearningmastery.com/chi-squared-test-for-machine-learning/)) to compute chi2 and to get p-values. p-value is the Probability of H0 being True. if p-Value>0.05 then Accept the assumption(H0). The assumption H0 is our case will be independence"
   ]
  },
  {
   "cell_type": "code",
   "execution_count": 27,
   "id": "961a31e3",
   "metadata": {
    "execution": {
     "iopub.execute_input": "2021-09-30T08:25:04.972833Z",
     "iopub.status.busy": "2021-09-30T08:25:04.972102Z",
     "iopub.status.idle": "2021-09-30T08:25:04.978861Z",
     "shell.execute_reply": "2021-09-30T08:25:04.978230Z",
     "shell.execute_reply.started": "2021-09-30T08:23:26.401883Z"
    },
    "papermill": {
     "duration": 0.081527,
     "end_time": "2021-09-30T08:25:04.979029",
     "exception": false,
     "start_time": "2021-09-30T08:25:04.897502",
     "status": "completed"
    },
    "tags": []
   },
   "outputs": [
    {
     "data": {
      "text/plain": [
       "17"
      ]
     },
     "execution_count": 27,
     "metadata": {},
     "output_type": "execute_result"
    }
   ],
   "source": [
    "len(concat_df.columns)"
   ]
  },
  {
   "cell_type": "code",
   "execution_count": 28,
   "id": "ff944856",
   "metadata": {
    "execution": {
     "iopub.execute_input": "2021-09-30T08:25:05.135767Z",
     "iopub.status.busy": "2021-09-30T08:25:05.134639Z",
     "iopub.status.idle": "2021-09-30T08:25:36.433954Z",
     "shell.execute_reply": "2021-09-30T08:25:36.433342Z",
     "shell.execute_reply.started": "2021-09-30T08:23:26.410038Z"
    },
    "papermill": {
     "duration": 31.381551,
     "end_time": "2021-09-30T08:25:36.434108",
     "exception": false,
     "start_time": "2021-09-30T08:25:05.052557",
     "status": "completed"
    },
    "tags": []
   },
   "outputs": [],
   "source": [
    "from scipy.stats import chi2_contingency\n",
    "factors_paired = [(i,j) for i in concat_df.columns.values for j in concat_df.columns.values] \n",
    "\n",
    "chi2, p_values =[], []\n",
    "\n",
    "for f in factors_paired:\n",
    "    if f[0] != f[1]:\n",
    "        chitest = chi2_contingency(pd.crosstab(concat_df[f[0]], concat_df[f[1]]))   \n",
    "        chi2.append(chitest[0])\n",
    "        p_values.append(chitest[1])\n",
    "    else:      # for same factor pair\n",
    "        chi2.append(0)\n",
    "        p_values.append(0)\n",
    "n_features = len(concat_df.columns)\n",
    "chi2 = np.array(chi2).reshape((n_features, n_features)) # shape it as a matrix\n",
    "chi2 = pd.DataFrame(chi2, index=concat_df.columns.values, columns=concat_df.columns.values) # then a df for convenience\n",
    "# p values is what will help us to decide dependency or independency\n",
    "p_values = np.array(p_values).reshape((n_features, n_features))\n",
    "p_values = pd.DataFrame(p_values, index=concat_df.columns.values, columns=concat_df.columns.values)"
   ]
  },
  {
   "cell_type": "code",
   "execution_count": 29,
   "id": "d4073607",
   "metadata": {
    "execution": {
     "iopub.execute_input": "2021-09-30T08:25:36.606984Z",
     "iopub.status.busy": "2021-09-30T08:25:36.605898Z",
     "iopub.status.idle": "2021-09-30T08:25:36.609905Z",
     "shell.execute_reply": "2021-09-30T08:25:36.610475Z",
     "shell.execute_reply.started": "2021-09-30T08:23:52.659648Z"
    },
    "papermill": {
     "duration": 0.10409,
     "end_time": "2021-09-30T08:25:36.610658",
     "exception": false,
     "start_time": "2021-09-30T08:25:36.506568",
     "status": "completed"
    },
    "tags": []
   },
   "outputs": [
    {
     "data": {
      "text/html": [
       "<div>\n",
       "<style scoped>\n",
       "    .dataframe tbody tr th:only-of-type {\n",
       "        vertical-align: middle;\n",
       "    }\n",
       "\n",
       "    .dataframe tbody tr th {\n",
       "        vertical-align: top;\n",
       "    }\n",
       "\n",
       "    .dataframe thead th {\n",
       "        text-align: right;\n",
       "    }\n",
       "</style>\n",
       "<table border=\"1\" class=\"dataframe\">\n",
       "  <thead>\n",
       "    <tr style=\"text-align: right;\">\n",
       "      <th></th>\n",
       "      <th>Attrition_Flag</th>\n",
       "      <th>Gender</th>\n",
       "      <th>Education_Level</th>\n",
       "      <th>Marital_Status</th>\n",
       "      <th>Income_Category</th>\n",
       "      <th>Card_Category</th>\n",
       "      <th>Customer_Age_period</th>\n",
       "      <th>Months_on_book_Period</th>\n",
       "      <th>Customer_Age</th>\n",
       "      <th>Dependent_count</th>\n",
       "      <th>Months_on_book</th>\n",
       "      <th>Total_Relationship_Count</th>\n",
       "      <th>Months_Inactive_12_mon</th>\n",
       "      <th>Contacts_Count_12_mon</th>\n",
       "      <th>Total_Revolving_Bal</th>\n",
       "      <th>Total_Trans_Amt</th>\n",
       "      <th>Total_Trans_Ct</th>\n",
       "    </tr>\n",
       "  </thead>\n",
       "  <tbody>\n",
       "    <tr>\n",
       "      <th>Attrition_Flag</th>\n",
       "      <td>0.000000</td>\n",
       "      <td>0.000196</td>\n",
       "      <td>0.051489</td>\n",
       "      <td>0.108913</td>\n",
       "      <td>0.025002</td>\n",
       "      <td>5.252383e-01</td>\n",
       "      <td>4.923636e-02</td>\n",
       "      <td>2.933446e-01</td>\n",
       "      <td>2.082918e-02</td>\n",
       "      <td>9.150463e-02</td>\n",
       "      <td>5.742909e-02</td>\n",
       "      <td>2.661050e-59</td>\n",
       "      <td>1.615520e-82</td>\n",
       "      <td>1.776986e-123</td>\n",
       "      <td>1.684903e-38</td>\n",
       "      <td>4.501517e-62</td>\n",
       "      <td>0.000000e+00</td>\n",
       "    </tr>\n",
       "    <tr>\n",
       "      <th>Gender</th>\n",
       "      <td>0.000196</td>\n",
       "      <td>0.000000</td>\n",
       "      <td>0.294979</td>\n",
       "      <td>0.275238</td>\n",
       "      <td>0.000000</td>\n",
       "      <td>3.604858e-16</td>\n",
       "      <td>1.646596e-01</td>\n",
       "      <td>7.247254e-01</td>\n",
       "      <td>2.743267e-01</td>\n",
       "      <td>5.892609e-01</td>\n",
       "      <td>7.214150e-01</td>\n",
       "      <td>4.933136e-01</td>\n",
       "      <td>1.444306e-01</td>\n",
       "      <td>2.576879e-07</td>\n",
       "      <td>6.319001e-01</td>\n",
       "      <td>5.340260e-05</td>\n",
       "      <td>1.231593e-34</td>\n",
       "    </tr>\n",
       "    <tr>\n",
       "      <th>Education_Level</th>\n",
       "      <td>0.051489</td>\n",
       "      <td>0.294979</td>\n",
       "      <td>0.000000</td>\n",
       "      <td>0.254514</td>\n",
       "      <td>0.036553</td>\n",
       "      <td>4.803408e-01</td>\n",
       "      <td>4.549389e-04</td>\n",
       "      <td>3.851147e-01</td>\n",
       "      <td>8.155788e-02</td>\n",
       "      <td>4.647014e-01</td>\n",
       "      <td>4.482955e-01</td>\n",
       "      <td>5.037677e-01</td>\n",
       "      <td>7.923841e-01</td>\n",
       "      <td>9.960346e-01</td>\n",
       "      <td>7.300302e-01</td>\n",
       "      <td>7.041956e-01</td>\n",
       "      <td>7.942810e-01</td>\n",
       "    </tr>\n",
       "    <tr>\n",
       "      <th>Marital_Status</th>\n",
       "      <td>0.108913</td>\n",
       "      <td>0.275238</td>\n",
       "      <td>0.254514</td>\n",
       "      <td>0.000000</td>\n",
       "      <td>0.310785</td>\n",
       "      <td>1.804597e-04</td>\n",
       "      <td>3.049967e-35</td>\n",
       "      <td>2.499087e-08</td>\n",
       "      <td>4.367050e-33</td>\n",
       "      <td>1.098223e-06</td>\n",
       "      <td>2.613670e-04</td>\n",
       "      <td>1.391759e-02</td>\n",
       "      <td>3.563159e-01</td>\n",
       "      <td>3.590232e-01</td>\n",
       "      <td>9.805379e-01</td>\n",
       "      <td>2.560844e-02</td>\n",
       "      <td>7.644927e-21</td>\n",
       "    </tr>\n",
       "    <tr>\n",
       "      <th>Income_Category</th>\n",
       "      <td>0.025002</td>\n",
       "      <td>0.000000</td>\n",
       "      <td>0.036553</td>\n",
       "      <td>0.310785</td>\n",
       "      <td>0.000000</td>\n",
       "      <td>1.210687e-14</td>\n",
       "      <td>5.030799e-48</td>\n",
       "      <td>3.822821e-10</td>\n",
       "      <td>1.209849e-32</td>\n",
       "      <td>2.360305e-14</td>\n",
       "      <td>7.162656e-09</td>\n",
       "      <td>3.224772e-01</td>\n",
       "      <td>4.392186e-02</td>\n",
       "      <td>8.151353e-02</td>\n",
       "      <td>2.181298e-01</td>\n",
       "      <td>6.623665e-04</td>\n",
       "      <td>2.364812e-07</td>\n",
       "    </tr>\n",
       "  </tbody>\n",
       "</table>\n",
       "</div>"
      ],
      "text/plain": [
       "                 Attrition_Flag    Gender  Education_Level  Marital_Status  \\\n",
       "Attrition_Flag         0.000000  0.000196         0.051489        0.108913   \n",
       "Gender                 0.000196  0.000000         0.294979        0.275238   \n",
       "Education_Level        0.051489  0.294979         0.000000        0.254514   \n",
       "Marital_Status         0.108913  0.275238         0.254514        0.000000   \n",
       "Income_Category        0.025002  0.000000         0.036553        0.310785   \n",
       "\n",
       "                 Income_Category  Card_Category  Customer_Age_period  \\\n",
       "Attrition_Flag          0.025002   5.252383e-01         4.923636e-02   \n",
       "Gender                  0.000000   3.604858e-16         1.646596e-01   \n",
       "Education_Level         0.036553   4.803408e-01         4.549389e-04   \n",
       "Marital_Status          0.310785   1.804597e-04         3.049967e-35   \n",
       "Income_Category         0.000000   1.210687e-14         5.030799e-48   \n",
       "\n",
       "                 Months_on_book_Period  Customer_Age  Dependent_count  \\\n",
       "Attrition_Flag            2.933446e-01  2.082918e-02     9.150463e-02   \n",
       "Gender                    7.247254e-01  2.743267e-01     5.892609e-01   \n",
       "Education_Level           3.851147e-01  8.155788e-02     4.647014e-01   \n",
       "Marital_Status            2.499087e-08  4.367050e-33     1.098223e-06   \n",
       "Income_Category           3.822821e-10  1.209849e-32     2.360305e-14   \n",
       "\n",
       "                 Months_on_book  Total_Relationship_Count  \\\n",
       "Attrition_Flag     5.742909e-02              2.661050e-59   \n",
       "Gender             7.214150e-01              4.933136e-01   \n",
       "Education_Level    4.482955e-01              5.037677e-01   \n",
       "Marital_Status     2.613670e-04              1.391759e-02   \n",
       "Income_Category    7.162656e-09              3.224772e-01   \n",
       "\n",
       "                 Months_Inactive_12_mon  Contacts_Count_12_mon  \\\n",
       "Attrition_Flag             1.615520e-82          1.776986e-123   \n",
       "Gender                     1.444306e-01           2.576879e-07   \n",
       "Education_Level            7.923841e-01           9.960346e-01   \n",
       "Marital_Status             3.563159e-01           3.590232e-01   \n",
       "Income_Category            4.392186e-02           8.151353e-02   \n",
       "\n",
       "                 Total_Revolving_Bal  Total_Trans_Amt  Total_Trans_Ct  \n",
       "Attrition_Flag          1.684903e-38     4.501517e-62    0.000000e+00  \n",
       "Gender                  6.319001e-01     5.340260e-05    1.231593e-34  \n",
       "Education_Level         7.300302e-01     7.041956e-01    7.942810e-01  \n",
       "Marital_Status          9.805379e-01     2.560844e-02    7.644927e-21  \n",
       "Income_Category         2.181298e-01     6.623665e-04    2.364812e-07  "
      ]
     },
     "execution_count": 29,
     "metadata": {},
     "output_type": "execute_result"
    }
   ],
   "source": [
    "p_values.head()"
   ]
  },
  {
   "cell_type": "code",
   "execution_count": 30,
   "id": "c1e854d8",
   "metadata": {
    "execution": {
     "iopub.execute_input": "2021-09-30T08:25:36.815468Z",
     "iopub.status.busy": "2021-09-30T08:25:36.791600Z",
     "iopub.status.idle": "2021-09-30T08:25:37.330428Z",
     "shell.execute_reply": "2021-09-30T08:25:37.329840Z",
     "shell.execute_reply.started": "2021-09-30T08:23:52.687568Z"
    },
    "papermill": {
     "duration": 0.646281,
     "end_time": "2021-09-30T08:25:37.330588",
     "exception": false,
     "start_time": "2021-09-30T08:25:36.684307",
     "status": "completed"
    },
    "tags": []
   },
   "outputs": [
    {
     "data": {
      "image/png": "[encoded data removed]",
      "text/plain": [
       "<Figure size 432x288 with 2 Axes>"
      ]
     },
     "metadata": {
      "needs_background": "light"
     },
     "output_type": "display_data"
    }
   ],
   "source": [
    "# mask\n",
    "mask = np.triu(np.ones_like(p_values, dtype=np.bool))\n",
    "sns.heatmap(1 - p_values, mask=mask, fmt=\".2f\", cmap='Blues',\n",
    "           vmin=0.9, vmax=1, cbar_kws={\"shrink\": .8})\n",
    "# yticks\n",
    "plt.yticks(rotation=0)\n",
    "plt.show()"
   ]
  },
  {
   "cell_type": "code",
   "execution_count": 31,
   "id": "4bc9333f",
   "metadata": {
    "execution": {
     "iopub.execute_input": "2021-09-30T08:25:37.517248Z",
     "iopub.status.busy": "2021-09-30T08:25:37.516564Z",
     "iopub.status.idle": "2021-09-30T08:25:37.523616Z",
     "shell.execute_reply": "2021-09-30T08:25:37.522999Z",
     "shell.execute_reply.started": "2021-09-30T08:23:53.211062Z"
    },
    "papermill": {
     "duration": 0.116252,
     "end_time": "2021-09-30T08:25:37.523769",
     "exception": false,
     "start_time": "2021-09-30T08:25:37.407517",
     "status": "completed"
    },
    "tags": []
   },
   "outputs": [
    {
     "data": {
      "text/html": [
       "<div>\n",
       "<style scoped>\n",
       "    .dataframe tbody tr th:only-of-type {\n",
       "        vertical-align: middle;\n",
       "    }\n",
       "\n",
       "    .dataframe tbody tr th {\n",
       "        vertical-align: top;\n",
       "    }\n",
       "\n",
       "    .dataframe thead th {\n",
       "        text-align: right;\n",
       "    }\n",
       "</style>\n",
       "<table border=\"1\" class=\"dataframe\">\n",
       "  <thead>\n",
       "    <tr style=\"text-align: right;\">\n",
       "      <th></th>\n",
       "      <th>Attrition_Flag</th>\n",
       "      <th>Gender</th>\n",
       "      <th>Education_Level</th>\n",
       "      <th>Marital_Status</th>\n",
       "      <th>Income_Category</th>\n",
       "      <th>Card_Category</th>\n",
       "      <th>Customer_Age_period</th>\n",
       "      <th>Months_on_book_Period</th>\n",
       "      <th>Customer_Age</th>\n",
       "      <th>Dependent_count</th>\n",
       "      <th>Months_on_book</th>\n",
       "      <th>Total_Relationship_Count</th>\n",
       "      <th>Months_Inactive_12_mon</th>\n",
       "      <th>Contacts_Count_12_mon</th>\n",
       "      <th>Total_Revolving_Bal</th>\n",
       "      <th>Total_Trans_Amt</th>\n",
       "      <th>Total_Trans_Ct</th>\n",
       "    </tr>\n",
       "  </thead>\n",
       "  <tbody>\n",
       "    <tr>\n",
       "      <th>Attrition_Flag</th>\n",
       "      <td>1.000000</td>\n",
       "      <td>0.999804</td>\n",
       "      <td>0.948511</td>\n",
       "      <td>0.891087</td>\n",
       "      <td>0.974998</td>\n",
       "      <td>0.474762</td>\n",
       "      <td>0.950764</td>\n",
       "      <td>0.706655</td>\n",
       "      <td>0.979171</td>\n",
       "      <td>0.908495</td>\n",
       "      <td>0.942571</td>\n",
       "      <td>1.000000</td>\n",
       "      <td>1.000000</td>\n",
       "      <td>1.000000</td>\n",
       "      <td>1.000000</td>\n",
       "      <td>1.000000</td>\n",
       "      <td>1.000000</td>\n",
       "    </tr>\n",
       "    <tr>\n",
       "      <th>Gender</th>\n",
       "      <td>0.999804</td>\n",
       "      <td>1.000000</td>\n",
       "      <td>0.705021</td>\n",
       "      <td>0.724762</td>\n",
       "      <td>1.000000</td>\n",
       "      <td>1.000000</td>\n",
       "      <td>0.835340</td>\n",
       "      <td>0.275275</td>\n",
       "      <td>0.725673</td>\n",
       "      <td>0.410739</td>\n",
       "      <td>0.278585</td>\n",
       "      <td>0.506686</td>\n",
       "      <td>0.855569</td>\n",
       "      <td>1.000000</td>\n",
       "      <td>0.368100</td>\n",
       "      <td>0.999947</td>\n",
       "      <td>1.000000</td>\n",
       "    </tr>\n",
       "    <tr>\n",
       "      <th>Education_Level</th>\n",
       "      <td>0.948511</td>\n",
       "      <td>0.705021</td>\n",
       "      <td>1.000000</td>\n",
       "      <td>0.745486</td>\n",
       "      <td>0.963447</td>\n",
       "      <td>0.519659</td>\n",
       "      <td>0.999545</td>\n",
       "      <td>0.614885</td>\n",
       "      <td>0.918442</td>\n",
       "      <td>0.535299</td>\n",
       "      <td>0.551704</td>\n",
       "      <td>0.496232</td>\n",
       "      <td>0.207616</td>\n",
       "      <td>0.003965</td>\n",
       "      <td>0.269970</td>\n",
       "      <td>0.295804</td>\n",
       "      <td>0.205719</td>\n",
       "    </tr>\n",
       "    <tr>\n",
       "      <th>Marital_Status</th>\n",
       "      <td>0.891087</td>\n",
       "      <td>0.724762</td>\n",
       "      <td>0.745486</td>\n",
       "      <td>1.000000</td>\n",
       "      <td>0.689215</td>\n",
       "      <td>0.999820</td>\n",
       "      <td>1.000000</td>\n",
       "      <td>1.000000</td>\n",
       "      <td>1.000000</td>\n",
       "      <td>0.999999</td>\n",
       "      <td>0.999739</td>\n",
       "      <td>0.986082</td>\n",
       "      <td>0.643684</td>\n",
       "      <td>0.640977</td>\n",
       "      <td>0.019462</td>\n",
       "      <td>0.974392</td>\n",
       "      <td>1.000000</td>\n",
       "    </tr>\n",
       "    <tr>\n",
       "      <th>Income_Category</th>\n",
       "      <td>0.974998</td>\n",
       "      <td>1.000000</td>\n",
       "      <td>0.963447</td>\n",
       "      <td>0.689215</td>\n",
       "      <td>1.000000</td>\n",
       "      <td>1.000000</td>\n",
       "      <td>1.000000</td>\n",
       "      <td>1.000000</td>\n",
       "      <td>1.000000</td>\n",
       "      <td>1.000000</td>\n",
       "      <td>1.000000</td>\n",
       "      <td>0.677523</td>\n",
       "      <td>0.956078</td>\n",
       "      <td>0.918486</td>\n",
       "      <td>0.781870</td>\n",
       "      <td>0.999338</td>\n",
       "      <td>1.000000</td>\n",
       "    </tr>\n",
       "    <tr>\n",
       "      <th>Card_Category</th>\n",
       "      <td>0.474762</td>\n",
       "      <td>1.000000</td>\n",
       "      <td>0.519659</td>\n",
       "      <td>0.999820</td>\n",
       "      <td>1.000000</td>\n",
       "      <td>1.000000</td>\n",
       "      <td>0.995348</td>\n",
       "      <td>0.550699</td>\n",
       "      <td>0.943848</td>\n",
       "      <td>0.942470</td>\n",
       "      <td>0.130411</td>\n",
       "      <td>1.000000</td>\n",
       "      <td>0.345142</td>\n",
       "      <td>0.726325</td>\n",
       "      <td>0.997921</td>\n",
       "      <td>1.000000</td>\n",
       "      <td>1.000000</td>\n",
       "    </tr>\n",
       "    <tr>\n",
       "      <th>Customer_Age_period</th>\n",
       "      <td>0.950764</td>\n",
       "      <td>0.835340</td>\n",
       "      <td>0.999545</td>\n",
       "      <td>1.000000</td>\n",
       "      <td>1.000000</td>\n",
       "      <td>0.995348</td>\n",
       "      <td>1.000000</td>\n",
       "      <td>1.000000</td>\n",
       "      <td>1.000000</td>\n",
       "      <td>1.000000</td>\n",
       "      <td>1.000000</td>\n",
       "      <td>1.000000</td>\n",
       "      <td>1.000000</td>\n",
       "      <td>1.000000</td>\n",
       "      <td>0.831365</td>\n",
       "      <td>0.996773</td>\n",
       "      <td>1.000000</td>\n",
       "    </tr>\n",
       "    <tr>\n",
       "      <th>Months_on_book_Period</th>\n",
       "      <td>0.706655</td>\n",
       "      <td>0.275275</td>\n",
       "      <td>0.614885</td>\n",
       "      <td>1.000000</td>\n",
       "      <td>1.000000</td>\n",
       "      <td>0.550699</td>\n",
       "      <td>1.000000</td>\n",
       "      <td>1.000000</td>\n",
       "      <td>1.000000</td>\n",
       "      <td>1.000000</td>\n",
       "      <td>1.000000</td>\n",
       "      <td>0.859321</td>\n",
       "      <td>1.000000</td>\n",
       "      <td>0.993896</td>\n",
       "      <td>0.434101</td>\n",
       "      <td>0.997590</td>\n",
       "      <td>0.998611</td>\n",
       "    </tr>\n",
       "    <tr>\n",
       "      <th>Customer_Age</th>\n",
       "      <td>0.979171</td>\n",
       "      <td>0.725673</td>\n",
       "      <td>0.918442</td>\n",
       "      <td>1.000000</td>\n",
       "      <td>1.000000</td>\n",
       "      <td>0.943848</td>\n",
       "      <td>1.000000</td>\n",
       "      <td>1.000000</td>\n",
       "      <td>1.000000</td>\n",
       "      <td>1.000000</td>\n",
       "      <td>1.000000</td>\n",
       "      <td>0.999234</td>\n",
       "      <td>1.000000</td>\n",
       "      <td>0.998321</td>\n",
       "      <td>1.000000</td>\n",
       "      <td>0.975677</td>\n",
       "      <td>1.000000</td>\n",
       "    </tr>\n",
       "    <tr>\n",
       "      <th>Dependent_count</th>\n",
       "      <td>0.908495</td>\n",
       "      <td>0.410739</td>\n",
       "      <td>0.535299</td>\n",
       "      <td>0.999999</td>\n",
       "      <td>1.000000</td>\n",
       "      <td>0.942470</td>\n",
       "      <td>1.000000</td>\n",
       "      <td>1.000000</td>\n",
       "      <td>1.000000</td>\n",
       "      <td>1.000000</td>\n",
       "      <td>1.000000</td>\n",
       "      <td>0.988428</td>\n",
       "      <td>0.227206</td>\n",
       "      <td>0.963174</td>\n",
       "      <td>0.959877</td>\n",
       "      <td>0.811796</td>\n",
       "      <td>0.938472</td>\n",
       "    </tr>\n",
       "    <tr>\n",
       "      <th>Months_on_book</th>\n",
       "      <td>0.942571</td>\n",
       "      <td>0.278585</td>\n",
       "      <td>0.551704</td>\n",
       "      <td>0.999739</td>\n",
       "      <td>1.000000</td>\n",
       "      <td>0.130411</td>\n",
       "      <td>1.000000</td>\n",
       "      <td>1.000000</td>\n",
       "      <td>1.000000</td>\n",
       "      <td>1.000000</td>\n",
       "      <td>1.000000</td>\n",
       "      <td>0.745552</td>\n",
       "      <td>1.000000</td>\n",
       "      <td>0.881049</td>\n",
       "      <td>0.094035</td>\n",
       "      <td>1.000000</td>\n",
       "      <td>0.550237</td>\n",
       "    </tr>\n",
       "    <tr>\n",
       "      <th>Total_Relationship_Count</th>\n",
       "      <td>1.000000</td>\n",
       "      <td>0.506686</td>\n",
       "      <td>0.496232</td>\n",
       "      <td>0.986082</td>\n",
       "      <td>0.677523</td>\n",
       "      <td>1.000000</td>\n",
       "      <td>1.000000</td>\n",
       "      <td>0.859321</td>\n",
       "      <td>0.999234</td>\n",
       "      <td>0.988428</td>\n",
       "      <td>0.745552</td>\n",
       "      <td>1.000000</td>\n",
       "      <td>0.350427</td>\n",
       "      <td>1.000000</td>\n",
       "      <td>0.385650</td>\n",
       "      <td>1.000000</td>\n",
       "      <td>1.000000</td>\n",
       "    </tr>\n",
       "    <tr>\n",
       "      <th>Months_Inactive_12_mon</th>\n",
       "      <td>1.000000</td>\n",
       "      <td>0.855569</td>\n",
       "      <td>0.207616</td>\n",
       "      <td>0.643684</td>\n",
       "      <td>0.956078</td>\n",
       "      <td>0.345142</td>\n",
       "      <td>1.000000</td>\n",
       "      <td>1.000000</td>\n",
       "      <td>1.000000</td>\n",
       "      <td>0.227206</td>\n",
       "      <td>1.000000</td>\n",
       "      <td>0.350427</td>\n",
       "      <td>1.000000</td>\n",
       "      <td>0.923063</td>\n",
       "      <td>0.359975</td>\n",
       "      <td>0.000040</td>\n",
       "      <td>0.745067</td>\n",
       "    </tr>\n",
       "    <tr>\n",
       "      <th>Contacts_Count_12_mon</th>\n",
       "      <td>1.000000</td>\n",
       "      <td>1.000000</td>\n",
       "      <td>0.003965</td>\n",
       "      <td>0.640977</td>\n",
       "      <td>0.918486</td>\n",
       "      <td>0.726325</td>\n",
       "      <td>1.000000</td>\n",
       "      <td>0.993896</td>\n",
       "      <td>0.998321</td>\n",
       "      <td>0.963174</td>\n",
       "      <td>0.881049</td>\n",
       "      <td>1.000000</td>\n",
       "      <td>0.923063</td>\n",
       "      <td>1.000000</td>\n",
       "      <td>0.000096</td>\n",
       "      <td>0.998853</td>\n",
       "      <td>1.000000</td>\n",
       "    </tr>\n",
       "    <tr>\n",
       "      <th>Total_Revolving_Bal</th>\n",
       "      <td>1.000000</td>\n",
       "      <td>0.368100</td>\n",
       "      <td>0.269970</td>\n",
       "      <td>0.019462</td>\n",
       "      <td>0.781870</td>\n",
       "      <td>0.997921</td>\n",
       "      <td>0.831365</td>\n",
       "      <td>0.434101</td>\n",
       "      <td>1.000000</td>\n",
       "      <td>0.959877</td>\n",
       "      <td>0.094035</td>\n",
       "      <td>0.385650</td>\n",
       "      <td>0.359975</td>\n",
       "      <td>0.000096</td>\n",
       "      <td>1.000000</td>\n",
       "      <td>0.000000</td>\n",
       "      <td>0.003520</td>\n",
       "    </tr>\n",
       "    <tr>\n",
       "      <th>Total_Trans_Amt</th>\n",
       "      <td>1.000000</td>\n",
       "      <td>0.999947</td>\n",
       "      <td>0.295804</td>\n",
       "      <td>0.974392</td>\n",
       "      <td>0.999338</td>\n",
       "      <td>1.000000</td>\n",
       "      <td>0.996773</td>\n",
       "      <td>0.997590</td>\n",
       "      <td>0.975677</td>\n",
       "      <td>0.811796</td>\n",
       "      <td>1.000000</td>\n",
       "      <td>1.000000</td>\n",
       "      <td>0.000040</td>\n",
       "      <td>0.998853</td>\n",
       "      <td>0.000000</td>\n",
       "      <td>1.000000</td>\n",
       "      <td>1.000000</td>\n",
       "    </tr>\n",
       "    <tr>\n",
       "      <th>Total_Trans_Ct</th>\n",
       "      <td>1.000000</td>\n",
       "      <td>1.000000</td>\n",
       "      <td>0.205719</td>\n",
       "      <td>1.000000</td>\n",
       "      <td>1.000000</td>\n",
       "      <td>1.000000</td>\n",
       "      <td>1.000000</td>\n",
       "      <td>0.998611</td>\n",
       "      <td>1.000000</td>\n",
       "      <td>0.938472</td>\n",
       "      <td>0.550237</td>\n",
       "      <td>1.000000</td>\n",
       "      <td>0.745067</td>\n",
       "      <td>1.000000</td>\n",
       "      <td>0.003520</td>\n",
       "      <td>1.000000</td>\n",
       "      <td>1.000000</td>\n",
       "    </tr>\n",
       "  </tbody>\n",
       "</table>\n",
       "</div>"
      ],
      "text/plain": [
       "                          Attrition_Flag    Gender  Education_Level  \\\n",
       "Attrition_Flag                  1.000000  0.999804         0.948511   \n",
       "Gender                          0.999804  1.000000         0.705021   \n",
       "Education_Level                 0.948511  0.705021         1.000000   \n",
       "Marital_Status                  0.891087  0.724762         0.745486   \n",
       "Income_Category                 0.974998  1.000000         0.963447   \n",
       "Card_Category                   0.474762  1.000000         0.519659   \n",
       "Customer_Age_period             0.950764  0.835340         0.999545   \n",
       "Months_on_book_Period           0.706655  0.275275         0.614885   \n",
       "Customer_Age                    0.979171  0.725673         0.918442   \n",
       "Dependent_count                 0.908495  0.410739         0.535299   \n",
       "Months_on_book                  0.942571  0.278585         0.551704   \n",
       "Total_Relationship_Count        1.000000  0.506686         0.496232   \n",
       "Months_Inactive_12_mon          1.000000  0.855569         0.207616   \n",
       "Contacts_Count_12_mon           1.000000  1.000000         0.003965   \n",
       "Total_Revolving_Bal             1.000000  0.368100         0.269970   \n",
       "Total_Trans_Amt                 1.000000  0.999947         0.295804   \n",
       "Total_Trans_Ct                  1.000000  1.000000         0.205719   \n",
       "\n",
       "                          Marital_Status  Income_Category  Card_Category  \\\n",
       "Attrition_Flag                  0.891087         0.974998       0.474762   \n",
       "Gender                          0.724762         1.000000       1.000000   \n",
       "Education_Level                 0.745486         0.963447       0.519659   \n",
       "Marital_Status                  1.000000         0.689215       0.999820   \n",
       "Income_Category                 0.689215         1.000000       1.000000   \n",
       "Card_Category                   0.999820         1.000000       1.000000   \n",
       "Customer_Age_period             1.000000         1.000000       0.995348   \n",
       "Months_on_book_Period           1.000000         1.000000       0.550699   \n",
       "Customer_Age                    1.000000         1.000000       0.943848   \n",
       "Dependent_count                 0.999999         1.000000       0.942470   \n",
       "Months_on_book                  0.999739         1.000000       0.130411   \n",
       "Total_Relationship_Count        0.986082         0.677523       1.000000   \n",
       "Months_Inactive_12_mon          0.643684         0.956078       0.345142   \n",
       "Contacts_Count_12_mon           0.640977         0.918486       0.726325   \n",
       "Total_Revolving_Bal             0.019462         0.781870       0.997921   \n",
       "Total_Trans_Amt                 0.974392         0.999338       1.000000   \n",
       "Total_Trans_Ct                  1.000000         1.000000       1.000000   \n",
       "\n",
       "                          Customer_Age_period  Months_on_book_Period  \\\n",
       "Attrition_Flag                       0.950764               0.706655   \n",
       "Gender                               0.835340               0.275275   \n",
       "Education_Level                      0.999545               0.614885   \n",
       "Marital_Status                       1.000000               1.000000   \n",
       "Income_Category                      1.000000               1.000000   \n",
       "Card_Category                        0.995348               0.550699   \n",
       "Customer_Age_period                  1.000000               1.000000   \n",
       "Months_on_book_Period                1.000000               1.000000   \n",
       "Customer_Age                         1.000000               1.000000   \n",
       "Dependent_count                      1.000000               1.000000   \n",
       "Months_on_book                       1.000000               1.000000   \n",
       "Total_Relationship_Count             1.000000               0.859321   \n",
       "Months_Inactive_12_mon               1.000000               1.000000   \n",
       "Contacts_Count_12_mon                1.000000               0.993896   \n",
       "Total_Revolving_Bal                  0.831365               0.434101   \n",
       "Total_Trans_Amt                      0.996773               0.997590   \n",
       "Total_Trans_Ct                       1.000000               0.998611   \n",
       "\n",
       "                          Customer_Age  Dependent_count  Months_on_book  \\\n",
       "Attrition_Flag                0.979171         0.908495        0.942571   \n",
       "Gender                        0.725673         0.410739        0.278585   \n",
       "Education_Level               0.918442         0.535299        0.551704   \n",
       "Marital_Status                1.000000         0.999999        0.999739   \n",
       "Income_Category               1.000000         1.000000        1.000000   \n",
       "Card_Category                 0.943848         0.942470        0.130411   \n",
       "Customer_Age_period           1.000000         1.000000        1.000000   \n",
       "Months_on_book_Period         1.000000         1.000000        1.000000   \n",
       "Customer_Age                  1.000000         1.000000        1.000000   \n",
       "Dependent_count               1.000000         1.000000        1.000000   \n",
       "Months_on_book                1.000000         1.000000        1.000000   \n",
       "Total_Relationship_Count      0.999234         0.988428        0.745552   \n",
       "Months_Inactive_12_mon        1.000000         0.227206        1.000000   \n",
       "Contacts_Count_12_mon         0.998321         0.963174        0.881049   \n",
       "Total_Revolving_Bal           1.000000         0.959877        0.094035   \n",
       "Total_Trans_Amt               0.975677         0.811796        1.000000   \n",
       "Total_Trans_Ct                1.000000         0.938472        0.550237   \n",
       "\n",
       "                          Total_Relationship_Count  Months_Inactive_12_mon  \\\n",
       "Attrition_Flag                            1.000000                1.000000   \n",
       "Gender                                    0.506686                0.855569   \n",
       "Education_Level                           0.496232                0.207616   \n",
       "Marital_Status                            0.986082                0.643684   \n",
       "Income_Category                           0.677523                0.956078   \n",
       "Card_Category                             1.000000                0.345142   \n",
       "Customer_Age_period                       1.000000                1.000000   \n",
       "Months_on_book_Period                     0.859321                1.000000   \n",
       "Customer_Age                              0.999234                1.000000   \n",
       "Dependent_count                           0.988428                0.227206   \n",
       "Months_on_book                            0.745552                1.000000   \n",
       "Total_Relationship_Count                  1.000000                0.350427   \n",
       "Months_Inactive_12_mon                    0.350427                1.000000   \n",
       "Contacts_Count_12_mon                     1.000000                0.923063   \n",
       "Total_Revolving_Bal                       0.385650                0.359975   \n",
       "Total_Trans_Amt                           1.000000                0.000040   \n",
       "Total_Trans_Ct                            1.000000                0.745067   \n",
       "\n",
       "                          Contacts_Count_12_mon  Total_Revolving_Bal  \\\n",
       "Attrition_Flag                         1.000000             1.000000   \n",
       "Gender                                 1.000000             0.368100   \n",
       "Education_Level                        0.003965             0.269970   \n",
       "Marital_Status                         0.640977             0.019462   \n",
       "Income_Category                        0.918486             0.781870   \n",
       "Card_Category                          0.726325             0.997921   \n",
       "Customer_Age_period                    1.000000             0.831365   \n",
       "Months_on_book_Period                  0.993896             0.434101   \n",
       "Customer_Age                           0.998321             1.000000   \n",
       "Dependent_count                        0.963174             0.959877   \n",
       "Months_on_book                         0.881049             0.094035   \n",
       "Total_Relationship_Count               1.000000             0.385650   \n",
       "Months_Inactive_12_mon                 0.923063             0.359975   \n",
       "Contacts_Count_12_mon                  1.000000             0.000096   \n",
       "Total_Revolving_Bal                    0.000096             1.000000   \n",
       "Total_Trans_Amt                        0.998853             0.000000   \n",
       "Total_Trans_Ct                         1.000000             0.003520   \n",
       "\n",
       "                          Total_Trans_Amt  Total_Trans_Ct  \n",
       "Attrition_Flag                   1.000000        1.000000  \n",
       "Gender                           0.999947        1.000000  \n",
       "Education_Level                  0.295804        0.205719  \n",
       "Marital_Status                   0.974392        1.000000  \n",
       "Income_Category                  0.999338        1.000000  \n",
       "Card_Category                    1.000000        1.000000  \n",
       "Customer_Age_period              0.996773        1.000000  \n",
       "Months_on_book_Period            0.997590        0.998611  \n",
       "Customer_Age                     0.975677        1.000000  \n",
       "Dependent_count                  0.811796        0.938472  \n",
       "Months_on_book                   1.000000        0.550237  \n",
       "Total_Relationship_Count         1.000000        1.000000  \n",
       "Months_Inactive_12_mon           0.000040        0.745067  \n",
       "Contacts_Count_12_mon            0.998853        1.000000  \n",
       "Total_Revolving_Bal              0.000000        0.003520  \n",
       "Total_Trans_Amt                  1.000000        1.000000  \n",
       "Total_Trans_Ct                   1.000000        1.000000  "
      ]
     },
     "execution_count": 31,
     "metadata": {},
     "output_type": "execute_result"
    }
   ],
   "source": [
    "1 - p_values"
   ]
  },
  {
   "cell_type": "markdown",
   "id": "8d21c02b",
   "metadata": {
    "papermill": {
     "duration": 0.076108,
     "end_time": "2021-09-30T08:25:37.675148",
     "exception": false,
     "start_time": "2021-09-30T08:25:37.599040",
     "status": "completed"
    },
    "tags": []
   },
   "source": [
    "In the table and heatmap above we can see that there is a dependency likelihood between `Attrition_Flag` and some of the other features. The table above is 1-p_value, so the closer to 1 the greater liklihood for dependency. For example, `Customer_Age` has 0.979 likelihood to be dependent with *Target* whereas `Customer_Age_period` has only 0.95, therefore I will use `Customer_Age` and discard `Customer_Age_period` that I've created previously. `Gender` and the five last features has a bigger likelihood for being dependent with `Attrition_Flag`\n"
   ]
  },
  {
   "cell_type": "code",
   "execution_count": 32,
   "id": "8362f066",
   "metadata": {
    "execution": {
     "iopub.execute_input": "2021-09-30T08:25:37.837741Z",
     "iopub.status.busy": "2021-09-30T08:25:37.830853Z",
     "iopub.status.idle": "2021-09-30T08:25:37.895674Z",
     "shell.execute_reply": "2021-09-30T08:25:37.895092Z",
     "shell.execute_reply.started": "2021-09-30T08:23:53.245106Z"
    },
    "papermill": {
     "duration": 0.144154,
     "end_time": "2021-09-30T08:25:37.895831",
     "exception": false,
     "start_time": "2021-09-30T08:25:37.751677",
     "status": "completed"
    },
    "tags": []
   },
   "outputs": [
    {
     "data": {
      "text/html": [
       "<div>\n",
       "<style scoped>\n",
       "    .dataframe tbody tr th:only-of-type {\n",
       "        vertical-align: middle;\n",
       "    }\n",
       "\n",
       "    .dataframe tbody tr th {\n",
       "        vertical-align: top;\n",
       "    }\n",
       "\n",
       "    .dataframe thead th {\n",
       "        text-align: right;\n",
       "    }\n",
       "</style>\n",
       "<table border=\"1\" class=\"dataframe\">\n",
       "  <thead>\n",
       "    <tr style=\"text-align: right;\">\n",
       "      <th></th>\n",
       "      <th>Customer_Age</th>\n",
       "      <th>Dependent_count</th>\n",
       "      <th>Months_on_book</th>\n",
       "      <th>Total_Relationship_Count</th>\n",
       "      <th>Months_Inactive_12_mon</th>\n",
       "      <th>Contacts_Count_12_mon</th>\n",
       "      <th>Credit_Limit</th>\n",
       "      <th>Total_Revolving_Bal</th>\n",
       "      <th>Avg_Open_To_Buy</th>\n",
       "      <th>Total_Amt_Chng_Q4_Q1</th>\n",
       "      <th>Total_Trans_Amt</th>\n",
       "      <th>Total_Trans_Ct</th>\n",
       "      <th>Total_Ct_Chng_Q4_Q1</th>\n",
       "      <th>Avg_Utilization_Ratio</th>\n",
       "    </tr>\n",
       "  </thead>\n",
       "  <tbody>\n",
       "    <tr>\n",
       "      <th>count</th>\n",
       "      <td>10127.000000</td>\n",
       "      <td>10127.000000</td>\n",
       "      <td>10127.000000</td>\n",
       "      <td>10127.000000</td>\n",
       "      <td>10127.000000</td>\n",
       "      <td>10127.000000</td>\n",
       "      <td>10127.000000</td>\n",
       "      <td>10127.000000</td>\n",
       "      <td>10127.000000</td>\n",
       "      <td>10127.000000</td>\n",
       "      <td>10127.000000</td>\n",
       "      <td>10127.000000</td>\n",
       "      <td>10127.000000</td>\n",
       "      <td>10127.000000</td>\n",
       "    </tr>\n",
       "    <tr>\n",
       "      <th>mean</th>\n",
       "      <td>46.325960</td>\n",
       "      <td>2.346203</td>\n",
       "      <td>35.928409</td>\n",
       "      <td>3.812580</td>\n",
       "      <td>2.341167</td>\n",
       "      <td>2.455317</td>\n",
       "      <td>8631.953698</td>\n",
       "      <td>1162.814061</td>\n",
       "      <td>7469.139637</td>\n",
       "      <td>0.759941</td>\n",
       "      <td>4404.086304</td>\n",
       "      <td>64.858695</td>\n",
       "      <td>0.712222</td>\n",
       "      <td>0.274894</td>\n",
       "    </tr>\n",
       "    <tr>\n",
       "      <th>std</th>\n",
       "      <td>8.016814</td>\n",
       "      <td>1.298908</td>\n",
       "      <td>7.986416</td>\n",
       "      <td>1.554408</td>\n",
       "      <td>1.010622</td>\n",
       "      <td>1.106225</td>\n",
       "      <td>9088.776650</td>\n",
       "      <td>814.987335</td>\n",
       "      <td>9090.685324</td>\n",
       "      <td>0.219207</td>\n",
       "      <td>3397.129254</td>\n",
       "      <td>23.472570</td>\n",
       "      <td>0.238086</td>\n",
       "      <td>0.275691</td>\n",
       "    </tr>\n",
       "    <tr>\n",
       "      <th>min</th>\n",
       "      <td>26.000000</td>\n",
       "      <td>0.000000</td>\n",
       "      <td>13.000000</td>\n",
       "      <td>1.000000</td>\n",
       "      <td>0.000000</td>\n",
       "      <td>0.000000</td>\n",
       "      <td>1438.300000</td>\n",
       "      <td>0.000000</td>\n",
       "      <td>3.000000</td>\n",
       "      <td>0.000000</td>\n",
       "      <td>510.000000</td>\n",
       "      <td>10.000000</td>\n",
       "      <td>0.000000</td>\n",
       "      <td>0.000000</td>\n",
       "    </tr>\n",
       "    <tr>\n",
       "      <th>25%</th>\n",
       "      <td>41.000000</td>\n",
       "      <td>1.000000</td>\n",
       "      <td>31.000000</td>\n",
       "      <td>3.000000</td>\n",
       "      <td>2.000000</td>\n",
       "      <td>2.000000</td>\n",
       "      <td>2555.000000</td>\n",
       "      <td>359.000000</td>\n",
       "      <td>1324.500000</td>\n",
       "      <td>0.631000</td>\n",
       "      <td>2155.500000</td>\n",
       "      <td>45.000000</td>\n",
       "      <td>0.582000</td>\n",
       "      <td>0.023000</td>\n",
       "    </tr>\n",
       "    <tr>\n",
       "      <th>50%</th>\n",
       "      <td>46.000000</td>\n",
       "      <td>2.000000</td>\n",
       "      <td>36.000000</td>\n",
       "      <td>4.000000</td>\n",
       "      <td>2.000000</td>\n",
       "      <td>2.000000</td>\n",
       "      <td>4549.000000</td>\n",
       "      <td>1276.000000</td>\n",
       "      <td>3474.000000</td>\n",
       "      <td>0.736000</td>\n",
       "      <td>3899.000000</td>\n",
       "      <td>67.000000</td>\n",
       "      <td>0.702000</td>\n",
       "      <td>0.176000</td>\n",
       "    </tr>\n",
       "    <tr>\n",
       "      <th>75%</th>\n",
       "      <td>52.000000</td>\n",
       "      <td>3.000000</td>\n",
       "      <td>40.000000</td>\n",
       "      <td>5.000000</td>\n",
       "      <td>3.000000</td>\n",
       "      <td>3.000000</td>\n",
       "      <td>11067.500000</td>\n",
       "      <td>1784.000000</td>\n",
       "      <td>9859.000000</td>\n",
       "      <td>0.859000</td>\n",
       "      <td>4741.000000</td>\n",
       "      <td>81.000000</td>\n",
       "      <td>0.818000</td>\n",
       "      <td>0.503000</td>\n",
       "    </tr>\n",
       "    <tr>\n",
       "      <th>max</th>\n",
       "      <td>73.000000</td>\n",
       "      <td>5.000000</td>\n",
       "      <td>56.000000</td>\n",
       "      <td>6.000000</td>\n",
       "      <td>6.000000</td>\n",
       "      <td>6.000000</td>\n",
       "      <td>34516.000000</td>\n",
       "      <td>2517.000000</td>\n",
       "      <td>34516.000000</td>\n",
       "      <td>3.397000</td>\n",
       "      <td>18484.000000</td>\n",
       "      <td>139.000000</td>\n",
       "      <td>3.714000</td>\n",
       "      <td>0.999000</td>\n",
       "    </tr>\n",
       "  </tbody>\n",
       "</table>\n",
       "</div>"
      ],
      "text/plain": [
       "       Customer_Age  Dependent_count  Months_on_book  \\\n",
       "count  10127.000000     10127.000000    10127.000000   \n",
       "mean      46.325960         2.346203       35.928409   \n",
       "std        8.016814         1.298908        7.986416   \n",
       "min       26.000000         0.000000       13.000000   \n",
       "25%       41.000000         1.000000       31.000000   \n",
       "50%       46.000000         2.000000       36.000000   \n",
       "75%       52.000000         3.000000       40.000000   \n",
       "max       73.000000         5.000000       56.000000   \n",
       "\n",
       "       Total_Relationship_Count  Months_Inactive_12_mon  \\\n",
       "count              10127.000000            10127.000000   \n",
       "mean                   3.812580                2.341167   \n",
       "std                    1.554408                1.010622   \n",
       "min                    1.000000                0.000000   \n",
       "25%                    3.000000                2.000000   \n",
       "50%                    4.000000                2.000000   \n",
       "75%                    5.000000                3.000000   \n",
       "max                    6.000000                6.000000   \n",
       "\n",
       "       Contacts_Count_12_mon  Credit_Limit  Total_Revolving_Bal  \\\n",
       "count           10127.000000  10127.000000         10127.000000   \n",
       "mean                2.455317   8631.953698          1162.814061   \n",
       "std                 1.106225   9088.776650           814.987335   \n",
       "min                 0.000000   1438.300000             0.000000   \n",
       "25%                 2.000000   2555.000000           359.000000   \n",
       "50%                 2.000000   4549.000000          1276.000000   \n",
       "75%                 3.000000  11067.500000          1784.000000   \n",
       "max                 6.000000  34516.000000          2517.000000   \n",
       "\n",
       "       Avg_Open_To_Buy  Total_Amt_Chng_Q4_Q1  Total_Trans_Amt  Total_Trans_Ct  \\\n",
       "count     10127.000000          10127.000000     10127.000000    10127.000000   \n",
       "mean       7469.139637              0.759941      4404.086304       64.858695   \n",
       "std        9090.685324              0.219207      3397.129254       23.472570   \n",
       "min           3.000000              0.000000       510.000000       10.000000   \n",
       "25%        1324.500000              0.631000      2155.500000       45.000000   \n",
       "50%        3474.000000              0.736000      3899.000000       67.000000   \n",
       "75%        9859.000000              0.859000      4741.000000       81.000000   \n",
       "max       34516.000000              3.397000     18484.000000      139.000000   \n",
       "\n",
       "       Total_Ct_Chng_Q4_Q1  Avg_Utilization_Ratio  \n",
       "count         10127.000000           10127.000000  \n",
       "mean              0.712222               0.274894  \n",
       "std               0.238086               0.275691  \n",
       "min               0.000000               0.000000  \n",
       "25%               0.582000               0.023000  \n",
       "50%               0.702000               0.176000  \n",
       "75%               0.818000               0.503000  \n",
       "max               3.714000               0.999000  "
      ]
     },
     "execution_count": 32,
     "metadata": {},
     "output_type": "execute_result"
    }
   ],
   "source": [
    "customer_data.describe()"
   ]
  }
 ],
 "metadata": {
  "kernelspec": {
   "display_name": "Python 3 (ipykernel)",
   "language": "python",
   "name": "python3"
  },
  "language_info": {
   "codemirror_mode": {
    "name": "ipython",
    "version": 3
   },
   "file_extension": ".py",
   "mimetype": "text/x-python",
   "name": "python",
   "nbconvert_exporter": "python",
   "pygments_lexer": "ipython3",
   "version": "3.8.12"
  },
  "papermill": {
   "default_parameters": {},
   "duration": 61.912586,
   "end_time": "2021-09-30T08:25:45.945091",
   "environment_variables": {},
   "exception": null,
   "input_path": "__notebook__.ipynb",
   "output_path": "__notebook__.ipynb",
   "parameters": {},
   "start_time": "2021-09-30T08:24:44.032505",
   "version": "2.3.3"
  }
 },
 "nbformat": 4,
 "nbformat_minor": 5
}

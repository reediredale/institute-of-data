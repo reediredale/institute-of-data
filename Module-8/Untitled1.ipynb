{
 "cells": [
  {
   "cell_type": "code",
   "execution_count": null,
   "id": "1a3d9289-eed3-462d-b755-93d12993e756",
   "metadata": {},
   "outputs": [],
   "source": []
  },
  {
   "cell_type": "code",
   "execution_count": 74,
   "id": "6551ae83-29f2-4ab1-998f-a102a00fea3d",
   "metadata": {},
   "outputs": [],
   "source": [
    "## Import Libraries\n",
    "import regex as re\n",
    "\n",
    "from urllib.parse import unquote\n",
    "import urllib3\n",
    "from bs4 import BeautifulSoup\n",
    "from requests_html import HTMLSession\n",
    "import pandas as pd\n",
    "\n",
    "import warnings\n",
    "warnings.filterwarnings('ignore')"
   ]
  },
  {
   "cell_type": "code",
   "execution_count": 75,
   "id": "598f9590-799f-41dc-97ea-178a988fbe44",
   "metadata": {},
   "outputs": [],
   "source": [
    "quote_page = 'https://tmpfiles.org/dl/234075/product-list-craft-beer.html'"
   ]
  },
  {
   "cell_type": "code",
   "execution_count": 76,
   "id": "0f27b0c1-ba20-468c-8313-8bca218fa69e",
   "metadata": {},
   "outputs": [
    {
     "name": "stdout",
     "output_type": "stream",
     "text": [
      "Some problem occurred. Request Status: 404\n"
     ]
    }
   ],
   "source": [
    "# query the website and return the html to the variable ‘page’\n",
    "http = urllib3.PoolManager()\n",
    "r = http.request('GET', quote_page)\n",
    "if r.status == 200:\n",
    "    page = r.data\n",
    "    print('Type of the variable \\'page\\':', page.__class__.__name__)\n",
    "    print('Page Retrieved. Request Status: %d, Page Size: %d' % (r.status, len(page)))\n",
    "else:\n",
    "    print('Some problem occurred. Request Status: %s' % r.status)"
   ]
  },
  {
   "cell_type": "code",
   "execution_count": 77,
   "id": "4353db1a-5d45-4419-9d2e-cbd2640194f7",
   "metadata": {},
   "outputs": [
    {
     "name": "stdout",
     "output_type": "stream",
     "text": [
      "Type of the variable 'soup': BeautifulSoup\n"
     ]
    }
   ],
   "source": [
    "# parse the html using beautiful soup and store in variable `soup`\n",
    "soup = BeautifulSoup(page, 'html.parser')\n",
    "print('Type of the variable \\'soup\\':', soup.__class__.__name__)"
   ]
  },
  {
   "cell_type": "code",
   "execution_count": 78,
   "id": "c374de8f-5040-41fe-bf19-4057473bd526",
   "metadata": {},
   "outputs": [
    {
     "name": "stdout",
     "output_type": "stream",
     "text": [
      "<html>\n",
      " <head>\n",
      "  <title>\n",
      "   Craft Beer Products\n",
      "  </title>\n",
      "  <style>\n",
      "   body, a {\n",
      "        font-family:'Segoe UI', Tahoma, Geneva, Verdana, sans-serif;\n",
      "        font-size: 14px !important;\n",
      "    }\n",
      "    img, button, .badge-container, .no-of-reviews, .ribbon-wrapper {\n",
      "        display: none;\n",
      "    }\n",
      "    li {\n",
      "        width: 100%;\n",
      "    }\n",
      "    li:nth-of-type(odd) {\n",
      "        width: 100%;\n",
      "        background-color: #f2f2f2;\n",
      "    }\n",
      "    .product-content {\n",
      "        display: inline-flex;\n",
      "        justify-content: space-between;\n",
      "        width: 100%;\n",
      "        gap: 2em;\n",
      "    }\n",
      "\n",
      "    .product-content h2 a {display: flex;}\n",
      "\n",
      "    .product-content span {\n",
      "        /* margin-right: 3em; */\n",
      "        width: 220px;\n",
      "    }\n",
      "\n",
      "    .price-container, .card-view-price {\n",
      "        width: 300px;\n",
      "    }\n",
      "\n",
      "    .price-container span, .card-view-price span {\n",
      "        font-size: 11px;\n",
      "    }\n",
      "\n",
      "    .price-container *, .card-view-price * {\n",
      "        font-size: 11px;\n",
      "    }\n",
      "\n",
      "    .card-price span, .card-price, .price-container span {margin: 0;}\n",
      "\n",
      "    /* Turn on and off below */ \n",
      "\n",
      "     /* .card-view-price .offers-normal-tile, .card-view-price span:nth-of-type(2) , .subtitle, .out-of-stock, h2 a span, .promo-price, .price-container .price:nth-of-type(2), .promo-message, .connection-message-inner {\n",
      "        display: none;\n",
      "    } */\n",
      "/* \n",
      "    .font-din-condensed {display: block;} */\n",
      "  </style>\n",
      " </head>\n",
      " <body>\n",
      "  <ul _ngcontent-kpe-c44=\"\" class=\"row product-list ng-star-inserted\">\n",
      "   <div _ngcontent-kpe-c44=\"\" class=\"ng-star-inserted\">\n",
      "   </div>\n",
      "   <li>\n",
      "    <shop-product-card _ngcontent-kpe-c44=\"\" _nghost-kpe-c50=\"\" class=\"ng-tns-c50-44\">\n",
      "     <div class=\"product ng-tns-c50-44 ng-star-inserted\">\n",
      "      <section class=\"ng-tns-c50-44 ng-star-inserted\">\n",
      "       <div class=\"top-header mobile-app-event ng-tns-c50-44 ng-star-inserted\">\n",
      "        <shop-star-rating _nghost-kpe-c59=\"\" class=\"star-rating-container\" size=\"extra-small\">\n",
      "         <div _ngcontent-kpe-c59=\"\" class=\"star-rating extra-small\">\n",
      "          <span _ngcontent-kpe-c59=\"\" class=\"rating-icon checked icon-star ng-star-inserted\">\n",
      "          </span>\n",
      "          <span _ngcontent-kpe-c59=\"\" class=\"rating-icon checked icon-star ng-star-inserted\">\n",
      "          </span>\n",
      "          <span _ngcontent-kpe-c59=\"\" class=\"rating-icon checked icon-star ng-star-inserted\">\n",
      "          </span>\n",
      "          <span _ngcontent-kpe-c59=\"\" class=\"rating-icon checked icon-star ng-star-inserted\">\n",
      "          </span>\n",
      "          <span _ngcontent-kpe-c59=\"\" class=\"rating-icon icon-star ng-star-inserted\">\n",
      "           <span _ngcontent-kpe-c59=\"\" class=\"half-star-rating icon-star ng-star-inserted\" style=\"width: 43.22%;\">\n",
      "           </span>\n",
      "          </span>\n",
      "         </div>\n",
      "        </shop-star-rating>\n",
      "        <a class=\"no-of-reviews\" href=\"/product/DM_363586/stone-wood-pacific-ale-bottles-330ml\">\n",
      "         <span class=\"ng-tns-c50-44\">\n",
      "          (118\n",
      "          <span class=\"ng-tns-c50-44 ng-star-inserted\" hidden=\"\">\n",
      "           REVIEW\n",
      "          </span>\n",
      "          <span class=\"ng-tns-c50-44 ng-star-inserted\">\n",
      "           REVIEWS\n",
      "          </span>\n",
      "          )\n",
      "         </span>\n",
      "        </a>\n",
      "       </div>\n",
      "       <div class=\"connection-message-component\">\n",
      "       </div>\n",
      "       <div class=\"product-content default-content\">\n",
      "        <h2 class=\"mobile-app-event ng-tns-c50-44 not-offers ng-star-inserted\">\n",
      "         <a class=\"ng-tns-c50-44\" href=\"/product/DM_363586/stone-wood-pacific-ale-bottles-330ml\" title=\"Stone &amp; Wood Pacific Ale Bottles 330mL\">\n",
      "          <span>\n",
      "           Stone &amp;\n",
      "                                        Wood\n",
      "          </span>\n",
      "          <span class=\"subtitle overflow\" style=\"-webkit-box-orient: vertical;\">\n",
      "           Pacific Ale Bottles 330mL\n",
      "          </span>\n",
      "         </a>\n",
      "        </h2>\n",
      "        <shop-promotion-message _nghost-kpe-c61=\"\" class=\"promotion-message-component\">\n",
      "        </shop-promotion-message>\n",
      "        <div class=\"product-details\">\n",
      "         <div class=\"wrapper\">\n",
      "          <product-card-view _nghost-kpe-c62=\"\" class=\"ng-tns-c50-44\">\n",
      "           <section class=\"mobile-app-event\">\n",
      "            <ul class=\"badge-container ng-star-inserted\">\n",
      "             <li class=\"badges ng-star-inserted\">\n",
      "              <img alt=\"product badge\" class=\"badge ng-star-inserted\" src=\"https://media.danmurphys.com.au/dmo/content/Badges/iba-white.png\"/>\n",
      "             </li>\n",
      "             <li class=\"badges ng-star-inserted\">\n",
      "              <img alt=\"product badge\" class=\"badge pointer ng-star-inserted\" src=\"https://media.danmurphys.com.au/dmo/content/Badges/gabs-v2.png\"/>\n",
      "             </li>\n",
      "             <li class=\"badges ng-star-inserted\">\n",
      "              <img alt=\"product badge\" class=\"badge pointer ng-star-inserted\" src=\"https://media.danmurphys.com.au/dmo/content/Badges/award-winner-star.png\"/>\n",
      "             </li>\n",
      "            </ul>\n",
      "            <a class=\"ng-star-inserted\" href=\"/product/DM_363586/stone-wood-pacific-ale-bottles-330ml\">\n",
      "             <shop-image _nghost-kpe-c65=\"\">\n",
      "              <div _ngcontent-kpe-c65=\"\" class=\"product-image-lazy-transition-wrapper SM ng-star-inserted\">\n",
      "               <\n"
     ]
    }
   ],
   "source": [
    "print(soup.prettify()[:5000])"
   ]
  },
  {
   "cell_type": "code",
   "execution_count": 79,
   "id": "adf69a11-089d-496e-899a-d0668b173d1e",
   "metadata": {},
   "outputs": [
    {
     "name": "stdout",
     "output_type": "stream",
     "text": [
      "Title tag :<title>Craft Beer Products</title>:\n",
      "Title text:Craft Beer Products:\n"
     ]
    }
   ],
   "source": [
    "print('Title tag :%s:' % soup.title)\n",
    "print('Title text:%s:' % soup.title.string)"
   ]
  },
  {
   "cell_type": "code",
   "execution_count": 80,
   "id": "a4b62665-7458-448d-908c-8269ed2ae26d",
   "metadata": {},
   "outputs": [
    {
     "name": "stdout",
     "output_type": "stream",
     "text": [
      "Type of the variable 'body ': Tag\n"
     ]
    }
   ],
   "source": [
    "body_tag = 'body'\n",
    "body = soup.find_all(body_tag)[0]\n",
    "print('Type of the variable \\'body \\':', body.__class__.__name__)"
   ]
  },
  {
   "cell_type": "code",
   "execution_count": 81,
   "id": "adf98ff0-1575-4ef6-ae3b-2e3c722d03eb",
   "metadata": {},
   "outputs": [],
   "source": [
    "# body.text"
   ]
  },
  {
   "cell_type": "code",
   "execution_count": 82,
   "id": "9327f2cf-f99e-45b6-a129-e7bf50593c69",
   "metadata": {},
   "outputs": [
    {
     "name": "stdout",
     "output_type": "stream",
     "text": [
      "\n",
      " (118\n",
      "                                    \n",
      "                                        REVIEW \n",
      " REVIEWS\n",
      "                                    ) \n",
      "Stone &\n",
      "                                        WoodPacific Ale Bottles 330mL\n",
      " $24.49 pack\n",
      "                                                        (6)\n",
      " $77.99 case\n",
      "                                                        (24)\n",
      "Add to\n",
      "                                            cart \n",
      " (136\n",
      "                                    \n",
      "                                   \n"
     ]
    }
   ],
   "source": [
    "# show the first 500 characters after removing redundant newlines\n",
    "print(re.sub(r'\\n\\n+', '\\n', body.text)[:500])"
   ]
  },
  {
   "cell_type": "code",
   "execution_count": 83,
   "id": "d7180b7c-b685-411c-b7a1-bd480d42e138",
   "metadata": {},
   "outputs": [],
   "source": [
    "# for t in body.find_all('h2 span'):\n",
    "#     print(t)"
   ]
  },
  {
   "cell_type": "code",
   "execution_count": 84,
   "id": "2cd332f0-f67e-46d4-a43b-9a3a3f9cce17",
   "metadata": {},
   "outputs": [],
   "source": [
    "# soup.find_all(class_=\"title\")"
   ]
  },
  {
   "cell_type": "code",
   "execution_count": 85,
   "id": "63a5b754-e5d5-4ee2-90a4-bbc63f86fdc7",
   "metadata": {},
   "outputs": [],
   "source": [
    "# identify the type of tag to retrieve\n",
    "# brands = soup.find_all(class_=\"title\")\n",
    "\n",
    "# for i in brands:\n",
    "#     print(i.string)"
   ]
  },
  {
   "cell_type": "code",
   "execution_count": 86,
   "id": "645c0a35-59f4-4f63-b9e6-61aeaa5c09e5",
   "metadata": {},
   "outputs": [],
   "source": [
    "# products = soup.find_all(class_=\"subtitle\")\n",
    "\n",
    "# for i in products:\n",
    "#     print(i.string)"
   ]
  },
  {
   "cell_type": "code",
   "execution_count": 87,
   "id": "51e62365-21ba-4bef-a1e3-94e7d26909ab",
   "metadata": {},
   "outputs": [],
   "source": [
    "prices = soup.find_all(class_=\"value\")\n",
    "\n",
    "# for i in prices:\n",
    "#     print(i.string)\n"
   ]
  },
  {
   "cell_type": "code",
   "execution_count": 97,
   "id": "d4242094-095b-46bc-8db4-5e5938ea8119",
   "metadata": {},
   "outputs": [],
   "source": [
    "products = soup.find(class_=\"product-list\")\n",
    "\n",
    "# for li in products.find_all(\"li\"):\n",
    "#     print(li.text)"
   ]
  },
  {
   "cell_type": "code",
   "execution_count": 89,
   "id": "2ae89de8-5446-41a9-903a-45c545a0d4d2",
   "metadata": {},
   "outputs": [],
   "source": []
  },
  {
   "cell_type": "code",
   "execution_count": 98,
   "id": "b99b8d9f-dacd-4c2b-9364-0d333343fcf2",
   "metadata": {},
   "outputs": [
    {
     "ename": "HTTPError",
     "evalue": "HTTP Error 403: Forbidden",
     "output_type": "error",
     "traceback": [
      "\u001b[0;31m---------------------------------------------------------------------------\u001b[0m",
      "\u001b[0;31mHTTPError\u001b[0m                                 Traceback (most recent call last)",
      "\u001b[0;32m<ipython-input-98-8ad735d67950>\u001b[0m in \u001b[0;36m<module>\u001b[0;34m\u001b[0m\n\u001b[1;32m      3\u001b[0m \u001b[0;32mfrom\u001b[0m \u001b[0mbs4\u001b[0m \u001b[0;32mimport\u001b[0m \u001b[0mBeautifulSoup\u001b[0m\u001b[0;34m\u001b[0m\u001b[0;34m\u001b[0m\u001b[0m\n\u001b[1;32m      4\u001b[0m \u001b[0;34m\u001b[0m\u001b[0m\n\u001b[0;32m----> 5\u001b[0;31m html = urlopen(\n\u001b[0m\u001b[1;32m      6\u001b[0m     'https://tmpfiles.org/dl/234145/product-list-craft-beer.html')\n\u001b[1;32m      7\u001b[0m \u001b[0mbs\u001b[0m \u001b[0;34m=\u001b[0m \u001b[0mBeautifulSoup\u001b[0m\u001b[0;34m(\u001b[0m\u001b[0mhtml\u001b[0m\u001b[0;34m,\u001b[0m \u001b[0;34m'html.parser'\u001b[0m\u001b[0;34m)\u001b[0m\u001b[0;34m\u001b[0m\u001b[0;34m\u001b[0m\u001b[0m\n",
      "\u001b[0;32m~/opt/anaconda3/lib/python3.8/urllib/request.py\u001b[0m in \u001b[0;36murlopen\u001b[0;34m(url, data, timeout, cafile, capath, cadefault, context)\u001b[0m\n\u001b[1;32m    220\u001b[0m     \u001b[0;32melse\u001b[0m\u001b[0;34m:\u001b[0m\u001b[0;34m\u001b[0m\u001b[0;34m\u001b[0m\u001b[0m\n\u001b[1;32m    221\u001b[0m         \u001b[0mopener\u001b[0m \u001b[0;34m=\u001b[0m \u001b[0m_opener\u001b[0m\u001b[0;34m\u001b[0m\u001b[0;34m\u001b[0m\u001b[0m\n\u001b[0;32m--> 222\u001b[0;31m     \u001b[0;32mreturn\u001b[0m \u001b[0mopener\u001b[0m\u001b[0;34m.\u001b[0m\u001b[0mopen\u001b[0m\u001b[0;34m(\u001b[0m\u001b[0murl\u001b[0m\u001b[0;34m,\u001b[0m \u001b[0mdata\u001b[0m\u001b[0;34m,\u001b[0m \u001b[0mtimeout\u001b[0m\u001b[0;34m)\u001b[0m\u001b[0;34m\u001b[0m\u001b[0;34m\u001b[0m\u001b[0m\n\u001b[0m\u001b[1;32m    223\u001b[0m \u001b[0;34m\u001b[0m\u001b[0m\n\u001b[1;32m    224\u001b[0m \u001b[0;32mdef\u001b[0m \u001b[0minstall_opener\u001b[0m\u001b[0;34m(\u001b[0m\u001b[0mopener\u001b[0m\u001b[0;34m)\u001b[0m\u001b[0;34m:\u001b[0m\u001b[0;34m\u001b[0m\u001b[0;34m\u001b[0m\u001b[0m\n",
      "\u001b[0;32m~/opt/anaconda3/lib/python3.8/urllib/request.py\u001b[0m in \u001b[0;36mopen\u001b[0;34m(self, fullurl, data, timeout)\u001b[0m\n\u001b[1;32m    529\u001b[0m         \u001b[0;32mfor\u001b[0m \u001b[0mprocessor\u001b[0m \u001b[0;32min\u001b[0m \u001b[0mself\u001b[0m\u001b[0;34m.\u001b[0m\u001b[0mprocess_response\u001b[0m\u001b[0;34m.\u001b[0m\u001b[0mget\u001b[0m\u001b[0;34m(\u001b[0m\u001b[0mprotocol\u001b[0m\u001b[0;34m,\u001b[0m \u001b[0;34m[\u001b[0m\u001b[0;34m]\u001b[0m\u001b[0;34m)\u001b[0m\u001b[0;34m:\u001b[0m\u001b[0;34m\u001b[0m\u001b[0;34m\u001b[0m\u001b[0m\n\u001b[1;32m    530\u001b[0m             \u001b[0mmeth\u001b[0m \u001b[0;34m=\u001b[0m \u001b[0mgetattr\u001b[0m\u001b[0;34m(\u001b[0m\u001b[0mprocessor\u001b[0m\u001b[0;34m,\u001b[0m \u001b[0mmeth_name\u001b[0m\u001b[0;34m)\u001b[0m\u001b[0;34m\u001b[0m\u001b[0;34m\u001b[0m\u001b[0m\n\u001b[0;32m--> 531\u001b[0;31m             \u001b[0mresponse\u001b[0m \u001b[0;34m=\u001b[0m \u001b[0mmeth\u001b[0m\u001b[0;34m(\u001b[0m\u001b[0mreq\u001b[0m\u001b[0;34m,\u001b[0m \u001b[0mresponse\u001b[0m\u001b[0;34m)\u001b[0m\u001b[0;34m\u001b[0m\u001b[0;34m\u001b[0m\u001b[0m\n\u001b[0m\u001b[1;32m    532\u001b[0m \u001b[0;34m\u001b[0m\u001b[0m\n\u001b[1;32m    533\u001b[0m         \u001b[0;32mreturn\u001b[0m \u001b[0mresponse\u001b[0m\u001b[0;34m\u001b[0m\u001b[0;34m\u001b[0m\u001b[0m\n",
      "\u001b[0;32m~/opt/anaconda3/lib/python3.8/urllib/request.py\u001b[0m in \u001b[0;36mhttp_response\u001b[0;34m(self, request, response)\u001b[0m\n\u001b[1;32m    638\u001b[0m         \u001b[0;31m# request was successfully received, understood, and accepted.\u001b[0m\u001b[0;34m\u001b[0m\u001b[0;34m\u001b[0m\u001b[0;34m\u001b[0m\u001b[0m\n\u001b[1;32m    639\u001b[0m         \u001b[0;32mif\u001b[0m \u001b[0;32mnot\u001b[0m \u001b[0;34m(\u001b[0m\u001b[0;36m200\u001b[0m \u001b[0;34m<=\u001b[0m \u001b[0mcode\u001b[0m \u001b[0;34m<\u001b[0m \u001b[0;36m300\u001b[0m\u001b[0;34m)\u001b[0m\u001b[0;34m:\u001b[0m\u001b[0;34m\u001b[0m\u001b[0;34m\u001b[0m\u001b[0m\n\u001b[0;32m--> 640\u001b[0;31m             response = self.parent.error(\n\u001b[0m\u001b[1;32m    641\u001b[0m                 'http', request, response, code, msg, hdrs)\n\u001b[1;32m    642\u001b[0m \u001b[0;34m\u001b[0m\u001b[0m\n",
      "\u001b[0;32m~/opt/anaconda3/lib/python3.8/urllib/request.py\u001b[0m in \u001b[0;36merror\u001b[0;34m(self, proto, *args)\u001b[0m\n\u001b[1;32m    567\u001b[0m         \u001b[0;32mif\u001b[0m \u001b[0mhttp_err\u001b[0m\u001b[0;34m:\u001b[0m\u001b[0;34m\u001b[0m\u001b[0;34m\u001b[0m\u001b[0m\n\u001b[1;32m    568\u001b[0m             \u001b[0margs\u001b[0m \u001b[0;34m=\u001b[0m \u001b[0;34m(\u001b[0m\u001b[0mdict\u001b[0m\u001b[0;34m,\u001b[0m \u001b[0;34m'default'\u001b[0m\u001b[0;34m,\u001b[0m \u001b[0;34m'http_error_default'\u001b[0m\u001b[0;34m)\u001b[0m \u001b[0;34m+\u001b[0m \u001b[0morig_args\u001b[0m\u001b[0;34m\u001b[0m\u001b[0;34m\u001b[0m\u001b[0m\n\u001b[0;32m--> 569\u001b[0;31m             \u001b[0;32mreturn\u001b[0m \u001b[0mself\u001b[0m\u001b[0;34m.\u001b[0m\u001b[0m_call_chain\u001b[0m\u001b[0;34m(\u001b[0m\u001b[0;34m*\u001b[0m\u001b[0margs\u001b[0m\u001b[0;34m)\u001b[0m\u001b[0;34m\u001b[0m\u001b[0;34m\u001b[0m\u001b[0m\n\u001b[0m\u001b[1;32m    570\u001b[0m \u001b[0;34m\u001b[0m\u001b[0m\n\u001b[1;32m    571\u001b[0m \u001b[0;31m# XXX probably also want an abstract factory that knows when it makes\u001b[0m\u001b[0;34m\u001b[0m\u001b[0;34m\u001b[0m\u001b[0;34m\u001b[0m\u001b[0m\n",
      "\u001b[0;32m~/opt/anaconda3/lib/python3.8/urllib/request.py\u001b[0m in \u001b[0;36m_call_chain\u001b[0;34m(self, chain, kind, meth_name, *args)\u001b[0m\n\u001b[1;32m    500\u001b[0m         \u001b[0;32mfor\u001b[0m \u001b[0mhandler\u001b[0m \u001b[0;32min\u001b[0m \u001b[0mhandlers\u001b[0m\u001b[0;34m:\u001b[0m\u001b[0;34m\u001b[0m\u001b[0;34m\u001b[0m\u001b[0m\n\u001b[1;32m    501\u001b[0m             \u001b[0mfunc\u001b[0m \u001b[0;34m=\u001b[0m \u001b[0mgetattr\u001b[0m\u001b[0;34m(\u001b[0m\u001b[0mhandler\u001b[0m\u001b[0;34m,\u001b[0m \u001b[0mmeth_name\u001b[0m\u001b[0;34m)\u001b[0m\u001b[0;34m\u001b[0m\u001b[0;34m\u001b[0m\u001b[0m\n\u001b[0;32m--> 502\u001b[0;31m             \u001b[0mresult\u001b[0m \u001b[0;34m=\u001b[0m \u001b[0mfunc\u001b[0m\u001b[0;34m(\u001b[0m\u001b[0;34m*\u001b[0m\u001b[0margs\u001b[0m\u001b[0;34m)\u001b[0m\u001b[0;34m\u001b[0m\u001b[0;34m\u001b[0m\u001b[0m\n\u001b[0m\u001b[1;32m    503\u001b[0m             \u001b[0;32mif\u001b[0m \u001b[0mresult\u001b[0m \u001b[0;32mis\u001b[0m \u001b[0;32mnot\u001b[0m \u001b[0;32mNone\u001b[0m\u001b[0;34m:\u001b[0m\u001b[0;34m\u001b[0m\u001b[0;34m\u001b[0m\u001b[0m\n\u001b[1;32m    504\u001b[0m                 \u001b[0;32mreturn\u001b[0m \u001b[0mresult\u001b[0m\u001b[0;34m\u001b[0m\u001b[0;34m\u001b[0m\u001b[0m\n",
      "\u001b[0;32m~/opt/anaconda3/lib/python3.8/urllib/request.py\u001b[0m in \u001b[0;36mhttp_error_default\u001b[0;34m(self, req, fp, code, msg, hdrs)\u001b[0m\n\u001b[1;32m    647\u001b[0m \u001b[0;32mclass\u001b[0m \u001b[0mHTTPDefaultErrorHandler\u001b[0m\u001b[0;34m(\u001b[0m\u001b[0mBaseHandler\u001b[0m\u001b[0;34m)\u001b[0m\u001b[0;34m:\u001b[0m\u001b[0;34m\u001b[0m\u001b[0;34m\u001b[0m\u001b[0m\n\u001b[1;32m    648\u001b[0m     \u001b[0;32mdef\u001b[0m \u001b[0mhttp_error_default\u001b[0m\u001b[0;34m(\u001b[0m\u001b[0mself\u001b[0m\u001b[0;34m,\u001b[0m \u001b[0mreq\u001b[0m\u001b[0;34m,\u001b[0m \u001b[0mfp\u001b[0m\u001b[0;34m,\u001b[0m \u001b[0mcode\u001b[0m\u001b[0;34m,\u001b[0m \u001b[0mmsg\u001b[0m\u001b[0;34m,\u001b[0m \u001b[0mhdrs\u001b[0m\u001b[0;34m)\u001b[0m\u001b[0;34m:\u001b[0m\u001b[0;34m\u001b[0m\u001b[0;34m\u001b[0m\u001b[0m\n\u001b[0;32m--> 649\u001b[0;31m         \u001b[0;32mraise\u001b[0m \u001b[0mHTTPError\u001b[0m\u001b[0;34m(\u001b[0m\u001b[0mreq\u001b[0m\u001b[0;34m.\u001b[0m\u001b[0mfull_url\u001b[0m\u001b[0;34m,\u001b[0m \u001b[0mcode\u001b[0m\u001b[0;34m,\u001b[0m \u001b[0mmsg\u001b[0m\u001b[0;34m,\u001b[0m \u001b[0mhdrs\u001b[0m\u001b[0;34m,\u001b[0m \u001b[0mfp\u001b[0m\u001b[0;34m)\u001b[0m\u001b[0;34m\u001b[0m\u001b[0;34m\u001b[0m\u001b[0m\n\u001b[0m\u001b[1;32m    650\u001b[0m \u001b[0;34m\u001b[0m\u001b[0m\n\u001b[1;32m    651\u001b[0m \u001b[0;32mclass\u001b[0m \u001b[0mHTTPRedirectHandler\u001b[0m\u001b[0;34m(\u001b[0m\u001b[0mBaseHandler\u001b[0m\u001b[0;34m)\u001b[0m\u001b[0;34m:\u001b[0m\u001b[0;34m\u001b[0m\u001b[0;34m\u001b[0m\u001b[0m\n",
      "\u001b[0;31mHTTPError\u001b[0m: HTTP Error 403: Forbidden"
     ]
    }
   ],
   "source": [
    "import csv\n",
    "from urllib.request import urlopen\n",
    "from bs4 import BeautifulSoup\n",
    "\n",
    "html = urlopen(\n",
    "    'product-list-craft-beer.html')\n",
    "bs = BeautifulSoup(html, 'html.parser')\n",
    "\n",
    "table = bs.findAll('div', {'class': 'product-list'})[0]\n",
    "rows = table.findAll('li')\n",
    "\n",
    "csvFile = open('data.csv', 'wt+')\n",
    "writer = csv.writer(csvFile)\n",
    "try:\n",
    "    for row in rows:\n",
    "        csvRow = []\n",
    "        for cell in row.findAll(['div']):\n",
    "            csvRow.append(cell.get_text())\n",
    "            writer.writerow(csvRow)\n",
    "finally:\n",
    "    csvFile.close()"
   ]
  },
  {
   "cell_type": "code",
   "execution_count": null,
   "id": "8085b2da-a4fc-45b6-9df4-1d2a136b8d50",
   "metadata": {},
   "outputs": [],
   "source": []
  }
 ],
 "metadata": {
  "kernelspec": {
   "display_name": "Python 3",
   "language": "python",
   "name": "python3"
  },
  "language_info": {
   "codemirror_mode": {
    "name": "ipython",
    "version": 3
   },
   "file_extension": ".py",
   "mimetype": "text/x-python",
   "name": "python",
   "nbconvert_exporter": "python",
   "pygments_lexer": "ipython3",
   "version": "3.8.8"
  }
 },
 "nbformat": 4,
 "nbformat_minor": 5
}

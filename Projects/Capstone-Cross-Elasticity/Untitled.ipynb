{
 "cells": [
  {
   "cell_type": "code",
   "execution_count": 1,
   "id": "ce7fb888-ef56-4096-a231-79209d164661",
   "metadata": {},
   "outputs": [],
   "source": [
    "# Packages\n",
    "import pandas as pd\n",
    "import numpy as np\n",
    "import matplotlib.pyplot as plt"
   ]
  },
  {
   "cell_type": "code",
   "execution_count": 2,
   "id": "88da5cad-e0ef-41ca-a625-8d7af58ae052",
   "metadata": {},
   "outputs": [],
   "source": [
    "# Data\n",
    "colnames = ['ProductID','Product_type','Date','Price','Quantity']\n",
    "df = pd.read_csv('beer.csv', names=colnames, header=None)"
   ]
  },
  {
   "cell_type": "code",
   "execution_count": 3,
   "id": "b6db542d-24e5-45f0-8d38-e934c20b8c1a",
   "metadata": {},
   "outputs": [
    {
     "name": "stdout",
     "output_type": "stream",
     "text": [
      "<class 'pandas.core.frame.DataFrame'>\n",
      "RangeIndex: 12 entries, 0 to 11\n",
      "Data columns (total 5 columns):\n",
      " #   Column        Non-Null Count  Dtype  \n",
      "---  ------        --------------  -----  \n",
      " 0   ProductID     12 non-null     object \n",
      " 1   Product_type  12 non-null     object \n",
      " 2   Date          12 non-null     object \n",
      " 3   Price         12 non-null     float64\n",
      " 4   Quantity      12 non-null     int64  \n",
      "dtypes: float64(1), int64(1), object(3)\n",
      "memory usage: 608.0+ bytes\n"
     ]
    }
   ],
   "source": [
    "df.info()"
   ]
  },
  {
   "cell_type": "code",
   "execution_count": 4,
   "id": "9c1b1886-b859-4621-a544-d10cb35a8046",
   "metadata": {},
   "outputs": [
    {
     "data": {
      "text/html": [
       "<div>\n",
       "<style scoped>\n",
       "    .dataframe tbody tr th:only-of-type {\n",
       "        vertical-align: middle;\n",
       "    }\n",
       "\n",
       "    .dataframe tbody tr th {\n",
       "        vertical-align: top;\n",
       "    }\n",
       "\n",
       "    .dataframe thead th {\n",
       "        text-align: right;\n",
       "    }\n",
       "</style>\n",
       "<table border=\"1\" class=\"dataframe\">\n",
       "  <thead>\n",
       "    <tr style=\"text-align: right;\">\n",
       "      <th></th>\n",
       "      <th>ProductID</th>\n",
       "      <th>Product_type</th>\n",
       "      <th>Date</th>\n",
       "      <th>Price</th>\n",
       "      <th>Quantity</th>\n",
       "    </tr>\n",
       "  </thead>\n",
       "  <tbody>\n",
       "    <tr>\n",
       "      <th>0</th>\n",
       "      <td>S001</td>\n",
       "      <td>Beer</td>\n",
       "      <td>2021-03-30</td>\n",
       "      <td>24.49</td>\n",
       "      <td>21819</td>\n",
       "    </tr>\n",
       "    <tr>\n",
       "      <th>1</th>\n",
       "      <td>J001</td>\n",
       "      <td>Beer</td>\n",
       "      <td>2021-03-30</td>\n",
       "      <td>22.99</td>\n",
       "      <td>19836</td>\n",
       "    </tr>\n",
       "    <tr>\n",
       "      <th>2</th>\n",
       "      <td>L001</td>\n",
       "      <td>Beer</td>\n",
       "      <td>2021-03-30</td>\n",
       "      <td>21.95</td>\n",
       "      <td>21978</td>\n",
       "    </tr>\n",
       "    <tr>\n",
       "      <th>3</th>\n",
       "      <td>S001</td>\n",
       "      <td>Beer</td>\n",
       "      <td>2021-06-30</td>\n",
       "      <td>24.49</td>\n",
       "      <td>19134</td>\n",
       "    </tr>\n",
       "    <tr>\n",
       "      <th>4</th>\n",
       "      <td>J001</td>\n",
       "      <td>Beer</td>\n",
       "      <td>2021-06-30</td>\n",
       "      <td>22.99</td>\n",
       "      <td>17690</td>\n",
       "    </tr>\n",
       "    <tr>\n",
       "      <th>5</th>\n",
       "      <td>L001</td>\n",
       "      <td>Beer</td>\n",
       "      <td>2021-06-30</td>\n",
       "      <td>21.95</td>\n",
       "      <td>17007</td>\n",
       "    </tr>\n",
       "    <tr>\n",
       "      <th>6</th>\n",
       "      <td>S001</td>\n",
       "      <td>Beer</td>\n",
       "      <td>2021-09-30</td>\n",
       "      <td>24.49</td>\n",
       "      <td>19134</td>\n",
       "    </tr>\n",
       "    <tr>\n",
       "      <th>7</th>\n",
       "      <td>J001</td>\n",
       "      <td>Beer</td>\n",
       "      <td>2021-09-30</td>\n",
       "      <td>22.99</td>\n",
       "      <td>17690</td>\n",
       "    </tr>\n",
       "    <tr>\n",
       "      <th>8</th>\n",
       "      <td>L001</td>\n",
       "      <td>Beer</td>\n",
       "      <td>2021-09-30</td>\n",
       "      <td>21.95</td>\n",
       "      <td>17007</td>\n",
       "    </tr>\n",
       "    <tr>\n",
       "      <th>9</th>\n",
       "      <td>S001</td>\n",
       "      <td>Beer</td>\n",
       "      <td>2021-12-30</td>\n",
       "      <td>24.49</td>\n",
       "      <td>19134</td>\n",
       "    </tr>\n",
       "  </tbody>\n",
       "</table>\n",
       "</div>"
      ],
      "text/plain": [
       "  ProductID Product_type        Date  Price  Quantity\n",
       "0      S001         Beer  2021-03-30  24.49     21819\n",
       "1      J001         Beer  2021-03-30  22.99     19836\n",
       "2      L001         Beer  2021-03-30  21.95     21978\n",
       "3      S001         Beer  2021-06-30  24.49     19134\n",
       "4      J001         Beer  2021-06-30  22.99     17690\n",
       "5      L001         Beer  2021-06-30  21.95     17007\n",
       "6      S001         Beer  2021-09-30  24.49     19134\n",
       "7      J001         Beer  2021-09-30  22.99     17690\n",
       "8      L001         Beer  2021-09-30  21.95     17007\n",
       "9      S001         Beer  2021-12-30  24.49     19134"
      ]
     },
     "execution_count": 4,
     "metadata": {},
     "output_type": "execute_result"
    }
   ],
   "source": [
    "df.head(10)\n"
   ]
  },
  {
   "cell_type": "code",
   "execution_count": 5,
   "id": "762c6dc7-cbe0-4552-b3f1-3f413b9f640d",
   "metadata": {},
   "outputs": [
    {
     "name": "stdout",
     "output_type": "stream",
     "text": [
      "         Date   J001   L001   S001\n",
      "0  2021-03-30  22.99  21.95  24.49\n",
      "1  2021-06-30  22.99  21.95  24.49\n",
      "2  2021-09-30  22.99  21.95  24.49\n",
      "3  2021-12-30  22.99  21.95  24.49\n"
     ]
    }
   ],
   "source": [
    "#Format and build a dataframe with x_values for each product within the caregory\n",
    "x_pivot = df.pivot(index= 'Date' ,columns='ProductID' ,values='Price')\n",
    "x_values = pd.DataFrame(x_pivot.to_records())\n",
    "print(x_values)"
   ]
  },
  {
   "cell_type": "code",
   "execution_count": 6,
   "id": "e028ad17-9531-4f20-b179-f696d97cc87c",
   "metadata": {},
   "outputs": [
    {
     "name": "stdout",
     "output_type": "stream",
     "text": [
      "         Date   J001   L001   S001\n",
      "0  2021-03-30  19836  21978  21819\n",
      "1  2021-06-30  17690  17007  19134\n",
      "2  2021-09-30  17690  17007  19134\n",
      "3  2021-12-30  17690  17007  19134\n"
     ]
    }
   ],
   "source": [
    "#Format and build a dataframe with y_values for each product within the caregory\n",
    "y_pivot = df.pivot( index = 'Date',columns='ProductID', values='Quantity')\n",
    "y_values = pd.DataFrame(y_pivot.to_records())\n",
    "print(y_values)"
   ]
  },
  {
   "cell_type": "code",
   "execution_count": 9,
   "id": "97cf1bf7-c030-4210-8905-509f8f436b4f",
   "metadata": {},
   "outputs": [
    {
     "data": {
      "text/html": [
       "<div>\n",
       "<style scoped>\n",
       "    .dataframe tbody tr th:only-of-type {\n",
       "        vertical-align: middle;\n",
       "    }\n",
       "\n",
       "    .dataframe tbody tr th {\n",
       "        vertical-align: top;\n",
       "    }\n",
       "\n",
       "    .dataframe thead th {\n",
       "        text-align: right;\n",
       "    }\n",
       "</style>\n",
       "<table border=\"1\" class=\"dataframe\">\n",
       "  <thead>\n",
       "    <tr style=\"text-align: right;\">\n",
       "      <th></th>\n",
       "      <th>name</th>\n",
       "      <th>price_elasticity</th>\n",
       "      <th>t_score</th>\n",
       "      <th>coefficient_pvalue</th>\n",
       "      <th>slope</th>\n",
       "      <th>price_mean</th>\n",
       "      <th>quantity_mean</th>\n",
       "      <th>intercept</th>\n",
       "      <th>rsquared</th>\n",
       "    </tr>\n",
       "  </thead>\n",
       "  <tbody>\n",
       "  </tbody>\n",
       "</table>\n",
       "</div>"
      ],
      "text/plain": [
       "Empty DataFrame\n",
       "Columns: [name, price_elasticity, t_score, coefficient_pvalue, slope, price_mean, quantity_mean, intercept, rsquared]\n",
       "Index: []"
      ]
     },
     "execution_count": 9,
     "metadata": {},
     "output_type": "execute_result"
    }
   ],
   "source": [
    "points = []\n",
    "results_values = {\n",
    "    \"name\": [],\n",
    "    \"price_elasticity\": [],\n",
    "    \"price_mean\": [],\n",
    "    \"quantity_mean\": [],\n",
    "    \"intercept\": [],\n",
    "    \"t_score\":[],\n",
    "    \"slope\": [],\n",
    "    \"rsquared\": [],\n",
    "    \"coefficient_pvalue\" : [],\n",
    "}\n",
    "#Append x_values with y_values per same product name\n",
    "for column in x_values.columns[1:]:\n",
    "    column_points = []\n",
    "    for i in range(len(x_values[column])):\n",
    "        if not np.isnan(x_values[column][i]) and not np.isnan(y_values[column][i]):\n",
    "            column_points.append((x_values[column][i], y_values[column][i]))\n",
    "    df = pd.DataFrame(list(column_points), columns= ['x_value', 'y_value'])\n",
    "\n",
    "\n",
    "    #Linear Regression Model\n",
    "    import statsmodels.api as sm\n",
    "    x_value = df['x_value']\n",
    "    y_value = df['y_value']\n",
    "    X = sm.add_constant(x_value)\n",
    "    model = sm.OLS(y_value, X)\n",
    "    result = model.fit()\n",
    "    \n",
    "    \n",
    "    #(Null Hypothesis test) Coefficient with a p value less than 0.05\n",
    "    if result.f_pvalue < 0.05:\n",
    "        \n",
    "        rsquared = result.rsquared\n",
    "        coefficient_pvalue = result.f_pvalue\n",
    "        intercept, slope = result.params\n",
    "        mean_price = np.mean(x_value)\n",
    "        mean_quantity = np.mean(y_value)\n",
    "        tintercept, t_score = result.tvalues\n",
    "     \n",
    "        #Price elasticity Formula\n",
    "        price_elasticity = (slope)*(mean_price/mean_quantity)    \n",
    "            \n",
    "        #Append results into dictionary for dataframe\n",
    "        results_values[\"name\"].append(column)\n",
    "        results_values[\"price_elasticity\"].append(price_elasticity)\n",
    "        results_values[\"price_mean\"].append(mean_price)\n",
    "        results_values[\"quantity_mean\"].append(mean_quantity)\n",
    "        results_values[\"intercept\"].append(intercept)\n",
    "        results_values['t_score'].append(t_score)\n",
    "        results_values[\"slope\"].append(slope)\n",
    "        results_values[\"coefficient_pvalue\"].append(coefficient_pvalue)\n",
    "        \n",
    "final_df = pd.DataFrame.from_dict(results_values)\n",
    "df_elasticity = []\n",
    "final_df[['name','price_elasticity','t_score','coefficient_pvalue','slope','price_mean','quantity_mean','intercept','rsquared']]"
   ]
  },
  {
   "cell_type": "code",
   "execution_count": 10,
   "id": "e1ee252e-0fe7-4f11-ba31-1877b075e900",
   "metadata": {},
   "outputs": [],
   "source": [
    "def divergent_plot(df, values_column, ylabel, xlabel):\n",
    "\n",
    "    #Divergent plot\n",
    "    df['ranking'] = df[values_column].rank( ascending = True).astype(int)\n",
    "    df.sort_values(values_column, ascending =False, inplace = True)\n",
    "    plt.figure(figsize = (12,5), dpi = 80)\n",
    "    plt.hlines(y = df['ranking'] , xmin = 0, xmax = df[values_column], alpha = 0.5, linewidth = 3)\n",
    "    \n",
    "    #Add elasticity labels\n",
    "    for x, y, tex in zip(df[values_column], df['ranking'] , df[values_column]):\n",
    "        plt.text(x, y, round(tex, 2), horizontalalignment='right' if x < 0 else 'left', \n",
    "                 verticalalignment='center', fontdict={'color':'red' if x < 0 else 'green', 'size':10})\n",
    "        \n",
    "    \n",
    "    # Axis and title\n",
    "    plt.gca().set(ylabel= ylabel, xlabel= xlabel)\n",
    "    plt.yticks(df['ranking'])\n",
    "    plt.title(values_column , fontdict={'size':13})\n",
    "    plt.grid(linestyle='--', alpha=0.5)\n",
    "    plt.show()\n",
    "            \n",
    "    \n",
    "    #Adjust Ranking column and print dataframe\n",
    "    pd.set_option('display.width', 4000)\n",
    "    cols = list(df.columns)\n",
    "    cols = [cols[-1]] + cols[:-1]\n",
    "    df = df[cols]\n",
    "    \n",
    "    df = df.iloc[:,:3]\n",
    "    df.set_index('ranking', inplace=True)\n",
    "    display(df)"
   ]
  },
  {
   "cell_type": "code",
   "execution_count": 11,
   "id": "e5eccf95-b778-4aa8-8976-be80e4726e55",
   "metadata": {},
   "outputs": [
    {
     "ename": "TypeError",
     "evalue": "list indices must be integers or slices, not str",
     "output_type": "error",
     "traceback": [
      "\u001b[0;31m---------------------------------------------------------------------------\u001b[0m",
      "\u001b[0;31mTypeError\u001b[0m                                 Traceback (most recent call last)",
      "\u001b[0;32m/var/folders/vp/k70yvwj57vd00y1yn6zl3mkr0000gn/T/ipykernel_37744/763759367.py\u001b[0m in \u001b[0;36m<module>\u001b[0;34m\u001b[0m\n\u001b[0;32m----> 1\u001b[0;31m \u001b[0mpe_plot\u001b[0m \u001b[0;34m=\u001b[0m \u001b[0mdivergent_plot\u001b[0m\u001b[0;34m(\u001b[0m\u001b[0mdf_elasticity\u001b[0m\u001b[0;34m,\u001b[0m \u001b[0;34m'price_elasticity'\u001b[0m\u001b[0;34m,\u001b[0m \u001b[0;34m'Ranking Number'\u001b[0m\u001b[0;34m,\u001b[0m \u001b[0;34m'Price Elasticity'\u001b[0m\u001b[0;34m)\u001b[0m\u001b[0;34m\u001b[0m\u001b[0;34m\u001b[0m\u001b[0m\n\u001b[0m",
      "\u001b[0;32m/var/folders/vp/k70yvwj57vd00y1yn6zl3mkr0000gn/T/ipykernel_37744/2169596984.py\u001b[0m in \u001b[0;36mdivergent_plot\u001b[0;34m(df, values_column, ylabel, xlabel)\u001b[0m\n\u001b[1;32m      2\u001b[0m \u001b[0;34m\u001b[0m\u001b[0m\n\u001b[1;32m      3\u001b[0m     \u001b[0;31m#Divergent plot\u001b[0m\u001b[0;34m\u001b[0m\u001b[0;34m\u001b[0m\u001b[0;34m\u001b[0m\u001b[0m\n\u001b[0;32m----> 4\u001b[0;31m     \u001b[0mdf\u001b[0m\u001b[0;34m[\u001b[0m\u001b[0;34m'ranking'\u001b[0m\u001b[0;34m]\u001b[0m \u001b[0;34m=\u001b[0m \u001b[0mdf\u001b[0m\u001b[0;34m[\u001b[0m\u001b[0mvalues_column\u001b[0m\u001b[0;34m]\u001b[0m\u001b[0;34m.\u001b[0m\u001b[0mrank\u001b[0m\u001b[0;34m(\u001b[0m \u001b[0mascending\u001b[0m \u001b[0;34m=\u001b[0m \u001b[0;32mTrue\u001b[0m\u001b[0;34m)\u001b[0m\u001b[0;34m.\u001b[0m\u001b[0mastype\u001b[0m\u001b[0;34m(\u001b[0m\u001b[0mint\u001b[0m\u001b[0;34m)\u001b[0m\u001b[0;34m\u001b[0m\u001b[0;34m\u001b[0m\u001b[0m\n\u001b[0m\u001b[1;32m      5\u001b[0m     \u001b[0mdf\u001b[0m\u001b[0;34m.\u001b[0m\u001b[0msort_values\u001b[0m\u001b[0;34m(\u001b[0m\u001b[0mvalues_column\u001b[0m\u001b[0;34m,\u001b[0m \u001b[0mascending\u001b[0m \u001b[0;34m=\u001b[0m\u001b[0;32mFalse\u001b[0m\u001b[0;34m,\u001b[0m \u001b[0minplace\u001b[0m \u001b[0;34m=\u001b[0m \u001b[0;32mTrue\u001b[0m\u001b[0;34m)\u001b[0m\u001b[0;34m\u001b[0m\u001b[0;34m\u001b[0m\u001b[0m\n\u001b[1;32m      6\u001b[0m     \u001b[0mplt\u001b[0m\u001b[0;34m.\u001b[0m\u001b[0mfigure\u001b[0m\u001b[0;34m(\u001b[0m\u001b[0mfigsize\u001b[0m \u001b[0;34m=\u001b[0m \u001b[0;34m(\u001b[0m\u001b[0;36m12\u001b[0m\u001b[0;34m,\u001b[0m\u001b[0;36m5\u001b[0m\u001b[0;34m)\u001b[0m\u001b[0;34m,\u001b[0m \u001b[0mdpi\u001b[0m \u001b[0;34m=\u001b[0m \u001b[0;36m80\u001b[0m\u001b[0;34m)\u001b[0m\u001b[0;34m\u001b[0m\u001b[0;34m\u001b[0m\u001b[0m\n",
      "\u001b[0;31mTypeError\u001b[0m: list indices must be integers or slices, not str"
     ]
    }
   ],
   "source": [
    "pe_plot = divergent_plot(df_elasticity, 'price_elasticity', 'Ranking Number', 'Price Elasticity')\n"
   ]
  },
  {
   "cell_type": "code",
   "execution_count": null,
   "id": "f38ff096-9a2f-4a8e-a6b0-74db4a855e34",
   "metadata": {},
   "outputs": [],
   "source": []
  }
 ],
 "metadata": {
  "kernelspec": {
   "display_name": "Python 3 (ipykernel)",
   "language": "python",
   "name": "python3"
  },
  "language_info": {
   "codemirror_mode": {
    "name": "ipython",
    "version": 3
   },
   "file_extension": ".py",
   "mimetype": "text/x-python",
   "name": "python",
   "nbconvert_exporter": "python",
   "pygments_lexer": "ipython3",
   "version": "3.8.12"
  }
 },
 "nbformat": 4,
 "nbformat_minor": 5
}

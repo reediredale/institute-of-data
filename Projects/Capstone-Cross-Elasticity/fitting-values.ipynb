{
 "cells": [
  {
   "cell_type": "code",
   "execution_count": 18,
   "id": "9a12d146-41eb-465c-99ea-ca3326dd59cf",
   "metadata": {},
   "outputs": [],
   "source": [
    "\n",
    "#import statsmodels.graphics.api as smg\n",
    "import numpy as np\n",
    "import pandas as pd\n",
    "\n",
    "#price and sales unit data\n",
    "colnames = ['Brand','Product','Product_type','Date','Price','Quantity']\n",
    "# filename = \"data/beer-neue-2.csv\"\n",
    "\n",
    "df = pd.read_csv('data/beer-neue-2.csv', names=colnames, header=None, encoding=\"utf-8\",)"
   ]
  },
  {
   "cell_type": "code",
   "execution_count": 19,
   "id": "886a406b-17dd-46f0-a55d-ff0224901fc3",
   "metadata": {},
   "outputs": [],
   "source": [
    "\n",
    "#point_est for iterations of point estimation\n",
    "point_est = 120"
   ]
  },
  {
   "cell_type": "code",
   "execution_count": 20,
   "id": "cdc30f37-3c4c-474d-b430-1b25d5064459",
   "metadata": {},
   "outputs": [
    {
     "name": "stderr",
     "output_type": "stream",
     "text": [
      "/var/folders/vp/k70yvwj57vd00y1yn6zl3mkr0000gn/T/ipykernel_58772/1615612088.py:29: DeprecationWarning: The default dtype for empty Series will be 'object' instead of 'float64' in a future version. Specify a dtype explicitly to silence this warning.\n",
      "  y = pd.Series(y)\n",
      "/var/folders/vp/k70yvwj57vd00y1yn6zl3mkr0000gn/T/ipykernel_58772/1615612088.py:30: DeprecationWarning: The default dtype for empty Series will be 'object' instead of 'float64' in a future version. Specify a dtype explicitly to silence this warning.\n",
      "  x = pd.Series(x)\n",
      "/var/folders/vp/k70yvwj57vd00y1yn6zl3mkr0000gn/T/ipykernel_58772/1615612088.py:31: DeprecationWarning: The default dtype for empty Series will be 'object' instead of 'float64' in a future version. Specify a dtype explicitly to silence this warning.\n",
      "  a_m = pd.Series(a_m)\n"
     ]
    },
    {
     "ename": "AttributeError",
     "evalue": "'DataFrame' object has no attribute 'sort'",
     "output_type": "error",
     "traceback": [
      "\u001b[0;31m---------------------------------------------------------------------------\u001b[0m",
      "\u001b[0;31mAttributeError\u001b[0m                            Traceback (most recent call last)",
      "\u001b[0;32m/var/folders/vp/k70yvwj57vd00y1yn6zl3mkr0000gn/T/ipykernel_58772/1615612088.py\u001b[0m in \u001b[0;36m<module>\u001b[0;34m\u001b[0m\n\u001b[1;32m     44\u001b[0m \u001b[0;34m\u001b[0m\u001b[0m\n\u001b[1;32m     45\u001b[0m \u001b[0mreg_fit\u001b[0m\u001b[0;34m(\u001b[0m\u001b[0mdf\u001b[0m\u001b[0;34m)\u001b[0m\u001b[0;34m\u001b[0m\u001b[0;34m\u001b[0m\u001b[0m\n\u001b[0;32m---> 46\u001b[0;31m \u001b[0mvalue_loop\u001b[0m\u001b[0;34m(\u001b[0m\u001b[0mb0\u001b[0m\u001b[0;34m,\u001b[0m\u001b[0mb1\u001b[0m\u001b[0;34m,\u001b[0m\u001b[0mpoint_est\u001b[0m\u001b[0;34m)\u001b[0m\u001b[0;34m\u001b[0m\u001b[0;34m\u001b[0m\u001b[0m\n\u001b[0m",
      "\u001b[0;32m/var/folders/vp/k70yvwj57vd00y1yn6zl3mkr0000gn/T/ipykernel_58772/1615612088.py\u001b[0m in \u001b[0;36mvalue_loop\u001b[0;34m(b0, b1, point_est)\u001b[0m\n\u001b[1;32m     37\u001b[0m \u001b[0;34m\u001b[0m\u001b[0m\n\u001b[1;32m     38\u001b[0m     \u001b[0mmax_area\u001b[0m \u001b[0;34m=\u001b[0m \u001b[0ma_matrix\u001b[0m\u001b[0;34m[\u001b[0m\u001b[0;34m\"area\"\u001b[0m\u001b[0;34m]\u001b[0m\u001b[0;34m.\u001b[0m\u001b[0mmax\u001b[0m\u001b[0;34m(\u001b[0m\u001b[0;34m)\u001b[0m\u001b[0;34m\u001b[0m\u001b[0;34m\u001b[0m\u001b[0m\n\u001b[0;32m---> 39\u001b[0;31m     \u001b[0ms_m\u001b[0m \u001b[0;34m=\u001b[0m \u001b[0ma_matrix\u001b[0m\u001b[0;34m.\u001b[0m\u001b[0msort\u001b[0m\u001b[0;34m(\u001b[0m\u001b[0;34m'area'\u001b[0m\u001b[0;34m,\u001b[0m\u001b[0mascending\u001b[0m\u001b[0;34m=\u001b[0m\u001b[0;32mFalse\u001b[0m\u001b[0;34m)\u001b[0m\u001b[0;34m\u001b[0m\u001b[0;34m\u001b[0m\u001b[0m\n\u001b[0m\u001b[1;32m     40\u001b[0m     \u001b[0munit_elastic_price\u001b[0m \u001b[0;34m=\u001b[0m \u001b[0ms_m\u001b[0m\u001b[0;34m.\u001b[0m\u001b[0miloc\u001b[0m\u001b[0;34m[\u001b[0m\u001b[0;36m0\u001b[0m\u001b[0;34m]\u001b[0m\u001b[0;34m[\u001b[0m\u001b[0;34m'y'\u001b[0m\u001b[0;34m]\u001b[0m\u001b[0;34m\u001b[0m\u001b[0;34m\u001b[0m\u001b[0m\n\u001b[1;32m     41\u001b[0m     \u001b[0mprint\u001b[0m\u001b[0;34m(\u001b[0m\u001b[0mtext\u001b[0m \u001b[0;34m(\u001b[0m\u001b[0mstr\u001b[0m\u001b[0;34m(\u001b[0m\u001b[0mround\u001b[0m\u001b[0;34m(\u001b[0m\u001b[0munit_elastic_price\u001b[0m\u001b[0;34m,\u001b[0m\u001b[0;36m2\u001b[0m\u001b[0;34m)\u001b[0m\u001b[0;34m)\u001b[0m\u001b[0;34m)\u001b[0m\u001b[0;34m)\u001b[0m\u001b[0;34m\u001b[0m\u001b[0;34m\u001b[0m\u001b[0m\n",
      "\u001b[0;32m~/opt/anaconda3/envs/datascience/lib/python3.8/site-packages/pandas/core/generic.py\u001b[0m in \u001b[0;36m__getattr__\u001b[0;34m(self, name)\u001b[0m\n\u001b[1;32m   5485\u001b[0m         ):\n\u001b[1;32m   5486\u001b[0m             \u001b[0;32mreturn\u001b[0m \u001b[0mself\u001b[0m\u001b[0;34m[\u001b[0m\u001b[0mname\u001b[0m\u001b[0;34m]\u001b[0m\u001b[0;34m\u001b[0m\u001b[0;34m\u001b[0m\u001b[0m\n\u001b[0;32m-> 5487\u001b[0;31m         \u001b[0;32mreturn\u001b[0m \u001b[0mobject\u001b[0m\u001b[0;34m.\u001b[0m\u001b[0m__getattribute__\u001b[0m\u001b[0;34m(\u001b[0m\u001b[0mself\u001b[0m\u001b[0;34m,\u001b[0m \u001b[0mname\u001b[0m\u001b[0;34m)\u001b[0m\u001b[0;34m\u001b[0m\u001b[0;34m\u001b[0m\u001b[0m\n\u001b[0m\u001b[1;32m   5488\u001b[0m \u001b[0;34m\u001b[0m\u001b[0m\n\u001b[1;32m   5489\u001b[0m     \u001b[0;32mdef\u001b[0m \u001b[0m__setattr__\u001b[0m\u001b[0;34m(\u001b[0m\u001b[0mself\u001b[0m\u001b[0;34m,\u001b[0m \u001b[0mname\u001b[0m\u001b[0;34m:\u001b[0m \u001b[0mstr\u001b[0m\u001b[0;34m,\u001b[0m \u001b[0mvalue\u001b[0m\u001b[0;34m)\u001b[0m \u001b[0;34m->\u001b[0m \u001b[0;32mNone\u001b[0m\u001b[0;34m:\u001b[0m\u001b[0;34m\u001b[0m\u001b[0;34m\u001b[0m\u001b[0m\n",
      "\u001b[0;31mAttributeError\u001b[0m: 'DataFrame' object has no attribute 'sort'"
     ]
    },
    {
     "data": {
      "image/png": "[encoded data removed]",
      "text/plain": [
       "<Figure size 432x288 with 1 Axes>"
      ]
     },
     "metadata": {
      "needs_background": "light"
     },
     "output_type": "display_data"
    },
    {
     "data": {
      "image/png": "[encoded data removed]",
      "text/plain": [
       "<Figure size 432x288 with 1 Axes>"
      ]
     },
     "metadata": {
      "needs_background": "light"
     },
     "output_type": "display_data"
    }
   ],
   "source": [
    "def reg_fit(df):\n",
    "    import statsmodels.formula.api as smf\n",
    "    import statsmodels.graphics.api as smg\n",
    "    global b0, b1, ped_fit\n",
    "    # df[\"Price_Eggs\"] = df[\"Price.Eggs\"]\n",
    "    ped_fit = smf.ols(formula='Quantity ~ Price',data=df).fit()\n",
    "    ped_fit.summary()\n",
    "    #Linear format of the model: y = b0 + b1*x\n",
    "    b0 = ped_fit.params[\"Intercept\"]\n",
    "    b1 = ped_fit.params[\"Price\"]\n",
    "    smg.plot_fit(ped_fit,1)\n",
    "    \n",
    "    return b0, b1, ped_fit\n",
    "\n",
    "def value_loop(b0,b1,point_est):\n",
    "    global a_matrix\n",
    "    y = []\n",
    "    x = []\n",
    "    a_m = []\n",
    "    x_int = -b0/b1 #negative b0 intercept as a part of negative slope of line\n",
    "    it = x_int/point_est\n",
    "    n = 0\n",
    "    while n < x_int:\n",
    "        y_calc = b0+(b1*n)\n",
    "        y.append(y_calc)\n",
    "        x.append(n)\n",
    "        a_m.append(y_calc*n)\n",
    "        n = n + it\n",
    "    y = pd.Series(y)\n",
    "    x = pd.Series(x)\n",
    "    a_m = pd.Series(a_m)\n",
    "    a_matrix = pd.DataFrame({\"y\":y,\"x\":x,\"area\":a_m})\n",
    "    a_matrix.plot(kind='scatter', x='x', y='area')\n",
    "    \n",
    "    text = \"The Unit Price Elasticity of Demand for this model is estimated to be: $\"\n",
    "    text2 = \"This has a total revenue of: $\"\n",
    "    \n",
    "    max_area = a_matrix[\"area\"].max()\n",
    "    s_m = a_matrix.sort('area',ascending=False)\n",
    "    unit_elastic_price = s_m.iloc[0]['y']\n",
    "    print(text (str(round(unit_elastic_price,2))))\n",
    "    print(text2+(str(round(max_area,2))))\n",
    "    return\n",
    "\n",
    "reg_fit(df)\n",
    "value_loop(b0,b1,point_est)"
   ]
  },
  {
   "cell_type": "code",
   "execution_count": null,
   "id": "bc30d88a-0914-4592-8fb8-368d017f7ecb",
   "metadata": {},
   "outputs": [],
   "source": []
  }
 ],
 "metadata": {
  "kernelspec": {
   "display_name": "Python 3 (ipykernel)",
   "language": "python",
   "name": "python3"
  },
  "language_info": {
   "codemirror_mode": {
    "name": "ipython",
    "version": 3
   },
   "file_extension": ".py",
   "mimetype": "text/x-python",
   "name": "python",
   "nbconvert_exporter": "python",
   "pygments_lexer": "ipython3",
   "version": "3.8.12"
  }
 },
 "nbformat": 4,
 "nbformat_minor": 5
}

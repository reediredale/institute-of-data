{
 "cells": [
  {
   "cell_type": "markdown",
   "id": "886bede8-e964-47ce-a992-3b018e786db0",
   "metadata": {
    "tags": []
   },
   "source": [
    "## Price Elasticity of Demand (cross-price elasticity located after price elasticity)\n",
    "\n",
    "In the following analysis, we select Dan Murphy products as our main price elasticity analysis. For future reference, the goal then is to have this model so it can be implemented in every kind of category throughout the business.\n",
    "\n",
    "**Hypothesis Proposed**\n",
    "   \n",
    "- From the Dan Murphy Craft Beer sales sample data in 2021, Is impression demand sensitive to its own product price changes? If yes, by how much is impression demand sensitive to price change?\n",
    "\n",
    "**Machine Learning Model**\n",
    "    \n",
    "- Linear Regression\n",
    "\n",
    "**Price Elasticity Formula**\n",
    "\n",
    "- The price elasticity in demand is defined as the percentage change in quantity demanded divided by the percentage change in price (2003, OECD). In this model, price-elasticity is the calculation of how sensitive impression demand is to price change\n",
    "\n",
    "   **Quantity percentage change / Price percentage change * Price Mean / Quantity Mean** (2019,John Doe)\n",
    "   \n",
    "## Content\n",
    "\n",
    "### Price Elasticity\n",
    "\n",
    "- **3.1.1 Sample Selection**\n",
    "- **3.1.2 Sample Imputation**\n",
    "- **3.1.3 Linear Regression Model**\n",
    "- **3.1.4 Price Elasticity Null Hypothesis**\n",
    "- **3.1.5 Price Elasticity Results**\n",
    "\n",
    "### Cross-Price Elasticity Matrix\n",
    "\n",
    "- **3.2.1 Cross - Price Elasticity Definition**\n",
    "- **3.2.2 Cross - Price Elasticity Matrix Function (Multi Linear Regression)**\n",
    "- **3.2.3 Cross - Price Elasticity 12 MacBook (Mid 2017, Silver) Case**\n",
    "- **3.2.4  Cross - Price Elasticity 12 MacBook (Mid 2017, Silver) Conclusion**\n"
   ]
  },
  {
   "cell_type": "code",
   "execution_count": 235,
   "id": "10a30001-2d43-43f1-8480-8ab8e4b5a0df",
   "metadata": {},
   "outputs": [],
   "source": [
    "%matplotlib inline\n",
    "\n",
    "from __future__ import print_function\n",
    "from statsmodels.compat import lzip\n",
    "import numpy as np\n",
    "import pandas as pd\n",
    "import matplotlib.pyplot as plt\n",
    "import seaborn as sns\n",
    "\n",
    "import statsmodels.api as sm\n",
    "from statsmodels.formula.api import ols\n",
    "import csv\n"
   ]
  },
  {
   "cell_type": "code",
   "execution_count": 236,
   "id": "26014612-17cd-420b-a509-815cb1c0ee89",
   "metadata": {},
   "outputs": [],
   "source": [
    "beer = pd.read_csv('beer.csv')"
   ]
  },
  {
   "cell_type": "code",
   "execution_count": 237,
   "id": "80af0489-bff6-45b6-904a-681246e669c7",
   "metadata": {},
   "outputs": [
    {
     "data": {
      "text/html": [
       "<div>\n",
       "<style scoped>\n",
       "    .dataframe tbody tr th:only-of-type {\n",
       "        vertical-align: middle;\n",
       "    }\n",
       "\n",
       "    .dataframe tbody tr th {\n",
       "        vertical-align: top;\n",
       "    }\n",
       "\n",
       "    .dataframe thead th {\n",
       "        text-align: right;\n",
       "    }\n",
       "</style>\n",
       "<table border=\"1\" class=\"dataframe\">\n",
       "  <thead>\n",
       "    <tr style=\"text-align: right;\">\n",
       "      <th></th>\n",
       "      <th>brand</th>\n",
       "      <th>product</th>\n",
       "      <th>size</th>\n",
       "      <th>q1</th>\n",
       "      <th>q1_sales</th>\n",
       "      <th>q2</th>\n",
       "      <th>q2_sales</th>\n",
       "      <th>q3</th>\n",
       "      <th>q3_sales</th>\n",
       "      <th>q4</th>\n",
       "      <th>q4_sales</th>\n",
       "    </tr>\n",
       "  </thead>\n",
       "  <tbody>\n",
       "    <tr>\n",
       "      <th>0</th>\n",
       "      <td>Stone &amp; Wood</td>\n",
       "      <td>Pacific Ale Bottles 330mL</td>\n",
       "      <td>6</td>\n",
       "      <td>$24.49</td>\n",
       "      <td>21819</td>\n",
       "      <td>$24.49</td>\n",
       "      <td>19134</td>\n",
       "      <td>$24.49</td>\n",
       "      <td>21826</td>\n",
       "      <td>$24.49</td>\n",
       "      <td>15137</td>\n",
       "    </tr>\n",
       "    <tr>\n",
       "      <th>1</th>\n",
       "      <td>James Squire</td>\n",
       "      <td>One Fifty Lashes Pale Ale Bottles 345mL</td>\n",
       "      <td>6</td>\n",
       "      <td>$22.99</td>\n",
       "      <td>19836</td>\n",
       "      <td>$22.99</td>\n",
       "      <td>17690</td>\n",
       "      <td>$22.99</td>\n",
       "      <td>21701</td>\n",
       "      <td>$22.99</td>\n",
       "      <td>19772</td>\n",
       "    </tr>\n",
       "    <tr>\n",
       "      <th>2</th>\n",
       "      <td>Little Creatures</td>\n",
       "      <td>Pale Ale Bottles 330mL</td>\n",
       "      <td>6</td>\n",
       "      <td>$21.95</td>\n",
       "      <td>21978</td>\n",
       "      <td>$21.95</td>\n",
       "      <td>17007</td>\n",
       "      <td>$21.95</td>\n",
       "      <td>16613</td>\n",
       "      <td>$21.95</td>\n",
       "      <td>16784</td>\n",
       "    </tr>\n",
       "    <tr>\n",
       "      <th>3</th>\n",
       "      <td>Balter</td>\n",
       "      <td>XPA Cans 375mL</td>\n",
       "      <td>4</td>\n",
       "      <td>$18.99</td>\n",
       "      <td>21079</td>\n",
       "      <td>$18.99</td>\n",
       "      <td>15369</td>\n",
       "      <td>$18.99</td>\n",
       "      <td>15261</td>\n",
       "      <td>$18.99</td>\n",
       "      <td>20366</td>\n",
       "    </tr>\n",
       "    <tr>\n",
       "      <th>4</th>\n",
       "      <td>Mountain Goat</td>\n",
       "      <td>Very Enjoyable Beer Cans 375mL</td>\n",
       "      <td>6</td>\n",
       "      <td>$18.99</td>\n",
       "      <td>18231</td>\n",
       "      <td>$18.99</td>\n",
       "      <td>16390</td>\n",
       "      <td>$18.99</td>\n",
       "      <td>16251</td>\n",
       "      <td>$18.99</td>\n",
       "      <td>21239</td>\n",
       "    </tr>\n",
       "    <tr>\n",
       "      <th>5</th>\n",
       "      <td>Furphy</td>\n",
       "      <td>Refreshing Ale Bottles 375mL</td>\n",
       "      <td>6</td>\n",
       "      <td>$20.99</td>\n",
       "      <td>18980</td>\n",
       "      <td>$20.99</td>\n",
       "      <td>16750</td>\n",
       "      <td>$20.99</td>\n",
       "      <td>21439</td>\n",
       "      <td>$20.99</td>\n",
       "      <td>17814</td>\n",
       "    </tr>\n",
       "    <tr>\n",
       "      <th>6</th>\n",
       "      <td>Burleigh</td>\n",
       "      <td>Big Head No Carb Beer 330mL</td>\n",
       "      <td>6</td>\n",
       "      <td>$21.95</td>\n",
       "      <td>18773</td>\n",
       "      <td>$21.95</td>\n",
       "      <td>21194</td>\n",
       "      <td>$21.95</td>\n",
       "      <td>16165</td>\n",
       "      <td>$21.95</td>\n",
       "      <td>17109</td>\n",
       "    </tr>\n",
       "    <tr>\n",
       "      <th>7</th>\n",
       "      <td>Young Henrys</td>\n",
       "      <td>Newtowner Pale Ale Cans 375mL</td>\n",
       "      <td>6</td>\n",
       "      <td>$21.45</td>\n",
       "      <td>16300</td>\n",
       "      <td>$21.45</td>\n",
       "      <td>18018</td>\n",
       "      <td>$21.45</td>\n",
       "      <td>15534</td>\n",
       "      <td>$21.45</td>\n",
       "      <td>15106</td>\n",
       "    </tr>\n",
       "    <tr>\n",
       "      <th>8</th>\n",
       "      <td>Gage Roads</td>\n",
       "      <td>Single Fin Summer Ale Bottles 330mL</td>\n",
       "      <td>6</td>\n",
       "      <td>$19.95</td>\n",
       "      <td>20299</td>\n",
       "      <td>$19.95</td>\n",
       "      <td>19876</td>\n",
       "      <td>$19.95</td>\n",
       "      <td>19806</td>\n",
       "      <td>$19.95</td>\n",
       "      <td>18910</td>\n",
       "    </tr>\n",
       "    <tr>\n",
       "      <th>9</th>\n",
       "      <td>4 Pines</td>\n",
       "      <td>Pale Ale Bottles 330mL</td>\n",
       "      <td>6</td>\n",
       "      <td>$19.95</td>\n",
       "      <td>17544</td>\n",
       "      <td>$19.95</td>\n",
       "      <td>21325</td>\n",
       "      <td>$19.95</td>\n",
       "      <td>18370</td>\n",
       "      <td>$19.95</td>\n",
       "      <td>19873</td>\n",
       "    </tr>\n",
       "  </tbody>\n",
       "</table>\n",
       "</div>"
      ],
      "text/plain": [
       "              brand                                  product  size      q1  \\\n",
       "0      Stone & Wood                Pacific Ale Bottles 330mL     6  $24.49   \n",
       "1      James Squire  One Fifty Lashes Pale Ale Bottles 345mL     6  $22.99   \n",
       "2  Little Creatures                   Pale Ale Bottles 330mL     6  $21.95   \n",
       "3            Balter                           XPA Cans 375mL     4  $18.99   \n",
       "4     Mountain Goat           Very Enjoyable Beer Cans 375mL     6  $18.99   \n",
       "5            Furphy             Refreshing Ale Bottles 375mL     6  $20.99   \n",
       "6          Burleigh              Big Head No Carb Beer 330mL     6  $21.95   \n",
       "7      Young Henrys            Newtowner Pale Ale Cans 375mL     6  $21.45   \n",
       "8        Gage Roads      Single Fin Summer Ale Bottles 330mL     6  $19.95   \n",
       "9           4 Pines                   Pale Ale Bottles 330mL     6  $19.95   \n",
       "\n",
       "   q1_sales      q2  q2_sales      q3  q3_sales      q4  q4_sales  \n",
       "0     21819  $24.49     19134  $24.49     21826  $24.49     15137  \n",
       "1     19836  $22.99     17690  $22.99     21701  $22.99     19772  \n",
       "2     21978  $21.95     17007  $21.95     16613  $21.95     16784  \n",
       "3     21079  $18.99     15369  $18.99     15261  $18.99     20366  \n",
       "4     18231  $18.99     16390  $18.99     16251  $18.99     21239  \n",
       "5     18980  $20.99     16750  $20.99     21439  $20.99     17814  \n",
       "6     18773  $21.95     21194  $21.95     16165  $21.95     17109  \n",
       "7     16300  $21.45     18018  $21.45     15534  $21.45     15106  \n",
       "8     20299  $19.95     19876  $19.95     19806  $19.95     18910  \n",
       "9     17544  $19.95     21325  $19.95     18370  $19.95     19873  "
      ]
     },
     "execution_count": 237,
     "metadata": {},
     "output_type": "execute_result"
    }
   ],
   "source": [
    "beer.head(10)"
   ]
  },
  {
   "cell_type": "code",
   "execution_count": 238,
   "id": "885fe43f-c01a-4666-b88d-bc180d21cd49",
   "metadata": {},
   "outputs": [
    {
     "data": {
      "text/plain": [
       "brand       0\n",
       "product     0\n",
       "size        0\n",
       "q1          0\n",
       "q1_sales    0\n",
       "q2          0\n",
       "q2_sales    0\n",
       "q3          0\n",
       "q3_sales    0\n",
       "q4          0\n",
       "q4_sales    0\n",
       "dtype: int64"
      ]
     },
     "execution_count": 238,
     "metadata": {},
     "output_type": "execute_result"
    }
   ],
   "source": [
    "beer.isnull().sum()"
   ]
  },
  {
   "cell_type": "code",
   "execution_count": 239,
   "id": "e2f9b27a-d66a-4d6d-9463-a674cd90153c",
   "metadata": {},
   "outputs": [],
   "source": [
    "# Change headers to slugs"
   ]
  },
  {
   "cell_type": "code",
   "execution_count": null,
   "id": "5dd08847-89b3-4d6c-9baf-8b0afa00502c",
   "metadata": {},
   "outputs": [],
   "source": []
  },
  {
   "cell_type": "code",
   "execution_count": null,
   "id": "a0bdfba5-8b8e-4584-b015-13f35a3cd654",
   "metadata": {},
   "outputs": [],
   "source": []
  },
  {
   "cell_type": "code",
   "execution_count": 240,
   "id": "e96c58a0-50db-44dc-9968-658bae282ebd",
   "metadata": {},
   "outputs": [],
   "source": [
    "## Regular Expression for Small Packs and Case/Cartons"
   ]
  },
  {
   "cell_type": "code",
   "execution_count": 241,
   "id": "5ea37d9c-c558-4325-a120-1307e97e310c",
   "metadata": {},
   "outputs": [],
   "source": [
    "import re"
   ]
  },
  {
   "cell_type": "code",
   "execution_count": null,
   "id": "953688c0-206c-4c8a-a6cc-319c3f61fe1e",
   "metadata": {},
   "outputs": [],
   "source": []
  },
  {
   "cell_type": "code",
   "execution_count": 242,
   "id": "40d920af-959f-40e1-b027-7f513ce64b0c",
   "metadata": {},
   "outputs": [
    {
     "data": {
      "text/plain": [
       "0     24.49\n",
       "1     22.99\n",
       "2     21.95\n",
       "3     18.99\n",
       "4     18.99\n",
       "5     20.99\n",
       "6     21.95\n",
       "7     21.45\n",
       "8     19.95\n",
       "9     19.95\n",
       "10    18.99\n",
       "11    14.95\n",
       "12    18.99\n",
       "13    19.99\n",
       "14    20.99\n",
       "15    18.99\n",
       "16    21.49\n",
       "17    18.99\n",
       "18    18.99\n",
       "19    23.39\n",
       "20    26.49\n",
       "21    23.99\n",
       "22    21.49\n",
       "23    24.99\n",
       "24    24.99\n",
       "25    23.99\n",
       "26    19.99\n",
       "27    21.49\n",
       "28    15.99\n",
       "Name: q1_price, dtype: object"
      ]
     },
     "execution_count": 242,
     "metadata": {},
     "output_type": "execute_result"
    }
   ],
   "source": [
    "# [re.findall(r\"\\d+\\.\\d+\", str(val))\n",
    "#     for val in beer.small_pack_price_og]    \n",
    "# that should extract all the price for that column\n",
    "\n",
    "beer['q1_price'] = beer['q1'].str.extract(r\"(\\d+\\.\\d+)\", expand=True)\n",
    "beer['q1_price']"
   ]
  },
  {
   "cell_type": "code",
   "execution_count": 243,
   "id": "0fb84644-5a68-4bd2-a19b-ba347800a470",
   "metadata": {},
   "outputs": [
    {
     "data": {
      "text/plain": [
       "0     24.49\n",
       "1     22.99\n",
       "2     21.95\n",
       "3     18.99\n",
       "4     18.99\n",
       "5     20.99\n",
       "6     21.95\n",
       "7     21.45\n",
       "8     19.95\n",
       "9     19.95\n",
       "10    18.99\n",
       "11    14.95\n",
       "12    18.99\n",
       "13    19.99\n",
       "14    20.99\n",
       "15    18.99\n",
       "16    21.49\n",
       "17    18.99\n",
       "18    18.99\n",
       "19    23.39\n",
       "20    26.49\n",
       "21    23.99\n",
       "22    21.49\n",
       "23    24.99\n",
       "24    24.99\n",
       "25    23.99\n",
       "26    19.99\n",
       "27    21.49\n",
       "28    15.99\n",
       "Name: q2_price, dtype: object"
      ]
     },
     "execution_count": 243,
     "metadata": {},
     "output_type": "execute_result"
    }
   ],
   "source": [
    "# [re.findall(r\"\\d+\\.\\d+\", str(val))\n",
    "#     for val in beer.case_carton_price_og]    \n",
    "# that should extract all the price for that column\n",
    "\n",
    "beer['q2_price'] = beer['q2'].str.extract(r\"(\\d+\\.\\d+)\", expand=True)\n",
    "beer['q2_price']"
   ]
  },
  {
   "cell_type": "code",
   "execution_count": 244,
   "id": "9b1d4e33-bfa1-4837-83b5-2a557b6fc357",
   "metadata": {},
   "outputs": [
    {
     "data": {
      "text/plain": [
       "0     24.49\n",
       "1     22.99\n",
       "2     21.95\n",
       "3     18.99\n",
       "4     18.99\n",
       "5     20.99\n",
       "6     21.95\n",
       "7     21.45\n",
       "8     19.95\n",
       "9     19.95\n",
       "10    18.99\n",
       "11    14.95\n",
       "12    18.99\n",
       "13    19.99\n",
       "14    20.99\n",
       "15    18.99\n",
       "16    21.49\n",
       "17    18.99\n",
       "18    18.99\n",
       "19    23.39\n",
       "20    26.49\n",
       "21    23.99\n",
       "22    21.49\n",
       "23    24.99\n",
       "24    24.99\n",
       "25    23.99\n",
       "26    19.99\n",
       "27    21.49\n",
       "28    15.99\n",
       "Name: q3_price, dtype: object"
      ]
     },
     "execution_count": 244,
     "metadata": {},
     "output_type": "execute_result"
    }
   ],
   "source": [
    "# [re.findall(r\"\\((\\d+)\\)\", str(val))\n",
    "#     for val in beer.small_pack_price_og]    \n",
    "# that should extract all the number of small packs item amounts\n",
    "\n",
    "beer['q3_price'] = beer['q3'].str.extract(r\"(\\d+\\.\\d+)\", expand=True)\n",
    "beer['q3_price']"
   ]
  },
  {
   "cell_type": "code",
   "execution_count": 245,
   "id": "c033e98b-e482-45f0-8cad-4e6f52937649",
   "metadata": {},
   "outputs": [
    {
     "data": {
      "text/plain": [
       "0     24.49\n",
       "1     22.99\n",
       "2     21.95\n",
       "3     18.99\n",
       "4     18.99\n",
       "5     20.99\n",
       "6     21.95\n",
       "7     21.45\n",
       "8     19.95\n",
       "9     19.95\n",
       "10    18.99\n",
       "11    14.95\n",
       "12    18.99\n",
       "13    19.99\n",
       "14    20.99\n",
       "15    18.99\n",
       "16    21.49\n",
       "17    18.99\n",
       "18    18.99\n",
       "19    23.39\n",
       "20    26.49\n",
       "21    23.99\n",
       "22    21.49\n",
       "23    24.99\n",
       "24    24.99\n",
       "25    23.99\n",
       "26    19.99\n",
       "27    21.49\n",
       "28    15.99\n",
       "Name: q4_price, dtype: object"
      ]
     },
     "execution_count": 245,
     "metadata": {},
     "output_type": "execute_result"
    }
   ],
   "source": [
    "\n",
    "# [re.findall(r\"\\((\\d+)\\)\", str(val))\n",
    "#     for val in beer.case_carton_price_og]    \n",
    "# that should extract all the number of small packs item amounts\n",
    "\n",
    "beer['q4_price'] = beer['q4'].str.extract(r\"(\\d+\\.\\d+)\", expand=True)\n",
    "beer['q4_price']"
   ]
  },
  {
   "cell_type": "code",
   "execution_count": null,
   "id": "0da05295-38cc-4f7c-8c2b-99f0f012bf4c",
   "metadata": {},
   "outputs": [],
   "source": []
  },
  {
   "cell_type": "code",
   "execution_count": null,
   "id": "26a68096-d80a-401a-a115-e3c98ac8b43f",
   "metadata": {},
   "outputs": [],
   "source": []
  },
  {
   "cell_type": "code",
   "execution_count": 246,
   "id": "a321ea14-f5fd-4da3-9c88-e0e36c4e1e29",
   "metadata": {},
   "outputs": [],
   "source": [
    "import warnings\n",
    "warnings.filterwarnings('ignore')"
   ]
  },
  {
   "cell_type": "code",
   "execution_count": 247,
   "id": "258db680-5b12-4c84-b812-1be64ebb71fb",
   "metadata": {},
   "outputs": [],
   "source": [
    "beer['title'] = beer['brand'] + ' ' + beer['product']"
   ]
  },
  {
   "cell_type": "code",
   "execution_count": 248,
   "id": "9d921ce9-192f-488d-a964-d5312f250cc0",
   "metadata": {},
   "outputs": [],
   "source": [
    "beer['date'] = '31-03-2021'"
   ]
  },
  {
   "cell_type": "code",
   "execution_count": 249,
   "id": "0ec42333-74c6-435b-ad1a-67db8a90e938",
   "metadata": {},
   "outputs": [],
   "source": [
    "beer['quantity'] = beer['q1_sales'] + beer['q2_sales'] + beer['q3_sales'] + beer['q4_sales']\n",
    "beer['price'] = beer['q1_price']"
   ]
  },
  {
   "cell_type": "code",
   "execution_count": 250,
   "id": "63bf51b8-d13c-4cd0-889f-1cfaef389994",
   "metadata": {},
   "outputs": [],
   "source": [
    "small_set = beer.iloc[:3].drop(['q1', 'q1_price', 'q1_sales', 'q2', 'q2_price', 'q2_sales', 'q3', 'q3_price', 'q3_sales', 'q4', 'q4_price', 'q4_sales', 'size', 'brand', 'product'], axis = 1)"
   ]
  },
  {
   "cell_type": "code",
   "execution_count": 255,
   "id": "2e8ec113-5c29-4027-b3f8-9846ae2379d6",
   "metadata": {},
   "outputs": [
    {
     "data": {
      "text/html": [
       "<div>\n",
       "<style scoped>\n",
       "    .dataframe tbody tr th:only-of-type {\n",
       "        vertical-align: middle;\n",
       "    }\n",
       "\n",
       "    .dataframe tbody tr th {\n",
       "        vertical-align: top;\n",
       "    }\n",
       "\n",
       "    .dataframe thead th {\n",
       "        text-align: right;\n",
       "    }\n",
       "</style>\n",
       "<table border=\"1\" class=\"dataframe\">\n",
       "  <thead>\n",
       "    <tr style=\"text-align: right;\">\n",
       "      <th></th>\n",
       "      <th>title</th>\n",
       "      <th>date</th>\n",
       "      <th>quantity</th>\n",
       "      <th>price</th>\n",
       "    </tr>\n",
       "  </thead>\n",
       "  <tbody>\n",
       "    <tr>\n",
       "      <th>0</th>\n",
       "      <td>Stone &amp; Wood Pacific Ale Bottles 330mL</td>\n",
       "      <td>31-03-2021</td>\n",
       "      <td>77916</td>\n",
       "      <td>24.49</td>\n",
       "    </tr>\n",
       "    <tr>\n",
       "      <th>1</th>\n",
       "      <td>James Squire One Fifty Lashes Pale Ale Bottles...</td>\n",
       "      <td>31-03-2021</td>\n",
       "      <td>78999</td>\n",
       "      <td>22.99</td>\n",
       "    </tr>\n",
       "    <tr>\n",
       "      <th>2</th>\n",
       "      <td>Little Creatures Pale Ale Bottles 330mL</td>\n",
       "      <td>31-03-2021</td>\n",
       "      <td>72382</td>\n",
       "      <td>21.95</td>\n",
       "    </tr>\n",
       "  </tbody>\n",
       "</table>\n",
       "</div>"
      ],
      "text/plain": [
       "                                               title        date  quantity  \\\n",
       "0             Stone & Wood Pacific Ale Bottles 330mL  31-03-2021     77916   \n",
       "1  James Squire One Fifty Lashes Pale Ale Bottles...  31-03-2021     78999   \n",
       "2            Little Creatures Pale Ale Bottles 330mL  31-03-2021     72382   \n",
       "\n",
       "   price  \n",
       "0  24.49  \n",
       "1  22.99  \n",
       "2  21.95  "
      ]
     },
     "execution_count": 255,
     "metadata": {},
     "output_type": "execute_result"
    }
   ],
   "source": [
    "small_set"
   ]
  },
  {
   "cell_type": "code",
   "execution_count": 256,
   "id": "bb4d449c-ba96-449e-8ea7-4d39dff1e9f8",
   "metadata": {},
   "outputs": [
    {
     "name": "stdout",
     "output_type": "stream",
     "text": [
      "         date James Squire One Fifty Lashes Pale Ale Bottles 345mL  \\\n",
      "0  31-03-2021                                              22.99     \n",
      "\n",
      "  Little Creatures Pale Ale Bottles 330mL  \\\n",
      "0                                   21.95   \n",
      "\n",
      "  Stone & Wood Pacific Ale Bottles 330mL  \n",
      "0                                  24.49  \n"
     ]
    }
   ],
   "source": [
    "#Format and build a dataframe with x_values for each product within the category\n",
    "x_pivot = small_set.pivot( index='date', columns='title' ,values='price' )\n",
    "x_values = pd.DataFrame(x_pivot.to_records())\n",
    "x_values.dropna()\n",
    "print(x_values)"
   ]
  },
  {
   "cell_type": "code",
   "execution_count": 257,
   "id": "ba7dd730-c98e-46b7-b4de-9e4c85049578",
   "metadata": {},
   "outputs": [
    {
     "name": "stdout",
     "output_type": "stream",
     "text": [
      "         date  James Squire One Fifty Lashes Pale Ale Bottles 345mL  \\\n",
      "0  31-03-2021                                              78999      \n",
      "\n",
      "   Little Creatures Pale Ale Bottles 330mL  \\\n",
      "0                                    72382   \n",
      "\n",
      "   Stone & Wood Pacific Ale Bottles 330mL  \n",
      "0                                   77916  \n"
     ]
    }
   ],
   "source": [
    "#Format and build a dataframe with y_values for each product within the category\n",
    "y_pivot = small_set.pivot( index='date', columns='title' ,values='quantity' )\n",
    "y_values = pd.DataFrame(y_pivot.to_records())\n",
    "print(y_values)"
   ]
  },
  {
   "cell_type": "code",
   "execution_count": 261,
   "id": "f0b4aead-6a3d-4079-ad7f-fefc22c3f48c",
   "metadata": {},
   "outputs": [
    {
     "ename": "TypeError",
     "evalue": "ufunc 'isnan' not supported for the input types, and the inputs could not be safely coerced to any supported types according to the casting rule ''safe''",
     "output_type": "error",
     "traceback": [
      "\u001b[0;31m---------------------------------------------------------------------------\u001b[0m",
      "\u001b[0;31mTypeError\u001b[0m                                 Traceback (most recent call last)",
      "\u001b[0;32m/var/folders/vp/k70yvwj57vd00y1yn6zl3mkr0000gn/T/ipykernel_4626/18294931.py\u001b[0m in \u001b[0;36m<module>\u001b[0;34m\u001b[0m\n\u001b[1;32m     14\u001b[0m     \u001b[0mcolumn_points\u001b[0m \u001b[0;34m=\u001b[0m \u001b[0;34m[\u001b[0m\u001b[0;34m]\u001b[0m\u001b[0;34m\u001b[0m\u001b[0;34m\u001b[0m\u001b[0m\n\u001b[1;32m     15\u001b[0m     \u001b[0;32mfor\u001b[0m \u001b[0mi\u001b[0m \u001b[0;32min\u001b[0m \u001b[0mrange\u001b[0m\u001b[0;34m(\u001b[0m\u001b[0mlen\u001b[0m\u001b[0;34m(\u001b[0m\u001b[0mx_values\u001b[0m\u001b[0;34m[\u001b[0m\u001b[0mcolumn\u001b[0m\u001b[0;34m]\u001b[0m\u001b[0;34m)\u001b[0m\u001b[0;34m)\u001b[0m\u001b[0;34m:\u001b[0m\u001b[0;34m\u001b[0m\u001b[0;34m\u001b[0m\u001b[0m\n\u001b[0;32m---> 16\u001b[0;31m         \u001b[0;32mif\u001b[0m \u001b[0;32mnot\u001b[0m \u001b[0mnp\u001b[0m\u001b[0;34m.\u001b[0m\u001b[0misnan\u001b[0m\u001b[0;34m(\u001b[0m\u001b[0mx_values\u001b[0m\u001b[0;34m[\u001b[0m\u001b[0mcolumn\u001b[0m\u001b[0;34m]\u001b[0m\u001b[0;34m[\u001b[0m\u001b[0mi\u001b[0m\u001b[0;34m]\u001b[0m\u001b[0;34m)\u001b[0m \u001b[0;32mand\u001b[0m \u001b[0;32mnot\u001b[0m \u001b[0mnp\u001b[0m\u001b[0;34m.\u001b[0m\u001b[0misnan\u001b[0m\u001b[0;34m(\u001b[0m\u001b[0my_values\u001b[0m\u001b[0;34m[\u001b[0m\u001b[0mcolumn\u001b[0m\u001b[0;34m]\u001b[0m\u001b[0;34m[\u001b[0m\u001b[0mi\u001b[0m\u001b[0;34m]\u001b[0m\u001b[0;34m)\u001b[0m\u001b[0;34m:\u001b[0m\u001b[0;34m\u001b[0m\u001b[0;34m\u001b[0m\u001b[0m\n\u001b[0m\u001b[1;32m     17\u001b[0m             \u001b[0mcolumn_points\u001b[0m\u001b[0;34m.\u001b[0m\u001b[0mappend\u001b[0m\u001b[0;34m(\u001b[0m\u001b[0;34m(\u001b[0m\u001b[0mx_values\u001b[0m\u001b[0;34m[\u001b[0m\u001b[0mcolumn\u001b[0m\u001b[0;34m]\u001b[0m\u001b[0;34m[\u001b[0m\u001b[0mi\u001b[0m\u001b[0;34m]\u001b[0m\u001b[0;34m,\u001b[0m \u001b[0my_values\u001b[0m\u001b[0;34m[\u001b[0m\u001b[0mcolumn\u001b[0m\u001b[0;34m]\u001b[0m\u001b[0;34m[\u001b[0m\u001b[0mi\u001b[0m\u001b[0;34m]\u001b[0m\u001b[0;34m)\u001b[0m\u001b[0;34m)\u001b[0m\u001b[0;34m\u001b[0m\u001b[0;34m\u001b[0m\u001b[0m\n\u001b[1;32m     18\u001b[0m     \u001b[0mdf\u001b[0m \u001b[0;34m=\u001b[0m \u001b[0mpd\u001b[0m\u001b[0;34m.\u001b[0m\u001b[0mDataFrame\u001b[0m\u001b[0;34m(\u001b[0m\u001b[0mlist\u001b[0m\u001b[0;34m(\u001b[0m\u001b[0mcolumn_points\u001b[0m\u001b[0;34m)\u001b[0m\u001b[0;34m,\u001b[0m \u001b[0mcolumns\u001b[0m\u001b[0;34m=\u001b[0m \u001b[0;34m[\u001b[0m\u001b[0;34m'x_value'\u001b[0m\u001b[0;34m,\u001b[0m \u001b[0;34m'y_value'\u001b[0m\u001b[0;34m]\u001b[0m\u001b[0;34m)\u001b[0m\u001b[0;34m\u001b[0m\u001b[0;34m\u001b[0m\u001b[0m\n",
      "\u001b[0;31mTypeError\u001b[0m: ufunc 'isnan' not supported for the input types, and the inputs could not be safely coerced to any supported types according to the casting rule ''safe''"
     ]
    }
   ],
   "source": [
    "points = []\n",
    "results_values = {\n",
    "    \"title\": [],\n",
    "    \"price_elasticity\": [],\n",
    "    \"price_mean\": [],\n",
    "    \"quantity_mean\": [],\n",
    "    \"intercept\": [],\n",
    "    \"t_score\":[],\n",
    "    \"slope\": [],\n",
    "    \"coefficient_pvalue\" : [],\n",
    "}\n",
    "\n",
    "#Append x_values with y_values per same product name\n",
    "for column in x_values.columns[1:]:\n",
    "    column_points = []\n",
    "    for i in range(len(x_values[column])):\n",
    "        if not np.isnan(x_values[column][i]) and not np.isnan(y_values[column][i]):\n",
    "            column_points.append((x_values[column][i], y_values[column][i]))\n",
    "    df = pd.DataFrame(list(column_points), columns= ['x_value', 'y_value'])\n",
    "\n",
    "\n",
    "    #Linear Regression Model\n",
    "    import statsmodels.api as sm\n",
    "    x_value = df['x_value']\n",
    "    y_value = df['y_value']\n",
    "    X = sm.add_constant(x_value)\n",
    "    model = sm.OLS(y_value, X)\n",
    "    result = model.fit()\n",
    "    \n",
    "    #(Null Hypothesis test) Coefficient with a p value less than 0.05\n",
    "    if result.f_pvalue < 0.05:\n",
    "        \n",
    "        rsquared = result.rsquared\n",
    "        coefficient_pvalue = result.f_pvalue\n",
    "        intercept, slope = result.params\n",
    "        mean_price = np.mean(x_value)\n",
    "        mean_quantity = np.mean(y_value)\n",
    "        tintercept, t_score = result.tvalues\n",
    "     \n",
    "        #Price elasticity Formula\n",
    "        price_elasticity = (slope)*(mean_price/mean_quantity)    \n",
    "            \n",
    "        #Append results into dictionary for dataframe\n",
    "        results_values[\"ProductID\"].append(column)\n",
    "        results_values[\"price_elasticity\"].append(price_elasticity)\n",
    "        results_values[\"price_mean\"].append(mean_price)\n",
    "        results_values[\"quantity_mean\"].append(mean_quantity)\n",
    "        results_values[\"intercept\"].append(intercept)\n",
    "        results_values['t_score'].append(t_score)\n",
    "        results_values[\"slope\"].append(slope)\n",
    "        results_values[\"coefficient_pvalue\"].append(coefficient_pvalue)\n",
    "        \n",
    "final_df = pd.DataFrame.from_dict(results_values)\n",
    "df_elasticity = final_df[['ProductID','price_elasticity','t_score','coefficient_pvalue','slope','price_mean','quantity_mean','intercept']]\n",
    "df_elasticity"
   ]
  },
  {
   "cell_type": "markdown",
   "id": "1aeb3030-829c-453e-bdc0-035867ac9bbe",
   "metadata": {},
   "source": [
    "### References:\n",
    "- (Amazon 2021) Algorithmic Marketing by Ilya Katsov\n",
    "- Ileana Cabada - Medium post (https://towardsdatascience.com/identifying-your-price-competitors-with-cross-price-elasticities-a-practical-approach-26c19f12b1ee)\n",
    "- (Doe, 2019) Cost and Economics in Pricing Strategy  (John Doe, University of Virginia)\n",
    "- (OECD, 2003) OECD (https://stats.oecd.org/glossary/detail.asp?ID=3206)"
   ]
  },
  {
   "cell_type": "code",
   "execution_count": null,
   "id": "7d890f52-af4f-4f34-8c79-7bb0fa587543",
   "metadata": {},
   "outputs": [],
   "source": []
  }
 ],
 "metadata": {
  "kernelspec": {
   "display_name": "Python 3 (ipykernel)",
   "language": "python",
   "name": "python3"
  },
  "language_info": {
   "codemirror_mode": {
    "name": "ipython",
    "version": 3
   },
   "file_extension": ".py",
   "mimetype": "text/x-python",
   "name": "python",
   "nbconvert_exporter": "python",
   "pygments_lexer": "ipython3",
   "version": "3.8.12"
  }
 },
 "nbformat": 4,
 "nbformat_minor": 5
}

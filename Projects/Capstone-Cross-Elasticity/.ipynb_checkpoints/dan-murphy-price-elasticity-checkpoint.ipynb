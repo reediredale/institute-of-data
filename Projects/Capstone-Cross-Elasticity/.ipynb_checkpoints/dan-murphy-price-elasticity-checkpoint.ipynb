{
 "cells": [
  {
   "cell_type": "code",
   "execution_count": 66,
   "id": "6dbc52af-8c6e-4af4-a354-b50ea9c0e00e",
   "metadata": {},
   "outputs": [],
   "source": [
    "%matplotlib inline\n",
    "\n",
    "from __future__ import print_function\n",
    "from statsmodels.compat import lzip\n",
    "import numpy as np\n",
    "import pandas as pd\n",
    "import matplotlib.pyplot as plt\n",
    "import statsmodels.api as sm\n",
    "from statsmodels.formula.api import ols"
   ]
  },
  {
   "cell_type": "code",
   "execution_count": 67,
   "id": "26014612-17cd-420b-a509-815cb1c0ee89",
   "metadata": {},
   "outputs": [],
   "source": [
    "beer = pd.read_csv('./../data/Dan-Murphy-Craft-Beer-Dataset.csv')"
   ]
  },
  {
   "cell_type": "code",
   "execution_count": 77,
   "id": "80af0489-bff6-45b6-904a-681246e669c7",
   "metadata": {},
   "outputs": [
    {
     "data": {
      "text/html": [
       "<div>\n",
       "<style scoped>\n",
       "    .dataframe tbody tr th:only-of-type {\n",
       "        vertical-align: middle;\n",
       "    }\n",
       "\n",
       "    .dataframe tbody tr th {\n",
       "        vertical-align: top;\n",
       "    }\n",
       "\n",
       "    .dataframe thead th {\n",
       "        text-align: right;\n",
       "    }\n",
       "</style>\n",
       "<table border=\"1\" class=\"dataframe\">\n",
       "  <thead>\n",
       "    <tr style=\"text-align: right;\">\n",
       "      <th></th>\n",
       "      <th>brand</th>\n",
       "      <th>product</th>\n",
       "      <th>small_pack_price_og</th>\n",
       "      <th>case_carton_price_og</th>\n",
       "    </tr>\n",
       "  </thead>\n",
       "  <tbody>\n",
       "    <tr>\n",
       "      <th>0</th>\n",
       "      <td>Stone &amp; Wood</td>\n",
       "      <td>Pacific Ale Bottles 330mL</td>\n",
       "      <td>$24.49 pack (6)</td>\n",
       "      <td>$77.99 case (24)</td>\n",
       "    </tr>\n",
       "    <tr>\n",
       "      <th>1</th>\n",
       "      <td>James Squire</td>\n",
       "      <td>One Fifty Lashes Pale Ale Bottles 345mL</td>\n",
       "      <td>$22.99 pack (6)</td>\n",
       "      <td>$52.95 case (24)</td>\n",
       "    </tr>\n",
       "    <tr>\n",
       "      <th>2</th>\n",
       "      <td>Little Creatures</td>\n",
       "      <td>Pale Ale Bottles 330mL</td>\n",
       "      <td>$21.95 pack (6)</td>\n",
       "      <td>$61.95 case (24)</td>\n",
       "    </tr>\n",
       "    <tr>\n",
       "      <th>3</th>\n",
       "      <td>Balter</td>\n",
       "      <td>XPA Cans 375mL</td>\n",
       "      <td>$18.99 pack (4)</td>\n",
       "      <td>$59.99 case (16)</td>\n",
       "    </tr>\n",
       "    <tr>\n",
       "      <th>4</th>\n",
       "      <td>Mountain Goat</td>\n",
       "      <td>Very Enjoyable Beer Cans 375mL</td>\n",
       "      <td>NaN</td>\n",
       "      <td>NaN</td>\n",
       "    </tr>\n",
       "    <tr>\n",
       "      <th>5</th>\n",
       "      <td>Furphy</td>\n",
       "      <td>Refreshing Ale Bottles 375mL</td>\n",
       "      <td>$20.99 pack (6)</td>\n",
       "      <td>$50.95 case (24)</td>\n",
       "    </tr>\n",
       "    <tr>\n",
       "      <th>6</th>\n",
       "      <td>Burleigh</td>\n",
       "      <td>Big Head No Carb Beer 330mL</td>\n",
       "      <td>$21.95 pack (6)</td>\n",
       "      <td>$67.99 case (24)</td>\n",
       "    </tr>\n",
       "    <tr>\n",
       "      <th>7</th>\n",
       "      <td>Great Northern Brewing Company</td>\n",
       "      <td>Original Lager Cans 30 Block 375mL</td>\n",
       "      <td>$4.29 each</td>\n",
       "      <td>$56.95 case (30)</td>\n",
       "    </tr>\n",
       "    <tr>\n",
       "      <th>8</th>\n",
       "      <td>Young Henrys</td>\n",
       "      <td>Newtowner Pale Ale Cans 375mL</td>\n",
       "      <td>$21.45 pack (6)</td>\n",
       "      <td>$65.99 case (24)</td>\n",
       "    </tr>\n",
       "    <tr>\n",
       "      <th>9</th>\n",
       "      <td>Gage Roads</td>\n",
       "      <td>Single Fin Summer Ale Bottles 330mL</td>\n",
       "      <td>$19.95 pack (6)</td>\n",
       "      <td>$59.99 case (24)</td>\n",
       "    </tr>\n",
       "  </tbody>\n",
       "</table>\n",
       "</div>"
      ],
      "text/plain": [
       "                            brand                                  product  \\\n",
       "0                    Stone & Wood                Pacific Ale Bottles 330mL   \n",
       "1                    James Squire  One Fifty Lashes Pale Ale Bottles 345mL   \n",
       "2                Little Creatures                   Pale Ale Bottles 330mL   \n",
       "3                          Balter                           XPA Cans 375mL   \n",
       "4                   Mountain Goat           Very Enjoyable Beer Cans 375mL   \n",
       "5                          Furphy             Refreshing Ale Bottles 375mL   \n",
       "6                        Burleigh              Big Head No Carb Beer 330mL   \n",
       "7  Great Northern Brewing Company       Original Lager Cans 30 Block 375mL   \n",
       "8                    Young Henrys            Newtowner Pale Ale Cans 375mL   \n",
       "9                      Gage Roads      Single Fin Summer Ale Bottles 330mL   \n",
       "\n",
       "  small_pack_price_og case_carton_price_og  \n",
       "0     $24.49 pack (6)     $77.99 case (24)  \n",
       "1     $22.99 pack (6)     $52.95 case (24)  \n",
       "2     $21.95 pack (6)     $61.95 case (24)  \n",
       "3     $18.99 pack (4)     $59.99 case (16)  \n",
       "4                 NaN                  NaN  \n",
       "5     $20.99 pack (6)     $50.95 case (24)  \n",
       "6     $21.95 pack (6)     $67.99 case (24)  \n",
       "7          $4.29 each     $56.95 case (30)  \n",
       "8     $21.45 pack (6)     $65.99 case (24)  \n",
       "9     $19.95 pack (6)     $59.99 case (24)  "
      ]
     },
     "execution_count": 77,
     "metadata": {},
     "output_type": "execute_result"
    }
   ],
   "source": [
    "beer.head(10)"
   ]
  },
  {
   "cell_type": "code",
   "execution_count": 69,
   "id": "885fe43f-c01a-4666-b88d-bc180d21cd49",
   "metadata": {},
   "outputs": [
    {
     "data": {
      "text/plain": [
       "brand                    0\n",
       "product                  3\n",
       "small_pack_price_og     45\n",
       "case_carton_price_og    51\n",
       "dtype: int64"
      ]
     },
     "execution_count": 69,
     "metadata": {},
     "output_type": "execute_result"
    }
   ],
   "source": [
    "beer.isnull().sum()"
   ]
  },
  {
   "cell_type": "code",
   "execution_count": 70,
   "id": "e2f9b27a-d66a-4d6d-9463-a674cd90153c",
   "metadata": {},
   "outputs": [],
   "source": [
    "# Change headers to slugs"
   ]
  },
  {
   "cell_type": "code",
   "execution_count": null,
   "id": "5dd08847-89b3-4d6c-9baf-8b0afa00502c",
   "metadata": {},
   "outputs": [],
   "source": []
  },
  {
   "cell_type": "code",
   "execution_count": null,
   "id": "a0bdfba5-8b8e-4584-b015-13f35a3cd654",
   "metadata": {},
   "outputs": [],
   "source": []
  },
  {
   "cell_type": "code",
   "execution_count": 71,
   "id": "e96c58a0-50db-44dc-9968-658bae282ebd",
   "metadata": {},
   "outputs": [],
   "source": [
    "## Regular Expression for Small Packs and Case/Cartons"
   ]
  },
  {
   "cell_type": "code",
   "execution_count": 72,
   "id": "5ea37d9c-c558-4325-a120-1307e97e310c",
   "metadata": {},
   "outputs": [],
   "source": [
    "import re"
   ]
  },
  {
   "cell_type": "code",
   "execution_count": null,
   "id": "953688c0-206c-4c8a-a6cc-319c3f61fe1e",
   "metadata": {},
   "outputs": [],
   "source": []
  },
  {
   "cell_type": "code",
   "execution_count": 138,
   "id": "40d920af-959f-40e1-b027-7f513ce64b0c",
   "metadata": {},
   "outputs": [
    {
     "data": {
      "text/plain": [
       "0      24.49\n",
       "1      22.99\n",
       "2      21.95\n",
       "3      18.99\n",
       "4        NaN\n",
       "       ...  \n",
       "473    21.99\n",
       "474    22.49\n",
       "475    23.09\n",
       "476    21.49\n",
       "477    27.49\n",
       "Name: small_pack_price, Length: 478, dtype: object"
      ]
     },
     "execution_count": 138,
     "metadata": {},
     "output_type": "execute_result"
    }
   ],
   "source": [
    "# [re.findall(r\"\\d+\\.\\d+\", str(val))\n",
    "#     for val in beer.small_pack_price_og]    \n",
    "# that should extract all the price for that column\n",
    "\n",
    "beer['small_pack_price'] = beer['small_pack_price_og'].str.extract(r\"(\\d+\\.\\d+)\", expand=True)\n",
    "beer['small_pack_price']"
   ]
  },
  {
   "cell_type": "code",
   "execution_count": 141,
   "id": "0fb84644-5a68-4bd2-a19b-ba347800a470",
   "metadata": {},
   "outputs": [
    {
     "data": {
      "text/plain": [
       "0      77.99\n",
       "1      52.95\n",
       "2      61.95\n",
       "3      59.99\n",
       "4        NaN\n",
       "       ...  \n",
       "473    65.99\n",
       "474    56.99\n",
       "475    57.99\n",
       "476    72.99\n",
       "477    88.99\n",
       "Name: case_carton_price, Length: 478, dtype: object"
      ]
     },
     "execution_count": 141,
     "metadata": {},
     "output_type": "execute_result"
    }
   ],
   "source": [
    "# [re.findall(r\"\\d+\\.\\d+\", str(val))\n",
    "#     for val in beer.case_carton_price_og]    \n",
    "# that should extract all the price for that column\n",
    "\n",
    "beer['case_carton_price'] = beer['case_carton_price_og'].str.extract(r\"(\\d+\\.\\d+)\", expand=True)\n",
    "beer['case_carton_price']"
   ]
  },
  {
   "cell_type": "code",
   "execution_count": 121,
   "id": "9b1d4e33-bfa1-4837-83b5-2a557b6fc357",
   "metadata": {},
   "outputs": [
    {
     "data": {
      "text/plain": [
       "0        6\n",
       "1        6\n",
       "2        6\n",
       "3        4\n",
       "4      NaN\n",
       "      ... \n",
       "473      6\n",
       "474      6\n",
       "475      6\n",
       "476      6\n",
       "477      6\n",
       "Name: small_pack_amount, Length: 478, dtype: object"
      ]
     },
     "execution_count": 121,
     "metadata": {},
     "output_type": "execute_result"
    }
   ],
   "source": [
    "# [re.findall(r\"\\((\\d+)\\)\", str(val))\n",
    "#     for val in beer.small_pack_price_og]    \n",
    "# that should extract all the number of small packs item amounts\n",
    "\n",
    "beer['small_pack_amount'] = beer['small_pack_price_og'].str.extract(r\"\\((\\d+)\\)\", expand=True)\n",
    "beer['small_pack_amount']"
   ]
  },
  {
   "cell_type": "code",
   "execution_count": 96,
   "id": "c033e98b-e482-45f0-8cad-4e6f52937649",
   "metadata": {},
   "outputs": [
    {
     "data": {
      "text/plain": [
       "0       24\n",
       "1       24\n",
       "2       24\n",
       "3       16\n",
       "4      NaN\n",
       "      ... \n",
       "473     24\n",
       "474     24\n",
       "475     24\n",
       "476     24\n",
       "477     24\n",
       "Name: case_carton_amount, Length: 478, dtype: object"
      ]
     },
     "execution_count": 96,
     "metadata": {},
     "output_type": "execute_result"
    }
   ],
   "source": [
    "\n",
    "# [re.findall(r\"\\((\\d+)\\)\", str(val))\n",
    "#     for val in beer.case_carton_price_og]    \n",
    "# that should extract all the number of small packs item amounts\n",
    "\n",
    "beer['case_carton_amount'] = beer['case_carton_price_og'].str.extract(r\"\\((\\d+)\\)\", expand=True)\n",
    "beer['case_carton_amount']"
   ]
  },
  {
   "cell_type": "code",
   "execution_count": 142,
   "id": "0da05295-38cc-4f7c-8c2b-99f0f012bf4c",
   "metadata": {},
   "outputs": [
    {
     "data": {
      "text/html": [
       "<div>\n",
       "<style scoped>\n",
       "    .dataframe tbody tr th:only-of-type {\n",
       "        vertical-align: middle;\n",
       "    }\n",
       "\n",
       "    .dataframe tbody tr th {\n",
       "        vertical-align: top;\n",
       "    }\n",
       "\n",
       "    .dataframe thead th {\n",
       "        text-align: right;\n",
       "    }\n",
       "</style>\n",
       "<table border=\"1\" class=\"dataframe\">\n",
       "  <thead>\n",
       "    <tr style=\"text-align: right;\">\n",
       "      <th></th>\n",
       "      <th>brand</th>\n",
       "      <th>product</th>\n",
       "      <th>small_pack_price_og</th>\n",
       "      <th>case_carton_price_og</th>\n",
       "      <th>case_carton_amount</th>\n",
       "      <th>small_pack_amount</th>\n",
       "      <th>case_carton_price</th>\n",
       "      <th>small_pack_price</th>\n",
       "    </tr>\n",
       "  </thead>\n",
       "  <tbody>\n",
       "    <tr>\n",
       "      <th>0</th>\n",
       "      <td>Stone &amp; Wood</td>\n",
       "      <td>Pacific Ale Bottles 330mL</td>\n",
       "      <td>$24.49 pack (6)</td>\n",
       "      <td>$77.99 case (24)</td>\n",
       "      <td>24</td>\n",
       "      <td>6</td>\n",
       "      <td>77.99</td>\n",
       "      <td>24.49</td>\n",
       "    </tr>\n",
       "    <tr>\n",
       "      <th>1</th>\n",
       "      <td>James Squire</td>\n",
       "      <td>One Fifty Lashes Pale Ale Bottles 345mL</td>\n",
       "      <td>$22.99 pack (6)</td>\n",
       "      <td>$52.95 case (24)</td>\n",
       "      <td>24</td>\n",
       "      <td>6</td>\n",
       "      <td>52.95</td>\n",
       "      <td>22.99</td>\n",
       "    </tr>\n",
       "    <tr>\n",
       "      <th>2</th>\n",
       "      <td>Little Creatures</td>\n",
       "      <td>Pale Ale Bottles 330mL</td>\n",
       "      <td>$21.95 pack (6)</td>\n",
       "      <td>$61.95 case (24)</td>\n",
       "      <td>24</td>\n",
       "      <td>6</td>\n",
       "      <td>61.95</td>\n",
       "      <td>21.95</td>\n",
       "    </tr>\n",
       "    <tr>\n",
       "      <th>3</th>\n",
       "      <td>Balter</td>\n",
       "      <td>XPA Cans 375mL</td>\n",
       "      <td>$18.99 pack (4)</td>\n",
       "      <td>$59.99 case (16)</td>\n",
       "      <td>16</td>\n",
       "      <td>4</td>\n",
       "      <td>59.99</td>\n",
       "      <td>18.99</td>\n",
       "    </tr>\n",
       "    <tr>\n",
       "      <th>4</th>\n",
       "      <td>Mountain Goat</td>\n",
       "      <td>Very Enjoyable Beer Cans 375mL</td>\n",
       "      <td>NaN</td>\n",
       "      <td>NaN</td>\n",
       "      <td>NaN</td>\n",
       "      <td>NaN</td>\n",
       "      <td>NaN</td>\n",
       "      <td>NaN</td>\n",
       "    </tr>\n",
       "    <tr>\n",
       "      <th>5</th>\n",
       "      <td>Furphy</td>\n",
       "      <td>Refreshing Ale Bottles 375mL</td>\n",
       "      <td>$20.99 pack (6)</td>\n",
       "      <td>$50.95 case (24)</td>\n",
       "      <td>24</td>\n",
       "      <td>6</td>\n",
       "      <td>50.95</td>\n",
       "      <td>20.99</td>\n",
       "    </tr>\n",
       "    <tr>\n",
       "      <th>6</th>\n",
       "      <td>Burleigh</td>\n",
       "      <td>Big Head No Carb Beer 330mL</td>\n",
       "      <td>$21.95 pack (6)</td>\n",
       "      <td>$67.99 case (24)</td>\n",
       "      <td>24</td>\n",
       "      <td>6</td>\n",
       "      <td>67.99</td>\n",
       "      <td>21.95</td>\n",
       "    </tr>\n",
       "    <tr>\n",
       "      <th>7</th>\n",
       "      <td>Great Northern Brewing Company</td>\n",
       "      <td>Original Lager Cans 30 Block 375mL</td>\n",
       "      <td>$4.29 each</td>\n",
       "      <td>$56.95 case (30)</td>\n",
       "      <td>30</td>\n",
       "      <td>NaN</td>\n",
       "      <td>56.95</td>\n",
       "      <td>4.29</td>\n",
       "    </tr>\n",
       "    <tr>\n",
       "      <th>8</th>\n",
       "      <td>Young Henrys</td>\n",
       "      <td>Newtowner Pale Ale Cans 375mL</td>\n",
       "      <td>$21.45 pack (6)</td>\n",
       "      <td>$65.99 case (24)</td>\n",
       "      <td>24</td>\n",
       "      <td>6</td>\n",
       "      <td>65.99</td>\n",
       "      <td>21.45</td>\n",
       "    </tr>\n",
       "    <tr>\n",
       "      <th>9</th>\n",
       "      <td>Gage Roads</td>\n",
       "      <td>Single Fin Summer Ale Bottles 330mL</td>\n",
       "      <td>$19.95 pack (6)</td>\n",
       "      <td>$59.99 case (24)</td>\n",
       "      <td>24</td>\n",
       "      <td>6</td>\n",
       "      <td>59.99</td>\n",
       "      <td>19.95</td>\n",
       "    </tr>\n",
       "  </tbody>\n",
       "</table>\n",
       "</div>"
      ],
      "text/plain": [
       "                            brand                                  product  \\\n",
       "0                    Stone & Wood                Pacific Ale Bottles 330mL   \n",
       "1                    James Squire  One Fifty Lashes Pale Ale Bottles 345mL   \n",
       "2                Little Creatures                   Pale Ale Bottles 330mL   \n",
       "3                          Balter                           XPA Cans 375mL   \n",
       "4                   Mountain Goat           Very Enjoyable Beer Cans 375mL   \n",
       "5                          Furphy             Refreshing Ale Bottles 375mL   \n",
       "6                        Burleigh              Big Head No Carb Beer 330mL   \n",
       "7  Great Northern Brewing Company       Original Lager Cans 30 Block 375mL   \n",
       "8                    Young Henrys            Newtowner Pale Ale Cans 375mL   \n",
       "9                      Gage Roads      Single Fin Summer Ale Bottles 330mL   \n",
       "\n",
       "  small_pack_price_og case_carton_price_og case_carton_amount  \\\n",
       "0     $24.49 pack (6)     $77.99 case (24)                 24   \n",
       "1     $22.99 pack (6)     $52.95 case (24)                 24   \n",
       "2     $21.95 pack (6)     $61.95 case (24)                 24   \n",
       "3     $18.99 pack (4)     $59.99 case (16)                 16   \n",
       "4                 NaN                  NaN                NaN   \n",
       "5     $20.99 pack (6)     $50.95 case (24)                 24   \n",
       "6     $21.95 pack (6)     $67.99 case (24)                 24   \n",
       "7          $4.29 each     $56.95 case (30)                 30   \n",
       "8     $21.45 pack (6)     $65.99 case (24)                 24   \n",
       "9     $19.95 pack (6)     $59.99 case (24)                 24   \n",
       "\n",
       "  small_pack_amount case_carton_price small_pack_price  \n",
       "0                 6             77.99            24.49  \n",
       "1                 6             52.95            22.99  \n",
       "2                 6             61.95            21.95  \n",
       "3                 4             59.99            18.99  \n",
       "4               NaN               NaN              NaN  \n",
       "5                 6             50.95            20.99  \n",
       "6                 6             67.99            21.95  \n",
       "7               NaN             56.95             4.29  \n",
       "8                 6             65.99            21.45  \n",
       "9                 6             59.99            19.95  "
      ]
     },
     "execution_count": 142,
     "metadata": {},
     "output_type": "execute_result"
    }
   ],
   "source": [
    "beer.head(10)"
   ]
  },
  {
   "cell_type": "code",
   "execution_count": null,
   "id": "474fb31c-af68-467e-9823-fb63d000e39f",
   "metadata": {},
   "outputs": [],
   "source": []
  },
  {
   "cell_type": "code",
   "execution_count": null,
   "id": "02ccf7fd-22dc-4029-830b-f4797543489b",
   "metadata": {},
   "outputs": [],
   "source": []
  },
  {
   "cell_type": "code",
   "execution_count": null,
   "id": "bcf3f4f7-5567-4010-bd2d-644be929f447",
   "metadata": {},
   "outputs": [],
   "source": []
  },
  {
   "cell_type": "markdown",
   "id": "e1400f11-82de-446b-a4de-7262d85ffb3c",
   "metadata": {},
   "source": [
    "## Clean Data for Analysis"
   ]
  },
  {
   "cell_type": "code",
   "execution_count": null,
   "id": "d134c153-1353-4c50-a5f6-163ad74b785d",
   "metadata": {},
   "outputs": [],
   "source": []
  },
  {
   "cell_type": "code",
   "execution_count": null,
   "id": "0b84e1df-2d89-4297-aaf9-037a2c3f28d9",
   "metadata": {},
   "outputs": [],
   "source": []
  },
  {
   "cell_type": "code",
   "execution_count": null,
   "id": "7679c45e-8b3f-4286-a2ed-1c6154aea13d",
   "metadata": {},
   "outputs": [],
   "source": []
  },
  {
   "cell_type": "code",
   "execution_count": 73,
   "id": "a321ea14-f5fd-4da3-9c88-e0e36c4e1e29",
   "metadata": {},
   "outputs": [],
   "source": [
    "# Input missing data\n",
    "\n",
    "# data['Review'] = data['Review'].fillna('No review')"
   ]
  },
  {
   "cell_type": "markdown",
   "id": "17141230-9bd1-40ed-b60b-e135591b95ca",
   "metadata": {},
   "source": [
    "## Regression Analysis"
   ]
  },
  {
   "cell_type": "code",
   "execution_count": 74,
   "id": "8d8155ef-c753-4759-8c50-8b4f8a372734",
   "metadata": {},
   "outputs": [],
   "source": [
    "# beer_model = ols(\"Quantity ~ Price\", data=beer).fit()"
   ]
  },
  {
   "cell_type": "code",
   "execution_count": 75,
   "id": "3f42def6-d188-4294-9058-94e8880450bd",
   "metadata": {},
   "outputs": [],
   "source": [
    "# print(beer_model.summary())"
   ]
  },
  {
   "cell_type": "code",
   "execution_count": 76,
   "id": "51f91df6-f0e4-4825-bc0e-325390db4fc7",
   "metadata": {},
   "outputs": [],
   "source": [
    "# fig = plt.figure(figsize=(12,8))\n",
    "# fig = sm.graphics.plot_partregress_grid(beer_model, fig=fig)"
   ]
  }
 ],
 "metadata": {
  "kernelspec": {
   "display_name": "Python 3",
   "language": "python",
   "name": "python3"
  },
  "language_info": {
   "codemirror_mode": {
    "name": "ipython",
    "version": 3
   },
   "file_extension": ".py",
   "mimetype": "text/x-python",
   "name": "python",
   "nbconvert_exporter": "python",
   "pygments_lexer": "ipython3",
   "version": "3.8.8"
  }
 },
 "nbformat": 4,
 "nbformat_minor": 5
}

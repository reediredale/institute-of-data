{
 "cells": [
  {
   "cell_type": "markdown",
   "metadata": {
    "jupyter": {
     "outputs_hidden": true
    }
   },
   "source": [
    "# Price and Markdown Optimization for Multiple Products\n",
    "\n",
    "This model optimizes prices or markdown for multiple related products such as substitutable products within one category.\n",
    "\n",
    "### Data\n",
    "We use a simulator. No external datasets are used.\n",
    "\n",
    "### Papers\n",
    "Ferreira2017 (see [papers](https://github.com/ikatsov/tensor-house/blob/master/resources/papers.md))"
   ]
  },
  {
   "cell_type": "code",
   "execution_count": 1,
   "metadata": {},
   "outputs": [
    {
     "ename": "ModuleNotFoundError",
     "evalue": "No module named 'tabulate'",
     "output_type": "error",
     "traceback": [
      "\u001b[0;31m---------------------------------------------------------------------------\u001b[0m",
      "\u001b[0;31mModuleNotFoundError\u001b[0m                       Traceback (most recent call last)",
      "\u001b[0;32m/var/folders/vp/k70yvwj57vd00y1yn6zl3mkr0000gn/T/ipykernel_59039/3485233912.py\u001b[0m in \u001b[0;36m<module>\u001b[0;34m\u001b[0m\n\u001b[1;32m      1\u001b[0m \u001b[0mget_ipython\u001b[0m\u001b[0;34m(\u001b[0m\u001b[0;34m)\u001b[0m\u001b[0;34m.\u001b[0m\u001b[0mrun_line_magic\u001b[0m\u001b[0;34m(\u001b[0m\u001b[0;34m'matplotlib'\u001b[0m\u001b[0;34m,\u001b[0m \u001b[0;34m'inline'\u001b[0m\u001b[0;34m)\u001b[0m\u001b[0;34m\u001b[0m\u001b[0;34m\u001b[0m\u001b[0m\n\u001b[1;32m      2\u001b[0m \u001b[0;32mimport\u001b[0m \u001b[0mnumpy\u001b[0m \u001b[0;32mas\u001b[0m \u001b[0mnp\u001b[0m\u001b[0;34m\u001b[0m\u001b[0;34m\u001b[0m\u001b[0m\n\u001b[0;32m----> 3\u001b[0;31m \u001b[0;32mfrom\u001b[0m \u001b[0mtabulate\u001b[0m \u001b[0;32mimport\u001b[0m \u001b[0mtabulate\u001b[0m\u001b[0;34m\u001b[0m\u001b[0;34m\u001b[0m\u001b[0m\n\u001b[0m\u001b[1;32m      4\u001b[0m \u001b[0;32mimport\u001b[0m \u001b[0mmatplotlib\u001b[0m\u001b[0;34m.\u001b[0m\u001b[0mpyplot\u001b[0m \u001b[0;32mas\u001b[0m \u001b[0mplt\u001b[0m\u001b[0;34m\u001b[0m\u001b[0;34m\u001b[0m\u001b[0m\n\u001b[1;32m      5\u001b[0m \u001b[0;32mfrom\u001b[0m \u001b[0mscipy\u001b[0m\u001b[0;34m.\u001b[0m\u001b[0moptimize\u001b[0m \u001b[0;32mimport\u001b[0m \u001b[0mlinprog\u001b[0m\u001b[0;34m\u001b[0m\u001b[0;34m\u001b[0m\u001b[0m\n",
      "\u001b[0;31mModuleNotFoundError\u001b[0m: No module named 'tabulate'"
     ]
    }
   ],
   "source": [
    "%matplotlib inline\n",
    "import numpy as np\n",
    "from tabulate import tabulate\n",
    "import matplotlib.pyplot as plt\n",
    "from scipy.optimize import linprog\n",
    "\n",
    "def tabprint(msg, A):\n",
    "    print(msg)\n",
    "    print(tabulate(A, tablefmt=\"fancy_grid\"))"
   ]
  },
  {
   "cell_type": "markdown",
   "metadata": {},
   "source": [
    "We solve the following optimization problem:\n",
    "\n",
    "$\\text{max} \\quad \\sum_{i=1}^{N} \\sum_{k=1}^{K} z_{ik} \\cdot p_{k} \\cdot q\\left(i, p_{k}\\right)$ \n",
    "\n",
    "$\\text{subject to}$\n",
    "\n",
    "$\\quad \\sum_{i=1}^{N} \\sum_{k=1}^{K} z_{ik} \\cdot q\\left(i, p_{k}\\right) = c$\n",
    "\n",
    "$\\quad \\sum_{k=1}^{N} z_{ik} = 1, \\quad \\text{for}\\ i=1,\\ldots,N $\n",
    "\n",
    "$\\quad z_{ik}\\ge 0 $\n",
    "\n",
    "where q is demand, p is price, N is the number products, K is the number of price levels, and c is the sum of prices (the measure of the average price)."
   ]
  },
  {
   "cell_type": "code",
   "execution_count": 2,
   "metadata": {},
   "outputs": [],
   "source": [
    "# prices - k-dimensional vector of allowed price levels \n",
    "# demands - n x k matrix of demand predictions\n",
    "# c - required sum of prices \n",
    "# where k is the number of price levels, n is number of products\n",
    "\n",
    "\n",
    "\n",
    "def optimal_prices_category(prices, demands, c):\n",
    "    \n",
    "    n, k = np.shape(demands)  \n",
    "\n",
    "    # prepare inputs   \n",
    "    r = np.multiply(np.tile(prices, n), np.array(demands).reshape(1, k*n))\n",
    "    A = np.array([[\n",
    "        1 if j >= k*(i) and j < k*(i+1) else 0\n",
    "        for j in range(k*n)\n",
    "    ] for i in range(n)])\n",
    "    A = np.append(A, np.tile(prices, n), axis=0)\n",
    "    b = [np.append(np.ones(n), c)]\n",
    "\n",
    "    # solve the linear program\n",
    "    res = linprog(-r.flatten(), \n",
    "              A_eq = A, \n",
    "              b_eq = b,  \n",
    "              bounds=(0, 1))\n",
    "\n",
    "    return np.array(res.x).reshape(n, k)"
   ]
  },
  {
   "cell_type": "code",
   "execution_count": 3,
   "metadata": {},
   "outputs": [
    {
     "ename": "NameError",
     "evalue": "name 'linprog' is not defined",
     "output_type": "error",
     "traceback": [
      "\u001b[0;31m---------------------------------------------------------------------------\u001b[0m",
      "\u001b[0;31mNameError\u001b[0m                                 Traceback (most recent call last)",
      "\u001b[0;32m/var/folders/vp/k70yvwj57vd00y1yn6zl3mkr0000gn/T/ipykernel_59039/3926712128.py\u001b[0m in \u001b[0;36m<module>\u001b[0;34m\u001b[0m\n\u001b[1;32m      1\u001b[0m \u001b[0;31m# test run\u001b[0m\u001b[0;34m\u001b[0m\u001b[0;34m\u001b[0m\u001b[0;34m\u001b[0m\u001b[0m\n\u001b[0;32m----> 2\u001b[0;31m r = optimal_prices_category(\n\u001b[0m\u001b[1;32m      3\u001b[0m   \u001b[0mnp\u001b[0m\u001b[0;34m.\u001b[0m\u001b[0marray\u001b[0m\u001b[0;34m(\u001b[0m\u001b[0;34m[\u001b[0m\u001b[0;34m[\u001b[0m\u001b[0;36m1.00\u001b[0m\u001b[0;34m,\u001b[0m \u001b[0;36m1.50\u001b[0m\u001b[0;34m,\u001b[0m \u001b[0;36m2.00\u001b[0m\u001b[0;34m,\u001b[0m \u001b[0;36m2.50\u001b[0m\u001b[0;34m]\u001b[0m\u001b[0;34m]\u001b[0m\u001b[0;34m)\u001b[0m\u001b[0;34m,\u001b[0m   \u001b[0;31m# allowed price levels\u001b[0m\u001b[0;34m\u001b[0m\u001b[0;34m\u001b[0m\u001b[0m\n\u001b[1;32m      4\u001b[0m   np.array([\n\u001b[1;32m      5\u001b[0m     \u001b[0;34m[\u001b[0m \u001b[0;36m28\u001b[0m\u001b[0;34m,\u001b[0m \u001b[0;36m23\u001b[0m\u001b[0;34m,\u001b[0m \u001b[0;36m20\u001b[0m\u001b[0;34m,\u001b[0m \u001b[0;36m13\u001b[0m\u001b[0;34m]\u001b[0m\u001b[0;34m,\u001b[0m                    \u001b[0;31m# demands for product 1\u001b[0m\u001b[0;34m\u001b[0m\u001b[0;34m\u001b[0m\u001b[0m\n",
      "\u001b[0;32m/var/folders/vp/k70yvwj57vd00y1yn6zl3mkr0000gn/T/ipykernel_59039/2009911680.py\u001b[0m in \u001b[0;36moptimal_prices_category\u001b[0;34m(prices, demands, c)\u001b[0m\n\u001b[1;32m     20\u001b[0m \u001b[0;34m\u001b[0m\u001b[0m\n\u001b[1;32m     21\u001b[0m     \u001b[0;31m# solve the linear program\u001b[0m\u001b[0;34m\u001b[0m\u001b[0;34m\u001b[0m\u001b[0;34m\u001b[0m\u001b[0m\n\u001b[0;32m---> 22\u001b[0;31m     res = linprog(-r.flatten(), \n\u001b[0m\u001b[1;32m     23\u001b[0m               \u001b[0mA_eq\u001b[0m \u001b[0;34m=\u001b[0m \u001b[0mA\u001b[0m\u001b[0;34m,\u001b[0m\u001b[0;34m\u001b[0m\u001b[0;34m\u001b[0m\u001b[0m\n\u001b[1;32m     24\u001b[0m               \u001b[0mb_eq\u001b[0m \u001b[0;34m=\u001b[0m \u001b[0mb\u001b[0m\u001b[0;34m,\u001b[0m\u001b[0;34m\u001b[0m\u001b[0;34m\u001b[0m\u001b[0m\n",
      "\u001b[0;31mNameError\u001b[0m: name 'linprog' is not defined"
     ]
    }
   ],
   "source": [
    "# test run\n",
    "r = optimal_prices_category(\n",
    "  np.array([[1.00, 1.50, 2.00, 2.50]]),   # allowed price levels\n",
    "  np.array([\n",
    "    [ 28, 23, 20, 13],                    # demands for product 1\n",
    "    [ 30, 22, 16, 12],                    # demands for product 2\n",
    "    [ 32, 26, 19, 15]                     # demands for product 3\n",
    "  ]), 5.50)                               # sum of prices for all three products"
   ]
  },
  {
   "cell_type": "code",
   "execution_count": 4,
   "metadata": {},
   "outputs": [
    {
     "ename": "NameError",
     "evalue": "name 'tabprint' is not defined",
     "output_type": "error",
     "traceback": [
      "\u001b[0;31m---------------------------------------------------------------------------\u001b[0m",
      "\u001b[0;31mNameError\u001b[0m                                 Traceback (most recent call last)",
      "\u001b[0;32m/var/folders/vp/k70yvwj57vd00y1yn6zl3mkr0000gn/T/ipykernel_59039/316446908.py\u001b[0m in \u001b[0;36m<module>\u001b[0;34m\u001b[0m\n\u001b[0;32m----> 1\u001b[0;31m \u001b[0mtabprint\u001b[0m\u001b[0;34m(\u001b[0m\u001b[0;34m'prices = '\u001b[0m\u001b[0;34m,\u001b[0m \u001b[0mr\u001b[0m\u001b[0;34m)\u001b[0m\u001b[0;34m\u001b[0m\u001b[0;34m\u001b[0m\u001b[0m\n\u001b[0m",
      "\u001b[0;31mNameError\u001b[0m: name 'tabprint' is not defined"
     ]
    }
   ],
   "source": [
    "tabprint('prices = ', r)"
   ]
  },
  {
   "cell_type": "code",
   "execution_count": 5,
   "metadata": {},
   "outputs": [],
   "source": [
    "# output\n",
    "# [[0  0     1   0  ]                            # price vector for product 1 ($2.00)\n",
    "#  [0  1     0   0  ]                            # price vector for product 2 ($1.50)\n",
    "#  [0  0.5   0   0.5]]                           # price vector for product 3 ($1.50 and 2.50)"
   ]
  },
  {
   "cell_type": "code",
   "execution_count": null,
   "metadata": {},
   "outputs": [],
   "source": []
  }
 ],
 "metadata": {
  "kernelspec": {
   "display_name": "Python 3 (ipykernel)",
   "language": "python",
   "name": "python3"
  },
  "language_info": {
   "codemirror_mode": {
    "name": "ipython",
    "version": 3
   },
   "file_extension": ".py",
   "mimetype": "text/x-python",
   "name": "python",
   "nbconvert_exporter": "python",
   "pygments_lexer": "ipython3",
   "version": "3.8.12"
  }
 },
 "nbformat": 4,
 "nbformat_minor": 4
}

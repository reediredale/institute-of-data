{
 "cells": [
  {
   "cell_type": "markdown",
   "metadata": {
    "id": "YkPyPM2LgYdB"
   },
   "source": [
    "# Data Preparation & Profiling"
   ]
  },
  {
   "cell_type": "code",
   "execution_count": null,
   "metadata": {
    "colab": {
     "base_uri": "https://localhost:8080/"
    },
    "id": "UC52S_1Pi6jQ",
    "outputId": "481eaffb-c0a8-41b1-f4dc-3b7197cbd37d"
   },
   "outputs": [],
   "source": []
  },
  {
   "cell_type": "code",
   "execution_count": 1,
   "metadata": {
    "id": "mqV7GIFwi-6u"
   },
   "outputs": [],
   "source": [
    "# Packages\n",
    "import pandas as pd\n",
    "import numpy as np\n",
    "import matplotlib.pyplot as plt"
   ]
  },
  {
   "cell_type": "code",
   "execution_count": 25,
   "metadata": {
    "id": "bHZJUBzljAhj"
   },
   "outputs": [],
   "source": [
    "# Data\n",
    "colnames = ['ProductID','Product_type','Date','Price','Quantity']\n",
    "# df = pd.read_excel('beer.xlsx', names=colnames, header=None)\n",
    "df = pd.read_csv('data/beer.csv', names=colnames, header=None, encoding=\"utf-8\",)"
   ]
  },
  {
   "cell_type": "code",
   "execution_count": 26,
   "metadata": {
    "colab": {
     "base_uri": "https://localhost:8080/"
    },
    "id": "ajZnBhKioj3d",
    "outputId": "494eeefd-c342-490f-a9f8-7cef0bda203f"
   },
   "outputs": [
    {
     "name": "stdout",
     "output_type": "stream",
     "text": [
      "<class 'pandas.core.frame.DataFrame'>\n",
      "RangeIndex: 12 entries, 0 to 11\n",
      "Data columns (total 5 columns):\n",
      " #   Column        Non-Null Count  Dtype  \n",
      "---  ------        --------------  -----  \n",
      " 0   ProductID     12 non-null     object \n",
      " 1   Product_type  12 non-null     object \n",
      " 2   Date          12 non-null     object \n",
      " 3   Price         12 non-null     float64\n",
      " 4   Quantity      12 non-null     int64  \n",
      "dtypes: float64(1), int64(1), object(3)\n",
      "memory usage: 608.0+ bytes\n"
     ]
    }
   ],
   "source": [
    "df.info()"
   ]
  },
  {
   "cell_type": "code",
   "execution_count": 27,
   "metadata": {},
   "outputs": [],
   "source": [
    "import warnings\n",
    "warnings.filterwarnings('ignore')"
   ]
  },
  {
   "cell_type": "code",
   "execution_count": 28,
   "metadata": {
    "colab": {
     "base_uri": "https://localhost:8080/",
     "height": 363
    },
    "id": "TMWlMqMbjXWd",
    "outputId": "7bfe6d37-6e37-4f10-e040-9c247b44a7b7",
    "scrolled": true
   },
   "outputs": [
    {
     "data": {
      "text/html": [
       "<div>\n",
       "<style scoped>\n",
       "    .dataframe tbody tr th:only-of-type {\n",
       "        vertical-align: middle;\n",
       "    }\n",
       "\n",
       "    .dataframe tbody tr th {\n",
       "        vertical-align: top;\n",
       "    }\n",
       "\n",
       "    .dataframe thead th {\n",
       "        text-align: right;\n",
       "    }\n",
       "</style>\n",
       "<table border=\"1\" class=\"dataframe\">\n",
       "  <thead>\n",
       "    <tr style=\"text-align: right;\">\n",
       "      <th></th>\n",
       "      <th>ProductID</th>\n",
       "      <th>Product_type</th>\n",
       "      <th>Date</th>\n",
       "      <th>Price</th>\n",
       "      <th>Quantity</th>\n",
       "    </tr>\n",
       "  </thead>\n",
       "  <tbody>\n",
       "    <tr>\n",
       "      <th>0</th>\n",
       "      <td>S001</td>\n",
       "      <td>Beer</td>\n",
       "      <td>2021-03-30</td>\n",
       "      <td>24.49</td>\n",
       "      <td>21819</td>\n",
       "    </tr>\n",
       "    <tr>\n",
       "      <th>1</th>\n",
       "      <td>J001</td>\n",
       "      <td>Beer</td>\n",
       "      <td>2021-03-30</td>\n",
       "      <td>22.99</td>\n",
       "      <td>19836</td>\n",
       "    </tr>\n",
       "    <tr>\n",
       "      <th>2</th>\n",
       "      <td>L001</td>\n",
       "      <td>Beer</td>\n",
       "      <td>2021-03-30</td>\n",
       "      <td>21.95</td>\n",
       "      <td>21978</td>\n",
       "    </tr>\n",
       "    <tr>\n",
       "      <th>3</th>\n",
       "      <td>S001</td>\n",
       "      <td>Beer</td>\n",
       "      <td>2021-06-30</td>\n",
       "      <td>24.49</td>\n",
       "      <td>19134</td>\n",
       "    </tr>\n",
       "    <tr>\n",
       "      <th>4</th>\n",
       "      <td>J001</td>\n",
       "      <td>Beer</td>\n",
       "      <td>2021-06-30</td>\n",
       "      <td>22.99</td>\n",
       "      <td>17690</td>\n",
       "    </tr>\n",
       "    <tr>\n",
       "      <th>5</th>\n",
       "      <td>L001</td>\n",
       "      <td>Beer</td>\n",
       "      <td>2021-06-30</td>\n",
       "      <td>21.95</td>\n",
       "      <td>17007</td>\n",
       "    </tr>\n",
       "    <tr>\n",
       "      <th>6</th>\n",
       "      <td>S001</td>\n",
       "      <td>Beer</td>\n",
       "      <td>2021-09-30</td>\n",
       "      <td>24.49</td>\n",
       "      <td>19134</td>\n",
       "    </tr>\n",
       "    <tr>\n",
       "      <th>7</th>\n",
       "      <td>J001</td>\n",
       "      <td>Beer</td>\n",
       "      <td>2021-09-30</td>\n",
       "      <td>22.99</td>\n",
       "      <td>17690</td>\n",
       "    </tr>\n",
       "    <tr>\n",
       "      <th>8</th>\n",
       "      <td>L001</td>\n",
       "      <td>Beer</td>\n",
       "      <td>2021-09-30</td>\n",
       "      <td>21.95</td>\n",
       "      <td>17007</td>\n",
       "    </tr>\n",
       "    <tr>\n",
       "      <th>9</th>\n",
       "      <td>S001</td>\n",
       "      <td>Beer</td>\n",
       "      <td>2021-12-30</td>\n",
       "      <td>24.49</td>\n",
       "      <td>19134</td>\n",
       "    </tr>\n",
       "  </tbody>\n",
       "</table>\n",
       "</div>"
      ],
      "text/plain": [
       "  ProductID Product_type        Date  Price  Quantity\n",
       "0      S001         Beer  2021-03-30  24.49     21819\n",
       "1      J001         Beer  2021-03-30  22.99     19836\n",
       "2      L001         Beer  2021-03-30  21.95     21978\n",
       "3      S001         Beer  2021-06-30  24.49     19134\n",
       "4      J001         Beer  2021-06-30  22.99     17690\n",
       "5      L001         Beer  2021-06-30  21.95     17007\n",
       "6      S001         Beer  2021-09-30  24.49     19134\n",
       "7      J001         Beer  2021-09-30  22.99     17690\n",
       "8      L001         Beer  2021-09-30  21.95     17007\n",
       "9      S001         Beer  2021-12-30  24.49     19134"
      ]
     },
     "execution_count": 28,
     "metadata": {},
     "output_type": "execute_result"
    }
   ],
   "source": [
    "df.head(10)"
   ]
  },
  {
   "cell_type": "code",
   "execution_count": 29,
   "metadata": {},
   "outputs": [
    {
     "data": {
      "text/plain": [
       "(12, 5)"
      ]
     },
     "execution_count": 29,
     "metadata": {},
     "output_type": "execute_result"
    }
   ],
   "source": [
    "df.shape"
   ]
  },
  {
   "cell_type": "markdown",
   "metadata": {
    "id": "nZKf7fkWgfCo"
   },
   "source": [
    "# Exploratory Data Analysis"
   ]
  },
  {
   "cell_type": "code",
   "execution_count": null,
   "metadata": {
    "colab": {
     "base_uri": "https://localhost:8080/"
    },
    "id": "SbCHRQYVgXmJ",
    "outputId": "643d2d2b-ad1e-4ee1-96de-0a17beaf2e4a"
   },
   "outputs": [],
   "source": []
  },
  {
   "cell_type": "code",
   "execution_count": 40,
   "metadata": {
    "colab": {
     "base_uri": "https://localhost:8080/",
     "height": 206
    },
    "id": "eTRzrc5ziJ2j",
    "outputId": "2f7f571f-d9e2-4c9f-9868-3f832cd52e14"
   },
   "outputs": [
    {
     "data": {
      "text/html": [
       "<div>\n",
       "<style scoped>\n",
       "    .dataframe tbody tr th:only-of-type {\n",
       "        vertical-align: middle;\n",
       "    }\n",
       "\n",
       "    .dataframe tbody tr th {\n",
       "        vertical-align: top;\n",
       "    }\n",
       "\n",
       "    .dataframe thead th {\n",
       "        text-align: right;\n",
       "    }\n",
       "</style>\n",
       "<table border=\"1\" class=\"dataframe\">\n",
       "  <thead>\n",
       "    <tr style=\"text-align: right;\">\n",
       "      <th></th>\n",
       "      <th>Date</th>\n",
       "      <th>ProductID</th>\n",
       "      <th>Price</th>\n",
       "      <th>Quantity</th>\n",
       "    </tr>\n",
       "  </thead>\n",
       "  <tbody>\n",
       "    <tr>\n",
       "      <th>0</th>\n",
       "      <td>2021-03-30</td>\n",
       "      <td>J001</td>\n",
       "      <td>22.99</td>\n",
       "      <td>19836.0</td>\n",
       "    </tr>\n",
       "    <tr>\n",
       "      <th>1</th>\n",
       "      <td>2021-03-30</td>\n",
       "      <td>L001</td>\n",
       "      <td>21.95</td>\n",
       "      <td>21978.0</td>\n",
       "    </tr>\n",
       "    <tr>\n",
       "      <th>2</th>\n",
       "      <td>2021-03-30</td>\n",
       "      <td>S001</td>\n",
       "      <td>24.49</td>\n",
       "      <td>21819.0</td>\n",
       "    </tr>\n",
       "    <tr>\n",
       "      <th>3</th>\n",
       "      <td>2021-06-30</td>\n",
       "      <td>J001</td>\n",
       "      <td>22.99</td>\n",
       "      <td>17690.0</td>\n",
       "    </tr>\n",
       "    <tr>\n",
       "      <th>4</th>\n",
       "      <td>2021-06-30</td>\n",
       "      <td>L001</td>\n",
       "      <td>21.95</td>\n",
       "      <td>17007.0</td>\n",
       "    </tr>\n",
       "  </tbody>\n",
       "</table>\n",
       "</div>"
      ],
      "text/plain": [
       "         Date ProductID  Price  Quantity\n",
       "0  2021-03-30      J001  22.99   19836.0\n",
       "1  2021-03-30      L001  21.95   21978.0\n",
       "2  2021-03-30      S001  24.49   21819.0\n",
       "3  2021-06-30      J001  22.99   17690.0\n",
       "4  2021-06-30      L001  21.95   17007.0"
      ]
     },
     "execution_count": 40,
     "metadata": {},
     "output_type": "execute_result"
    }
   ],
   "source": [
    "#Select Cereals\n",
    "\n",
    "#Make sure to not have any duplicates in the data\n",
    "df_feature = df_feature.groupby(['Date','ProductID']).agg({'Price':'mean','Quantity': 'mean' }).reset_index()\n",
    "\n",
    "#laptop data used for price elasticities\n",
    "df_feature.head()"
   ]
  },
  {
   "cell_type": "markdown",
   "metadata": {
    "id": "Xoc1ZfoDnkkz"
   },
   "source": [
    "# Data Modelling"
   ]
  },
  {
   "cell_type": "code",
   "execution_count": 41,
   "metadata": {
    "colab": {
     "base_uri": "https://localhost:8080/"
    },
    "id": "ra00aZkhikVu",
    "outputId": "3f9d3a70-8391-40a5-ba22-39ad75ab1435"
   },
   "outputs": [
    {
     "name": "stdout",
     "output_type": "stream",
     "text": [
      "         Date   J001   L001   S001\n",
      "0  2021-03-30  22.99  21.95  24.49\n",
      "1  2021-06-30  22.99  21.95  24.49\n",
      "2  2021-09-30  22.99  21.95  24.49\n",
      "3  2021-12-30  22.99  21.95  24.49\n"
     ]
    }
   ],
   "source": [
    "#Format and build a dataframe with x_values for each product within the category\n",
    "x_pivot = df_feature.pivot( index='Date', columns='ProductID' ,values='Price' )\n",
    "x_values = pd.DataFrame(x_pivot.to_records())\n",
    "x_values.dropna()\n",
    "print(x_values)"
   ]
  },
  {
   "cell_type": "code",
   "execution_count": 42,
   "metadata": {
    "colab": {
     "base_uri": "https://localhost:8080/"
    },
    "id": "hyuJP2wdizCM",
    "outputId": "b2658e58-95c3-4ab4-8044-749a49e54b8c"
   },
   "outputs": [
    {
     "name": "stdout",
     "output_type": "stream",
     "text": [
      "         Date     J001     L001     S001\n",
      "0  2021-03-30  19836.0  21978.0  21819.0\n",
      "1  2021-06-30  17690.0  17007.0  19134.0\n",
      "2  2021-09-30  17690.0  17007.0  19134.0\n",
      "3  2021-12-30  17690.0  17007.0  19134.0\n"
     ]
    }
   ],
   "source": [
    "#Format and build a dataframe with y_values for each product within the category\n",
    "y_pivot = df_feature.pivot( index='Date', columns='ProductID' ,values='Quantity' )\n",
    "y_values = pd.DataFrame(y_pivot.to_records())\n",
    "y_values.dropna()\n",
    "print(y_values)"
   ]
  },
  {
   "cell_type": "code",
   "execution_count": null,
   "metadata": {},
   "outputs": [],
   "source": []
  },
  {
   "cell_type": "code",
   "execution_count": null,
   "metadata": {},
   "outputs": [],
   "source": []
  },
  {
   "cell_type": "code",
   "execution_count": 43,
   "metadata": {
    "colab": {
     "base_uri": "https://localhost:8080/",
     "height": 478
    },
    "id": "dm7G3_KxjB8S",
    "outputId": "f66d3328-4d74-4531-ae28-f934d4e4c483"
   },
   "outputs": [
    {
     "data": {
      "text/html": [
       "<div>\n",
       "<style scoped>\n",
       "    .dataframe tbody tr th:only-of-type {\n",
       "        vertical-align: middle;\n",
       "    }\n",
       "\n",
       "    .dataframe tbody tr th {\n",
       "        vertical-align: top;\n",
       "    }\n",
       "\n",
       "    .dataframe thead th {\n",
       "        text-align: right;\n",
       "    }\n",
       "</style>\n",
       "<table border=\"1\" class=\"dataframe\">\n",
       "  <thead>\n",
       "    <tr style=\"text-align: right;\">\n",
       "      <th></th>\n",
       "      <th>ProductID</th>\n",
       "      <th>price_elasticity</th>\n",
       "      <th>t_score</th>\n",
       "      <th>coefficient_pvalue</th>\n",
       "      <th>slope</th>\n",
       "      <th>price_mean</th>\n",
       "      <th>quantity_mean</th>\n",
       "      <th>intercept</th>\n",
       "    </tr>\n",
       "  </thead>\n",
       "  <tbody>\n",
       "  </tbody>\n",
       "</table>\n",
       "</div>"
      ],
      "text/plain": [
       "Empty DataFrame\n",
       "Columns: [ProductID, price_elasticity, t_score, coefficient_pvalue, slope, price_mean, quantity_mean, intercept]\n",
       "Index: []"
      ]
     },
     "execution_count": 43,
     "metadata": {},
     "output_type": "execute_result"
    }
   ],
   "source": [
    "points = []\n",
    "results_values = {\n",
    "    \"ProductID\": [],\n",
    "    \"price_elasticity\": [],\n",
    "    \"price_mean\": [],\n",
    "    \"quantity_mean\": [],\n",
    "    \"intercept\": [],\n",
    "    \"t_score\":[],\n",
    "    \"slope\": [],\n",
    "    \"coefficient_pvalue\" : [],\n",
    "}\n",
    "#Append x_values with y_values per same product name\n",
    "for column in x_values.columns[1:]:\n",
    "    column_points = []\n",
    "    for i in range(len(x_values[column])):\n",
    "        if not np.isnan(x_values[column][i]) and not np.isnan(y_values[column][i]):\n",
    "            column_points.append((x_values[column][i], y_values[column][i]))\n",
    "    df = pd.DataFrame(list(column_points), columns= ['x_value', 'y_value'])\n",
    "\n",
    "\n",
    "    #Linear Regression Model\n",
    "    import statsmodels.api as sm\n",
    "    x_value = df['x_value']\n",
    "    y_value = df['y_value']\n",
    "    X = sm.add_constant(x_value)\n",
    "    model = sm.OLS(y_value, X)\n",
    "    result = model.fit()\n",
    "    \n",
    "    \n",
    "    #(Null Hypothesis test) Coefficient with a p value less than 0.05\n",
    "    if result.f_pvalue < 0.05:\n",
    "        \n",
    "        rsquared = result.rsquared\n",
    "        coefficient_pvalue = result.f_pvalue\n",
    "        intercept, slope = result.params\n",
    "        mean_price = np.mean(x_value)\n",
    "        mean_quantity = np.mean(y_value)\n",
    "        tintercept, t_score = result.tvalues\n",
    "     \n",
    "        #Price elasticity Formula\n",
    "        price_elasticity = (slope)*(mean_price/mean_quantity)    \n",
    "            \n",
    "        #Append results into dictionary for dataframe\n",
    "        results_values[\"ProductID\"].append(column)\n",
    "        results_values[\"price_elasticity\"].append(price_elasticity)\n",
    "        results_values[\"price_mean\"].append(mean_price)\n",
    "        results_values[\"quantity_mean\"].append(mean_quantity)\n",
    "        results_values[\"intercept\"].append(intercept)\n",
    "        results_values['t_score'].append(t_score)\n",
    "        results_values[\"slope\"].append(slope)\n",
    "        results_values[\"coefficient_pvalue\"].append(coefficient_pvalue)\n",
    "        \n",
    "final_df = pd.DataFrame.from_dict(results_values)\n",
    "df_elasticity = final_df[['ProductID','price_elasticity','t_score','coefficient_pvalue','slope','price_mean','quantity_mean','intercept']]\n",
    "df_elasticity"
   ]
  },
  {
   "cell_type": "code",
   "execution_count": 44,
   "metadata": {},
   "outputs": [],
   "source": [
    "def divergent_plot(df, values_column, ylabel, xlabel):\n",
    "\n",
    "    #Divergent plot\n",
    "    df['ranking'] = df[values_column].rank( ascending = True).astype(int)\n",
    "    df.sort_values(values_column, ascending =False, inplace = True)\n",
    "    plt.figure(figsize = (12,5), dpi = 80)\n",
    "    plt.hlines(y = df['ranking'] , xmin = 0, xmax = df[values_column], alpha = 0.5, linewidth = 3)\n",
    "    \n",
    "    #Add elasticity labels\n",
    "    for x, y, tex in zip(df[values_column], df['ranking'] , df[values_column]):\n",
    "        plt.text(x, y, round(tex, 2), horizontalalignment='right' if x < 0 else 'left', \n",
    "                 verticalalignment='center', fontdict={'color':'red' if x < 0 else 'green', 'size':10})\n",
    "        \n",
    "    \n",
    "    # Axis and title\n",
    "    plt.gca().set(ylabel= ylabel, xlabel= xlabel)\n",
    "    plt.yticks(df['ranking'])\n",
    "    plt.title(values_column , fontdict={'size':13})\n",
    "    plt.grid(linestyle='--', alpha=0.5)\n",
    "    plt.show()\n",
    "            \n",
    "    \n",
    "    #Adjust Ranking column and print dataframe\n",
    "    pd.set_option('display.width', 4000)\n",
    "    cols = list(df.columns)\n",
    "    cols = [cols[-1]] + cols[:-1]\n",
    "    df = df[cols]\n",
    "    \n",
    "    df = df.iloc[:,:3]\n",
    "    df.set_index('ranking', inplace=True)\n",
    "    display(df)"
   ]
  },
  {
   "cell_type": "code",
   "execution_count": null,
   "metadata": {
    "id": "X6icylKKkBGd"
   },
   "outputs": [],
   "source": []
  },
  {
   "cell_type": "code",
   "execution_count": null,
   "metadata": {},
   "outputs": [],
   "source": []
  },
  {
   "cell_type": "markdown",
   "metadata": {
    "id": "PTl429Wxnpyc"
   },
   "source": [
    "# Result"
   ]
  },
  {
   "cell_type": "code",
   "execution_count": 45,
   "metadata": {
    "colab": {
     "base_uri": "https://localhost:8080/",
     "height": 424
    },
    "id": "nUislE3qkOJg",
    "outputId": "7aa3c881-9841-49b2-ff7e-d32f246e8da1"
   },
   "outputs": [
    {
     "data": {
      "text/html": [
       "<div>\n",
       "<style scoped>\n",
       "    .dataframe tbody tr th:only-of-type {\n",
       "        vertical-align: middle;\n",
       "    }\n",
       "\n",
       "    .dataframe tbody tr th {\n",
       "        vertical-align: top;\n",
       "    }\n",
       "\n",
       "    .dataframe thead th {\n",
       "        text-align: right;\n",
       "    }\n",
       "</style>\n",
       "<table border=\"1\" class=\"dataframe\">\n",
       "  <thead>\n",
       "    <tr style=\"text-align: right;\">\n",
       "      <th></th>\n",
       "      <th>ProductID</th>\n",
       "      <th>price_elasticity</th>\n",
       "      <th>t_score</th>\n",
       "      <th>coefficient_pvalue</th>\n",
       "      <th>slope</th>\n",
       "      <th>price_mean</th>\n",
       "      <th>quantity_mean</th>\n",
       "      <th>intercept</th>\n",
       "    </tr>\n",
       "  </thead>\n",
       "  <tbody>\n",
       "  </tbody>\n",
       "</table>\n",
       "</div>"
      ],
      "text/plain": [
       "Empty DataFrame\n",
       "Columns: [ProductID, price_elasticity, t_score, coefficient_pvalue, slope, price_mean, quantity_mean, intercept]\n",
       "Index: []"
      ]
     },
     "execution_count": 45,
     "metadata": {},
     "output_type": "execute_result"
    }
   ],
   "source": [
    "df_elasticity"
   ]
  },
  {
   "cell_type": "code",
   "execution_count": 46,
   "metadata": {
    "colab": {
     "base_uri": "https://localhost:8080/",
     "height": 677
    },
    "id": "liW84GKkmVOB",
    "outputId": "39a9374e-b069-4330-f5c1-b7fa14d767a4"
   },
   "outputs": [
    {
     "data": {
      "text/html": [
       "<div>\n",
       "<style scoped>\n",
       "    .dataframe tbody tr th:only-of-type {\n",
       "        vertical-align: middle;\n",
       "    }\n",
       "\n",
       "    .dataframe tbody tr th {\n",
       "        vertical-align: top;\n",
       "    }\n",
       "\n",
       "    .dataframe thead th {\n",
       "        text-align: right;\n",
       "    }\n",
       "</style>\n",
       "<table border=\"1\" class=\"dataframe\">\n",
       "  <thead>\n",
       "    <tr style=\"text-align: right;\">\n",
       "      <th></th>\n",
       "      <th>ProductID</th>\n",
       "      <th>price_elasticity</th>\n",
       "      <th>t_score</th>\n",
       "      <th>coefficient_pvalue</th>\n",
       "      <th>slope</th>\n",
       "      <th>price_mean</th>\n",
       "      <th>quantity_mean</th>\n",
       "      <th>intercept</th>\n",
       "    </tr>\n",
       "  </thead>\n",
       "  <tbody>\n",
       "  </tbody>\n",
       "</table>\n",
       "</div>"
      ],
      "text/plain": [
       "Empty DataFrame\n",
       "Columns: [ProductID, price_elasticity, t_score, coefficient_pvalue, slope, price_mean, quantity_mean, intercept]\n",
       "Index: []"
      ]
     },
     "execution_count": 46,
     "metadata": {},
     "output_type": "execute_result"
    }
   ],
   "source": [
    "df_sample = df_elasticity.head(10).append(df_elasticity.tail(10))\n",
    "df_sample"
   ]
  },
  {
   "cell_type": "code",
   "execution_count": 47,
   "metadata": {
    "colab": {
     "base_uri": "https://localhost:8080/",
     "height": 1000
    },
    "id": "dFEywrAzmNvY",
    "outputId": "f6640a24-fd8f-478d-d1e3-ba4a802cfd20"
   },
   "outputs": [
    {
     "data": {
      "image/png": "[encoded data removed]",
      "text/plain": [
       "<Figure size 960x400 with 1 Axes>"
      ]
     },
     "metadata": {
      "needs_background": "light"
     },
     "output_type": "display_data"
    },
    {
     "data": {
      "text/html": [
       "<div>\n",
       "<style scoped>\n",
       "    .dataframe tbody tr th:only-of-type {\n",
       "        vertical-align: middle;\n",
       "    }\n",
       "\n",
       "    .dataframe tbody tr th {\n",
       "        vertical-align: top;\n",
       "    }\n",
       "\n",
       "    .dataframe thead th {\n",
       "        text-align: right;\n",
       "    }\n",
       "</style>\n",
       "<table border=\"1\" class=\"dataframe\">\n",
       "  <thead>\n",
       "    <tr style=\"text-align: right;\">\n",
       "      <th></th>\n",
       "      <th>ProductID</th>\n",
       "      <th>price_elasticity</th>\n",
       "    </tr>\n",
       "    <tr>\n",
       "      <th>ranking</th>\n",
       "      <th></th>\n",
       "      <th></th>\n",
       "    </tr>\n",
       "  </thead>\n",
       "  <tbody>\n",
       "  </tbody>\n",
       "</table>\n",
       "</div>"
      ],
      "text/plain": [
       "Empty DataFrame\n",
       "Columns: [ProductID, price_elasticity]\n",
       "Index: []"
      ]
     },
     "metadata": {},
     "output_type": "display_data"
    }
   ],
   "source": [
    "pe_plot = divergent_plot(df_sample, 'price_elasticity', 'Ranking Number', 'Price Elasticity')"
   ]
  },
  {
   "cell_type": "markdown",
   "metadata": {
    "id": "NUJp-2Hlu_FK"
   },
   "source": [
    "* Elasticities between 0- 1 are considered inelastic, as a result the products from rank 1 to 20 are elastic.\n",
    "* Negative Price Elasticities are located from rank 1 to 20 and this would tell us the likelihood of when price decreases how likely sales demand would increase or vice versa.\n",
    "* For instance, let’s analyze C1021 located in rank 11 with a negative price elasticity of -1.867437 ; a 10% price decrease in C1021, it increases sales demand by 18.67% or a 10% price increase in C1021, it decreases sales demand by 18.67%"
   ]
  },
  {
   "cell_type": "code",
   "execution_count": null,
   "metadata": {},
   "outputs": [],
   "source": []
  },
  {
   "cell_type": "code",
   "execution_count": null,
   "metadata": {},
   "outputs": [],
   "source": []
  },
  {
   "cell_type": "code",
   "execution_count": null,
   "metadata": {},
   "outputs": [],
   "source": []
  }
 ],
 "metadata": {
  "colab": {
   "collapsed_sections": [
    "YkPyPM2LgYdB",
    "nZKf7fkWgfCo",
    "Xoc1ZfoDnkkz",
    "PTl429Wxnpyc"
   ],
   "name": "price_elasticity_linreg.ipynb",
   "provenance": []
  },
  "kernelspec": {
   "display_name": "Python 3 (ipykernel)",
   "language": "python",
   "name": "python3"
  },
  "language_info": {
   "codemirror_mode": {
    "name": "ipython",
    "version": 3
   },
   "file_extension": ".py",
   "mimetype": "text/x-python",
   "name": "python",
   "nbconvert_exporter": "python",
   "pygments_lexer": "ipython3",
   "version": "3.8.12"
  }
 },
 "nbformat": 4,
 "nbformat_minor": 4
}

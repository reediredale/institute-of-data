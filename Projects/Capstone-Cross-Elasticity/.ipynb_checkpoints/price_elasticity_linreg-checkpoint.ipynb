{
 "cells": [
  {
   "cell_type": "markdown",
   "metadata": {
    "id": "YkPyPM2LgYdB"
   },
   "source": [
    "# Data Preparation & Profiling"
   ]
  },
  {
   "cell_type": "code",
   "execution_count": null,
   "metadata": {
    "colab": {
     "base_uri": "https://localhost:8080/"
    },
    "id": "UC52S_1Pi6jQ",
    "outputId": "481eaffb-c0a8-41b1-f4dc-3b7197cbd37d"
   },
   "outputs": [],
   "source": []
  },
  {
   "cell_type": "code",
   "execution_count": 1,
   "metadata": {
    "id": "mqV7GIFwi-6u"
   },
   "outputs": [],
   "source": [
    "# Packages\n",
    "import pandas as pd\n",
    "import numpy as np\n",
    "import matplotlib.pyplot as plt"
   ]
  },
  {
   "cell_type": "code",
   "execution_count": 2,
   "metadata": {
    "id": "bHZJUBzljAhj"
   },
   "outputs": [],
   "source": [
    "# Data\n",
    "colnames = ['ProductID','Product_type','Date','Price','Quantity']\n",
    "df = pd.read_csv('data/beer-neue.csv', names=colnames, header=None)"
   ]
  },
  {
   "cell_type": "code",
   "execution_count": 3,
   "metadata": {
    "colab": {
     "base_uri": "https://localhost:8080/"
    },
    "id": "ajZnBhKioj3d",
    "outputId": "494eeefd-c342-490f-a9f8-7cef0bda203f"
   },
   "outputs": [
    {
     "name": "stdout",
     "output_type": "stream",
     "text": [
      "<class 'pandas.core.frame.DataFrame'>\n",
      "RangeIndex: 9887 entries, 0 to 9886\n",
      "Data columns (total 5 columns):\n",
      " #   Column        Non-Null Count  Dtype  \n",
      "---  ------        --------------  -----  \n",
      " 0   ProductID     9887 non-null   object \n",
      " 1   Product_type  9887 non-null   object \n",
      " 2   Date          9887 non-null   object \n",
      " 3   Price         9887 non-null   float64\n",
      " 4   Quantity      9887 non-null   int64  \n",
      "dtypes: float64(1), int64(1), object(3)\n",
      "memory usage: 386.3+ KB\n"
     ]
    }
   ],
   "source": [
    "df.info()"
   ]
  },
  {
   "cell_type": "code",
   "execution_count": 4,
   "metadata": {
    "colab": {
     "base_uri": "https://localhost:8080/",
     "height": 363
    },
    "id": "TMWlMqMbjXWd",
    "outputId": "7bfe6d37-6e37-4f10-e040-9c247b44a7b7"
   },
   "outputs": [
    {
     "data": {
      "text/html": [
       "<div>\n",
       "<style scoped>\n",
       "    .dataframe tbody tr th:only-of-type {\n",
       "        vertical-align: middle;\n",
       "    }\n",
       "\n",
       "    .dataframe tbody tr th {\n",
       "        vertical-align: top;\n",
       "    }\n",
       "\n",
       "    .dataframe thead th {\n",
       "        text-align: right;\n",
       "    }\n",
       "</style>\n",
       "<table border=\"1\" class=\"dataframe\">\n",
       "  <thead>\n",
       "    <tr style=\"text-align: right;\">\n",
       "      <th></th>\n",
       "      <th>ProductID</th>\n",
       "      <th>Product_type</th>\n",
       "      <th>Date</th>\n",
       "      <th>Price</th>\n",
       "      <th>Quantity</th>\n",
       "    </tr>\n",
       "  </thead>\n",
       "  <tbody>\n",
       "    <tr>\n",
       "      <th>0</th>\n",
       "      <td>C2779</td>\n",
       "      <td>Beer</td>\n",
       "      <td>2017-01-01</td>\n",
       "      <td>10.37</td>\n",
       "      <td>59</td>\n",
       "    </tr>\n",
       "    <tr>\n",
       "      <th>1</th>\n",
       "      <td>C9838</td>\n",
       "      <td>Beer</td>\n",
       "      <td>2017-01-01</td>\n",
       "      <td>11.79</td>\n",
       "      <td>51</td>\n",
       "    </tr>\n",
       "    <tr>\n",
       "      <th>2</th>\n",
       "      <td>C5007</td>\n",
       "      <td>Beer</td>\n",
       "      <td>2017-01-01</td>\n",
       "      <td>10.02</td>\n",
       "      <td>76</td>\n",
       "    </tr>\n",
       "    <tr>\n",
       "      <th>3</th>\n",
       "      <td>C4410</td>\n",
       "      <td>Beer</td>\n",
       "      <td>2017-01-01</td>\n",
       "      <td>12.38</td>\n",
       "      <td>45</td>\n",
       "    </tr>\n",
       "    <tr>\n",
       "      <th>4</th>\n",
       "      <td>C6799</td>\n",
       "      <td>Beer</td>\n",
       "      <td>2017-01-01</td>\n",
       "      <td>11.84</td>\n",
       "      <td>50</td>\n",
       "    </tr>\n",
       "    <tr>\n",
       "      <th>5</th>\n",
       "      <td>C6946</td>\n",
       "      <td>Beer</td>\n",
       "      <td>2017-01-01</td>\n",
       "      <td>11.88</td>\n",
       "      <td>56</td>\n",
       "    </tr>\n",
       "    <tr>\n",
       "      <th>6</th>\n",
       "      <td>C8456</td>\n",
       "      <td>Beer</td>\n",
       "      <td>2017-01-01</td>\n",
       "      <td>10.80</td>\n",
       "      <td>70</td>\n",
       "    </tr>\n",
       "    <tr>\n",
       "      <th>7</th>\n",
       "      <td>C5041</td>\n",
       "      <td>Beer</td>\n",
       "      <td>2017-01-01</td>\n",
       "      <td>10.63</td>\n",
       "      <td>62</td>\n",
       "    </tr>\n",
       "    <tr>\n",
       "      <th>8</th>\n",
       "      <td>C8945</td>\n",
       "      <td>Beer</td>\n",
       "      <td>2017-01-01</td>\n",
       "      <td>10.58</td>\n",
       "      <td>59</td>\n",
       "    </tr>\n",
       "    <tr>\n",
       "      <th>9</th>\n",
       "      <td>C8644</td>\n",
       "      <td>Beer</td>\n",
       "      <td>2017-01-01</td>\n",
       "      <td>10.59</td>\n",
       "      <td>67</td>\n",
       "    </tr>\n",
       "  </tbody>\n",
       "</table>\n",
       "</div>"
      ],
      "text/plain": [
       "  ProductID Product_type        Date  Price  Quantity\n",
       "0     C2779         Beer  2017-01-01  10.37        59\n",
       "1     C9838         Beer  2017-01-01  11.79        51\n",
       "2     C5007         Beer  2017-01-01  10.02        76\n",
       "3     C4410         Beer  2017-01-01  12.38        45\n",
       "4     C6799         Beer  2017-01-01  11.84        50\n",
       "5     C6946         Beer  2017-01-01  11.88        56\n",
       "6     C8456         Beer  2017-01-01  10.80        70\n",
       "7     C5041         Beer  2017-01-01  10.63        62\n",
       "8     C8945         Beer  2017-01-01  10.58        59\n",
       "9     C8644         Beer  2017-01-01  10.59        67"
      ]
     },
     "execution_count": 4,
     "metadata": {},
     "output_type": "execute_result"
    }
   ],
   "source": [
    "df.head(10)"
   ]
  },
  {
   "cell_type": "markdown",
   "metadata": {
    "id": "nZKf7fkWgfCo"
   },
   "source": [
    "# Exploratory Data Analysis"
   ]
  },
  {
   "cell_type": "code",
   "execution_count": 5,
   "metadata": {
    "colab": {
     "base_uri": "https://localhost:8080/"
    },
    "id": "SbCHRQYVgXmJ",
    "outputId": "643d2d2b-ad1e-4ee1-96de-0a17beaf2e4a"
   },
   "outputs": [
    {
     "data": {
      "text/plain": [
       "Cereals       4400\n",
       "Headphones    2760\n",
       "Diapers       2367\n",
       "Beer           360\n",
       "Name: Product_type, dtype: int64"
      ]
     },
     "execution_count": 5,
     "metadata": {},
     "output_type": "execute_result"
    }
   ],
   "source": [
    "#Check values in different category_name\n",
    "category = df['Product_type'].value_counts()\n",
    "category"
   ]
  },
  {
   "cell_type": "code",
   "execution_count": 6,
   "metadata": {
    "colab": {
     "base_uri": "https://localhost:8080/",
     "height": 206
    },
    "id": "eTRzrc5ziJ2j",
    "outputId": "2f7f571f-d9e2-4c9f-9868-3f832cd52e14"
   },
   "outputs": [
    {
     "data": {
      "text/html": [
       "<div>\n",
       "<style scoped>\n",
       "    .dataframe tbody tr th:only-of-type {\n",
       "        vertical-align: middle;\n",
       "    }\n",
       "\n",
       "    .dataframe tbody tr th {\n",
       "        vertical-align: top;\n",
       "    }\n",
       "\n",
       "    .dataframe thead th {\n",
       "        text-align: right;\n",
       "    }\n",
       "</style>\n",
       "<table border=\"1\" class=\"dataframe\">\n",
       "  <thead>\n",
       "    <tr style=\"text-align: right;\">\n",
       "      <th></th>\n",
       "      <th>Date</th>\n",
       "      <th>ProductID</th>\n",
       "      <th>Price</th>\n",
       "      <th>Quantity</th>\n",
       "    </tr>\n",
       "  </thead>\n",
       "  <tbody>\n",
       "    <tr>\n",
       "      <th>0</th>\n",
       "      <td>2017-01-01</td>\n",
       "      <td>C1021</td>\n",
       "      <td>8.61</td>\n",
       "      <td>20.0</td>\n",
       "    </tr>\n",
       "    <tr>\n",
       "      <th>1</th>\n",
       "      <td>2017-01-01</td>\n",
       "      <td>C1033</td>\n",
       "      <td>9.08</td>\n",
       "      <td>19.0</td>\n",
       "    </tr>\n",
       "    <tr>\n",
       "      <th>2</th>\n",
       "      <td>2017-01-01</td>\n",
       "      <td>C1037</td>\n",
       "      <td>8.56</td>\n",
       "      <td>19.0</td>\n",
       "    </tr>\n",
       "    <tr>\n",
       "      <th>3</th>\n",
       "      <td>2017-01-01</td>\n",
       "      <td>C1054</td>\n",
       "      <td>9.14</td>\n",
       "      <td>17.0</td>\n",
       "    </tr>\n",
       "    <tr>\n",
       "      <th>4</th>\n",
       "      <td>2017-01-01</td>\n",
       "      <td>C1075</td>\n",
       "      <td>8.00</td>\n",
       "      <td>27.0</td>\n",
       "    </tr>\n",
       "  </tbody>\n",
       "</table>\n",
       "</div>"
      ],
      "text/plain": [
       "         Date ProductID  Price  Quantity\n",
       "0  2017-01-01     C1021   8.61      20.0\n",
       "1  2017-01-01     C1033   9.08      19.0\n",
       "2  2017-01-01     C1037   8.56      19.0\n",
       "3  2017-01-01     C1054   9.14      17.0\n",
       "4  2017-01-01     C1075   8.00      27.0"
      ]
     },
     "execution_count": 6,
     "metadata": {},
     "output_type": "execute_result"
    }
   ],
   "source": [
    "#Select Cereals\n",
    "df_feature = df[df['Product_type']=='Beer']\n",
    "\n",
    "#Make sure to not have any duplicates in the data\n",
    "df_feature = df_feature.groupby(['Date','ProductID']).agg({'Price':'mean','Quantity': 'mean' }).reset_index()\n",
    "\n",
    "#laptop data used for price elasticities\n",
    "df_feature.head()"
   ]
  },
  {
   "cell_type": "markdown",
   "metadata": {
    "id": "Xoc1ZfoDnkkz"
   },
   "source": [
    "# Data Modelling"
   ]
  },
  {
   "cell_type": "code",
   "execution_count": 7,
   "metadata": {
    "colab": {
     "base_uri": "https://localhost:8080/"
    },
    "id": "ra00aZkhikVu",
    "outputId": "3f9d3a70-8391-40a5-ba22-39ad75ab1435"
   },
   "outputs": [
    {
     "name": "stdout",
     "output_type": "stream",
     "text": [
      "         Date  C1021  C1023  C1033  C1037  C1054  C1075  C1130  C1178  C1204  \\\n",
      "0  2017-01-01   8.61    NaN   9.08   8.56   9.14   8.00   9.52   8.72    NaN   \n",
      "1  2017-01-02   9.26  14.61  10.09   8.54   8.40   8.63   9.22   9.74  11.21   \n",
      "\n",
      "   ...  C9636  C9722  C9744  C9811  C9838  C9865  C9880  C9904  C9976  C9982  \n",
      "0  ...   8.08   9.20   8.80  11.71  11.79   8.88    NaN   9.29   9.49    NaN  \n",
      "1  ...   9.34   8.71   9.41  11.37  12.21   9.30   14.8   8.35   9.93  12.53  \n",
      "\n",
      "[2 rows x 201 columns]\n"
     ]
    }
   ],
   "source": [
    "#Format and build a dataframe with x_values for each product within the category\n",
    "x_pivot = df_feature.pivot( index='Date', columns='ProductID' ,values='Price' )\n",
    "x_values = pd.DataFrame(x_pivot.to_records())\n",
    "x_values.dropna()\n",
    "print(x_values)"
   ]
  },
  {
   "cell_type": "code",
   "execution_count": 8,
   "metadata": {
    "colab": {
     "base_uri": "https://localhost:8080/"
    },
    "id": "hyuJP2wdizCM",
    "outputId": "b2658e58-95c3-4ab4-8044-749a49e54b8c"
   },
   "outputs": [
    {
     "name": "stdout",
     "output_type": "stream",
     "text": [
      "         Date  C1021  C1023  C1033  C1037  C1054  C1075  C1130  C1178  C1204  \\\n",
      "0  2017-01-01   20.0    NaN   19.0   19.0   17.0   27.0   16.0   19.0    NaN   \n",
      "1  2017-01-02    6.0   50.0    4.0   10.0   10.0    8.0    6.0    5.0   25.0   \n",
      "\n",
      "   ...  C9636  C9722  C9744  C9811  C9838  C9865  C9880  C9904  C9976  C9982  \n",
      "0  ...   26.0   16.0   18.0   53.0   51.0   20.0    NaN   17.0   16.0    NaN  \n",
      "1  ...    6.0    8.0    6.0   23.0   21.0    7.0   52.0   10.0    6.0   22.0  \n",
      "\n",
      "[2 rows x 201 columns]\n"
     ]
    }
   ],
   "source": [
    "#Format and build a dataframe with y_values for each product within the category\n",
    "y_pivot = df_feature.pivot( index='Date', columns='ProductID' ,values='Quantity' )\n",
    "y_values = pd.DataFrame(y_pivot.to_records())\n",
    "print(y_values)"
   ]
  },
  {
   "cell_type": "code",
   "execution_count": 9,
   "metadata": {
    "colab": {
     "base_uri": "https://localhost:8080/",
     "height": 478
    },
    "id": "dm7G3_KxjB8S",
    "outputId": "f66d3328-4d74-4531-ae28-f934d4e4c483"
   },
   "outputs": [
    {
     "data": {
      "text/html": [
       "<div>\n",
       "<style scoped>\n",
       "    .dataframe tbody tr th:only-of-type {\n",
       "        vertical-align: middle;\n",
       "    }\n",
       "\n",
       "    .dataframe tbody tr th {\n",
       "        vertical-align: top;\n",
       "    }\n",
       "\n",
       "    .dataframe thead th {\n",
       "        text-align: right;\n",
       "    }\n",
       "</style>\n",
       "<table border=\"1\" class=\"dataframe\">\n",
       "  <thead>\n",
       "    <tr style=\"text-align: right;\">\n",
       "      <th></th>\n",
       "      <th>ProductID</th>\n",
       "      <th>price_elasticity</th>\n",
       "      <th>t_score</th>\n",
       "      <th>coefficient_pvalue</th>\n",
       "      <th>slope</th>\n",
       "      <th>price_mean</th>\n",
       "      <th>quantity_mean</th>\n",
       "      <th>intercept</th>\n",
       "    </tr>\n",
       "  </thead>\n",
       "  <tbody>\n",
       "  </tbody>\n",
       "</table>\n",
       "</div>"
      ],
      "text/plain": [
       "Empty DataFrame\n",
       "Columns: [ProductID, price_elasticity, t_score, coefficient_pvalue, slope, price_mean, quantity_mean, intercept]\n",
       "Index: []"
      ]
     },
     "execution_count": 9,
     "metadata": {},
     "output_type": "execute_result"
    }
   ],
   "source": [
    "points = []\n",
    "results_values = {\n",
    "    \"ProductID\": [],\n",
    "    \"price_elasticity\": [],\n",
    "    \"price_mean\": [],\n",
    "    \"quantity_mean\": [],\n",
    "    \"intercept\": [],\n",
    "    \"t_score\":[],\n",
    "    \"slope\": [],\n",
    "    \"coefficient_pvalue\" : [],\n",
    "}\n",
    "#Append x_values with y_values per same product name\n",
    "for column in x_values.columns[1:]:\n",
    "    column_points = []\n",
    "    for i in range(len(x_values[column])):\n",
    "        if not np.isnan(x_values[column][i]) and not np.isnan(y_values[column][i]):\n",
    "            column_points.append((x_values[column][i], y_values[column][i]))\n",
    "    df = pd.DataFrame(list(column_points), columns= ['x_value', 'y_value'])\n",
    "\n",
    "\n",
    "    #Linear Regression Model\n",
    "    import statsmodels.api as sm\n",
    "    x_value = df['x_value']\n",
    "    y_value = df['y_value']\n",
    "    X = sm.add_constant(x_value)\n",
    "    model = sm.OLS(y_value, X)\n",
    "    result = model.fit()\n",
    "    \n",
    "    \n",
    "    #(Null Hypothesis test) Coefficient with a p value less than 0.05\n",
    "    if result.f_pvalue < 0.05:\n",
    "        \n",
    "        rsquared = result.rsquared\n",
    "        coefficient_pvalue = result.f_pvalue\n",
    "        intercept, slope = result.params\n",
    "        mean_price = np.mean(x_value)\n",
    "        mean_quantity = np.mean(y_value)\n",
    "        tintercept, t_score = result.tvalues\n",
    "     \n",
    "        #Price elasticity Formula\n",
    "        price_elasticity = (slope)*(mean_price/mean_quantity)    \n",
    "            \n",
    "        #Append results into dictionary for dataframe\n",
    "        results_values[\"ProductID\"].append(column)\n",
    "        results_values[\"price_elasticity\"].append(price_elasticity)\n",
    "        results_values[\"price_mean\"].append(mean_price)\n",
    "        results_values[\"quantity_mean\"].append(mean_quantity)\n",
    "        results_values[\"intercept\"].append(intercept)\n",
    "        results_values['t_score'].append(t_score)\n",
    "        results_values[\"slope\"].append(slope)\n",
    "        results_values[\"coefficient_pvalue\"].append(coefficient_pvalue)\n",
    "        \n",
    "final_df = pd.DataFrame.from_dict(results_values)\n",
    "df_elasticity = final_df[['ProductID','price_elasticity','t_score','coefficient_pvalue','slope','price_mean','quantity_mean','intercept']]\n",
    "df_elasticity"
   ]
  },
  {
   "cell_type": "code",
   "execution_count": 10,
   "metadata": {
    "id": "X6icylKKkBGd"
   },
   "outputs": [],
   "source": [
    "def divergent_plot(df, values_column, ylabel, xlabel):\n",
    "\n",
    "    #Divergent plot\n",
    "    df['ranking'] = df[values_column].rank( ascending = True).astype(int)\n",
    "    df.sort_values(values_column, ascending =False, inplace = True)\n",
    "    plt.figure(figsize = (12,5), dpi = 80)\n",
    "    plt.hlines(y = df['ranking'] , xmin = 0, xmax = df[values_column], alpha = 0.5, linewidth = 3)\n",
    "    \n",
    "    #Add elasticity labels\n",
    "    for x, y, tex in zip(df[values_column], df['ranking'] , df[values_column]):\n",
    "        plt.text(x, y, round(tex, 2), horizontalalignment='right' if x < 0 else 'left', \n",
    "                 verticalalignment='center', fontdict={'color':'red' if x < 0 else 'green', 'size':10})\n",
    "        \n",
    "    \n",
    "    # Axis and title\n",
    "    plt.gca().set(ylabel= ylabel, xlabel= xlabel)\n",
    "    plt.yticks(df['ranking'])\n",
    "    plt.title(values_column , fontdict={'size':13})\n",
    "    plt.grid(linestyle='--', alpha=0.5)\n",
    "    plt.show()\n",
    "            \n",
    "    \n",
    "    #Adjust Ranking column and print dataframe\n",
    "    pd.set_option('display.width', 4000)\n",
    "    cols = list(df.columns)\n",
    "    cols = [cols[-1]] + cols[:-1]\n",
    "    df = df[cols]\n",
    "    \n",
    "    df = df.iloc[:,:3]\n",
    "    df.set_index('ranking', inplace=True)\n",
    "    display(df)"
   ]
  },
  {
   "cell_type": "markdown",
   "metadata": {
    "id": "PTl429Wxnpyc"
   },
   "source": [
    "# Result"
   ]
  },
  {
   "cell_type": "code",
   "execution_count": 11,
   "metadata": {
    "colab": {
     "base_uri": "https://localhost:8080/",
     "height": 424
    },
    "id": "nUislE3qkOJg",
    "outputId": "7aa3c881-9841-49b2-ff7e-d32f246e8da1"
   },
   "outputs": [
    {
     "data": {
      "text/html": [
       "<div>\n",
       "<style scoped>\n",
       "    .dataframe tbody tr th:only-of-type {\n",
       "        vertical-align: middle;\n",
       "    }\n",
       "\n",
       "    .dataframe tbody tr th {\n",
       "        vertical-align: top;\n",
       "    }\n",
       "\n",
       "    .dataframe thead th {\n",
       "        text-align: right;\n",
       "    }\n",
       "</style>\n",
       "<table border=\"1\" class=\"dataframe\">\n",
       "  <thead>\n",
       "    <tr style=\"text-align: right;\">\n",
       "      <th></th>\n",
       "      <th>ProductID</th>\n",
       "      <th>price_elasticity</th>\n",
       "      <th>t_score</th>\n",
       "      <th>coefficient_pvalue</th>\n",
       "      <th>slope</th>\n",
       "      <th>price_mean</th>\n",
       "      <th>quantity_mean</th>\n",
       "      <th>intercept</th>\n",
       "    </tr>\n",
       "  </thead>\n",
       "  <tbody>\n",
       "  </tbody>\n",
       "</table>\n",
       "</div>"
      ],
      "text/plain": [
       "Empty DataFrame\n",
       "Columns: [ProductID, price_elasticity, t_score, coefficient_pvalue, slope, price_mean, quantity_mean, intercept]\n",
       "Index: []"
      ]
     },
     "execution_count": 11,
     "metadata": {},
     "output_type": "execute_result"
    }
   ],
   "source": [
    "df_elasticity"
   ]
  },
  {
   "cell_type": "code",
   "execution_count": 12,
   "metadata": {
    "colab": {
     "base_uri": "https://localhost:8080/",
     "height": 677
    },
    "id": "liW84GKkmVOB",
    "outputId": "39a9374e-b069-4330-f5c1-b7fa14d767a4"
   },
   "outputs": [
    {
     "data": {
      "text/html": [
       "<div>\n",
       "<style scoped>\n",
       "    .dataframe tbody tr th:only-of-type {\n",
       "        vertical-align: middle;\n",
       "    }\n",
       "\n",
       "    .dataframe tbody tr th {\n",
       "        vertical-align: top;\n",
       "    }\n",
       "\n",
       "    .dataframe thead th {\n",
       "        text-align: right;\n",
       "    }\n",
       "</style>\n",
       "<table border=\"1\" class=\"dataframe\">\n",
       "  <thead>\n",
       "    <tr style=\"text-align: right;\">\n",
       "      <th></th>\n",
       "      <th>ProductID</th>\n",
       "      <th>price_elasticity</th>\n",
       "      <th>t_score</th>\n",
       "      <th>coefficient_pvalue</th>\n",
       "      <th>slope</th>\n",
       "      <th>price_mean</th>\n",
       "      <th>quantity_mean</th>\n",
       "      <th>intercept</th>\n",
       "    </tr>\n",
       "  </thead>\n",
       "  <tbody>\n",
       "  </tbody>\n",
       "</table>\n",
       "</div>"
      ],
      "text/plain": [
       "Empty DataFrame\n",
       "Columns: [ProductID, price_elasticity, t_score, coefficient_pvalue, slope, price_mean, quantity_mean, intercept]\n",
       "Index: []"
      ]
     },
     "execution_count": 12,
     "metadata": {},
     "output_type": "execute_result"
    }
   ],
   "source": [
    "df_sample = df_elasticity.head(10).append(df_elasticity.tail(10))\n",
    "df_sample"
   ]
  },
  {
   "cell_type": "code",
   "execution_count": 13,
   "metadata": {
    "colab": {
     "base_uri": "https://localhost:8080/",
     "height": 1000
    },
    "id": "dFEywrAzmNvY",
    "outputId": "f6640a24-fd8f-478d-d1e3-ba4a802cfd20"
   },
   "outputs": [
    {
     "data": {
      "image/png": "[encoded data removed]",
      "text/plain": [
       "<Figure size 960x400 with 1 Axes>"
      ]
     },
     "metadata": {
      "needs_background": "light"
     },
     "output_type": "display_data"
    },
    {
     "data": {
      "text/html": [
       "<div>\n",
       "<style scoped>\n",
       "    .dataframe tbody tr th:only-of-type {\n",
       "        vertical-align: middle;\n",
       "    }\n",
       "\n",
       "    .dataframe tbody tr th {\n",
       "        vertical-align: top;\n",
       "    }\n",
       "\n",
       "    .dataframe thead th {\n",
       "        text-align: right;\n",
       "    }\n",
       "</style>\n",
       "<table border=\"1\" class=\"dataframe\">\n",
       "  <thead>\n",
       "    <tr style=\"text-align: right;\">\n",
       "      <th></th>\n",
       "      <th>ProductID</th>\n",
       "      <th>price_elasticity</th>\n",
       "    </tr>\n",
       "    <tr>\n",
       "      <th>ranking</th>\n",
       "      <th></th>\n",
       "      <th></th>\n",
       "    </tr>\n",
       "  </thead>\n",
       "  <tbody>\n",
       "  </tbody>\n",
       "</table>\n",
       "</div>"
      ],
      "text/plain": [
       "Empty DataFrame\n",
       "Columns: [ProductID, price_elasticity]\n",
       "Index: []"
      ]
     },
     "metadata": {},
     "output_type": "display_data"
    }
   ],
   "source": [
    "pe_plot = divergent_plot(df_sample, 'price_elasticity', 'Ranking Number', 'Price Elasticity')"
   ]
  },
  {
   "cell_type": "markdown",
   "metadata": {
    "id": "NUJp-2Hlu_FK"
   },
   "source": [
    "* Elasticities between 0- 1 are considered inelastic, as a result the products from rank 1 to 20 are elastic.\n",
    "* Negative Price Elasticities are located from rank 1 to 20 and this would tell us the likelihood of when price decreases how likely sales demand would increase or vice versa.\n",
    "* For instance, let’s analyze C1021 located in rank 11 with a negative price elasticity of -1.867437 ; a 10% price decrease in C1021, it increases sales demand by 18.67% or a 10% price increase in C1021, it decreases sales demand by 18.67%"
   ]
  },
  {
   "cell_type": "code",
   "execution_count": null,
   "metadata": {},
   "outputs": [],
   "source": []
  },
  {
   "cell_type": "code",
   "execution_count": null,
   "metadata": {},
   "outputs": [],
   "source": []
  }
 ],
 "metadata": {
  "colab": {
   "collapsed_sections": [
    "YkPyPM2LgYdB",
    "nZKf7fkWgfCo",
    "Xoc1ZfoDnkkz",
    "PTl429Wxnpyc"
   ],
   "name": "price_elasticity_linreg.ipynb",
   "provenance": []
  },
  "kernelspec": {
   "display_name": "Python 3 (ipykernel)",
   "language": "python",
   "name": "python3"
  },
  "language_info": {
   "codemirror_mode": {
    "name": "ipython",
    "version": 3
   },
   "file_extension": ".py",
   "mimetype": "text/x-python",
   "name": "python",
   "nbconvert_exporter": "python",
   "pygments_lexer": "ipython3",
   "version": "3.8.12"
  }
 },
 "nbformat": 4,
 "nbformat_minor": 4
}

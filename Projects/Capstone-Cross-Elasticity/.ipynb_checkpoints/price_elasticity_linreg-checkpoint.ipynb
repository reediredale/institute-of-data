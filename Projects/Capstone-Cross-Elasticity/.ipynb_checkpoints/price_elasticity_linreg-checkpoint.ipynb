{
 "cells": [
  {
   "cell_type": "markdown",
   "metadata": {
    "id": "YkPyPM2LgYdB"
   },
   "source": [
    "# Data Preparation & Profiling"
   ]
  },
  {
   "cell_type": "code",
   "execution_count": null,
   "metadata": {
    "colab": {
     "base_uri": "https://localhost:8080/"
    },
    "id": "UC52S_1Pi6jQ",
    "outputId": "481eaffb-c0a8-41b1-f4dc-3b7197cbd37d"
   },
   "outputs": [],
   "source": []
  },
  {
   "cell_type": "code",
   "execution_count": 30,
   "metadata": {
    "id": "mqV7GIFwi-6u"
   },
   "outputs": [],
   "source": [
    "# Packages\n",
    "import pandas as pd\n",
    "import numpy as np\n",
    "import matplotlib.pyplot as plt"
   ]
  },
  {
   "cell_type": "code",
   "execution_count": 31,
   "metadata": {
    "id": "bHZJUBzljAhj"
   },
   "outputs": [],
   "source": [
    "# Data\n",
    "colnames = ['ProductID','Product_type','Date','Price','Quantity']\n",
    "df = pd.read_csv('data/elasticity.csv', names=colnames, header=None)"
   ]
  },
  {
   "cell_type": "code",
   "execution_count": 32,
   "metadata": {
    "colab": {
     "base_uri": "https://localhost:8080/"
    },
    "id": "ajZnBhKioj3d",
    "outputId": "494eeefd-c342-490f-a9f8-7cef0bda203f"
   },
   "outputs": [
    {
     "name": "stdout",
     "output_type": "stream",
     "text": [
      "<class 'pandas.core.frame.DataFrame'>\n",
      "RangeIndex: 462000 entries, 0 to 461999\n",
      "Data columns (total 5 columns):\n",
      " #   Column        Non-Null Count   Dtype  \n",
      "---  ------        --------------   -----  \n",
      " 0   ProductID     462000 non-null  object \n",
      " 1   Product_type  462000 non-null  object \n",
      " 2   Date          462000 non-null  object \n",
      " 3   Price         462000 non-null  float64\n",
      " 4   Quantity      462000 non-null  int64  \n",
      "dtypes: float64(1), int64(1), object(3)\n",
      "memory usage: 17.6+ MB\n"
     ]
    }
   ],
   "source": [
    "df.info()"
   ]
  },
  {
   "cell_type": "code",
   "execution_count": 33,
   "metadata": {
    "colab": {
     "base_uri": "https://localhost:8080/",
     "height": 363
    },
    "id": "TMWlMqMbjXWd",
    "outputId": "7bfe6d37-6e37-4f10-e040-9c247b44a7b7"
   },
   "outputs": [
    {
     "data": {
      "text/html": [
       "<div>\n",
       "<style scoped>\n",
       "    .dataframe tbody tr th:only-of-type {\n",
       "        vertical-align: middle;\n",
       "    }\n",
       "\n",
       "    .dataframe tbody tr th {\n",
       "        vertical-align: top;\n",
       "    }\n",
       "\n",
       "    .dataframe thead th {\n",
       "        text-align: right;\n",
       "    }\n",
       "</style>\n",
       "<table border=\"1\" class=\"dataframe\">\n",
       "  <thead>\n",
       "    <tr style=\"text-align: right;\">\n",
       "      <th></th>\n",
       "      <th>ProductID</th>\n",
       "      <th>Product_type</th>\n",
       "      <th>Date</th>\n",
       "      <th>Price</th>\n",
       "      <th>Quantity</th>\n",
       "    </tr>\n",
       "  </thead>\n",
       "  <tbody>\n",
       "    <tr>\n",
       "      <th>0</th>\n",
       "      <td>D9775</td>\n",
       "      <td>Diapers</td>\n",
       "      <td>2017-01-01</td>\n",
       "      <td>12.46</td>\n",
       "      <td>94</td>\n",
       "    </tr>\n",
       "    <tr>\n",
       "      <th>1</th>\n",
       "      <td>D80</td>\n",
       "      <td>Diapers</td>\n",
       "      <td>2017-01-01</td>\n",
       "      <td>11.56</td>\n",
       "      <td>102</td>\n",
       "    </tr>\n",
       "    <tr>\n",
       "      <th>2</th>\n",
       "      <td>D3248</td>\n",
       "      <td>Diapers</td>\n",
       "      <td>2017-01-01</td>\n",
       "      <td>12.21</td>\n",
       "      <td>93</td>\n",
       "    </tr>\n",
       "    <tr>\n",
       "      <th>3</th>\n",
       "      <td>D1714</td>\n",
       "      <td>Diapers</td>\n",
       "      <td>2017-01-01</td>\n",
       "      <td>11.54</td>\n",
       "      <td>75</td>\n",
       "    </tr>\n",
       "    <tr>\n",
       "      <th>4</th>\n",
       "      <td>D1408</td>\n",
       "      <td>Diapers</td>\n",
       "      <td>2017-01-01</td>\n",
       "      <td>13.16</td>\n",
       "      <td>94</td>\n",
       "    </tr>\n",
       "    <tr>\n",
       "      <th>5</th>\n",
       "      <td>D4564</td>\n",
       "      <td>Diapers</td>\n",
       "      <td>2017-01-01</td>\n",
       "      <td>13.09</td>\n",
       "      <td>86</td>\n",
       "    </tr>\n",
       "    <tr>\n",
       "      <th>6</th>\n",
       "      <td>D8861</td>\n",
       "      <td>Diapers</td>\n",
       "      <td>2017-01-01</td>\n",
       "      <td>11.83</td>\n",
       "      <td>85</td>\n",
       "    </tr>\n",
       "    <tr>\n",
       "      <th>7</th>\n",
       "      <td>D1053</td>\n",
       "      <td>Diapers</td>\n",
       "      <td>2017-01-01</td>\n",
       "      <td>10.75</td>\n",
       "      <td>117</td>\n",
       "    </tr>\n",
       "    <tr>\n",
       "      <th>8</th>\n",
       "      <td>D4231</td>\n",
       "      <td>Diapers</td>\n",
       "      <td>2017-01-01</td>\n",
       "      <td>12.53</td>\n",
       "      <td>80</td>\n",
       "    </tr>\n",
       "    <tr>\n",
       "      <th>9</th>\n",
       "      <td>D9387</td>\n",
       "      <td>Diapers</td>\n",
       "      <td>2017-01-01</td>\n",
       "      <td>10.92</td>\n",
       "      <td>82</td>\n",
       "    </tr>\n",
       "  </tbody>\n",
       "</table>\n",
       "</div>"
      ],
      "text/plain": [
       "  ProductID Product_type        Date  Price  Quantity\n",
       "0     D9775      Diapers  2017-01-01  12.46        94\n",
       "1       D80      Diapers  2017-01-01  11.56       102\n",
       "2     D3248      Diapers  2017-01-01  12.21        93\n",
       "3     D1714      Diapers  2017-01-01  11.54        75\n",
       "4     D1408      Diapers  2017-01-01  13.16        94\n",
       "5     D4564      Diapers  2017-01-01  13.09        86\n",
       "6     D8861      Diapers  2017-01-01  11.83        85\n",
       "7     D1053      Diapers  2017-01-01  10.75       117\n",
       "8     D4231      Diapers  2017-01-01  12.53        80\n",
       "9     D9387      Diapers  2017-01-01  10.92        82"
      ]
     },
     "execution_count": 33,
     "metadata": {},
     "output_type": "execute_result"
    }
   ],
   "source": [
    "df.head(10)"
   ]
  },
  {
   "cell_type": "markdown",
   "metadata": {
    "id": "nZKf7fkWgfCo"
   },
   "source": [
    "# Exploratory Data Analysis"
   ]
  },
  {
   "cell_type": "code",
   "execution_count": 34,
   "metadata": {
    "colab": {
     "base_uri": "https://localhost:8080/"
    },
    "id": "SbCHRQYVgXmJ",
    "outputId": "643d2d2b-ad1e-4ee1-96de-0a17beaf2e4a"
   },
   "outputs": [
    {
     "data": {
      "text/plain": [
       "Cereals       220000\n",
       "Headphones    132000\n",
       "Diapers       110000\n",
       "Name: Product_type, dtype: int64"
      ]
     },
     "execution_count": 34,
     "metadata": {},
     "output_type": "execute_result"
    }
   ],
   "source": [
    "#Check values in different category_name\n",
    "category = df['Product_type'].value_counts()\n",
    "category"
   ]
  },
  {
   "cell_type": "code",
   "execution_count": 35,
   "metadata": {
    "colab": {
     "base_uri": "https://localhost:8080/",
     "height": 206
    },
    "id": "eTRzrc5ziJ2j",
    "outputId": "2f7f571f-d9e2-4c9f-9868-3f832cd52e14"
   },
   "outputs": [
    {
     "data": {
      "text/html": [
       "<div>\n",
       "<style scoped>\n",
       "    .dataframe tbody tr th:only-of-type {\n",
       "        vertical-align: middle;\n",
       "    }\n",
       "\n",
       "    .dataframe tbody tr th {\n",
       "        vertical-align: top;\n",
       "    }\n",
       "\n",
       "    .dataframe thead th {\n",
       "        text-align: right;\n",
       "    }\n",
       "</style>\n",
       "<table border=\"1\" class=\"dataframe\">\n",
       "  <thead>\n",
       "    <tr style=\"text-align: right;\">\n",
       "      <th></th>\n",
       "      <th>Date</th>\n",
       "      <th>ProductID</th>\n",
       "      <th>Price</th>\n",
       "      <th>Quantity</th>\n",
       "    </tr>\n",
       "  </thead>\n",
       "  <tbody>\n",
       "    <tr>\n",
       "      <th>0</th>\n",
       "      <td>2017-01-01</td>\n",
       "      <td>C1021</td>\n",
       "      <td>8.61</td>\n",
       "      <td>20.0</td>\n",
       "    </tr>\n",
       "    <tr>\n",
       "      <th>1</th>\n",
       "      <td>2017-01-01</td>\n",
       "      <td>C1023</td>\n",
       "      <td>12.96</td>\n",
       "      <td>128.0</td>\n",
       "    </tr>\n",
       "    <tr>\n",
       "      <th>2</th>\n",
       "      <td>2017-01-01</td>\n",
       "      <td>C1033</td>\n",
       "      <td>9.08</td>\n",
       "      <td>19.0</td>\n",
       "    </tr>\n",
       "    <tr>\n",
       "      <th>3</th>\n",
       "      <td>2017-01-01</td>\n",
       "      <td>C1037</td>\n",
       "      <td>8.56</td>\n",
       "      <td>19.0</td>\n",
       "    </tr>\n",
       "    <tr>\n",
       "      <th>4</th>\n",
       "      <td>2017-01-01</td>\n",
       "      <td>C1054</td>\n",
       "      <td>9.14</td>\n",
       "      <td>17.0</td>\n",
       "    </tr>\n",
       "  </tbody>\n",
       "</table>\n",
       "</div>"
      ],
      "text/plain": [
       "         Date ProductID  Price  Quantity\n",
       "0  2017-01-01     C1021   8.61      20.0\n",
       "1  2017-01-01     C1023  12.96     128.0\n",
       "2  2017-01-01     C1033   9.08      19.0\n",
       "3  2017-01-01     C1037   8.56      19.0\n",
       "4  2017-01-01     C1054   9.14      17.0"
      ]
     },
     "execution_count": 35,
     "metadata": {},
     "output_type": "execute_result"
    }
   ],
   "source": [
    "#Select Cereals\n",
    "df_feature = df[df['Product_type']=='Cereals']\n",
    "\n",
    "#Make sure to not have any duplicates in the data\n",
    "df_feature = df_feature.groupby(['Date','ProductID']).agg({'Price':'mean','Quantity': 'mean' }).reset_index()\n",
    "\n",
    "#laptop data used for price elasticities\n",
    "df_feature.head()"
   ]
  },
  {
   "cell_type": "markdown",
   "metadata": {
    "id": "Xoc1ZfoDnkkz"
   },
   "source": [
    "# Data Modelling"
   ]
  },
  {
   "cell_type": "code",
   "execution_count": 36,
   "metadata": {
    "colab": {
     "base_uri": "https://localhost:8080/"
    },
    "id": "ra00aZkhikVu",
    "outputId": "3f9d3a70-8391-40a5-ba22-39ad75ab1435"
   },
   "outputs": [
    {
     "name": "stdout",
     "output_type": "stream",
     "text": [
      "            Date  C1021  C1023  C1033  C1037  C1054  C1075  C1130  C1178  C1204  ...  C9636  C9722  C9744  C9811  C9838  C9865  C9880  C9904  C9976  C9982\n",
      "0     2017-01-01   8.61  12.96   9.08   8.56   9.14   8.00   9.52   8.72  12.02  ...   8.08   9.20   8.80  11.71  11.79   8.88  13.25   9.29   9.49  10.33\n",
      "1     2017-01-02   9.26  14.61  10.09   8.54   8.40   8.63   9.22   9.74  11.21  ...   9.34   8.71   9.41  11.37  12.21   9.30  14.80   8.35   9.93  12.53\n",
      "2     2017-01-03   7.74  13.68   9.14   9.41   9.48   8.97   9.35  10.32   9.08  ...   9.30   8.83   9.27   9.10  10.68   9.08  14.35   8.85   9.16  12.21\n",
      "3     2017-01-04   7.75  15.20   9.54   9.25   8.79   8.71   8.66   9.49   9.56  ...   7.77   8.85   8.84  12.17  13.21   8.88  16.19   9.26   9.51  10.06\n",
      "4     2017-01-05   9.53  15.10   8.67   9.31   8.54  10.41   8.83   8.83  11.67  ...   9.24   8.74   9.41  13.63  10.08   9.22  16.01   8.69   9.91  10.30\n",
      "...          ...    ...    ...    ...    ...    ...    ...    ...    ...    ...  ...    ...    ...    ...    ...    ...    ...    ...    ...    ...    ...\n",
      "1095  2020-01-01   9.61  13.83   9.43   8.99   8.40   8.04   8.54   8.29  10.31  ...   9.46   8.33   7.97  10.60   8.56   8.51  14.52   9.16   8.71  12.03\n",
      "1096  2020-01-02   9.36  14.10   8.87   8.46   9.56   8.80   8.40   8.83  11.32  ...   8.88   9.52   8.60  10.06  12.55   9.97  15.70   8.77   8.26  10.46\n",
      "1097  2020-01-03   9.37  13.88   9.55   8.78  10.14   9.73   9.30   8.64   9.95  ...   8.34   8.43   8.49   9.10  11.84   8.97  14.66   9.22   8.40  10.36\n",
      "1098  2020-01-04   8.12  16.03   8.98   9.14   8.83   8.47   8.72   8.72  12.42  ...   9.17   8.98   8.76   9.52  11.26   8.85  14.99   8.88   7.91  12.12\n",
      "1099  2020-01-05   8.64  15.02   9.95   8.59   8.74   9.58   9.69   8.00  11.00  ...   8.53   9.02   9.34  12.40  11.27   8.68  14.03  10.46   8.18  11.10\n",
      "\n",
      "[1100 rows x 201 columns]\n"
     ]
    }
   ],
   "source": [
    "#Format and build a dataframe with x_values for each product within the category\n",
    "x_pivot = df_feature.pivot( index='Date', columns='ProductID' ,values='Price' )\n",
    "x_values = pd.DataFrame(x_pivot.to_records())\n",
    "x_values.dropna()\n",
    "print(x_values)"
   ]
  },
  {
   "cell_type": "code",
   "execution_count": 37,
   "metadata": {
    "colab": {
     "base_uri": "https://localhost:8080/"
    },
    "id": "hyuJP2wdizCM",
    "outputId": "b2658e58-95c3-4ab4-8044-749a49e54b8c"
   },
   "outputs": [
    {
     "name": "stdout",
     "output_type": "stream",
     "text": [
      "            Date  C1021  C1023  C1033  C1037  C1054  C1075  C1130  C1178  C1204  ...  C9636  C9722  C9744  C9811  C9838  C9865  C9880  C9904  C9976  C9982\n",
      "0     2017-01-01   20.0  128.0   19.0   19.0   17.0   27.0   16.0   19.0   53.0  ...   26.0   16.0   18.0   53.0   51.0   20.0  126.0   17.0   16.0   75.0\n",
      "1     2017-01-02    6.0   50.0    4.0   10.0   10.0    8.0    6.0    5.0   25.0  ...    6.0    8.0    6.0   23.0   21.0    7.0   52.0   10.0    6.0   22.0\n",
      "2     2017-01-03   11.0   57.0    7.0    6.0    6.0    7.0    7.0    4.0   37.0  ...    6.0    9.0    7.0   36.0   30.0    8.0   54.0    7.0    7.0   21.0\n",
      "3     2017-01-04   11.0   52.0    6.0    6.0    9.0    8.0    9.0    6.0   34.0  ...   10.0    9.0    9.0   21.0   17.0    6.0   56.0    7.0    6.0   30.0\n",
      "4     2017-01-05    6.0   46.0    9.0    7.0   10.0    4.0    9.0    7.0   22.0  ...    6.0    9.0    7.0   12.0   32.0    7.0   52.0    9.0    4.0   28.0\n",
      "...          ...    ...    ...    ...    ...    ...    ...    ...    ...    ...  ...    ...    ...    ...    ...    ...    ...    ...    ...    ...    ...\n",
      "1095  2020-01-01   11.0  102.0   12.0   13.0   14.0   15.0   15.0   15.0   49.0  ...   11.0   15.0   16.0   47.0   53.0   14.0   92.0   12.0   13.0   42.0\n",
      "1096  2020-01-02   11.0   93.0   12.0   16.0   12.0   13.0   14.0   13.0   41.0  ...   14.0   12.0   13.0   48.0   42.0   10.0   82.0   15.0   15.0   44.0\n",
      "1097  2020-01-03   13.0   95.0   11.0   14.0   10.0   10.0   11.0   13.0   50.0  ...   15.0   15.0   14.0   50.0   38.0   12.0   87.0   12.0   15.0   41.0\n",
      "1098  2020-01-04   25.0  156.0   23.0   23.0   26.0   24.0   24.0   27.0   74.0  ...   22.0   25.0   27.0   99.0   86.0   26.0  152.0   25.0   34.0   78.0\n",
      "1099  2020-01-05   26.0  161.0   19.0   24.0   26.0   20.0   20.0   29.0   75.0  ...   25.0   26.0   21.0   76.0   85.0   25.0  188.0   18.0   33.0   87.0\n",
      "\n",
      "[1100 rows x 201 columns]\n"
     ]
    }
   ],
   "source": [
    "#Format and build a dataframe with y_values for each product within the category\n",
    "y_pivot = df_feature.pivot( index='Date', columns='ProductID' ,values='Quantity' )\n",
    "y_values = pd.DataFrame(y_pivot.to_records())\n",
    "print(y_values)"
   ]
  },
  {
   "cell_type": "code",
   "execution_count": null,
   "metadata": {
    "colab": {
     "base_uri": "https://localhost:8080/",
     "height": 478
    },
    "id": "dm7G3_KxjB8S",
    "outputId": "f66d3328-4d74-4531-ae28-f934d4e4c483"
   },
   "outputs": [],
   "source": [
    "points = []\n",
    "results_values = {\n",
    "    \"ProductID\": [],\n",
    "    \"price_elasticity\": [],\n",
    "    \"price_mean\": [],\n",
    "    \"quantity_mean\": [],\n",
    "    \"intercept\": [],\n",
    "    \"t_score\":[],\n",
    "    \"slope\": [],\n",
    "    \"coefficient_pvalue\" : [],\n",
    "}\n",
    "#Append x_values with y_values per same product name\n",
    "for column in x_values.columns[1:]:\n",
    "    column_points = []\n",
    "    for i in range(len(x_values[column])):\n",
    "        if not np.isnan(x_values[column][i]) and not np.isnan(y_values[column][i]):\n",
    "            column_points.append((x_values[column][i], y_values[column][i]))\n",
    "    df = pd.DataFrame(list(column_points), columns= ['x_value', 'y_value'])\n",
    "\n",
    "\n",
    "    #Linear Regression Model\n",
    "    import statsmodels.api as sm\n",
    "    x_value = df['x_value']\n",
    "    y_value = df['y_value']\n",
    "    X = sm.add_constant(x_value)\n",
    "    model = sm.OLS(y_value, X)\n",
    "    result = model.fit()\n",
    "    \n",
    "    \n",
    "    #(Null Hypothesis test) Coefficient with a p value less than 0.05\n",
    "    if result.f_pvalue < 0.05:\n",
    "        \n",
    "        rsquared = result.rsquared\n",
    "        coefficient_pvalue = result.f_pvalue\n",
    "        intercept, slope = result.params\n",
    "        mean_price = np.mean(x_value)\n",
    "        mean_quantity = np.mean(y_value)\n",
    "        tintercept, t_score = result.tvalues\n",
    "     \n",
    "        #Price elasticity Formula\n",
    "        price_elasticity = (slope)*(mean_price/mean_quantity)    \n",
    "            \n",
    "        #Append results into dictionary for dataframe\n",
    "        results_values[\"ProductID\"].append(column)\n",
    "        results_values[\"price_elasticity\"].append(price_elasticity)\n",
    "        results_values[\"price_mean\"].append(mean_price)\n",
    "        results_values[\"quantity_mean\"].append(mean_quantity)\n",
    "        results_values[\"intercept\"].append(intercept)\n",
    "        results_values['t_score'].append(t_score)\n",
    "        results_values[\"slope\"].append(slope)\n",
    "        results_values[\"coefficient_pvalue\"].append(coefficient_pvalue)\n",
    "        \n",
    "final_df = pd.DataFrame.from_dict(results_values)\n",
    "df_elasticity = final_df[['ProductID','price_elasticity','t_score','coefficient_pvalue','slope','price_mean','quantity_mean','intercept']]\n",
    "df_elasticity"
   ]
  },
  {
   "cell_type": "code",
   "execution_count": null,
   "metadata": {
    "id": "X6icylKKkBGd"
   },
   "outputs": [],
   "source": [
    "def divergent_plot(df, values_column, ylabel, xlabel):\n",
    "\n",
    "    #Divergent plot\n",
    "    df['ranking'] = df[values_column].rank( ascending = True).astype(int)\n",
    "    df.sort_values(values_column, ascending =False, inplace = True)\n",
    "    plt.figure(figsize = (12,5), dpi = 80)\n",
    "    plt.hlines(y = df['ranking'] , xmin = 0, xmax = df[values_column], alpha = 0.5, linewidth = 3)\n",
    "    \n",
    "    #Add elasticity labels\n",
    "    for x, y, tex in zip(df[values_column], df['ranking'] , df[values_column]):\n",
    "        plt.text(x, y, round(tex, 2), horizontalalignment='right' if x < 0 else 'left', \n",
    "                 verticalalignment='center', fontdict={'color':'red' if x < 0 else 'green', 'size':10})\n",
    "        \n",
    "    \n",
    "    # Axis and title\n",
    "    plt.gca().set(ylabel= ylabel, xlabel= xlabel)\n",
    "    plt.yticks(df['ranking'])\n",
    "    plt.title(values_column , fontdict={'size':13})\n",
    "    plt.grid(linestyle='--', alpha=0.5)\n",
    "    plt.show()\n",
    "            \n",
    "    \n",
    "    #Adjust Ranking column and print dataframe\n",
    "    pd.set_option('display.width', 4000)\n",
    "    cols = list(df.columns)\n",
    "    cols = [cols[-1]] + cols[:-1]\n",
    "    df = df[cols]\n",
    "    \n",
    "    df = df.iloc[:,:3]\n",
    "    df.set_index('ranking', inplace=True)\n",
    "    display(df)"
   ]
  },
  {
   "cell_type": "markdown",
   "metadata": {
    "id": "PTl429Wxnpyc"
   },
   "source": [
    "# Result"
   ]
  },
  {
   "cell_type": "code",
   "execution_count": null,
   "metadata": {
    "colab": {
     "base_uri": "https://localhost:8080/",
     "height": 424
    },
    "id": "nUislE3qkOJg",
    "outputId": "7aa3c881-9841-49b2-ff7e-d32f246e8da1"
   },
   "outputs": [],
   "source": [
    "df_elasticity"
   ]
  },
  {
   "cell_type": "code",
   "execution_count": null,
   "metadata": {
    "colab": {
     "base_uri": "https://localhost:8080/",
     "height": 677
    },
    "id": "liW84GKkmVOB",
    "outputId": "39a9374e-b069-4330-f5c1-b7fa14d767a4"
   },
   "outputs": [],
   "source": [
    "df_sample = df_elasticity.head(10).append(df_elasticity.tail(10))\n",
    "df_sample"
   ]
  },
  {
   "cell_type": "code",
   "execution_count": null,
   "metadata": {
    "colab": {
     "base_uri": "https://localhost:8080/",
     "height": 1000
    },
    "id": "dFEywrAzmNvY",
    "outputId": "f6640a24-fd8f-478d-d1e3-ba4a802cfd20"
   },
   "outputs": [],
   "source": [
    "pe_plot = divergent_plot(df_sample, 'price_elasticity', 'Ranking Number', 'Price Elasticity')"
   ]
  },
  {
   "cell_type": "markdown",
   "metadata": {
    "id": "NUJp-2Hlu_FK"
   },
   "source": [
    "* Elasticities between 0- 1 are considered inelastic, as a result the products from rank 1 to 20 are elastic.\n",
    "* Negative Price Elasticities are located from rank 1 to 20 and this would tell us the likelihood of when price decreases how likely sales demand would increase or vice versa.\n",
    "* For instance, let’s analyze C1021 located in rank 11 with a negative price elasticity of -1.867437 ; a 10% price decrease in C1021, it increases sales demand by 18.67% or a 10% price increase in C1021, it decreases sales demand by 18.67%"
   ]
  },
  {
   "cell_type": "code",
   "execution_count": null,
   "metadata": {},
   "outputs": [],
   "source": []
  },
  {
   "cell_type": "code",
   "execution_count": null,
   "metadata": {},
   "outputs": [],
   "source": []
  }
 ],
 "metadata": {
  "colab": {
   "collapsed_sections": [
    "YkPyPM2LgYdB",
    "nZKf7fkWgfCo",
    "Xoc1ZfoDnkkz",
    "PTl429Wxnpyc"
   ],
   "name": "price_elasticity_linreg.ipynb",
   "provenance": []
  },
  "kernelspec": {
   "display_name": "Python 3 (ipykernel)",
   "language": "python",
   "name": "python3"
  },
  "language_info": {
   "codemirror_mode": {
    "name": "ipython",
    "version": 3
   },
   "file_extension": ".py",
   "mimetype": "text/x-python",
   "name": "python",
   "nbconvert_exporter": "python",
   "pygments_lexer": "ipython3",
   "version": "3.8.12"
  }
 },
 "nbformat": 4,
 "nbformat_minor": 4
}

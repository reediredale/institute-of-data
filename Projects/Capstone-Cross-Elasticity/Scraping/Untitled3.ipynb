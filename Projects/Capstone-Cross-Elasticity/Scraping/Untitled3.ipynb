{
 "cells": [
  {
   "cell_type": "code",
   "execution_count": 1,
   "id": "56adb5ae-aa77-4e9e-b11e-6ad9f11052fe",
   "metadata": {},
   "outputs": [
    {
     "ename": "IndentationError",
     "evalue": "unexpected indent (<ipython-input-1-4f2db4a9122e>, line 16)",
     "output_type": "error",
     "traceback": [
      "\u001b[0;36m  File \u001b[0;32m\"<ipython-input-1-4f2db4a9122e>\"\u001b[0;36m, line \u001b[0;32m16\u001b[0m\n\u001b[0;31m    soup = BeautifulSoup(open(fullpath), 'lxml')\u001b[0m\n\u001b[0m    ^\u001b[0m\n\u001b[0;31mIndentationError\u001b[0m\u001b[0;31m:\u001b[0m unexpected indent\n"
     ]
    }
   ],
   "source": [
    "import os\n",
    "from bs4 import BeautifulSoup as soup\n",
    "phone = [] # A list to store all the phone\n",
    "path = 'product-list-craft-beer.html' # This is your folder name which stores all your html \n",
    "#be careful that you might need to put a full path such as C:\\Users\\Niche\\Desktop\\htmlfolder \n",
    "for filename in os.listdir(path): #Read files from your path\n",
    "     #Here we are trying to find the full pathname\n",
    "     for x in filename: #We will have A-H stored as path\n",
    "           subpath = os.path.join(path, filename) \n",
    "           for filename in os.listdir(subpath):\n",
    "           #Getting the full path of a particular html file\n",
    "                fullpath = os.path.join(subpath, filename)\n",
    "                #If we have html tag, then read it\n",
    "                if fullpath.endswith('.html'): continue\n",
    "                #Then we will run beautifulsoup to extract the contents\n",
    "                    soup = BeautifulSoup(open(fullpath), 'lxml')\n",
    "                    #Then run your code\n",
    "                    # grabs each field\n",
    "                    contactname = page_soup.findAll(\"td\", {\"itemprop\": \"name\"})\n",
    "                    contactstreetaddress = page_soup.findAll(\"td\", {\"itemprop\": \"streetAddress\"})\n",
    "                    contactpostalcode = page_soup.findAll(\"td\", {\"itemprop\": \"postalCode\"})\n",
    "                    contactaddressregion = page_soup.findAll(\"td\", {\"itemprop\": \"addressRegion\"})\n",
    "                    contactaddresscountry = page_soup.findAll(\"td\", {\"itemprop\": \"addressCountry\"})\n",
    "                    contactfax = page_soup.findAll(\"td\", {\"itemprop\": \"faxNumber\"})\n",
    "                    contactemail = page_soup.findAll(\"td\", {\"itemprop\": \"email\"})\n",
    "                    contactphone = page_soup.findAll(\"td\", {\"itemprop\": \"telephone\"})\n",
    "                    contacturl = page_soup.findAll(\"a\", {\"itemprop\": \"url\"})\n",
    "                    #Outputs as text without tags\n",
    "                    Company = contactname[0].text\n",
    "                    Address = contactstreetaddress[0].text\n",
    "                    Zip = contactpostalcode[0].text\n",
    "                    Region = contactaddressregion[0].text\n",
    "                    Country = contactaddresscountry[0].text\n",
    "                    Fax = contactfax[0].text\n",
    "                    Email = contactemail[0].text\n",
    "                    Phone = contactphone[0].text\n",
    "                    URL = contacturl[0].text\n",
    "                    #Here you might want to consider using dictionary or a list\n",
    "                    #For example append Phone to list call phone\n",
    "                    phone.append(Phone)"
   ]
  },
  {
   "cell_type": "code",
   "execution_count": null,
   "id": "08448ff1-122e-4639-9a63-7bbb4d179767",
   "metadata": {},
   "outputs": [],
   "source": []
  }
 ],
 "metadata": {
  "kernelspec": {
   "display_name": "Python 3",
   "language": "python",
   "name": "python3"
  },
  "language_info": {
   "codemirror_mode": {
    "name": "ipython",
    "version": 3
   },
   "file_extension": ".py",
   "mimetype": "text/x-python",
   "name": "python",
   "nbconvert_exporter": "python",
   "pygments_lexer": "ipython3",
   "version": "3.8.8"
  }
 },
 "nbformat": 4,
 "nbformat_minor": 5
}

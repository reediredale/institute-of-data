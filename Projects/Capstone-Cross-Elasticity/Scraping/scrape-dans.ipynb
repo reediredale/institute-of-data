{
 "cells": [
  {
   "cell_type": "code",
   "execution_count": null,
   "id": "333a2f57-a924-40ae-9985-f066ccf90bf0",
   "metadata": {},
   "outputs": [],
   "source": []
  }
 ],
 "metadata": {
  "kernelspec": {
   "display_name": "Python 3",
   "language": "python",
   "name": "python3"
  },
  "language_info": {
   "codemirror_mode": {
    "name": "ipython",
    "version": 3
   },
   "file_extension": ".py",
   "mimetype": "text/x-python",
   "name": "python",
   "nbconvert_exporter": "python",
   "pygments_lexer": "ipython3",
   "version": "3.8.8"
  }
 },
 "nbformat": 4,
 "nbformat_minor": 5
}

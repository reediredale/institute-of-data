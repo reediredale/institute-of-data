{
 "cells": [
  {
   "cell_type": "code",
   "execution_count": 2,
   "id": "6dbc52af-8c6e-4af4-a354-b50ea9c0e00e",
   "metadata": {},
   "outputs": [],
   "source": [
    "%matplotlib inline\n",
    "\n",
    "from __future__ import print_function\n",
    "from statsmodels.compat import lzip\n",
    "import numpy as np\n",
    "import pandas as pd\n",
    "import matplotlib.pyplot as plt\n",
    "import statsmodels.api as sm\n",
    "from statsmodels.formula.api import ols"
   ]
  },
  {
   "cell_type": "code",
   "execution_count": 8,
   "id": "26014612-17cd-420b-a509-815cb1c0ee89",
   "metadata": {},
   "outputs": [],
   "source": [
    "beer = pd.read_csv('./../data/Dan-Murphy-Craft-Beer-Dataset.csv')"
   ]
  },
  {
   "cell_type": "code",
   "execution_count": 9,
   "id": "80af0489-bff6-45b6-904a-681246e669c7",
   "metadata": {},
   "outputs": [
    {
     "data": {
      "text/html": [
       "<div>\n",
       "<style scoped>\n",
       "    .dataframe tbody tr th:only-of-type {\n",
       "        vertical-align: middle;\n",
       "    }\n",
       "\n",
       "    .dataframe tbody tr th {\n",
       "        vertical-align: top;\n",
       "    }\n",
       "\n",
       "    .dataframe thead th {\n",
       "        text-align: right;\n",
       "    }\n",
       "</style>\n",
       "<table border=\"1\" class=\"dataframe\">\n",
       "  <thead>\n",
       "    <tr style=\"text-align: right;\">\n",
       "      <th></th>\n",
       "      <th>Brand</th>\n",
       "      <th>Product</th>\n",
       "      <th>Small Pack Price</th>\n",
       "      <th>Case/Carton Price</th>\n",
       "      <th>Member Offer</th>\n",
       "      <th>Non-Member Offer</th>\n",
       "      <th>Unnamed: 6</th>\n",
       "    </tr>\n",
       "  </thead>\n",
       "  <tbody>\n",
       "    <tr>\n",
       "      <th>0</th>\n",
       "      <td>Stone &amp; Wood</td>\n",
       "      <td>Pacific Ale Bottles 330mL</td>\n",
       "      <td>$24.49 pack (6)</td>\n",
       "      <td>$77.99 case (24)</td>\n",
       "      <td>NaN</td>\n",
       "      <td>NaN</td>\n",
       "      <td>NaN</td>\n",
       "    </tr>\n",
       "    <tr>\n",
       "      <th>1</th>\n",
       "      <td>James Squire</td>\n",
       "      <td>One Fifty Lashes Pale Ale Bottles 345mL</td>\n",
       "      <td>$22.99 pack (6)</td>\n",
       "      <td>$52.95 case (24)</td>\n",
       "      <td>NaN</td>\n",
       "      <td>NaN</td>\n",
       "      <td>NaN</td>\n",
       "    </tr>\n",
       "    <tr>\n",
       "      <th>2</th>\n",
       "      <td>Little Creatures</td>\n",
       "      <td>Pale Ale Bottles 330mL</td>\n",
       "      <td>$21.95 pack (6)</td>\n",
       "      <td>$61.95 case (24)</td>\n",
       "      <td>NaN</td>\n",
       "      <td>NaN</td>\n",
       "      <td>NaN</td>\n",
       "    </tr>\n",
       "    <tr>\n",
       "      <th>3</th>\n",
       "      <td>Balter</td>\n",
       "      <td>XPA Cans 375mL</td>\n",
       "      <td>$18.99 pack (4)</td>\n",
       "      <td>$59.99 case (16)</td>\n",
       "      <td>NaN</td>\n",
       "      <td>NaN</td>\n",
       "      <td>NaN</td>\n",
       "    </tr>\n",
       "    <tr>\n",
       "      <th>4</th>\n",
       "      <td>Mountain Goat</td>\n",
       "      <td>Very Enjoyable Beer Cans 375mL</td>\n",
       "      <td>NaN</td>\n",
       "      <td>NaN</td>\n",
       "      <td>$48.95 case (24)</td>\n",
       "      <td>Non-Member: $53.99 case (24)</td>\n",
       "      <td>NaN</td>\n",
       "    </tr>\n",
       "    <tr>\n",
       "      <th>5</th>\n",
       "      <td>Furphy</td>\n",
       "      <td>Refreshing Ale Bottles 375mL</td>\n",
       "      <td>$20.99 pack (6)</td>\n",
       "      <td>$50.95 case (24)</td>\n",
       "      <td>NaN</td>\n",
       "      <td>NaN</td>\n",
       "      <td>NaN</td>\n",
       "    </tr>\n",
       "    <tr>\n",
       "      <th>6</th>\n",
       "      <td>Burleigh</td>\n",
       "      <td>Big Head No Carb Beer 330mL</td>\n",
       "      <td>$21.95 pack (6)</td>\n",
       "      <td>$67.99 case (24)</td>\n",
       "      <td>NaN</td>\n",
       "      <td>NaN</td>\n",
       "      <td>NaN</td>\n",
       "    </tr>\n",
       "    <tr>\n",
       "      <th>7</th>\n",
       "      <td>Great Northern Brewing Company</td>\n",
       "      <td>Original Lager Cans 30 Block 375mL</td>\n",
       "      <td>$4.29 each</td>\n",
       "      <td>$56.95 case (30)</td>\n",
       "      <td>NaN</td>\n",
       "      <td>NaN</td>\n",
       "      <td>NaN</td>\n",
       "    </tr>\n",
       "    <tr>\n",
       "      <th>8</th>\n",
       "      <td>Young Henrys</td>\n",
       "      <td>Newtowner Pale Ale Cans 375mL</td>\n",
       "      <td>$21.45 pack (6)</td>\n",
       "      <td>$65.99 case (24)</td>\n",
       "      <td>NaN</td>\n",
       "      <td>NaN</td>\n",
       "      <td>NaN</td>\n",
       "    </tr>\n",
       "    <tr>\n",
       "      <th>9</th>\n",
       "      <td>Gage Roads</td>\n",
       "      <td>Single Fin Summer Ale Bottles 330mL</td>\n",
       "      <td>$19.95 pack (6)</td>\n",
       "      <td>$59.99 case (24)</td>\n",
       "      <td>NaN</td>\n",
       "      <td>NaN</td>\n",
       "      <td>NaN</td>\n",
       "    </tr>\n",
       "  </tbody>\n",
       "</table>\n",
       "</div>"
      ],
      "text/plain": [
       "                            Brand                                  Product  \\\n",
       "0                    Stone & Wood                Pacific Ale Bottles 330mL   \n",
       "1                    James Squire  One Fifty Lashes Pale Ale Bottles 345mL   \n",
       "2                Little Creatures                   Pale Ale Bottles 330mL   \n",
       "3                          Balter                           XPA Cans 375mL   \n",
       "4                   Mountain Goat           Very Enjoyable Beer Cans 375mL   \n",
       "5                          Furphy             Refreshing Ale Bottles 375mL   \n",
       "6                        Burleigh              Big Head No Carb Beer 330mL   \n",
       "7  Great Northern Brewing Company       Original Lager Cans 30 Block 375mL   \n",
       "8                    Young Henrys            Newtowner Pale Ale Cans 375mL   \n",
       "9                      Gage Roads      Single Fin Summer Ale Bottles 330mL   \n",
       "\n",
       "  Small Pack Price Case/Carton Price      Member Offer  \\\n",
       "0  $24.49 pack (6)  $77.99 case (24)               NaN   \n",
       "1  $22.99 pack (6)  $52.95 case (24)               NaN   \n",
       "2  $21.95 pack (6)  $61.95 case (24)               NaN   \n",
       "3  $18.99 pack (4)  $59.99 case (16)               NaN   \n",
       "4              NaN               NaN  $48.95 case (24)   \n",
       "5  $20.99 pack (6)  $50.95 case (24)               NaN   \n",
       "6  $21.95 pack (6)  $67.99 case (24)               NaN   \n",
       "7       $4.29 each  $56.95 case (30)               NaN   \n",
       "8  $21.45 pack (6)  $65.99 case (24)               NaN   \n",
       "9  $19.95 pack (6)  $59.99 case (24)               NaN   \n",
       "\n",
       "               Non-Member Offer Unnamed: 6  \n",
       "0                           NaN        NaN  \n",
       "1                           NaN        NaN  \n",
       "2                           NaN        NaN  \n",
       "3                           NaN        NaN  \n",
       "4  Non-Member: $53.99 case (24)        NaN  \n",
       "5                           NaN        NaN  \n",
       "6                           NaN        NaN  \n",
       "7                           NaN        NaN  \n",
       "8                           NaN        NaN  \n",
       "9                           NaN        NaN  "
      ]
     },
     "execution_count": 9,
     "metadata": {},
     "output_type": "execute_result"
    }
   ],
   "source": [
    "beer.head(10)"
   ]
  },
  {
   "cell_type": "code",
   "execution_count": 10,
   "id": "885fe43f-c01a-4666-b88d-bc180d21cd49",
   "metadata": {},
   "outputs": [
    {
     "data": {
      "text/plain": [
       "Brand                  0\n",
       "Product                3\n",
       "Small Pack Price      45\n",
       "Case/Carton Price     51\n",
       "Member Offer         445\n",
       "Non-Member Offer     444\n",
       "Unnamed: 6           470\n",
       "dtype: int64"
      ]
     },
     "execution_count": 10,
     "metadata": {},
     "output_type": "execute_result"
    }
   ],
   "source": [
    "beer.isnull().sum()"
   ]
  },
  {
   "cell_type": "markdown",
   "id": "17141230-9bd1-40ed-b60b-e135591b95ca",
   "metadata": {},
   "source": [
    "## Regression Analysis"
   ]
  },
  {
   "cell_type": "code",
   "execution_count": 12,
   "id": "8d8155ef-c753-4759-8c50-8b4f8a372734",
   "metadata": {},
   "outputs": [],
   "source": [
    "# beer_model = ols(\"Quantity ~ Price\", data=beer).fit()"
   ]
  },
  {
   "cell_type": "code",
   "execution_count": 13,
   "id": "3f42def6-d188-4294-9058-94e8880450bd",
   "metadata": {},
   "outputs": [],
   "source": [
    "# print(beer_model.summary())"
   ]
  },
  {
   "cell_type": "code",
   "execution_count": null,
   "id": "51f91df6-f0e4-4825-bc0e-325390db4fc7",
   "metadata": {},
   "outputs": [],
   "source": [
    "# fig = plt.figure(figsize=(12,8))\n",
    "# fig = sm.graphics.plot_partregress_grid(beer_model, fig=fig)"
   ]
  }
 ],
 "metadata": {
  "kernelspec": {
   "display_name": "Python 3",
   "language": "python",
   "name": "python3"
  },
  "language_info": {
   "codemirror_mode": {
    "name": "ipython",
    "version": 3
   },
   "file_extension": ".py",
   "mimetype": "text/x-python",
   "name": "python",
   "nbconvert_exporter": "python",
   "pygments_lexer": "ipython3",
   "version": "3.8.8"
  }
 },
 "nbformat": 4,
 "nbformat_minor": 5
}

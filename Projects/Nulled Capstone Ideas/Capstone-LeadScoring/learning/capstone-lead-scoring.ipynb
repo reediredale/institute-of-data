{
 "cells": [
  {
   "cell_type": "markdown",
   "id": "b603147d-a5db-4936-a695-d2abfe09ae65",
   "metadata": {},
   "source": [
    "# Capstone Lead Scoring Project - Targeting the Best Sales Leads using Machine Learning and Applied Analytics\n",
    "\n",
    "Lead scoring is one of the key marketing automation tasks for targeting the right customers and prospects and improve the productivity and efficiency of marketing and sales teams"
   ]
  },
  {
   "cell_type": "code",
   "execution_count": null,
   "id": "cb4f7a43-3fc7-49a2-82ae-08af9e33dc69",
   "metadata": {},
   "outputs": [],
   "source": []
  },
  {
   "cell_type": "code",
   "execution_count": null,
   "id": "8f165fe9-4b5b-4b5a-92bb-b801baaee473",
   "metadata": {},
   "outputs": [],
   "source": [
    "# install packages"
   ]
  },
  {
   "cell_type": "code",
   "execution_count": null,
   "id": "188b09f1-bcc9-45c5-b849-66c49a0bd80f",
   "metadata": {},
   "outputs": [],
   "source": []
  },
  {
   "cell_type": "code",
   "execution_count": null,
   "id": "a53c9bc3-24da-4c13-97bc-a4690c18d357",
   "metadata": {},
   "outputs": [],
   "source": []
  },
  {
   "cell_type": "code",
   "execution_count": null,
   "id": "b8e7ca08-c80d-46e2-8b52-3a12425123f1",
   "metadata": {},
   "outputs": [],
   "source": []
  },
  {
   "cell_type": "code",
   "execution_count": null,
   "id": "882a7c64-b888-42e8-8fd3-44c4d088d1c1",
   "metadata": {},
   "outputs": [],
   "source": []
  },
  {
   "cell_type": "code",
   "execution_count": null,
   "id": "87c744cd-163c-4177-98b6-6b64f66cf5b4",
   "metadata": {},
   "outputs": [],
   "source": []
  }
 ],
 "metadata": {
  "kernelspec": {
   "display_name": "Python 3 (ipykernel)",
   "language": "python",
   "name": "python3"
  },
  "language_info": {
   "codemirror_mode": {
    "name": "ipython",
    "version": 3
   },
   "file_extension": ".py",
   "mimetype": "text/x-python",
   "name": "python",
   "nbconvert_exporter": "python",
   "pygments_lexer": "ipython3",
   "version": "3.8.12"
  }
 },
 "nbformat": 4,
 "nbformat_minor": 5
}

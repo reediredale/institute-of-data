{
 "cells": [
  {
   "cell_type": "code",
   "execution_count": 2,
   "id": "30f7df38-d26a-4484-a103-5c73ff78a83e",
   "metadata": {},
   "outputs": [
    {
     "name": "stdout",
     "output_type": "stream",
     "text": [
      "Price Elasticity of Demand Calculator\n"
     ]
    },
    {
     "name": "stdin",
     "output_type": "stream",
     "text": [
      "Regular Elasticity? [y/n]:  y\n",
      "Quantity 1:  25000\n",
      "Price1:  22.95\n",
      "Quantity 2:  25000\n",
      "Price 2:  25.95\n"
     ]
    },
    {
     "name": "stdout",
     "output_type": "stream",
     "text": [
      "Midpoint Elasticity: 0.0 (Inelastic)\n",
      "Average Quantity: 25000.0\n",
      "Average Price: 24.45\n",
      "Change in Quantity: 0.0 or: 0.0%\n",
      "Change in Price: 3.0 or: 12.269938650306749%\n",
      "Revenue at Price 1: 573750.0\n",
      "Revenue at Price 2: 648750.0\n"
     ]
    }
   ],
   "source": [
    "print (\"Price Elasticity of Demand Calculator\")\n",
    "x = input(\"Regular Elasticity? [y/n]: \")\n",
    "if x.lower() == \"y\":\n",
    "  Q1 = input(\"Quantity 1: \")\n",
    "  P1 = input(\"Price1: \")\n",
    "  Q2 = input(\"Quantity 2: \")\n",
    "  P2 = input(\"Price 2: \")\n",
    "\n",
    "  Q1 = float(Q1)\n",
    "  Q2 = float(Q2)\n",
    "  P1 = float(P1)\n",
    "  P2 = float(P2)\n",
    "\n",
    "  Q_Average = (Q1 + Q2) / 2\n",
    "  P_Average = (P1 + P2) / 2\n",
    "  Q_Change = (Q2 - Q1)\n",
    "  P_Change = (P2 - P1)\n",
    "  Q_Change_percent = (Q_Change / Q_Average) * 100\n",
    "  P_Change_percent = (P_Change / P_Average) * 100\n",
    "  P1_revenue = Q1 * P1\n",
    "  P2_revenue = Q2 * P2\n",
    "\n",
    "  numerator = Q_Change / Q_Average\n",
    "  denominator = P_Change / P_Average\n",
    "\n",
    "  midpoint_elasticity = abs(numerator/denominator)\n",
    "  elasticity = \"Unknown\"\n",
    "  if midpoint_elasticity > 1:\n",
    "    elasticity = \"Elastic\"\n",
    "  if midpoint_elasticity < 1:\n",
    "    elasticity = \"Inelastic\"\n",
    "    if midpoint_elasticity == 1:\n",
    "      elasticity = \"Unitary\"\n",
    "  midpoint_elasticity = round(midpoint_elasticity, 5)\n",
    "  print (\"Midpoint Elasticity: \" + str(midpoint_elasticity) + \" (\" + elasticity + \")\")\n",
    "  print (\"Average Quantity: \" + str(Q_Average))\n",
    "  print (\"Average Price: \" + str(P_Average))\n",
    "  print (\"Change in Quantity: \" + str(Q_Change) +  \" or: \" + str(Q_Change_percent) + \"%\")\n",
    "  print (\"Change in Price: \" + str(P_Change) +  \" or: \" + str(P_Change_percent) + \"%\")\n",
    "  print (\"Revenue at Price 1: \" + str(P1_revenue))\n",
    "  print (\"Revenue at Price 2: \" + str(P2_revenue))\n",
    "if x.lower() == \"n\":\n",
    "  y = input(\"Income Elasticity? Y or N: \")\n",
    "  if y.lower() == \"y\":\n",
    "    Q_Change_percent = input(\"Percent Change in Quantity Demanded: \")\n",
    "    inc_change = input(\"Percent Change in Income: \")\n",
    "    Q_Change_percent = int(Q_Change_percent)\n",
    "    inc_change = int(inc_change)\n",
    "    inc_elasticity = Q_Change_percent / inc_change\n",
    "    print (\"Income Elasticity of Demand = \" + str(inc_elasticity) + \"%\")\n",
    "    if inc_elasticity > 0:\n",
    "      print (\"Normal Good\")\n",
    "    if inc_elasticity < 0:\n",
    "      print (\"Inferior Good\")\n",
    "  if y.lower() == \"n\":\n",
    "    z = input(\"Cross-Price Elasticity? Y or N: \")\n",
    "    if z.lower() == \"y\":\n",
    "      good1change = input(\"Percent change in Quantity Demanded for good 1: \")\n",
    "      good2change = input(\"Percent change in Price of good 2: \")\n",
    "      good1change = int(good1change)\n",
    "      good2change = int(good2change)\n",
    "      cross_price_elasticity = good1change / good2change\n",
    "      print (cross_price_elasticity)\n",
    "      if cross_price_elasticity > 0:\n",
    "        print (\"Goods are Substitutes\")\n",
    "      if cross_price_elasticity < 0:\n",
    "        print (\"Goods are complements\")\n"
   ]
  },
  {
   "cell_type": "code",
   "execution_count": null,
   "id": "31743290-07ec-43fb-9e50-714e1f7edf70",
   "metadata": {},
   "outputs": [],
   "source": []
  }
 ],
 "metadata": {
  "kernelspec": {
   "display_name": "Python 3 (ipykernel)",
   "language": "python",
   "name": "python3"
  },
  "language_info": {
   "codemirror_mode": {
    "name": "ipython",
    "version": 3
   },
   "file_extension": ".py",
   "mimetype": "text/x-python",
   "name": "python",
   "nbconvert_exporter": "python",
   "pygments_lexer": "ipython3",
   "version": "3.8.12"
  }
 },
 "nbformat": 4,
 "nbformat_minor": 5
}

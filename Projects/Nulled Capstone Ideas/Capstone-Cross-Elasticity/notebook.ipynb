{
 "cells": [
  {
   "cell_type": "code",
   "execution_count": 80,
   "id": "ce7fb888-ef56-4096-a231-79209d164661",
   "metadata": {},
   "outputs": [],
   "source": [
    "# Packages\n",
    "import pandas as pd\n",
    "import numpy as np\n",
    "import matplotlib.pyplot as plt"
   ]
  },
  {
   "cell_type": "code",
   "execution_count": 81,
   "id": "88da5cad-e0ef-41ca-a625-8d7af58ae052",
   "metadata": {},
   "outputs": [],
   "source": [
    "# Data\n",
    "colnames = ['Brand','Product','Product_type','Date','Price','Quantity']\n",
    "df = pd.read_csv('data/beer-neue-2.csv', names=colnames, header=None)"
   ]
  },
  {
   "cell_type": "code",
   "execution_count": 82,
   "id": "b6db542d-24e5-45f0-8d38-e934c20b8c1a",
   "metadata": {},
   "outputs": [
    {
     "name": "stdout",
     "output_type": "stream",
     "text": [
      "<class 'pandas.core.frame.DataFrame'>\n",
      "RangeIndex: 116 entries, 0 to 115\n",
      "Data columns (total 6 columns):\n",
      " #   Column        Non-Null Count  Dtype  \n",
      "---  ------        --------------  -----  \n",
      " 0   Brand         116 non-null    object \n",
      " 1   Product       116 non-null    object \n",
      " 2   Product_type  116 non-null    object \n",
      " 3   Date          116 non-null    object \n",
      " 4   Price         116 non-null    float64\n",
      " 5   Quantity      116 non-null    int64  \n",
      "dtypes: float64(1), int64(1), object(4)\n",
      "memory usage: 5.6+ KB\n"
     ]
    }
   ],
   "source": [
    "df.info()"
   ]
  },
  {
   "cell_type": "code",
   "execution_count": 83,
   "id": "9c1b1886-b859-4621-a544-d10cb35a8046",
   "metadata": {},
   "outputs": [
    {
     "data": {
      "text/html": [
       "<div>\n",
       "<style scoped>\n",
       "    .dataframe tbody tr th:only-of-type {\n",
       "        vertical-align: middle;\n",
       "    }\n",
       "\n",
       "    .dataframe tbody tr th {\n",
       "        vertical-align: top;\n",
       "    }\n",
       "\n",
       "    .dataframe thead th {\n",
       "        text-align: right;\n",
       "    }\n",
       "</style>\n",
       "<table border=\"1\" class=\"dataframe\">\n",
       "  <thead>\n",
       "    <tr style=\"text-align: right;\">\n",
       "      <th></th>\n",
       "      <th>Brand</th>\n",
       "      <th>Product</th>\n",
       "      <th>Product_type</th>\n",
       "      <th>Date</th>\n",
       "      <th>Price</th>\n",
       "      <th>Quantity</th>\n",
       "    </tr>\n",
       "  </thead>\n",
       "  <tbody>\n",
       "    <tr>\n",
       "      <th>0</th>\n",
       "      <td>Stone &amp; Wood</td>\n",
       "      <td>Pacific Ale Bottles 330mL</td>\n",
       "      <td>Beer</td>\n",
       "      <td>2022-03-31</td>\n",
       "      <td>24.49</td>\n",
       "      <td>13255</td>\n",
       "    </tr>\n",
       "    <tr>\n",
       "      <th>1</th>\n",
       "      <td>James Squire</td>\n",
       "      <td>One Fifty Lashes Pale Ale Bottles 345mL</td>\n",
       "      <td>Beer</td>\n",
       "      <td>2022-03-31</td>\n",
       "      <td>22.99</td>\n",
       "      <td>9300</td>\n",
       "    </tr>\n",
       "    <tr>\n",
       "      <th>2</th>\n",
       "      <td>Little Creatures</td>\n",
       "      <td>Pale Ale Bottles 330mL</td>\n",
       "      <td>Beer</td>\n",
       "      <td>2022-03-31</td>\n",
       "      <td>21.95</td>\n",
       "      <td>13645</td>\n",
       "    </tr>\n",
       "    <tr>\n",
       "      <th>3</th>\n",
       "      <td>Balter</td>\n",
       "      <td>XPA Cans 375mL</td>\n",
       "      <td>Beer</td>\n",
       "      <td>2022-03-31</td>\n",
       "      <td>18.99</td>\n",
       "      <td>14909</td>\n",
       "    </tr>\n",
       "    <tr>\n",
       "      <th>4</th>\n",
       "      <td>Mountain Goat</td>\n",
       "      <td>Very Enjoyable Beer Cans 375mL</td>\n",
       "      <td>Beer</td>\n",
       "      <td>2022-03-31</td>\n",
       "      <td>18.99</td>\n",
       "      <td>13431</td>\n",
       "    </tr>\n",
       "    <tr>\n",
       "      <th>5</th>\n",
       "      <td>Furphy</td>\n",
       "      <td>Refreshing Ale Bottles 375mL</td>\n",
       "      <td>Beer</td>\n",
       "      <td>2022-03-31</td>\n",
       "      <td>20.99</td>\n",
       "      <td>17060</td>\n",
       "    </tr>\n",
       "    <tr>\n",
       "      <th>6</th>\n",
       "      <td>Burleigh</td>\n",
       "      <td>Big Head No Carb Beer 330mL</td>\n",
       "      <td>Beer</td>\n",
       "      <td>2022-03-31</td>\n",
       "      <td>21.95</td>\n",
       "      <td>6173</td>\n",
       "    </tr>\n",
       "    <tr>\n",
       "      <th>7</th>\n",
       "      <td>Young Henrys</td>\n",
       "      <td>Newtowner Pale Ale Cans 375mL</td>\n",
       "      <td>Beer</td>\n",
       "      <td>2022-03-31</td>\n",
       "      <td>21.45</td>\n",
       "      <td>8112</td>\n",
       "    </tr>\n",
       "    <tr>\n",
       "      <th>8</th>\n",
       "      <td>Gage Roads</td>\n",
       "      <td>Single Fin Summer Ale Bottles 330mL</td>\n",
       "      <td>Beer</td>\n",
       "      <td>2022-03-31</td>\n",
       "      <td>19.95</td>\n",
       "      <td>14007</td>\n",
       "    </tr>\n",
       "    <tr>\n",
       "      <th>9</th>\n",
       "      <td>4 Pines</td>\n",
       "      <td>Pale Ale Bottles 330mL</td>\n",
       "      <td>Beer</td>\n",
       "      <td>2022-03-31</td>\n",
       "      <td>19.95</td>\n",
       "      <td>19028</td>\n",
       "    </tr>\n",
       "  </tbody>\n",
       "</table>\n",
       "</div>"
      ],
      "text/plain": [
       "              Brand                                  Product Product_type        Date  Price  Quantity\n",
       "0      Stone & Wood                Pacific Ale Bottles 330mL         Beer  2022-03-31  24.49     13255\n",
       "1      James Squire  One Fifty Lashes Pale Ale Bottles 345mL         Beer  2022-03-31  22.99      9300\n",
       "2  Little Creatures                   Pale Ale Bottles 330mL         Beer  2022-03-31  21.95     13645\n",
       "3            Balter                           XPA Cans 375mL         Beer  2022-03-31  18.99     14909\n",
       "4     Mountain Goat           Very Enjoyable Beer Cans 375mL         Beer  2022-03-31  18.99     13431\n",
       "5            Furphy             Refreshing Ale Bottles 375mL         Beer  2022-03-31  20.99     17060\n",
       "6          Burleigh              Big Head No Carb Beer 330mL         Beer  2022-03-31  21.95      6173\n",
       "7      Young Henrys            Newtowner Pale Ale Cans 375mL         Beer  2022-03-31  21.45      8112\n",
       "8        Gage Roads      Single Fin Summer Ale Bottles 330mL         Beer  2022-03-31  19.95     14007\n",
       "9           4 Pines                   Pale Ale Bottles 330mL         Beer  2022-03-31  19.95     19028"
      ]
     },
     "execution_count": 83,
     "metadata": {},
     "output_type": "execute_result"
    }
   ],
   "source": [
    "df.head(10)\n"
   ]
  },
  {
   "cell_type": "code",
   "execution_count": 84,
   "id": "6895d639-d9fd-47e7-a3c6-55aca4b79488",
   "metadata": {},
   "outputs": [
    {
     "data": {
      "text/plain": [
       "Beer    116\n",
       "Name: Product_type, dtype: int64"
      ]
     },
     "execution_count": 84,
     "metadata": {},
     "output_type": "execute_result"
    }
   ],
   "source": [
    "#Check values in different category_name\n",
    "category = df['Product_type'].value_counts()\n",
    "category"
   ]
  },
  {
   "cell_type": "code",
   "execution_count": 85,
   "id": "ee78bad8-dc50-484b-8aba-d728613e1f91",
   "metadata": {},
   "outputs": [
    {
     "data": {
      "text/html": [
       "<div>\n",
       "<style scoped>\n",
       "    .dataframe tbody tr th:only-of-type {\n",
       "        vertical-align: middle;\n",
       "    }\n",
       "\n",
       "    .dataframe tbody tr th {\n",
       "        vertical-align: top;\n",
       "    }\n",
       "\n",
       "    .dataframe thead th {\n",
       "        text-align: right;\n",
       "    }\n",
       "</style>\n",
       "<table border=\"1\" class=\"dataframe\">\n",
       "  <thead>\n",
       "    <tr style=\"text-align: right;\">\n",
       "      <th></th>\n",
       "      <th>Date</th>\n",
       "      <th>ProductID</th>\n",
       "      <th>Price</th>\n",
       "      <th>Quantity</th>\n",
       "    </tr>\n",
       "  </thead>\n",
       "  <tbody>\n",
       "    <tr>\n",
       "      <th>0</th>\n",
       "      <td>2022-03-31</td>\n",
       "      <td>4 Pines Pacific Ale Bottles 330mL</td>\n",
       "      <td>18.99</td>\n",
       "      <td>13009.0</td>\n",
       "    </tr>\n",
       "    <tr>\n",
       "      <th>1</th>\n",
       "      <td>2022-03-31</td>\n",
       "      <td>4 Pines Pale Ale Bottles 330mL</td>\n",
       "      <td>19.95</td>\n",
       "      <td>19028.0</td>\n",
       "    </tr>\n",
       "    <tr>\n",
       "      <th>2</th>\n",
       "      <td>2022-03-31</td>\n",
       "      <td>Balter Captain Sensible Cans 375mL</td>\n",
       "      <td>14.95</td>\n",
       "      <td>6009.0</td>\n",
       "    </tr>\n",
       "    <tr>\n",
       "      <th>3</th>\n",
       "      <td>2022-03-31</td>\n",
       "      <td>Balter Eazy Hazy Can 375mL</td>\n",
       "      <td>15.99</td>\n",
       "      <td>5187.0</td>\n",
       "    </tr>\n",
       "    <tr>\n",
       "      <th>4</th>\n",
       "      <td>2022-03-31</td>\n",
       "      <td>Balter Hazy IPA Cans 375mL</td>\n",
       "      <td>21.49</td>\n",
       "      <td>13028.0</td>\n",
       "    </tr>\n",
       "    <tr>\n",
       "      <th>5</th>\n",
       "      <td>2022-03-31</td>\n",
       "      <td>Balter XPA Cans 375mL</td>\n",
       "      <td>18.99</td>\n",
       "      <td>14909.0</td>\n",
       "    </tr>\n",
       "    <tr>\n",
       "      <th>6</th>\n",
       "      <td>2022-03-31</td>\n",
       "      <td>BentSpoke Brewing Co. Crankshaft IPA Cans 375mL</td>\n",
       "      <td>20.99</td>\n",
       "      <td>19516.0</td>\n",
       "    </tr>\n",
       "    <tr>\n",
       "      <th>7</th>\n",
       "      <td>2022-03-31</td>\n",
       "      <td>Better Beer Zero Carb Lager Bottle 330ml</td>\n",
       "      <td>19.99</td>\n",
       "      <td>13972.0</td>\n",
       "    </tr>\n",
       "    <tr>\n",
       "      <th>8</th>\n",
       "      <td>2022-03-31</td>\n",
       "      <td>Burleigh Big Head No Carb Beer 330mL</td>\n",
       "      <td>21.95</td>\n",
       "      <td>6173.0</td>\n",
       "    </tr>\n",
       "    <tr>\n",
       "      <th>9</th>\n",
       "      <td>2022-03-31</td>\n",
       "      <td>Coopers Pacific Pale Ale 375mL</td>\n",
       "      <td>21.49</td>\n",
       "      <td>20260.0</td>\n",
       "    </tr>\n",
       "  </tbody>\n",
       "</table>\n",
       "</div>"
      ],
      "text/plain": [
       "         Date                                        ProductID  Price  Quantity\n",
       "0  2022-03-31                4 Pines Pacific Ale Bottles 330mL  18.99   13009.0\n",
       "1  2022-03-31                   4 Pines Pale Ale Bottles 330mL  19.95   19028.0\n",
       "2  2022-03-31               Balter Captain Sensible Cans 375mL  14.95    6009.0\n",
       "3  2022-03-31                       Balter Eazy Hazy Can 375mL  15.99    5187.0\n",
       "4  2022-03-31                       Balter Hazy IPA Cans 375mL  21.49   13028.0\n",
       "5  2022-03-31                            Balter XPA Cans 375mL  18.99   14909.0\n",
       "6  2022-03-31  BentSpoke Brewing Co. Crankshaft IPA Cans 375mL  20.99   19516.0\n",
       "7  2022-03-31         Better Beer Zero Carb Lager Bottle 330ml  19.99   13972.0\n",
       "8  2022-03-31             Burleigh Big Head No Carb Beer 330mL  21.95    6173.0\n",
       "9  2022-03-31                   Coopers Pacific Pale Ale 375mL  21.49   20260.0"
      ]
     },
     "execution_count": 85,
     "metadata": {},
     "output_type": "execute_result"
    }
   ],
   "source": [
    "df['ProductID'] = df['Brand'] + ' ' +  df['Product']\n",
    "\n",
    "#Select Cereals\n",
    "df_feature = df[df['Product_type']=='Beer']\n",
    "\n",
    "\n",
    "#Make sure to not have any duplicates in the data\n",
    "df_feature = df_feature.groupby(['Date','ProductID']).agg({'Price':'mean','Quantity': 'mean' }).reset_index()\n",
    "\n",
    "#laptop data used for price elasticities\n",
    "df_feature.head(10)"
   ]
  },
  {
   "cell_type": "code",
   "execution_count": 86,
   "id": "762c6dc7-cbe0-4552-b3f1-3f413b9f640d",
   "metadata": {},
   "outputs": [
    {
     "name": "stdout",
     "output_type": "stream",
     "text": [
      "         Date  4 Pines Pacific Ale Bottles 330mL  4 Pines Pale Ale Bottles 330mL  Balter Captain Sensible Cans 375mL  Balter Eazy Hazy Can 375mL  Balter Hazy IPA Cans 375mL  Balter XPA Cans 375mL  BentSpoke Brewing Co. Crankshaft IPA Cans 375mL  Better Beer Zero Carb Lager Bottle 330ml  Burleigh Big Head No Carb Beer 330mL  ...  Mountain Goat Summer Ale Cans 375mL  Mountain Goat Very Enjoyable Beer Cans 375mL  Pirate Life Brewing South Coast Pale Ale Cans 355mL  Stone & Wood Pacific Ale Bottles 330mL  Stone & Wood Pacific Ale Cans 375mL  White Rabbit Dark Ale 330mL  Yak Brewing Fat Yak Original Pale Ale Bottle 345mL  Yak Brewing Wild Yak Pacific Ale Bottle 6 x 345mL  Young Henrys Natural Lager Can 375mL  Young Henrys Newtowner Pale Ale Cans 375mL\n",
      "0  2022-03-31                              18.99                           19.95                               14.95                       15.99                       21.49                  18.99                                            20.99                                     19.99                                 21.95  ...                                19.99                                         18.99                                              18.99                                     24.49                                18.99                        26.49                                              18.99                                               18.99                                 21.49                                       21.45\n",
      "1  2022-06-31                              18.99                           19.95                               14.95                       15.99                       21.49                  18.99                                            20.99                                     19.99                                 21.95  ...                                19.99                                         18.99                                              18.99                                     24.49                                18.99                        26.49                                              18.99                                               18.99                                 21.49                                       21.45\n",
      "2  2022-09-31                              18.99                           19.95                               14.95                       15.99                       21.49                  18.99                                            20.99                                     19.99                                 21.95  ...                                19.99                                         18.99                                              18.99                                     24.49                                18.99                        26.49                                              18.99                                               18.99                                 21.49                                       21.45\n",
      "3  2022-12-31                              18.99                           19.95                               14.95                       15.99                       21.49                  18.99                                            20.99                                     19.99                                 21.95  ...                                19.99                                         18.99                                              18.99                                     24.49                                18.99                        26.49                                              18.99                                               18.99                                 21.49                                       21.45\n",
      "\n",
      "[4 rows x 30 columns]\n"
     ]
    }
   ],
   "source": [
    "#Format and build a dataframe with x_values for each product within the caregory\n",
    "x_pivot = df.pivot(index= 'Date' ,columns='ProductID' ,values='Price')\n",
    "x_values = pd.DataFrame(x_pivot.to_records())\n",
    "print(x_values)"
   ]
  },
  {
   "cell_type": "code",
   "execution_count": 87,
   "id": "e028ad17-9531-4f20-b179-f696d97cc87c",
   "metadata": {},
   "outputs": [
    {
     "name": "stdout",
     "output_type": "stream",
     "text": [
      "         Date  4 Pines Pacific Ale Bottles 330mL  4 Pines Pale Ale Bottles 330mL  Balter Captain Sensible Cans 375mL  Balter Eazy Hazy Can 375mL  Balter Hazy IPA Cans 375mL  Balter XPA Cans 375mL  BentSpoke Brewing Co. Crankshaft IPA Cans 375mL  Better Beer Zero Carb Lager Bottle 330ml  Burleigh Big Head No Carb Beer 330mL  ...  Mountain Goat Summer Ale Cans 375mL  Mountain Goat Very Enjoyable Beer Cans 375mL  Pirate Life Brewing South Coast Pale Ale Cans 355mL  Stone & Wood Pacific Ale Bottles 330mL  Stone & Wood Pacific Ale Cans 375mL  White Rabbit Dark Ale 330mL  Yak Brewing Fat Yak Original Pale Ale Bottle 345mL  Yak Brewing Wild Yak Pacific Ale Bottle 6 x 345mL  Young Henrys Natural Lager Can 375mL  Young Henrys Newtowner Pale Ale Cans 375mL\n",
      "0  2022-03-31                              13009                           19028                                6009                        5187                       13028                  14909                                            19516                                     13972                                  6173  ...                                14180                                         13431                                               6971                                     13255                                13229                        14207                                               6422                                               10120                                 17942                                        8112\n",
      "1  2022-06-31                              17474                           19335                               18377                       15616                       19457                  14849                                            19276                                      5215                                  9302  ...                                 5515                                          5994                                               5066                                     18627                                19164                        18543                                              11559                                               12513                                 10641                                       15760\n",
      "2  2022-09-31                               5334                            9408                               13065                       17574                       18558                  20330                                            11043                                     10866                                  9378  ...                                17878                                          6680                                              20624                                      8739                                17189                        18388                                               7828                                                9000                                 13473                                        8808\n",
      "3  2022-12-31                               9269                            5358                               15460                       19314                       15497                   6638                                            15693                                      9332                                 21774  ...                                11109                                         11752                                              17497                                      8692                                14911                         6781                                              21572                                               19393                                 21796                                        6793\n",
      "\n",
      "[4 rows x 30 columns]\n"
     ]
    }
   ],
   "source": [
    "#Format and build a dataframe with y_values for each product within the caregory\n",
    "y_pivot = df.pivot( index = 'Date',columns='ProductID', values='Quantity')\n",
    "y_values = pd.DataFrame(y_pivot.to_records())\n",
    "print(y_values)"
   ]
  },
  {
   "cell_type": "code",
   "execution_count": 102,
   "id": "97cf1bf7-c030-4210-8905-509f8f436b4f",
   "metadata": {},
   "outputs": [],
   "source": [
    "for column in x_values.columns[1:]:\n",
    "    column_points = []\n",
    "    for i in range(len(x_values[column])):\n",
    "        if not np.isnan(x_values[column][i]) and not np.isnan(y_values[column][i]):\n",
    "            column_points.append((x_values[column][i], y_values[column][i]))\n",
    "    df = pd.DataFrame(list(column_points), columns= ['x_value', 'y_value'])\n",
    "\n",
    "    #Linear Regression Model\n",
    "    import statsmodels.api as sm\n",
    "    x_value = df['x_value']\n",
    "    y_value = df['y_value']\n",
    "    X = sm.add_constant(x_value)\n",
    "    model = sm.OLS(y_value, X)\n",
    "    result = model.fit()\n",
    "    \n",
    "    #(Null Hypothesis test) Coefficient with a p value less than 0.05\n",
    "    if result.f_pvalue > 0.01:\n",
    "        \n",
    "        rsquared = result.rsquared\n",
    "        coefficient_pvalue = result.f_pvalue\n",
    "        intercept, slope = result.params\n",
    "        mean_price = np.mean(x_value)\n",
    "        mean_quantity = np.mean(y_value)\n",
    "        tintercept, t_score = result.tvalues\n",
    "     \n",
    "        #Price elasticity Formula\n",
    "        price_elasticity = (slope)*(mean_price/mean_quantity)    \n",
    "            \n",
    "        #Append results into dictionary for dataframe\n",
    "        results_values[\"name\"].append(column)\n",
    "        results_values[\"price_elasticity\"].append(price_elasticity)\n",
    "        results_values[\"price_mean\"].append(mean_price)\n",
    "        results_values[\"quantity_mean\"].append(mean_quantity)\n",
    "        results_values[\"intercept\"].append(intercept)\n",
    "        results_values['t_score'].append(t_score)\n",
    "        results_values[\"slope\"].append(slope)\n",
    "        results_values[\"coefficient_pvalue\"].append(coefficient_pvalue)\n",
    "        \n",
    "final_df = pd.DataFrame.from_dict(results_values)"
   ]
  },
  {
   "cell_type": "code",
   "execution_count": 96,
   "id": "e1ee252e-0fe7-4f11-ba31-1877b075e900",
   "metadata": {},
   "outputs": [],
   "source": [
    "def divergent_plot(df, values_column, ylabel, xlabel):\n",
    "\n",
    "    #Divergent plot\n",
    "    df['ranking'] = df[values_column].rank( ascending = True).astype(int)\n",
    "    df.sort_values(values_column, ascending =False, inplace = True)\n",
    "    plt.figure(figsize = (12,5), dpi = 80)\n",
    "    plt.hlines(y = df['ranking'] , xmin = 0, xmax = df[values_column], alpha = 0.5, linewidth = 3)\n",
    "    \n",
    "    #Add elasticity labels\n",
    "    for x, y, tex in zip(df[values_column], df['ranking'] , df[values_column]):\n",
    "        plt.text(x, y, round(tex, 2), horizontalalignment='right' if x < 0 else 'left', \n",
    "                 verticalalignment='center', fontdict={'color':'red' if x < 0 else 'green', 'size':10})\n",
    "        \n",
    "    \n",
    "    # Axis and title\n",
    "    plt.gca().set(ylabel= ylabel, xlabel= xlabel)\n",
    "    plt.yticks(df['ranking'])\n",
    "    plt.title(values_column , fontdict={'size':13})\n",
    "    plt.grid(linestyle='--', alpha=0.5)\n",
    "    plt.show()\n",
    "            \n",
    "    \n",
    "    #Adjust Ranking column and print dataframe\n",
    "    pd.set_option('display.width', 1000)\n",
    "    cols = list(df.columns)\n",
    "    cols = [cols[-1]] + cols[:-1]\n",
    "    df = df[cols]\n",
    "    \n",
    "    df = df.iloc[:,:3]\n",
    "    df.set_index('ranking', inplace=True)\n",
    "    display(df)"
   ]
  },
  {
   "cell_type": "code",
   "execution_count": 97,
   "id": "0e9c6d59-fb5c-47d4-990e-e2c9ab5a774f",
   "metadata": {},
   "outputs": [
    {
     "data": {
      "text/html": [
       "<div>\n",
       "<style scoped>\n",
       "    .dataframe tbody tr th:only-of-type {\n",
       "        vertical-align: middle;\n",
       "    }\n",
       "\n",
       "    .dataframe tbody tr th {\n",
       "        vertical-align: top;\n",
       "    }\n",
       "\n",
       "    .dataframe thead th {\n",
       "        text-align: right;\n",
       "    }\n",
       "</style>\n",
       "<table border=\"1\" class=\"dataframe\">\n",
       "  <thead>\n",
       "    <tr style=\"text-align: right;\">\n",
       "      <th></th>\n",
       "      <th>ProductID</th>\n",
       "      <th>price_elasticity</th>\n",
       "      <th>t_score</th>\n",
       "      <th>coefficient_pvalue</th>\n",
       "      <th>slope</th>\n",
       "      <th>price_mean</th>\n",
       "      <th>quantity_mean</th>\n",
       "      <th>intercept</th>\n",
       "    </tr>\n",
       "  </thead>\n",
       "  <tbody>\n",
       "  </tbody>\n",
       "</table>\n",
       "</div>"
      ],
      "text/plain": [
       "Empty DataFrame\n",
       "Columns: [ProductID, price_elasticity, t_score, coefficient_pvalue, slope, price_mean, quantity_mean, intercept]\n",
       "Index: []"
      ]
     },
     "execution_count": 97,
     "metadata": {},
     "output_type": "execute_result"
    }
   ],
   "source": [
    "df_elasticity = final_df[['ProductID','price_elasticity','t_score','coefficient_pvalue','slope','price_mean','quantity_mean','intercept']]\n",
    "df_elasticity"
   ]
  },
  {
   "cell_type": "code",
   "execution_count": 98,
   "id": "e5eccf95-b778-4aa8-8976-be80e4726e55",
   "metadata": {},
   "outputs": [],
   "source": [
    "def divergent_plot(df, values_column, ylabel, xlabel):\n",
    "\n",
    "    #Divergent plot\n",
    "    df['ranking'] = df[values_column].rank( ascending = True).astype(int)\n",
    "    df.sort_values(values_column, ascending =False, inplace = True)\n",
    "    plt.figure(figsize = (12,5), dpi = 80)\n",
    "    plt.hlines(y = df['ranking'] , xmin = 0, xmax = df[values_column], alpha = 0.5, linewidth = 3)\n",
    "    \n",
    "    #Add elasticity labels\n",
    "    for x, y, tex in zip(df[values_column], df['ranking'] , df[values_column]):\n",
    "        plt.text(x, y, round(tex, 2), horizontalalignment='right' if x < 0 else 'left', \n",
    "                 verticalalignment='center', fontdict={'color':'red' if x < 0 else 'green', 'size':10})\n",
    "        \n",
    "    \n",
    "    # Axis and title\n",
    "    plt.gca().set(ylabel= ylabel, xlabel= xlabel)\n",
    "    plt.yticks(df['ranking'])\n",
    "    plt.title(values_column , fontdict={'size':13})\n",
    "    plt.grid(linestyle='--', alpha=0.5)\n",
    "    plt.show()\n",
    "            \n",
    "    \n",
    "    #Adjust Ranking column and print dataframe\n",
    "    pd.set_option('display.width', 4000)\n",
    "    cols = list(df.columns)\n",
    "    cols = [cols[-1]] + cols[:-1]\n",
    "    df = df[cols]\n",
    "    \n",
    "    df = df.iloc[:,:3]\n",
    "    df.set_index('ranking', inplace=True)\n",
    "    display(df)"
   ]
  },
  {
   "cell_type": "markdown",
   "id": "a67650cf-9a49-43ac-a44f-beb705a4d25b",
   "metadata": {},
   "source": [
    "## Result"
   ]
  },
  {
   "cell_type": "code",
   "execution_count": 99,
   "id": "b50bfada-4114-483c-8736-6eababb01077",
   "metadata": {},
   "outputs": [
    {
     "data": {
      "text/html": [
       "<div>\n",
       "<style scoped>\n",
       "    .dataframe tbody tr th:only-of-type {\n",
       "        vertical-align: middle;\n",
       "    }\n",
       "\n",
       "    .dataframe tbody tr th {\n",
       "        vertical-align: top;\n",
       "    }\n",
       "\n",
       "    .dataframe thead th {\n",
       "        text-align: right;\n",
       "    }\n",
       "</style>\n",
       "<table border=\"1\" class=\"dataframe\">\n",
       "  <thead>\n",
       "    <tr style=\"text-align: right;\">\n",
       "      <th></th>\n",
       "      <th>ProductID</th>\n",
       "      <th>price_elasticity</th>\n",
       "      <th>t_score</th>\n",
       "      <th>coefficient_pvalue</th>\n",
       "      <th>slope</th>\n",
       "      <th>price_mean</th>\n",
       "      <th>quantity_mean</th>\n",
       "      <th>intercept</th>\n",
       "    </tr>\n",
       "  </thead>\n",
       "  <tbody>\n",
       "  </tbody>\n",
       "</table>\n",
       "</div>"
      ],
      "text/plain": [
       "Empty DataFrame\n",
       "Columns: [ProductID, price_elasticity, t_score, coefficient_pvalue, slope, price_mean, quantity_mean, intercept]\n",
       "Index: []"
      ]
     },
     "execution_count": 99,
     "metadata": {},
     "output_type": "execute_result"
    }
   ],
   "source": [
    "df_elasticity"
   ]
  },
  {
   "cell_type": "code",
   "execution_count": 100,
   "id": "69a7236b-6cee-47a3-8719-ae64b39d1b99",
   "metadata": {},
   "outputs": [
    {
     "data": {
      "text/html": [
       "<div>\n",
       "<style scoped>\n",
       "    .dataframe tbody tr th:only-of-type {\n",
       "        vertical-align: middle;\n",
       "    }\n",
       "\n",
       "    .dataframe tbody tr th {\n",
       "        vertical-align: top;\n",
       "    }\n",
       "\n",
       "    .dataframe thead th {\n",
       "        text-align: right;\n",
       "    }\n",
       "</style>\n",
       "<table border=\"1\" class=\"dataframe\">\n",
       "  <thead>\n",
       "    <tr style=\"text-align: right;\">\n",
       "      <th></th>\n",
       "      <th>ProductID</th>\n",
       "      <th>price_elasticity</th>\n",
       "      <th>t_score</th>\n",
       "      <th>coefficient_pvalue</th>\n",
       "      <th>slope</th>\n",
       "      <th>price_mean</th>\n",
       "      <th>quantity_mean</th>\n",
       "      <th>intercept</th>\n",
       "    </tr>\n",
       "  </thead>\n",
       "  <tbody>\n",
       "  </tbody>\n",
       "</table>\n",
       "</div>"
      ],
      "text/plain": [
       "Empty DataFrame\n",
       "Columns: [ProductID, price_elasticity, t_score, coefficient_pvalue, slope, price_mean, quantity_mean, intercept]\n",
       "Index: []"
      ]
     },
     "execution_count": 100,
     "metadata": {},
     "output_type": "execute_result"
    }
   ],
   "source": [
    "df_sample = df_elasticity.head(10).append(df_elasticity.tail(10))\n",
    "df_sample"
   ]
  },
  {
   "cell_type": "code",
   "execution_count": 101,
   "id": "fc0e508f-efe4-4a8e-9f58-93d4e075ec91",
   "metadata": {},
   "outputs": [
    {
     "data": {
      "image/png": "[encoded data removed]",
      "text/plain": [
       "<Figure size 960x400 with 1 Axes>"
      ]
     },
     "metadata": {
      "needs_background": "light"
     },
     "output_type": "display_data"
    },
    {
     "data": {
      "text/html": [
       "<div>\n",
       "<style scoped>\n",
       "    .dataframe tbody tr th:only-of-type {\n",
       "        vertical-align: middle;\n",
       "    }\n",
       "\n",
       "    .dataframe tbody tr th {\n",
       "        vertical-align: top;\n",
       "    }\n",
       "\n",
       "    .dataframe thead th {\n",
       "        text-align: right;\n",
       "    }\n",
       "</style>\n",
       "<table border=\"1\" class=\"dataframe\">\n",
       "  <thead>\n",
       "    <tr style=\"text-align: right;\">\n",
       "      <th></th>\n",
       "      <th>ProductID</th>\n",
       "      <th>price_elasticity</th>\n",
       "    </tr>\n",
       "    <tr>\n",
       "      <th>ranking</th>\n",
       "      <th></th>\n",
       "      <th></th>\n",
       "    </tr>\n",
       "  </thead>\n",
       "  <tbody>\n",
       "  </tbody>\n",
       "</table>\n",
       "</div>"
      ],
      "text/plain": [
       "Empty DataFrame\n",
       "Columns: [ProductID, price_elasticity]\n",
       "Index: []"
      ]
     },
     "metadata": {},
     "output_type": "display_data"
    }
   ],
   "source": [
    "pe_plot = divergent_plot(df_sample, 'price_elasticity', 'Ranking Number', 'Price Elasticity')"
   ]
  },
  {
   "cell_type": "code",
   "execution_count": null,
   "id": "c3a855ee-00d6-4881-8163-7d15bfdbaa6e",
   "metadata": {},
   "outputs": [],
   "source": []
  }
 ],
 "metadata": {
  "kernelspec": {
   "display_name": "Python 3 (ipykernel)",
   "language": "python",
   "name": "python3"
  },
  "language_info": {
   "codemirror_mode": {
    "name": "ipython",
    "version": 3
   },
   "file_extension": ".py",
   "mimetype": "text/x-python",
   "name": "python",
   "nbconvert_exporter": "python",
   "pygments_lexer": "ipython3",
   "version": "3.8.12"
  }
 },
 "nbformat": 4,
 "nbformat_minor": 5
}

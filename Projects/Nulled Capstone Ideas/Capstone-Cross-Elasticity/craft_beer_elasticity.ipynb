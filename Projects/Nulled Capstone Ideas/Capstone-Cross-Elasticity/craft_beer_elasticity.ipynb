{
 "cells": [
  {
   "cell_type": "markdown",
   "metadata": {
    "id": "YkPyPM2LgYdB"
   },
   "source": [
    "# Data Preparation & Profiling"
   ]
  },
  {
   "cell_type": "code",
   "execution_count": null,
   "metadata": {
    "colab": {
     "base_uri": "https://localhost:8080/"
    },
    "id": "UC52S_1Pi6jQ",
    "outputId": "481eaffb-c0a8-41b1-f4dc-3b7197cbd37d"
   },
   "outputs": [],
   "source": []
  },
  {
   "cell_type": "code",
   "execution_count": 151,
   "metadata": {
    "id": "mqV7GIFwi-6u"
   },
   "outputs": [],
   "source": [
    "# Packages\n",
    "import pandas as pd\n",
    "import numpy as np\n",
    "import matplotlib.pyplot as plt"
   ]
  },
  {
   "cell_type": "code",
   "execution_count": 152,
   "metadata": {
    "id": "bHZJUBzljAhj"
   },
   "outputs": [],
   "source": [
    "# Data\n",
    "colnames = ['Brand','Product','Product_type','Date','Price','Quantity']\n",
    "# df = pd.read_excel('beer.xlsx', names=colnames, header=None)\n",
    "df = pd.read_csv('data/beer-neue-2.csv', names=colnames, header=None, encoding=\"utf-8\",)"
   ]
  },
  {
   "cell_type": "code",
   "execution_count": 153,
   "metadata": {
    "colab": {
     "base_uri": "https://localhost:8080/"
    },
    "id": "ajZnBhKioj3d",
    "outputId": "494eeefd-c342-490f-a9f8-7cef0bda203f"
   },
   "outputs": [
    {
     "name": "stdout",
     "output_type": "stream",
     "text": [
      "<class 'pandas.core.frame.DataFrame'>\n",
      "RangeIndex: 116 entries, 0 to 115\n",
      "Data columns (total 6 columns):\n",
      " #   Column        Non-Null Count  Dtype  \n",
      "---  ------        --------------  -----  \n",
      " 0   Brand         116 non-null    object \n",
      " 1   Product       116 non-null    object \n",
      " 2   Product_type  116 non-null    object \n",
      " 3   Date          116 non-null    object \n",
      " 4   Price         116 non-null    float64\n",
      " 5   Quantity      116 non-null    int64  \n",
      "dtypes: float64(1), int64(1), object(4)\n",
      "memory usage: 5.6+ KB\n"
     ]
    }
   ],
   "source": [
    "df.info()"
   ]
  },
  {
   "cell_type": "code",
   "execution_count": 154,
   "metadata": {},
   "outputs": [],
   "source": [
    "import warnings\n",
    "warnings.filterwarnings('ignore')"
   ]
  },
  {
   "cell_type": "code",
   "execution_count": 155,
   "metadata": {
    "colab": {
     "base_uri": "https://localhost:8080/",
     "height": 363
    },
    "id": "TMWlMqMbjXWd",
    "outputId": "7bfe6d37-6e37-4f10-e040-9c247b44a7b7",
    "scrolled": true
   },
   "outputs": [
    {
     "data": {
      "text/html": [
       "<div>\n",
       "<style scoped>\n",
       "    .dataframe tbody tr th:only-of-type {\n",
       "        vertical-align: middle;\n",
       "    }\n",
       "\n",
       "    .dataframe tbody tr th {\n",
       "        vertical-align: top;\n",
       "    }\n",
       "\n",
       "    .dataframe thead th {\n",
       "        text-align: right;\n",
       "    }\n",
       "</style>\n",
       "<table border=\"1\" class=\"dataframe\">\n",
       "  <thead>\n",
       "    <tr style=\"text-align: right;\">\n",
       "      <th></th>\n",
       "      <th>Brand</th>\n",
       "      <th>Product</th>\n",
       "      <th>Product_type</th>\n",
       "      <th>Date</th>\n",
       "      <th>Price</th>\n",
       "      <th>Quantity</th>\n",
       "    </tr>\n",
       "  </thead>\n",
       "  <tbody>\n",
       "    <tr>\n",
       "      <th>0</th>\n",
       "      <td>Stone &amp; Wood</td>\n",
       "      <td>Pacific Ale Bottles 330mL</td>\n",
       "      <td>Beer</td>\n",
       "      <td>2022-03-31</td>\n",
       "      <td>24.49</td>\n",
       "      <td>25200</td>\n",
       "    </tr>\n",
       "    <tr>\n",
       "      <th>1</th>\n",
       "      <td>James Squire</td>\n",
       "      <td>One Fifty Lashes Pale Ale Bottles 345mL</td>\n",
       "      <td>Beer</td>\n",
       "      <td>2022-03-31</td>\n",
       "      <td>22.99</td>\n",
       "      <td>25300</td>\n",
       "    </tr>\n",
       "    <tr>\n",
       "      <th>2</th>\n",
       "      <td>Little Creatures</td>\n",
       "      <td>Pale Ale Bottles 330mL</td>\n",
       "      <td>Beer</td>\n",
       "      <td>2022-03-31</td>\n",
       "      <td>21.95</td>\n",
       "      <td>25100</td>\n",
       "    </tr>\n",
       "    <tr>\n",
       "      <th>3</th>\n",
       "      <td>Balter</td>\n",
       "      <td>XPA Cans 375mL</td>\n",
       "      <td>Beer</td>\n",
       "      <td>2022-03-31</td>\n",
       "      <td>18.99</td>\n",
       "      <td>25000</td>\n",
       "    </tr>\n",
       "    <tr>\n",
       "      <th>4</th>\n",
       "      <td>Mountain Goat</td>\n",
       "      <td>Very Enjoyable Beer Cans 375mL</td>\n",
       "      <td>Beer</td>\n",
       "      <td>2022-03-31</td>\n",
       "      <td>18.99</td>\n",
       "      <td>25000</td>\n",
       "    </tr>\n",
       "    <tr>\n",
       "      <th>5</th>\n",
       "      <td>Furphy</td>\n",
       "      <td>Refreshing Ale Bottles 375mL</td>\n",
       "      <td>Beer</td>\n",
       "      <td>2022-03-31</td>\n",
       "      <td>20.99</td>\n",
       "      <td>25000</td>\n",
       "    </tr>\n",
       "    <tr>\n",
       "      <th>6</th>\n",
       "      <td>Burleigh</td>\n",
       "      <td>Big Head No Carb Beer 330mL</td>\n",
       "      <td>Beer</td>\n",
       "      <td>2022-03-31</td>\n",
       "      <td>21.95</td>\n",
       "      <td>25000</td>\n",
       "    </tr>\n",
       "    <tr>\n",
       "      <th>7</th>\n",
       "      <td>Young Henrys</td>\n",
       "      <td>Newtowner Pale Ale Cans 375mL</td>\n",
       "      <td>Beer</td>\n",
       "      <td>2022-03-31</td>\n",
       "      <td>21.45</td>\n",
       "      <td>25000</td>\n",
       "    </tr>\n",
       "    <tr>\n",
       "      <th>8</th>\n",
       "      <td>Gage Roads</td>\n",
       "      <td>Single Fin Summer Ale Bottles 330mL</td>\n",
       "      <td>Beer</td>\n",
       "      <td>2022-03-31</td>\n",
       "      <td>19.95</td>\n",
       "      <td>25000</td>\n",
       "    </tr>\n",
       "    <tr>\n",
       "      <th>9</th>\n",
       "      <td>4 Pines</td>\n",
       "      <td>Pale Ale Bottles 330mL</td>\n",
       "      <td>Beer</td>\n",
       "      <td>2022-03-31</td>\n",
       "      <td>19.95</td>\n",
       "      <td>25000</td>\n",
       "    </tr>\n",
       "  </tbody>\n",
       "</table>\n",
       "</div>"
      ],
      "text/plain": [
       "              Brand                                  Product Product_type        Date  Price  Quantity\n",
       "0      Stone & Wood                Pacific Ale Bottles 330mL         Beer  2022-03-31  24.49     25200\n",
       "1      James Squire  One Fifty Lashes Pale Ale Bottles 345mL         Beer  2022-03-31  22.99     25300\n",
       "2  Little Creatures                   Pale Ale Bottles 330mL         Beer  2022-03-31  21.95     25100\n",
       "3            Balter                           XPA Cans 375mL         Beer  2022-03-31  18.99     25000\n",
       "4     Mountain Goat           Very Enjoyable Beer Cans 375mL         Beer  2022-03-31  18.99     25000\n",
       "5            Furphy             Refreshing Ale Bottles 375mL         Beer  2022-03-31  20.99     25000\n",
       "6          Burleigh              Big Head No Carb Beer 330mL         Beer  2022-03-31  21.95     25000\n",
       "7      Young Henrys            Newtowner Pale Ale Cans 375mL         Beer  2022-03-31  21.45     25000\n",
       "8        Gage Roads      Single Fin Summer Ale Bottles 330mL         Beer  2022-03-31  19.95     25000\n",
       "9           4 Pines                   Pale Ale Bottles 330mL         Beer  2022-03-31  19.95     25000"
      ]
     },
     "execution_count": 155,
     "metadata": {},
     "output_type": "execute_result"
    }
   ],
   "source": [
    "df.head(10)"
   ]
  },
  {
   "cell_type": "code",
   "execution_count": 156,
   "metadata": {},
   "outputs": [
    {
     "data": {
      "text/plain": [
       "(116, 6)"
      ]
     },
     "execution_count": 156,
     "metadata": {},
     "output_type": "execute_result"
    }
   ],
   "source": [
    "df.shape"
   ]
  },
  {
   "cell_type": "markdown",
   "metadata": {
    "id": "nZKf7fkWgfCo"
   },
   "source": [
    "# Exploratory Data Analysis"
   ]
  },
  {
   "cell_type": "code",
   "execution_count": 157,
   "metadata": {
    "colab": {
     "base_uri": "https://localhost:8080/"
    },
    "id": "SbCHRQYVgXmJ",
    "outputId": "643d2d2b-ad1e-4ee1-96de-0a17beaf2e4a"
   },
   "outputs": [
    {
     "data": {
      "text/plain": [
       "Beer    116\n",
       "Name: Product_type, dtype: int64"
      ]
     },
     "execution_count": 157,
     "metadata": {},
     "output_type": "execute_result"
    }
   ],
   "source": [
    "#Check values in different category_name\n",
    "category = df['Product_type'].value_counts()\n",
    "category"
   ]
  },
  {
   "cell_type": "code",
   "execution_count": 158,
   "metadata": {
    "colab": {
     "base_uri": "https://localhost:8080/",
     "height": 206
    },
    "id": "eTRzrc5ziJ2j",
    "outputId": "2f7f571f-d9e2-4c9f-9868-3f832cd52e14"
   },
   "outputs": [
    {
     "data": {
      "text/html": [
       "<div>\n",
       "<style scoped>\n",
       "    .dataframe tbody tr th:only-of-type {\n",
       "        vertical-align: middle;\n",
       "    }\n",
       "\n",
       "    .dataframe tbody tr th {\n",
       "        vertical-align: top;\n",
       "    }\n",
       "\n",
       "    .dataframe thead th {\n",
       "        text-align: right;\n",
       "    }\n",
       "</style>\n",
       "<table border=\"1\" class=\"dataframe\">\n",
       "  <thead>\n",
       "    <tr style=\"text-align: right;\">\n",
       "      <th></th>\n",
       "      <th>Date</th>\n",
       "      <th>ProductID</th>\n",
       "      <th>Price</th>\n",
       "      <th>Quantity</th>\n",
       "    </tr>\n",
       "  </thead>\n",
       "  <tbody>\n",
       "    <tr>\n",
       "      <th>0</th>\n",
       "      <td>2022-03-31</td>\n",
       "      <td>4 Pines Pacific Ale Bottles 330mL</td>\n",
       "      <td>18.99</td>\n",
       "      <td>25000.0</td>\n",
       "    </tr>\n",
       "    <tr>\n",
       "      <th>1</th>\n",
       "      <td>2022-03-31</td>\n",
       "      <td>4 Pines Pale Ale Bottles 330mL</td>\n",
       "      <td>19.95</td>\n",
       "      <td>25000.0</td>\n",
       "    </tr>\n",
       "    <tr>\n",
       "      <th>2</th>\n",
       "      <td>2022-03-31</td>\n",
       "      <td>Balter Captain Sensible Cans 375mL</td>\n",
       "      <td>14.95</td>\n",
       "      <td>25000.0</td>\n",
       "    </tr>\n",
       "    <tr>\n",
       "      <th>3</th>\n",
       "      <td>2022-03-31</td>\n",
       "      <td>Balter Eazy Hazy Can 375mL</td>\n",
       "      <td>15.99</td>\n",
       "      <td>25000.0</td>\n",
       "    </tr>\n",
       "    <tr>\n",
       "      <th>4</th>\n",
       "      <td>2022-03-31</td>\n",
       "      <td>Balter Hazy IPA Cans 375mL</td>\n",
       "      <td>21.49</td>\n",
       "      <td>25000.0</td>\n",
       "    </tr>\n",
       "    <tr>\n",
       "      <th>5</th>\n",
       "      <td>2022-03-31</td>\n",
       "      <td>Balter XPA Cans 375mL</td>\n",
       "      <td>18.99</td>\n",
       "      <td>25000.0</td>\n",
       "    </tr>\n",
       "    <tr>\n",
       "      <th>6</th>\n",
       "      <td>2022-03-31</td>\n",
       "      <td>BentSpoke Brewing Co. Crankshaft IPA Cans 375mL</td>\n",
       "      <td>20.99</td>\n",
       "      <td>25000.0</td>\n",
       "    </tr>\n",
       "    <tr>\n",
       "      <th>7</th>\n",
       "      <td>2022-03-31</td>\n",
       "      <td>Better Beer Zero Carb Lager Bottle 330ml</td>\n",
       "      <td>19.99</td>\n",
       "      <td>25000.0</td>\n",
       "    </tr>\n",
       "    <tr>\n",
       "      <th>8</th>\n",
       "      <td>2022-03-31</td>\n",
       "      <td>Burleigh Big Head No Carb Beer 330mL</td>\n",
       "      <td>21.95</td>\n",
       "      <td>25000.0</td>\n",
       "    </tr>\n",
       "    <tr>\n",
       "      <th>9</th>\n",
       "      <td>2022-03-31</td>\n",
       "      <td>Coopers Pacific Pale Ale 375mL</td>\n",
       "      <td>21.49</td>\n",
       "      <td>25000.0</td>\n",
       "    </tr>\n",
       "    <tr>\n",
       "      <th>10</th>\n",
       "      <td>2022-03-31</td>\n",
       "      <td>Coopers XPA Cans 375mL</td>\n",
       "      <td>23.99</td>\n",
       "      <td>25000.0</td>\n",
       "    </tr>\n",
       "    <tr>\n",
       "      <th>11</th>\n",
       "      <td>2022-03-31</td>\n",
       "      <td>Furphy Refreshing Ale Bottles 375mL</td>\n",
       "      <td>20.99</td>\n",
       "      <td>25000.0</td>\n",
       "    </tr>\n",
       "    <tr>\n",
       "      <th>12</th>\n",
       "      <td>2022-03-31</td>\n",
       "      <td>Gage Roads Single Fin Summer Ale Bottles 330mL</td>\n",
       "      <td>19.95</td>\n",
       "      <td>25000.0</td>\n",
       "    </tr>\n",
       "    <tr>\n",
       "      <th>13</th>\n",
       "      <td>2022-03-31</td>\n",
       "      <td>James Squire Broken Shackles Lager Bottles 345mL</td>\n",
       "      <td>24.99</td>\n",
       "      <td>25000.0</td>\n",
       "    </tr>\n",
       "    <tr>\n",
       "      <th>14</th>\n",
       "      <td>2022-03-31</td>\n",
       "      <td>James Squire One Fifty Lashes Pale Ale Bottles...</td>\n",
       "      <td>22.99</td>\n",
       "      <td>25300.0</td>\n",
       "    </tr>\n",
       "    <tr>\n",
       "      <th>15</th>\n",
       "      <td>2022-03-31</td>\n",
       "      <td>Kaiju Krush Tropical Pale Ale Cans 375mL</td>\n",
       "      <td>24.99</td>\n",
       "      <td>25000.0</td>\n",
       "    </tr>\n",
       "    <tr>\n",
       "      <th>16</th>\n",
       "      <td>2022-03-31</td>\n",
       "      <td>Kosciuszko Pale Ale 330mL</td>\n",
       "      <td>23.99</td>\n",
       "      <td>25000.0</td>\n",
       "    </tr>\n",
       "    <tr>\n",
       "      <th>17</th>\n",
       "      <td>2022-03-31</td>\n",
       "      <td>Little Creatures Pale Ale Bottles 330mL</td>\n",
       "      <td>21.95</td>\n",
       "      <td>25100.0</td>\n",
       "    </tr>\n",
       "    <tr>\n",
       "      <th>18</th>\n",
       "      <td>2022-03-31</td>\n",
       "      <td>Mountain Goat Fancy Pants Amber Ale Cans 375mL</td>\n",
       "      <td>23.39</td>\n",
       "      <td>25000.0</td>\n",
       "    </tr>\n",
       "    <tr>\n",
       "      <th>19</th>\n",
       "      <td>2022-03-31</td>\n",
       "      <td>Mountain Goat Summer Ale Cans 375mL</td>\n",
       "      <td>19.99</td>\n",
       "      <td>25000.0</td>\n",
       "    </tr>\n",
       "    <tr>\n",
       "      <th>20</th>\n",
       "      <td>2022-03-31</td>\n",
       "      <td>Mountain Goat Very Enjoyable Beer Cans 375mL</td>\n",
       "      <td>18.99</td>\n",
       "      <td>25000.0</td>\n",
       "    </tr>\n",
       "    <tr>\n",
       "      <th>21</th>\n",
       "      <td>2022-03-31</td>\n",
       "      <td>Pirate Life Brewing South Coast Pale Ale Cans ...</td>\n",
       "      <td>18.99</td>\n",
       "      <td>25000.0</td>\n",
       "    </tr>\n",
       "    <tr>\n",
       "      <th>22</th>\n",
       "      <td>2022-03-31</td>\n",
       "      <td>Stone &amp; Wood Pacific Ale Bottles 330mL</td>\n",
       "      <td>24.49</td>\n",
       "      <td>25200.0</td>\n",
       "    </tr>\n",
       "    <tr>\n",
       "      <th>23</th>\n",
       "      <td>2022-03-31</td>\n",
       "      <td>Stone &amp; Wood Pacific Ale Cans 375mL</td>\n",
       "      <td>18.99</td>\n",
       "      <td>25000.0</td>\n",
       "    </tr>\n",
       "    <tr>\n",
       "      <th>24</th>\n",
       "      <td>2022-03-31</td>\n",
       "      <td>White Rabbit Dark Ale 330mL</td>\n",
       "      <td>26.49</td>\n",
       "      <td>25000.0</td>\n",
       "    </tr>\n",
       "    <tr>\n",
       "      <th>25</th>\n",
       "      <td>2022-03-31</td>\n",
       "      <td>Yak Brewing Fat Yak Original Pale Ale Bottle 3...</td>\n",
       "      <td>18.99</td>\n",
       "      <td>25000.0</td>\n",
       "    </tr>\n",
       "    <tr>\n",
       "      <th>26</th>\n",
       "      <td>2022-03-31</td>\n",
       "      <td>Yak Brewing Wild Yak Pacific Ale Bottle 6 x 345mL</td>\n",
       "      <td>18.99</td>\n",
       "      <td>25000.0</td>\n",
       "    </tr>\n",
       "    <tr>\n",
       "      <th>27</th>\n",
       "      <td>2022-03-31</td>\n",
       "      <td>Young Henrys Natural Lager Can 375mL</td>\n",
       "      <td>21.49</td>\n",
       "      <td>25000.0</td>\n",
       "    </tr>\n",
       "    <tr>\n",
       "      <th>28</th>\n",
       "      <td>2022-03-31</td>\n",
       "      <td>Young Henrys Newtowner Pale Ale Cans 375mL</td>\n",
       "      <td>21.45</td>\n",
       "      <td>25000.0</td>\n",
       "    </tr>\n",
       "    <tr>\n",
       "      <th>29</th>\n",
       "      <td>2022-06-31</td>\n",
       "      <td>4 Pines Pacific Ale Bottles 330mL</td>\n",
       "      <td>18.99</td>\n",
       "      <td>25000.0</td>\n",
       "    </tr>\n",
       "  </tbody>\n",
       "</table>\n",
       "</div>"
      ],
      "text/plain": [
       "          Date                                          ProductID  Price  Quantity\n",
       "0   2022-03-31                  4 Pines Pacific Ale Bottles 330mL  18.99   25000.0\n",
       "1   2022-03-31                     4 Pines Pale Ale Bottles 330mL  19.95   25000.0\n",
       "2   2022-03-31                 Balter Captain Sensible Cans 375mL  14.95   25000.0\n",
       "3   2022-03-31                         Balter Eazy Hazy Can 375mL  15.99   25000.0\n",
       "4   2022-03-31                         Balter Hazy IPA Cans 375mL  21.49   25000.0\n",
       "5   2022-03-31                              Balter XPA Cans 375mL  18.99   25000.0\n",
       "6   2022-03-31    BentSpoke Brewing Co. Crankshaft IPA Cans 375mL  20.99   25000.0\n",
       "7   2022-03-31           Better Beer Zero Carb Lager Bottle 330ml  19.99   25000.0\n",
       "8   2022-03-31               Burleigh Big Head No Carb Beer 330mL  21.95   25000.0\n",
       "9   2022-03-31                     Coopers Pacific Pale Ale 375mL  21.49   25000.0\n",
       "10  2022-03-31                             Coopers XPA Cans 375mL  23.99   25000.0\n",
       "11  2022-03-31                Furphy Refreshing Ale Bottles 375mL  20.99   25000.0\n",
       "12  2022-03-31     Gage Roads Single Fin Summer Ale Bottles 330mL  19.95   25000.0\n",
       "13  2022-03-31   James Squire Broken Shackles Lager Bottles 345mL  24.99   25000.0\n",
       "14  2022-03-31  James Squire One Fifty Lashes Pale Ale Bottles...  22.99   25300.0\n",
       "15  2022-03-31           Kaiju Krush Tropical Pale Ale Cans 375mL  24.99   25000.0\n",
       "16  2022-03-31                          Kosciuszko Pale Ale 330mL  23.99   25000.0\n",
       "17  2022-03-31            Little Creatures Pale Ale Bottles 330mL  21.95   25100.0\n",
       "18  2022-03-31     Mountain Goat Fancy Pants Amber Ale Cans 375mL  23.39   25000.0\n",
       "19  2022-03-31                Mountain Goat Summer Ale Cans 375mL  19.99   25000.0\n",
       "20  2022-03-31       Mountain Goat Very Enjoyable Beer Cans 375mL  18.99   25000.0\n",
       "21  2022-03-31  Pirate Life Brewing South Coast Pale Ale Cans ...  18.99   25000.0\n",
       "22  2022-03-31             Stone & Wood Pacific Ale Bottles 330mL  24.49   25200.0\n",
       "23  2022-03-31                Stone & Wood Pacific Ale Cans 375mL  18.99   25000.0\n",
       "24  2022-03-31                        White Rabbit Dark Ale 330mL  26.49   25000.0\n",
       "25  2022-03-31  Yak Brewing Fat Yak Original Pale Ale Bottle 3...  18.99   25000.0\n",
       "26  2022-03-31  Yak Brewing Wild Yak Pacific Ale Bottle 6 x 345mL  18.99   25000.0\n",
       "27  2022-03-31               Young Henrys Natural Lager Can 375mL  21.49   25000.0\n",
       "28  2022-03-31         Young Henrys Newtowner Pale Ale Cans 375mL  21.45   25000.0\n",
       "29  2022-06-31                  4 Pines Pacific Ale Bottles 330mL  18.99   25000.0"
      ]
     },
     "execution_count": 158,
     "metadata": {},
     "output_type": "execute_result"
    }
   ],
   "source": [
    "df['ProductID'] = df['Brand'] + ' ' +  df['Product']\n",
    "\n",
    "#Select Cereals\n",
    "df_feature = df[df['Product_type']=='Beer']\n",
    "\n",
    "\n",
    "#Make sure to not have any duplicates in the data\n",
    "df_feature = df_feature.groupby(['Date','ProductID']).agg({'Price':'mean','Quantity': 'mean' }).reset_index()\n",
    "\n",
    "#laptop data used for price elasticities\n",
    "df_feature.head(30)"
   ]
  },
  {
   "cell_type": "code",
   "execution_count": 167,
   "metadata": {},
   "outputs": [
    {
     "data": {
      "text/plain": [
       "(116, 4)"
      ]
     },
     "execution_count": 167,
     "metadata": {},
     "output_type": "execute_result"
    }
   ],
   "source": [
    "df_feature.shape"
   ]
  },
  {
   "cell_type": "markdown",
   "metadata": {
    "id": "Xoc1ZfoDnkkz"
   },
   "source": [
    "# Data Modelling"
   ]
  },
  {
   "cell_type": "code",
   "execution_count": 159,
   "metadata": {
    "colab": {
     "base_uri": "https://localhost:8080/"
    },
    "id": "ra00aZkhikVu",
    "outputId": "3f9d3a70-8391-40a5-ba22-39ad75ab1435"
   },
   "outputs": [
    {
     "name": "stdout",
     "output_type": "stream",
     "text": [
      "         Date  4 Pines Pacific Ale Bottles 330mL  4 Pines Pale Ale Bottles 330mL  Balter Captain Sensible Cans 375mL  Balter Eazy Hazy Can 375mL  Balter Hazy IPA Cans 375mL  Balter XPA Cans 375mL  BentSpoke Brewing Co. Crankshaft IPA Cans 375mL  Better Beer Zero Carb Lager Bottle 330ml  Burleigh Big Head No Carb Beer 330mL  ...  Mountain Goat Summer Ale Cans 375mL  Mountain Goat Very Enjoyable Beer Cans 375mL  Pirate Life Brewing South Coast Pale Ale Cans 355mL  Stone & Wood Pacific Ale Bottles 330mL  Stone & Wood Pacific Ale Cans 375mL  White Rabbit Dark Ale 330mL  Yak Brewing Fat Yak Original Pale Ale Bottle 345mL  Yak Brewing Wild Yak Pacific Ale Bottle 6 x 345mL  Young Henrys Natural Lager Can 375mL  Young Henrys Newtowner Pale Ale Cans 375mL\n",
      "0  2022-03-31                              18.99                           19.95                               14.95                       15.99                       21.49                  18.99                                            20.99                                     19.99                                 21.95  ...                                19.99                                         18.99                                              18.99                                     24.49                                18.99                        26.49                                              18.99                                               18.99                                 21.49                                       21.45\n",
      "1  2022-06-31                              18.99                           19.95                               14.95                       15.99                       21.49                  18.99                                            20.99                                     19.99                                 21.95  ...                                19.99                                         18.99                                              18.99                                     24.49                                18.99                        26.49                                              18.99                                               18.99                                 21.49                                       21.45\n",
      "2  2022-09-31                              18.99                           19.95                               14.95                       15.99                       21.49                  18.99                                            20.99                                     19.99                                 21.95  ...                                19.99                                         18.99                                              18.99                                     24.49                                18.99                        26.49                                              18.99                                               18.99                                 21.49                                       21.45\n",
      "3  2022-12-31                              18.99                           19.95                               14.95                       15.99                       21.49                  18.99                                            20.99                                     19.99                                 21.95  ...                                19.99                                         18.99                                              18.99                                     24.49                                18.99                        26.49                                              18.99                                               18.99                                 21.49                                       21.45\n",
      "\n",
      "[4 rows x 30 columns]\n"
     ]
    }
   ],
   "source": [
    "#Format and build a dataframe with x_values for each product within the category\n",
    "x_pivot = df_feature.pivot( index='Date', columns='ProductID' ,values='Price' )\n",
    "x_values = pd.DataFrame(x_pivot.to_records())\n",
    "x_values.dropna()\n",
    "print(x_values)"
   ]
  },
  {
   "cell_type": "code",
   "execution_count": 160,
   "metadata": {
    "colab": {
     "base_uri": "https://localhost:8080/"
    },
    "id": "hyuJP2wdizCM",
    "outputId": "b2658e58-95c3-4ab4-8044-749a49e54b8c"
   },
   "outputs": [
    {
     "name": "stdout",
     "output_type": "stream",
     "text": [
      "         Date  4 Pines Pacific Ale Bottles 330mL  4 Pines Pale Ale Bottles 330mL  Balter Captain Sensible Cans 375mL  Balter Eazy Hazy Can 375mL  Balter Hazy IPA Cans 375mL  Balter XPA Cans 375mL  BentSpoke Brewing Co. Crankshaft IPA Cans 375mL  Better Beer Zero Carb Lager Bottle 330ml  Burleigh Big Head No Carb Beer 330mL  ...  Mountain Goat Summer Ale Cans 375mL  Mountain Goat Very Enjoyable Beer Cans 375mL  Pirate Life Brewing South Coast Pale Ale Cans 355mL  Stone & Wood Pacific Ale Bottles 330mL  Stone & Wood Pacific Ale Cans 375mL  White Rabbit Dark Ale 330mL  Yak Brewing Fat Yak Original Pale Ale Bottle 345mL  Yak Brewing Wild Yak Pacific Ale Bottle 6 x 345mL  Young Henrys Natural Lager Can 375mL  Young Henrys Newtowner Pale Ale Cans 375mL\n",
      "0  2022-03-31                            25000.0                         25000.0                             25000.0                     25000.0                     25000.0                25000.0                                          25000.0                                   25000.0                               25000.0  ...                              25000.0                                       25000.0                                            25000.0                                   25200.0                              25000.0                      25000.0                                            25000.0                                             25000.0                               25000.0                                     25000.0\n",
      "1  2022-06-31                            25000.0                         25000.0                             25000.0                     25000.0                     25000.0                25000.0                                          25000.0                                   25000.0                               25000.0  ...                              25000.0                                       25000.0                                            25000.0                                   25000.0                              25000.0                      25000.0                                            25000.0                                             25000.0                               25000.0                                     25000.0\n",
      "2  2022-09-31                            25000.0                         25000.0                             25000.0                     25000.0                     25000.0                25000.0                                          25000.0                                   25000.0                               25000.0  ...                              25000.0                                       25000.0                                            25000.0                                   25000.0                              25000.0                      25000.0                                            25000.0                                             25000.0                               25000.0                                     25000.0\n",
      "3  2022-12-31                            25000.0                         25000.0                             25000.0                     25000.0                     25000.0                25000.0                                          25000.0                                   25000.0                               25000.0  ...                              25000.0                                       25000.0                                            25000.0                                   25000.0                              25000.0                      25000.0                                            25000.0                                             25000.0                               25000.0                                     25000.0\n",
      "\n",
      "[4 rows x 30 columns]\n"
     ]
    }
   ],
   "source": [
    "#Format and build a dataframe with y_values for each product within the category\n",
    "y_pivot = df_feature.pivot( index='Date', columns='ProductID' ,values='Quantity' )\n",
    "y_values = pd.DataFrame(y_pivot.to_records())\n",
    "y_values.dropna()\n",
    "print(y_values)"
   ]
  },
  {
   "cell_type": "code",
   "execution_count": null,
   "metadata": {},
   "outputs": [],
   "source": []
  },
  {
   "cell_type": "code",
   "execution_count": null,
   "metadata": {},
   "outputs": [],
   "source": []
  },
  {
   "cell_type": "code",
   "execution_count": 161,
   "metadata": {
    "colab": {
     "base_uri": "https://localhost:8080/",
     "height": 478
    },
    "id": "dm7G3_KxjB8S",
    "outputId": "f66d3328-4d74-4531-ae28-f934d4e4c483"
   },
   "outputs": [
    {
     "name": "stdout",
     "output_type": "stream",
     "text": [
      "nan\n",
      "Empty DataFrame\n",
      "Columns: [ProductID, price_elasticity, price_mean, quantity_mean, intercept, t_score, slope, coefficient_pvalue]\n",
      "Index: []\n"
     ]
    }
   ],
   "source": [
    "points = []\n",
    "results_values = {\n",
    "    \"ProductID\": [],\n",
    "    \"price_elasticity\": [],\n",
    "    \"price_mean\": [],\n",
    "    \"quantity_mean\": [],\n",
    "    \"intercept\": [],\n",
    "    \"t_score\":[],\n",
    "    \"slope\": [],\n",
    "    \"coefficient_pvalue\" : [],\n",
    "}\n",
    "#Append x_values with y_values per same product name\n",
    "for column in x_values.columns[1:]:\n",
    "    column_points = []\n",
    "    for i in range(len(x_values[column])):\n",
    "        if not np.isnan(x_values[column][i]) and not np.isnan(y_values[column][i]):\n",
    "            column_points.append((x_values[column][i], y_values[column][i]))\n",
    "    df = pd.DataFrame(list(column_points), columns= ['x_value', 'y_value'])\n",
    "    \n",
    "\n",
    "    #Linear Regression Model\n",
    "    import statsmodels.api as sm\n",
    "    x_value = df['x_value']\n",
    "    y_value = df['y_value']\n",
    "    X = sm.add_constant(x_value)\n",
    "    model = sm.OLS(y_value, X)\n",
    "    result = model.fit()\n",
    "    \n",
    "\n",
    "    #(Null Hypothesis test) Coefficient with a p value less than 0.05\n",
    "    if result.f_pvalue < 0.50:\n",
    "        \n",
    "        rsquared = result.rsquared\n",
    "        coefficient_pvalue = result.f_pvalue\n",
    "        intercept, slope = result.params\n",
    "        mean_price = np.mean(x_value)\n",
    "        mean_quantity = np.mean(y_value)\n",
    "        tintercept, t_score = result.tvalues\n",
    "     \n",
    "        #Price elasticity Formula\n",
    "        price_elasticity = (slope)*(mean_price/mean_quantity)    \n",
    "            \n",
    "        #Append results into dictionary for dataframe\n",
    "        results_values[\"ProductID\"].append(column)\n",
    "        results_values[\"price_elasticity\"].append(price_elasticity)\n",
    "        results_values[\"price_mean\"].append(mean_price)\n",
    "        results_values[\"quantity_mean\"].append(mean_quantity)\n",
    "        results_values[\"intercept\"].append(intercept)\n",
    "        results_values['t_score'].append(t_score)\n",
    "        results_values[\"slope\"].append(slope)\n",
    "        results_values[\"coefficient_pvalue\"].append(coefficient_pvalue)\n",
    "        \n",
    "final_df = pd.DataFrame.from_dict(results_values)\n",
    "\n",
    "print(result.f_pvalue)\n",
    "print(final_df)\n"
   ]
  },
  {
   "cell_type": "code",
   "execution_count": 162,
   "metadata": {},
   "outputs": [
    {
     "data": {
      "text/html": [
       "<div>\n",
       "<style scoped>\n",
       "    .dataframe tbody tr th:only-of-type {\n",
       "        vertical-align: middle;\n",
       "    }\n",
       "\n",
       "    .dataframe tbody tr th {\n",
       "        vertical-align: top;\n",
       "    }\n",
       "\n",
       "    .dataframe thead th {\n",
       "        text-align: right;\n",
       "    }\n",
       "</style>\n",
       "<table border=\"1\" class=\"dataframe\">\n",
       "  <thead>\n",
       "    <tr style=\"text-align: right;\">\n",
       "      <th></th>\n",
       "      <th>ProductID</th>\n",
       "      <th>price_elasticity</th>\n",
       "      <th>t_score</th>\n",
       "      <th>coefficient_pvalue</th>\n",
       "      <th>slope</th>\n",
       "      <th>price_mean</th>\n",
       "      <th>quantity_mean</th>\n",
       "      <th>intercept</th>\n",
       "    </tr>\n",
       "  </thead>\n",
       "  <tbody>\n",
       "  </tbody>\n",
       "</table>\n",
       "</div>"
      ],
      "text/plain": [
       "Empty DataFrame\n",
       "Columns: [ProductID, price_elasticity, t_score, coefficient_pvalue, slope, price_mean, quantity_mean, intercept]\n",
       "Index: []"
      ]
     },
     "execution_count": 162,
     "metadata": {},
     "output_type": "execute_result"
    }
   ],
   "source": [
    "df_elasticity = final_df[['ProductID','price_elasticity','t_score','coefficient_pvalue','slope','price_mean','quantity_mean','intercept']]\n",
    "df_elasticity"
   ]
  },
  {
   "cell_type": "code",
   "execution_count": 163,
   "metadata": {},
   "outputs": [],
   "source": [
    "def divergent_plot(df, values_column, ylabel, xlabel):\n",
    "\n",
    "    #Divergent plot\n",
    "    df['ranking'] = df[values_column].rank( ascending = True).astype(int)\n",
    "    df.sort_values(values_column, ascending =False, inplace = True)\n",
    "    plt.figure(figsize = (12,5), dpi = 80)\n",
    "    plt.hlines(y = df['ranking'] , xmin = 0, xmax = df[values_column], alpha = 0.5, linewidth = 3)\n",
    "    \n",
    "    #Add elasticity labels\n",
    "    for x, y, tex in zip(df[values_column], df['ranking'] , df[values_column]):\n",
    "        plt.text(x, y, round(tex, 2), horizontalalignment='right' if x < 0 else 'left', \n",
    "                 verticalalignment='center', fontdict={'color':'red' if x < 0 else 'green', 'size':10})\n",
    "        \n",
    "    \n",
    "    # Axis and title\n",
    "    plt.gca().set(ylabel= ylabel, xlabel= xlabel)\n",
    "    plt.yticks(df['ranking'])\n",
    "    plt.title(values_column , fontdict={'size':13})\n",
    "    plt.grid(linestyle='--', alpha=0.5)\n",
    "    plt.show()\n",
    "            \n",
    "    \n",
    "    #Adjust Ranking column and print dataframe\n",
    "    pd.set_option('display.width', 4000)\n",
    "    cols = list(df.columns)\n",
    "    cols = [cols[-1]] + cols[:-1]\n",
    "    df = df[cols]\n",
    "    \n",
    "    df = df.iloc[:,:3]\n",
    "    df.set_index('ranking', inplace=True)\n",
    "    display(df)"
   ]
  },
  {
   "cell_type": "code",
   "execution_count": null,
   "metadata": {
    "id": "X6icylKKkBGd"
   },
   "outputs": [],
   "source": []
  },
  {
   "cell_type": "code",
   "execution_count": null,
   "metadata": {},
   "outputs": [],
   "source": []
  },
  {
   "cell_type": "markdown",
   "metadata": {
    "id": "PTl429Wxnpyc"
   },
   "source": [
    "# Result"
   ]
  },
  {
   "cell_type": "code",
   "execution_count": 164,
   "metadata": {
    "colab": {
     "base_uri": "https://localhost:8080/",
     "height": 424
    },
    "id": "nUislE3qkOJg",
    "outputId": "7aa3c881-9841-49b2-ff7e-d32f246e8da1"
   },
   "outputs": [
    {
     "data": {
      "text/html": [
       "<div>\n",
       "<style scoped>\n",
       "    .dataframe tbody tr th:only-of-type {\n",
       "        vertical-align: middle;\n",
       "    }\n",
       "\n",
       "    .dataframe tbody tr th {\n",
       "        vertical-align: top;\n",
       "    }\n",
       "\n",
       "    .dataframe thead th {\n",
       "        text-align: right;\n",
       "    }\n",
       "</style>\n",
       "<table border=\"1\" class=\"dataframe\">\n",
       "  <thead>\n",
       "    <tr style=\"text-align: right;\">\n",
       "      <th></th>\n",
       "      <th>ProductID</th>\n",
       "      <th>price_elasticity</th>\n",
       "      <th>t_score</th>\n",
       "      <th>coefficient_pvalue</th>\n",
       "      <th>slope</th>\n",
       "      <th>price_mean</th>\n",
       "      <th>quantity_mean</th>\n",
       "      <th>intercept</th>\n",
       "    </tr>\n",
       "  </thead>\n",
       "  <tbody>\n",
       "  </tbody>\n",
       "</table>\n",
       "</div>"
      ],
      "text/plain": [
       "Empty DataFrame\n",
       "Columns: [ProductID, price_elasticity, t_score, coefficient_pvalue, slope, price_mean, quantity_mean, intercept]\n",
       "Index: []"
      ]
     },
     "execution_count": 164,
     "metadata": {},
     "output_type": "execute_result"
    }
   ],
   "source": [
    "df_elasticity"
   ]
  },
  {
   "cell_type": "code",
   "execution_count": 165,
   "metadata": {
    "colab": {
     "base_uri": "https://localhost:8080/",
     "height": 677
    },
    "id": "liW84GKkmVOB",
    "outputId": "39a9374e-b069-4330-f5c1-b7fa14d767a4"
   },
   "outputs": [
    {
     "data": {
      "text/html": [
       "<div>\n",
       "<style scoped>\n",
       "    .dataframe tbody tr th:only-of-type {\n",
       "        vertical-align: middle;\n",
       "    }\n",
       "\n",
       "    .dataframe tbody tr th {\n",
       "        vertical-align: top;\n",
       "    }\n",
       "\n",
       "    .dataframe thead th {\n",
       "        text-align: right;\n",
       "    }\n",
       "</style>\n",
       "<table border=\"1\" class=\"dataframe\">\n",
       "  <thead>\n",
       "    <tr style=\"text-align: right;\">\n",
       "      <th></th>\n",
       "      <th>ProductID</th>\n",
       "      <th>price_elasticity</th>\n",
       "      <th>t_score</th>\n",
       "      <th>coefficient_pvalue</th>\n",
       "      <th>slope</th>\n",
       "      <th>price_mean</th>\n",
       "      <th>quantity_mean</th>\n",
       "      <th>intercept</th>\n",
       "    </tr>\n",
       "  </thead>\n",
       "  <tbody>\n",
       "  </tbody>\n",
       "</table>\n",
       "</div>"
      ],
      "text/plain": [
       "Empty DataFrame\n",
       "Columns: [ProductID, price_elasticity, t_score, coefficient_pvalue, slope, price_mean, quantity_mean, intercept]\n",
       "Index: []"
      ]
     },
     "execution_count": 165,
     "metadata": {},
     "output_type": "execute_result"
    }
   ],
   "source": [
    "df_sample = df_elasticity.head(10).append(df_elasticity.tail(10))\n",
    "df_sample"
   ]
  },
  {
   "cell_type": "code",
   "execution_count": 166,
   "metadata": {
    "colab": {
     "base_uri": "https://localhost:8080/",
     "height": 1000
    },
    "id": "dFEywrAzmNvY",
    "outputId": "f6640a24-fd8f-478d-d1e3-ba4a802cfd20",
    "scrolled": true
   },
   "outputs": [
    {
     "data": {
      "image/png": "[encoded data removed]",
      "text/plain": [
       "<Figure size 960x400 with 1 Axes>"
      ]
     },
     "metadata": {
      "needs_background": "light"
     },
     "output_type": "display_data"
    },
    {
     "data": {
      "text/html": [
       "<div>\n",
       "<style scoped>\n",
       "    .dataframe tbody tr th:only-of-type {\n",
       "        vertical-align: middle;\n",
       "    }\n",
       "\n",
       "    .dataframe tbody tr th {\n",
       "        vertical-align: top;\n",
       "    }\n",
       "\n",
       "    .dataframe thead th {\n",
       "        text-align: right;\n",
       "    }\n",
       "</style>\n",
       "<table border=\"1\" class=\"dataframe\">\n",
       "  <thead>\n",
       "    <tr style=\"text-align: right;\">\n",
       "      <th></th>\n",
       "      <th>ProductID</th>\n",
       "      <th>price_elasticity</th>\n",
       "    </tr>\n",
       "    <tr>\n",
       "      <th>ranking</th>\n",
       "      <th></th>\n",
       "      <th></th>\n",
       "    </tr>\n",
       "  </thead>\n",
       "  <tbody>\n",
       "  </tbody>\n",
       "</table>\n",
       "</div>"
      ],
      "text/plain": [
       "Empty DataFrame\n",
       "Columns: [ProductID, price_elasticity]\n",
       "Index: []"
      ]
     },
     "metadata": {},
     "output_type": "display_data"
    }
   ],
   "source": [
    "pe_plot = divergent_plot(df_sample, 'price_elasticity', 'Ranking Number', 'Price Elasticity')"
   ]
  },
  {
   "cell_type": "markdown",
   "metadata": {
    "id": "NUJp-2Hlu_FK"
   },
   "source": [
    "* Elasticities between 0- 1 are considered inelastic, as a result the products from rank 1 to 20 are elastic.\n",
    "* Negative Price Elasticities are located from rank 1 to 20 and this would tell us the likelihood of when price decreases how likely sales demand would increase or vice versa.\n",
    "* For instance, let’s analyze C1021 located in rank 11 with a negative price elasticity of -1.867437 ; a 10% price decrease in C1021, it increases sales demand by 18.67% or a 10% price increase in C1021, it decreases sales demand by 18.67%"
   ]
  },
  {
   "cell_type": "markdown",
   "metadata": {},
   "source": []
  },
  {
   "cell_type": "code",
   "execution_count": null,
   "metadata": {},
   "outputs": [],
   "source": []
  },
  {
   "cell_type": "code",
   "execution_count": null,
   "metadata": {},
   "outputs": [],
   "source": []
  }
 ],
 "metadata": {
  "colab": {
   "collapsed_sections": [
    "YkPyPM2LgYdB",
    "nZKf7fkWgfCo",
    "Xoc1ZfoDnkkz",
    "PTl429Wxnpyc"
   ],
   "name": "price_elasticity_linreg.ipynb",
   "provenance": []
  },
  "kernelspec": {
   "display_name": "Python 3 (ipykernel)",
   "language": "python",
   "name": "python3"
  },
  "language_info": {
   "codemirror_mode": {
    "name": "ipython",
    "version": 3
   },
   "file_extension": ".py",
   "mimetype": "text/x-python",
   "name": "python",
   "nbconvert_exporter": "python",
   "pygments_lexer": "ipython3",
   "version": "3.8.12"
  }
 },
 "nbformat": 4,
 "nbformat_minor": 4
}

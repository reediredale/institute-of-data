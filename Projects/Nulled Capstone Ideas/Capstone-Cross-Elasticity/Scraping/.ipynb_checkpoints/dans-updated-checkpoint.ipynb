{
 "cells": [
  {
   "cell_type": "code",
   "execution_count": 11,
   "id": "d6040be1-f5b6-47fe-884f-d210bcb59f1b",
   "metadata": {},
   "outputs": [],
   "source": [
    "import requests\n",
    "from bs4 import BeautifulSoup\n",
    "from requests_html import HTMLSession\n",
    "import pandas as pd\n",
    "import regex as re\n",
    "\n",
    "\n",
    "HTMLFileToBeOpened = open(\"product-list-craft-beer.html\", \"r\")\n",
    "contents = HTMLFileToBeOpened.read()\n",
    "beautifulSoupText = BeautifulSoup(contents, 'lxml')\n",
    "# print(beautifulSoupText.body.prettify())\n"
   ]
  },
  {
   "cell_type": "code",
   "execution_count": 44,
   "id": "6319f330-498a-40bb-a48d-30d118e60e22",
   "metadata": {},
   "outputs": [],
   "source": [
    "# HTML Code\n",
    "\n",
    "HTMLFileToBeOpened = open(\"product-list-craft-beer.html\", \"r\")\n",
    "contents = HTMLFileToBeOpened.read()\n",
    "html_content = contents\n",
    " \n",
    "# Parse the html content\n",
    "soup = BeautifulSoup(html_content, \"lxml\")\n",
    "# print(beautifulSoupText.body.prettify())"
   ]
  },
  {
   "cell_type": "code",
   "execution_count": 47,
   "id": "3c589773-2088-44df-9ec6-9e90251b562f",
   "metadata": {},
   "outputs": [
    {
     "data": {
      "text/plain": [
       "<bound method Tag.get_text of <h2 class=\"mobile-app-event ng-tns-c50-44 not-offers ng-star-inserted\"><a class=\"ng-tns-c50-44\" href=\"/product/DM_363586/stone-wood-pacific-ale-bottles-330ml\" title=\"Stone &amp; Wood Pacific Ale Bottles 330mL\"><span>Stone &amp;\n",
       "                                        Wood</span><span class=\"subtitle overflow\" style=\"-webkit-box-orient: vertical;\">Pacific Ale Bottles 330mL</span></a></h2>>"
      ]
     },
     "execution_count": 47,
     "metadata": {},
     "output_type": "execute_result"
    }
   ],
   "source": [
    "header = soup.find('h2')\n",
    "header.text\n"
   ]
  },
  {
   "cell_type": "code",
   "execution_count": 36,
   "id": "ab4b9b7a-0fa6-4ec3-9881-cfb56e8e9519",
   "metadata": {},
   "outputs": [
    {
     "ename": "AttributeError",
     "evalue": "'NoneType' object has no attribute 'text'",
     "output_type": "error",
     "traceback": [
      "\u001b[0;31m---------------------------------------------------------------------------\u001b[0m",
      "\u001b[0;31mAttributeError\u001b[0m                            Traceback (most recent call last)",
      "\u001b[0;32m<ipython-input-36-cfd8f9fbefb8>\u001b[0m in \u001b[0;36m<module>\u001b[0;34m\u001b[0m\n\u001b[1;32m     10\u001b[0m     \u001b[0mbrands\u001b[0m\u001b[0;34m.\u001b[0m\u001b[0mappend\u001b[0m\u001b[0;34m(\u001b[0m\u001b[0mname\u001b[0m\u001b[0;34m.\u001b[0m\u001b[0mtext\u001b[0m\u001b[0;34m)\u001b[0m\u001b[0;34m\u001b[0m\u001b[0;34m\u001b[0m\u001b[0m\n\u001b[1;32m     11\u001b[0m     \u001b[0mproducts\u001b[0m\u001b[0;34m.\u001b[0m\u001b[0mappend\u001b[0m\u001b[0;34m(\u001b[0m\u001b[0mproduct\u001b[0m\u001b[0;34m.\u001b[0m\u001b[0mtext\u001b[0m\u001b[0;34m)\u001b[0m\u001b[0;34m\u001b[0m\u001b[0;34m\u001b[0m\u001b[0m\n\u001b[0;32m---> 12\u001b[0;31m     \u001b[0mprices\u001b[0m\u001b[0;34m.\u001b[0m\u001b[0mappend\u001b[0m\u001b[0;34m(\u001b[0m\u001b[0mprice\u001b[0m\u001b[0;34m.\u001b[0m\u001b[0mtext\u001b[0m\u001b[0;34m)\u001b[0m\u001b[0;34m\u001b[0m\u001b[0;34m\u001b[0m\u001b[0m\n\u001b[0m\u001b[1;32m     13\u001b[0m \u001b[0;34m\u001b[0m\u001b[0m\n\u001b[1;32m     14\u001b[0m \u001b[0mdf\u001b[0m \u001b[0;34m=\u001b[0m \u001b[0mpd\u001b[0m\u001b[0;34m.\u001b[0m\u001b[0mDataFrame\u001b[0m\u001b[0;34m(\u001b[0m\u001b[0;34m{\u001b[0m\u001b[0;34m'Product Name'\u001b[0m\u001b[0;34m:\u001b[0m\u001b[0mproducts\u001b[0m\u001b[0;34m,\u001b[0m\u001b[0;34m'Brands'\u001b[0m\u001b[0;34m:\u001b[0m\u001b[0mbrands\u001b[0m\u001b[0;34m,\u001b[0m\u001b[0;34m'Prices'\u001b[0m\u001b[0;34m:\u001b[0m\u001b[0mprices\u001b[0m\u001b[0;34m}\u001b[0m\u001b[0;34m)\u001b[0m\u001b[0;34m\u001b[0m\u001b[0;34m\u001b[0m\u001b[0m\n",
      "\u001b[0;31mAttributeError\u001b[0m: 'NoneType' object has no attribute 'text'"
     ]
    }
   ],
   "source": [
    "products=[] #List to store name of the product\n",
    "prices=[] #List to store price of the product\n",
    "brands=[] #List to store brand of the product\n",
    "\n",
    "for a in beautifulSoupText.findAll(attrs={'class':'product'}):\n",
    "    \n",
    "    product=a.find('span', attrs={'class':'subtitle'})\n",
    "    \n",
    "    name=a.find('h2')\n",
    "    \n",
    "    price=a.find('div', attrs={'class':'price-container'})\n",
    "\n",
    "    #append code to cell\n",
    "    brands.append(name.text)   \n",
    "    products.append(product.text)\n",
    "    prices.append(price.text)\n",
    "    \n",
    "df = pd.DataFrame({'Product Name':products,'Brands':brands,'Prices':prices})\n",
    "df.to_csv('products.csv', index=False, encoding='utf-8')"
   ]
  },
  {
   "cell_type": "code",
   "execution_count": null,
   "id": "abcb1de1-148b-4e0b-a93d-0a7d650ff13b",
   "metadata": {},
   "outputs": [],
   "source": []
  },
  {
   "cell_type": "code",
   "execution_count": null,
   "id": "14a81048-05b9-4d20-8c15-9dd91106c4aa",
   "metadata": {},
   "outputs": [],
   "source": []
  },
  {
   "cell_type": "code",
   "execution_count": null,
   "id": "dcd46534-00bb-4678-8745-429fe3646e3e",
   "metadata": {},
   "outputs": [],
   "source": []
  },
  {
   "cell_type": "code",
   "execution_count": 23,
   "id": "9a61a877-4ac5-4e6f-b8b2-f2b74d949ce7",
   "metadata": {},
   "outputs": [],
   "source": [
    "# for i in soup.select(\"h2\"):\n",
    "#     print(i.text)"
   ]
  },
  {
   "cell_type": "code",
   "execution_count": 54,
   "id": "261bf721-5c92-4d32-8e73-efd63cf0a151",
   "metadata": {},
   "outputs": [],
   "source": [
    "# for i in soup.select(\".subtitle\"):\n",
    "#     print(i.text)"
   ]
  },
  {
   "cell_type": "code",
   "execution_count": 24,
   "id": "324c77d0-ab17-4d33-9d63-af25aabbce89",
   "metadata": {},
   "outputs": [],
   "source": [
    "# for i in soup.select(\".price-container\"):\n",
    "#     print(i.text)"
   ]
  },
  {
   "cell_type": "code",
   "execution_count": null,
   "id": "91af10c2-92da-4e5c-b963-15c45d74af08",
   "metadata": {},
   "outputs": [],
   "source": [
    "\n",
    "    "
   ]
  },
  {
   "cell_type": "code",
   "execution_count": null,
   "id": "10cc2e9e-bdd6-4797-9193-1bbf941258c0",
   "metadata": {},
   "outputs": [],
   "source": []
  }
 ],
 "metadata": {
  "kernelspec": {
   "display_name": "Python 3",
   "language": "python",
   "name": "python3"
  },
  "language_info": {
   "codemirror_mode": {
    "name": "ipython",
    "version": 3
   },
   "file_extension": ".py",
   "mimetype": "text/x-python",
   "name": "python",
   "nbconvert_exporter": "python",
   "pygments_lexer": "ipython3",
   "version": "3.8.8"
  }
 },
 "nbformat": 4,
 "nbformat_minor": 5
}

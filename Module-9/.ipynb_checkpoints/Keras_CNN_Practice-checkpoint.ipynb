{
 "cells": [
  {
   "cell_type": "code",
   "execution_count": 1,
   "id": "d71f4c57-05c5-4827-9d76-816874097ed8",
   "metadata": {},
   "outputs": [],
   "source": [
    "from keras.datasets import fashion_mnist"
   ]
  },
  {
   "cell_type": "code",
   "execution_count": 2,
   "id": "044d3afd-b78d-44b7-ac09-e18a85f7d3f8",
   "metadata": {},
   "outputs": [
    {
     "name": "stdout",
     "output_type": "stream",
     "text": [
      "Downloading data from https://storage.googleapis.com/tensorflow/tf-keras-datasets/train-labels-idx1-ubyte.gz\n",
      "32768/29515 [=================================] - 0s 1us/step\n",
      "Downloading data from https://storage.googleapis.com/tensorflow/tf-keras-datasets/train-images-idx3-ubyte.gz\n",
      "26427392/26421880 [==============================] - 4s 0us/step\n",
      "Downloading data from https://storage.googleapis.com/tensorflow/tf-keras-datasets/t10k-labels-idx1-ubyte.gz\n",
      "8192/5148 [===============================================] - 0s 0s/step\n",
      "Downloading data from https://storage.googleapis.com/tensorflow/tf-keras-datasets/t10k-images-idx3-ubyte.gz\n",
      "4423680/4422102 [==============================] - 1s 0us/step\n"
     ]
    }
   ],
   "source": [
    "(train_X,train_Y),(test_X,test_Y) = fashion_mnist.load_data()"
   ]
  },
  {
   "cell_type": "code",
   "execution_count": 4,
   "id": "83c3fd93-34c3-4d88-ae06-7b8d71caf5ba",
   "metadata": {},
   "outputs": [
    {
     "name": "stdout",
     "output_type": "stream",
     "text": [
      "Traning data shape (60000, 28, 28) (60000,)\n",
      "Traning data shape (10000, 28, 28) (10000,)\n"
     ]
    }
   ],
   "source": [
    "import numpy as np\n",
    "from keras.utils import to_categorical\n",
    "import matplotlib.pyplot as plt\n",
    "%matplotlib inline\n",
    "print('Traning data shape',train_X.shape,train_Y.shape)\n",
    "print('Traning data shape',test_X.shape,test_Y.shape)"
   ]
  },
  {
   "cell_type": "code",
   "execution_count": 7,
   "id": "4d57d7f7-4dca-4607-9a5d-a3cb1d975fcd",
   "metadata": {},
   "outputs": [
    {
     "name": "stdout",
     "output_type": "stream",
     "text": [
      "Total number of outputs :  10\n",
      "Output classes :  [0 1 2 3 4 5 6 7 8 9]\n"
     ]
    }
   ],
   "source": [
    "# Find the unique numbers from the train labels\n",
    "classes = np.unique(train_Y)\n",
    "nClasses = len(classes)\n",
    "print('Total number of outputs : ', nClasses)\n",
    "print('Output classes : ', classes)"
   ]
  },
  {
   "cell_type": "code",
   "execution_count": 23,
   "id": "de24dea0-b01f-4b7e-8007-77ab48a8b7d4",
   "metadata": {},
   "outputs": [
    {
     "data": {
      "text/plain": [
       "Text(0.5, 1.0, 'Ground Truth : 9')"
      ]
     },
     "execution_count": 23,
     "metadata": {},
     "output_type": "execute_result"
    },
    {
     "data": {
      "image/png": "[encoded data removed]",
      "text/plain": [
       "<Figure size 360x360 with 2 Axes>"
      ]
     },
     "metadata": {
      "needs_background": "light"
     },
     "output_type": "display_data"
    }
   ],
   "source": [
    "plt.figure(figsize=[5,5])\n",
    "\n",
    "# Display the first image in training data\n",
    "plt.subplot(121)\n",
    "plt.imshow(train_X[0,:,:], cmap='gray')\n",
    "plt.title(\"Ground Truth : {}\".format(train_Y[0]))\n",
    "\n",
    "# Display the first image in testing data\n",
    "plt.subplot(122)\n",
    "plt.imshow(test_X[0,:,:], cmap='gray')\n",
    "plt.title(\"Ground Truth : {}\".format(test_Y[0]))"
   ]
  },
  {
   "cell_type": "code",
   "execution_count": 31,
   "id": "f829ac2f-b5c1-4f81-a2bc-e2c4e824636d",
   "metadata": {},
   "outputs": [
    {
     "data": {
      "text/plain": [
       "((60000, 28, 28, 1), (10000, 28, 28, 1))"
      ]
     },
     "execution_count": 31,
     "metadata": {},
     "output_type": "execute_result"
    }
   ],
   "source": [
    "train_X = train_X.reshape(-1,28,28,1)\n",
    "test_X = test_X.reshape(-1,28,28,1)\n",
    "train_X.shape,test_X.shape"
   ]
  },
  {
   "cell_type": "code",
   "execution_count": 33,
   "id": "081d4384-3d7b-49fc-8196-125312fe5d8f",
   "metadata": {},
   "outputs": [],
   "source": [
    "train_X=train_X.astype('float32')\n",
    "test_X=test_X.astype('float32')\n",
    "train_X = train_X/255\n",
    "test_X = test_X/255"
   ]
  },
  {
   "cell_type": "code",
   "execution_count": 39,
   "id": "3ea30a05-1e51-4624-a34b-8f330a020000",
   "metadata": {},
   "outputs": [
    {
     "name": "stdout",
     "output_type": "stream",
     "text": [
      "original label: 9\n",
      "After conversion to one-hot: [0. 0. 0. 0. 0. 0. 0. 0. 0. 1.]\n"
     ]
    }
   ],
   "source": [
    "# Change the labels from categorical to one-hot encoding\n",
    "train_Y_one_hot=to_categorical(train_Y)\n",
    "test_Y_one_hot=to_categorical(test_Y)\n",
    "\n",
    "#display the change for category label using one-hot encoding\n",
    "print('original label:',train_Y[0])\n",
    "print('After conversion to one-hot:',train_Y_one_hot[0])"
   ]
  },
  {
   "cell_type": "code",
   "execution_count": 41,
   "id": "5b525625-ad6c-43ad-93a9-d0cc101f6f50",
   "metadata": {},
   "outputs": [],
   "source": [
    "from sklearn.model_selection import train_test_split\n",
    "train_X,valid_X,train_label,valid_label = train_test_split(train_X, train_Y_one_hot, test_size=0.2, random_state=13)"
   ]
  },
  {
   "cell_type": "code",
   "execution_count": 42,
   "id": "0520effe-939d-47d2-ada1-270856b0eafa",
   "metadata": {},
   "outputs": [
    {
     "data": {
      "text/plain": [
       "((48000, 28, 28, 1), (12000, 28, 28, 1), (48000, 10), (12000, 10))"
      ]
     },
     "execution_count": 42,
     "metadata": {},
     "output_type": "execute_result"
    }
   ],
   "source": [
    "train_X.shape,valid_X.shape,train_label.shape,valid_label.shape"
   ]
  },
  {
   "cell_type": "code",
   "execution_count": 43,
   "id": "2948ff67-1f0c-41f2-bfa7-d6412bbeae4a",
   "metadata": {},
   "outputs": [],
   "source": [
    "import keras\n",
    "from keras.models import Sequential,Input,Model\n",
    "from keras.layers import Dense, Dropout, Flatten\n",
    "from keras.layers import Conv2D, MaxPooling2D\n",
    "from keras.layers.normalization import BatchNormalization\n",
    "from keras.layers.advanced_activations import LeakyReLU"
   ]
  },
  {
   "cell_type": "code",
   "execution_count": 44,
   "id": "2d5e3a7e-1a12-424a-8928-46c7cf6a3b18",
   "metadata": {},
   "outputs": [],
   "source": [
    "batch_size = 64\n",
    "epochs = 20\n",
    "num_classes = 10"
   ]
  },
  {
   "cell_type": "code",
   "execution_count": 56,
   "id": "d8529f62-3f7a-4811-adb7-2ed06e337437",
   "metadata": {},
   "outputs": [],
   "source": [
    "fashion_model = Sequential()\n",
    "fashion_model.add(Conv2D(32,kernel_size=(3,3), activation='linear', input_shape=(28,28,1),padding='same'))\n",
    "fashion_model.add(LeakyReLU(alpha=0.1))\n",
    "fashion_model.add(MaxPooling2D((2,2),padding='same'))\n",
    "fashion_model.add(Conv2D(64,kernel_size=(3,3),activation='linear',padding='same'))\n",
    "fashion_model.add(LeakyReLU(alpha=0.1))\n",
    "fashion_model.add(MaxPooling2D((2, 2),padding='same'))\n",
    "fashion_model.add(Conv2D(128,kernel_size=(3,3),activation='linear',padding='same'))\n",
    "fashion_model.add(LeakyReLU(alpha=0.1))\n",
    "fashion_model.add(MaxPooling2D((2, 2),padding='same'))\n",
    "fashion_model.add(Flatten())\n",
    "fashion_model.add(Dense(128,activation='linear'))\n",
    "fashion_model.add(LeakyReLU(alpha=0.1))\n",
    "fashion_model.add(Dense(num_classes,activation='softmax'))"
   ]
  },
  {
   "cell_type": "code",
   "execution_count": 57,
   "id": "85484bb1-2fa8-4860-a903-02da24571ff1",
   "metadata": {},
   "outputs": [],
   "source": [
    "fashion_model.compile(loss=keras.losses.categorical_crossentropy, optimizer=keras.optimizers.Adam(),metrics=['accuracy'])"
   ]
  },
  {
   "cell_type": "code",
   "execution_count": 58,
   "id": "2b63854c-d899-477a-8f5a-122b66808999",
   "metadata": {},
   "outputs": [
    {
     "name": "stdout",
     "output_type": "stream",
     "text": [
      "Model: \"sequential_6\"\n",
      "_________________________________________________________________\n",
      "Layer (type)                 Output Shape              Param #   \n",
      "=================================================================\n",
      "conv2d_10 (Conv2D)           (None, 28, 28, 32)        320       \n",
      "_________________________________________________________________\n",
      "leaky_re_lu_12 (LeakyReLU)   (None, 28, 28, 32)        0         \n",
      "_________________________________________________________________\n",
      "max_pooling2d_10 (MaxPooling (None, 14, 14, 32)        0         \n",
      "_________________________________________________________________\n",
      "conv2d_11 (Conv2D)           (None, 14, 14, 64)        18496     \n",
      "_________________________________________________________________\n",
      "leaky_re_lu_13 (LeakyReLU)   (None, 14, 14, 64)        0         \n",
      "_________________________________________________________________\n",
      "max_pooling2d_11 (MaxPooling (None, 7, 7, 64)          0         \n",
      "_________________________________________________________________\n",
      "conv2d_12 (Conv2D)           (None, 7, 7, 128)         73856     \n",
      "_________________________________________________________________\n",
      "leaky_re_lu_14 (LeakyReLU)   (None, 7, 7, 128)         0         \n",
      "_________________________________________________________________\n",
      "max_pooling2d_12 (MaxPooling (None, 4, 4, 128)         0         \n",
      "_________________________________________________________________\n",
      "flatten_1 (Flatten)          (None, 2048)              0         \n",
      "_________________________________________________________________\n",
      "dense_4 (Dense)              (None, 128)               262272    \n",
      "_________________________________________________________________\n",
      "leaky_re_lu_15 (LeakyReLU)   (None, 128)               0         \n",
      "_________________________________________________________________\n",
      "dense_5 (Dense)              (None, 10)                1290      \n",
      "=================================================================\n",
      "Total params: 356,234\n",
      "Trainable params: 356,234\n",
      "Non-trainable params: 0\n",
      "_________________________________________________________________\n"
     ]
    }
   ],
   "source": [
    "# display the model summary\n",
    "fashion_model.summary()"
   ]
  },
  {
   "cell_type": "code",
   "execution_count": 59,
   "id": "3d47fdd9-ed05-4d3d-8be2-5dd30ef9520c",
   "metadata": {},
   "outputs": [
    {
     "name": "stdout",
     "output_type": "stream",
     "text": [
      "Epoch 1/20\n",
      "750/750 [==============================] - 53s 70ms/step - loss: 0.4620 - accuracy: 0.8325 - val_loss: 0.3304 - val_accuracy: 0.8798\n",
      "Epoch 2/20\n",
      "750/750 [==============================] - 53s 71ms/step - loss: 0.2863 - accuracy: 0.8955 - val_loss: 0.2639 - val_accuracy: 0.9036\n",
      "Epoch 3/20\n",
      "750/750 [==============================] - 59s 79ms/step - loss: 0.2398 - accuracy: 0.9118 - val_loss: 0.2496 - val_accuracy: 0.9072\n",
      "Epoch 4/20\n",
      "750/750 [==============================] - 53s 71ms/step - loss: 0.2076 - accuracy: 0.9233 - val_loss: 0.2398 - val_accuracy: 0.9157\n",
      "Epoch 5/20\n",
      "750/750 [==============================] - 53s 70ms/step - loss: 0.1829 - accuracy: 0.9324 - val_loss: 0.2219 - val_accuracy: 0.9191\n",
      "Epoch 6/20\n",
      "750/750 [==============================] - 51s 67ms/step - loss: 0.1584 - accuracy: 0.9409 - val_loss: 0.2300 - val_accuracy: 0.9161\n",
      "Epoch 7/20\n",
      "750/750 [==============================] - 52s 69ms/step - loss: 0.1371 - accuracy: 0.9495 - val_loss: 0.2209 - val_accuracy: 0.9239\n",
      "Epoch 8/20\n",
      "750/750 [==============================] - 50s 67ms/step - loss: 0.1183 - accuracy: 0.9560 - val_loss: 0.2294 - val_accuracy: 0.9210\n",
      "Epoch 9/20\n",
      "750/750 [==============================] - 54s 72ms/step - loss: 0.0975 - accuracy: 0.9637 - val_loss: 0.2576 - val_accuracy: 0.9198\n",
      "Epoch 10/20\n",
      "750/750 [==============================] - 53s 71ms/step - loss: 0.0861 - accuracy: 0.9676 - val_loss: 0.2808 - val_accuracy: 0.9185\n",
      "Epoch 11/20\n",
      "750/750 [==============================] - 60s 80ms/step - loss: 0.0721 - accuracy: 0.9730 - val_loss: 0.2932 - val_accuracy: 0.9187\n",
      "Epoch 12/20\n",
      "750/750 [==============================] - 55s 74ms/step - loss: 0.0645 - accuracy: 0.9755 - val_loss: 0.3126 - val_accuracy: 0.9190\n",
      "Epoch 13/20\n",
      "750/750 [==============================] - 58s 77ms/step - loss: 0.0560 - accuracy: 0.9785 - val_loss: 0.3316 - val_accuracy: 0.9201\n",
      "Epoch 14/20\n",
      "750/750 [==============================] - 55s 73ms/step - loss: 0.0470 - accuracy: 0.9825 - val_loss: 0.3565 - val_accuracy: 0.9192\n",
      "Epoch 15/20\n",
      "750/750 [==============================] - 53s 70ms/step - loss: 0.0437 - accuracy: 0.9843 - val_loss: 0.3951 - val_accuracy: 0.9183\n",
      "Epoch 16/20\n",
      "750/750 [==============================] - 56s 74ms/step - loss: 0.0405 - accuracy: 0.9847 - val_loss: 0.3885 - val_accuracy: 0.9203\n",
      "Epoch 17/20\n",
      "750/750 [==============================] - 54s 72ms/step - loss: 0.0364 - accuracy: 0.9863 - val_loss: 0.3924 - val_accuracy: 0.9197\n",
      "Epoch 18/20\n",
      "750/750 [==============================] - 56s 74ms/step - loss: 0.0307 - accuracy: 0.9885 - val_loss: 0.4258 - val_accuracy: 0.9174\n",
      "Epoch 19/20\n",
      "750/750 [==============================] - 54s 72ms/step - loss: 0.0322 - accuracy: 0.9882 - val_loss: 0.4356 - val_accuracy: 0.9176\n",
      "Epoch 20/20\n",
      "750/750 [==============================] - 59s 79ms/step - loss: 0.0319 - accuracy: 0.9885 - val_loss: 0.4299 - val_accuracy: 0.9191\n"
     ]
    }
   ],
   "source": [
    "fashion_train = fashion_model.fit(train_X, train_label, batch_size=batch_size,epochs=epochs,verbose=1,validation_data=(valid_X, valid_label))"
   ]
  },
  {
   "cell_type": "code",
   "execution_count": 60,
   "id": "800addf6-023e-4b3f-b73d-26d8edbdf995",
   "metadata": {},
   "outputs": [
    {
     "name": "stdout",
     "output_type": "stream",
     "text": [
      "Test loss: 0.4482603073120117\n",
      "Test accuracy: 0.9168999791145325\n"
     ]
    }
   ],
   "source": [
    "test_eval= fashion_model.evaluate(test_X,test_Y_one_hot,verbose=0)\n",
    "print('Test loss:',test_eval[0])\n",
    "print('Test accuracy:',test_eval[1])"
   ]
  },
  {
   "cell_type": "code",
   "execution_count": 63,
   "id": "2330c72a-57a9-4e70-a26e-0026336d74a2",
   "metadata": {},
   "outputs": [
    {
     "data": {
      "image/png": "[encoded data removed]",
      "text/plain": [
       "<Figure size 432x288 with 1 Axes>"
      ]
     },
     "metadata": {
      "needs_background": "light"
     },
     "output_type": "display_data"
    },
    {
     "data": {
      "image/png": "[encoded data removed]",
      "text/plain": [
       "<Figure size 432x288 with 1 Axes>"
      ]
     },
     "metadata": {
      "needs_background": "light"
     },
     "output_type": "display_data"
    }
   ],
   "source": [
    "accuracy = fashion_train.history['accuracy']\n",
    "val_accuracy = fashion_train.history['val_accuracy']\n",
    "loss = fashion_train.history['loss']\n",
    "val_loss = fashion_train.history['val_loss']\n",
    "epochs = range(len(accuracy))\n",
    "plt.plot(epochs, accuracy, 'bo', label='Training accuracy')\n",
    "plt.plot(epochs, val_accuracy, 'b', label='Validation accuracy')\n",
    "plt.title('Training and validation accuracy')\n",
    "plt.legend()\n",
    "plt.figure()\n",
    "plt.plot(epochs, loss, 'bo', label='Training loss')\n",
    "plt.plot(epochs, val_loss, 'b', label='Validation loss')\n",
    "plt.title('Training and validation loss')\n",
    "plt.legend()\n",
    "plt.show()"
   ]
  },
  {
   "cell_type": "code",
   "execution_count": 64,
   "id": "647958af-ef23-4564-b5f0-96d27618c536",
   "metadata": {},
   "outputs": [],
   "source": [
    "# add dropout layer\n",
    "batch_size = 64\n",
    "epochs =20 \n",
    "num_classes = 10 "
   ]
  },
  {
   "cell_type": "code",
   "execution_count": 65,
   "id": "6198185e-c826-4d69-9964-f7ff4e5cd937",
   "metadata": {},
   "outputs": [],
   "source": [
    "fashion_model = Sequential()\n",
    "fashion_model.add(Conv2D(32,kernel_size=(3,3), activation='linear', input_shape=(28,28,1),padding='same'))\n",
    "fashion_model.add(LeakyReLU(alpha=0.1))\n",
    "fashion_model.add(MaxPooling2D((2,2),padding='same'))\n",
    "fashion_model.add(Dropout(0.25))\n",
    "fashion_model.add(Conv2D(64,kernel_size=(3,3),activation='linear',padding='same'))\n",
    "fashion_model.add(LeakyReLU(alpha=0.1))\n",
    "fashion_model.add(MaxPooling2D((2, 2),padding='same'))\n",
    "fashion_model.add(Dropout(0.25))\n",
    "fashion_model.add(Conv2D(128,kernel_size=(3,3),activation='linear',padding='same'))\n",
    "fashion_model.add(LeakyReLU(alpha=0.1))\n",
    "fashion_model.add(MaxPooling2D((2, 2),padding='same'))\n",
    "fashion_model.add(Dropout(0.4))\n",
    "fashion_model.add(Flatten())\n",
    "fashion_model.add(Dense(128,activation='linear'))\n",
    "fashion_model.add(LeakyReLU(alpha=0.1))\n",
    "fashion_model.add(Dense(num_classes,activation='softmax'))"
   ]
  },
  {
   "cell_type": "code",
   "execution_count": 66,
   "id": "ab293b76-eb61-444c-b898-e8db5ab68b62",
   "metadata": {},
   "outputs": [
    {
     "name": "stdout",
     "output_type": "stream",
     "text": [
      "Model: \"sequential_7\"\n",
      "_________________________________________________________________\n",
      "Layer (type)                 Output Shape              Param #   \n",
      "=================================================================\n",
      "conv2d_13 (Conv2D)           (None, 28, 28, 32)        320       \n",
      "_________________________________________________________________\n",
      "leaky_re_lu_16 (LeakyReLU)   (None, 28, 28, 32)        0         \n",
      "_________________________________________________________________\n",
      "max_pooling2d_13 (MaxPooling (None, 14, 14, 32)        0         \n",
      "_________________________________________________________________\n",
      "dropout (Dropout)            (None, 14, 14, 32)        0         \n",
      "_________________________________________________________________\n",
      "conv2d_14 (Conv2D)           (None, 14, 14, 64)        18496     \n",
      "_________________________________________________________________\n",
      "leaky_re_lu_17 (LeakyReLU)   (None, 14, 14, 64)        0         \n",
      "_________________________________________________________________\n",
      "max_pooling2d_14 (MaxPooling (None, 7, 7, 64)          0         \n",
      "_________________________________________________________________\n",
      "dropout_1 (Dropout)          (None, 7, 7, 64)          0         \n",
      "_________________________________________________________________\n",
      "conv2d_15 (Conv2D)           (None, 7, 7, 128)         73856     \n",
      "_________________________________________________________________\n",
      "leaky_re_lu_18 (LeakyReLU)   (None, 7, 7, 128)         0         \n",
      "_________________________________________________________________\n",
      "max_pooling2d_15 (MaxPooling (None, 4, 4, 128)         0         \n",
      "_________________________________________________________________\n",
      "dropout_2 (Dropout)          (None, 4, 4, 128)         0         \n",
      "_________________________________________________________________\n",
      "flatten_2 (Flatten)          (None, 2048)              0         \n",
      "_________________________________________________________________\n",
      "dense_6 (Dense)              (None, 128)               262272    \n",
      "_________________________________________________________________\n",
      "leaky_re_lu_19 (LeakyReLU)   (None, 128)               0         \n",
      "_________________________________________________________________\n",
      "dense_7 (Dense)              (None, 10)                1290      \n",
      "=================================================================\n",
      "Total params: 356,234\n",
      "Trainable params: 356,234\n",
      "Non-trainable params: 0\n",
      "_________________________________________________________________\n"
     ]
    }
   ],
   "source": [
    "fashion_model.summary()"
   ]
  },
  {
   "cell_type": "code",
   "execution_count": 67,
   "id": "df5ed58f-4331-4a16-8feb-52cf78364f7c",
   "metadata": {},
   "outputs": [],
   "source": [
    "fashion_model.compile(loss=keras.losses.categorical_crossentropy, optimizer=keras.optimizers.Adam(),metrics=['accuracy'])"
   ]
  },
  {
   "cell_type": "code",
   "execution_count": 68,
   "id": "5ca21b15-0579-4db2-8ccf-884d8b03da39",
   "metadata": {},
   "outputs": [
    {
     "name": "stdout",
     "output_type": "stream",
     "text": [
      "Epoch 1/20\n",
      "750/750 [==============================] - 62s 83ms/step - loss: 0.5683 - accuracy: 0.7892 - val_loss: 0.3739 - val_accuracy: 0.8681\n",
      "Epoch 2/20\n",
      "750/750 [==============================] - 59s 78ms/step - loss: 0.3621 - accuracy: 0.8679 - val_loss: 0.3138 - val_accuracy: 0.8838\n",
      "Epoch 3/20\n",
      "750/750 [==============================] - 61s 81ms/step - loss: 0.3183 - accuracy: 0.8834 - val_loss: 0.2734 - val_accuracy: 0.9012\n",
      "Epoch 4/20\n",
      "750/750 [==============================] - 60s 81ms/step - loss: 0.2908 - accuracy: 0.8913 - val_loss: 0.2735 - val_accuracy: 0.8998\n",
      "Epoch 5/20\n",
      "750/750 [==============================] - 60s 80ms/step - loss: 0.2720 - accuracy: 0.8978 - val_loss: 0.2630 - val_accuracy: 0.9026\n",
      "Epoch 6/20\n",
      "750/750 [==============================] - 63s 84ms/step - loss: 0.2535 - accuracy: 0.9059 - val_loss: 0.2347 - val_accuracy: 0.9140\n",
      "Epoch 7/20\n",
      "750/750 [==============================] - 60s 80ms/step - loss: 0.2414 - accuracy: 0.9084 - val_loss: 0.2409 - val_accuracy: 0.9125\n",
      "Epoch 8/20\n",
      "750/750 [==============================] - 59s 79ms/step - loss: 0.2309 - accuracy: 0.9126 - val_loss: 0.2323 - val_accuracy: 0.9172\n",
      "Epoch 9/20\n",
      "750/750 [==============================] - 65s 87ms/step - loss: 0.2262 - accuracy: 0.9154 - val_loss: 0.2372 - val_accuracy: 0.9147\n",
      "Epoch 10/20\n",
      "750/750 [==============================] - 60s 80ms/step - loss: 0.2146 - accuracy: 0.9196 - val_loss: 0.2247 - val_accuracy: 0.9166\n",
      "Epoch 11/20\n",
      "750/750 [==============================] - 61s 82ms/step - loss: 0.2083 - accuracy: 0.9207 - val_loss: 0.2225 - val_accuracy: 0.9221\n",
      "Epoch 12/20\n",
      "750/750 [==============================] - 63s 84ms/step - loss: 0.2072 - accuracy: 0.9222 - val_loss: 0.2201 - val_accuracy: 0.9214\n",
      "Epoch 13/20\n",
      "750/750 [==============================] - 66s 88ms/step - loss: 0.1995 - accuracy: 0.9239 - val_loss: 0.2270 - val_accuracy: 0.9227\n",
      "Epoch 14/20\n",
      "750/750 [==============================] - 64s 85ms/step - loss: 0.1932 - accuracy: 0.9278 - val_loss: 0.2051 - val_accuracy: 0.9263\n",
      "Epoch 15/20\n",
      "750/750 [==============================] - 63s 84ms/step - loss: 0.1843 - accuracy: 0.9309 - val_loss: 0.2186 - val_accuracy: 0.9251\n",
      "Epoch 16/20\n",
      "750/750 [==============================] - 58s 78ms/step - loss: 0.1838 - accuracy: 0.9304 - val_loss: 0.2119 - val_accuracy: 0.9267\n",
      "Epoch 17/20\n",
      "750/750 [==============================] - 61s 81ms/step - loss: 0.1821 - accuracy: 0.9300 - val_loss: 0.2108 - val_accuracy: 0.9285\n",
      "Epoch 18/20\n",
      "750/750 [==============================] - 68s 91ms/step - loss: 0.1779 - accuracy: 0.9328 - val_loss: 0.2127 - val_accuracy: 0.9256\n",
      "Epoch 19/20\n",
      "750/750 [==============================] - 68s 91ms/step - loss: 0.1707 - accuracy: 0.9350 - val_loss: 0.2076 - val_accuracy: 0.9302\n",
      "Epoch 20/20\n",
      "750/750 [==============================] - 61s 81ms/step - loss: 0.1683 - accuracy: 0.9357 - val_loss: 0.2289 - val_accuracy: 0.9224\n"
     ]
    }
   ],
   "source": [
    "fashion_train_dropout = fashion_model.fit(train_X, train_label, batch_size=batch_size,epochs=epochs,verbose=1,validation_data=(valid_X, valid_label))"
   ]
  },
  {
   "cell_type": "code",
   "execution_count": 69,
   "id": "8b1ca621-80fc-47b5-8437-136a226bbeb4",
   "metadata": {},
   "outputs": [
    {
     "name": "stdout",
     "output_type": "stream",
     "text": [
      "WARNING:tensorflow:From C:\\Users\\chun.dai\\Anaconda3\\envs\\My_IOD\\lib\\site-packages\\tensorflow\\python\\training\\tracking\\tracking.py:111: Model.state_updates (from tensorflow.python.keras.engine.training) is deprecated and will be removed in a future version.\n",
      "Instructions for updating:\n",
      "This property should not be used in TensorFlow 2.0, as updates are applied automatically.\n",
      "WARNING:tensorflow:From C:\\Users\\chun.dai\\Anaconda3\\envs\\My_IOD\\lib\\site-packages\\tensorflow\\python\\training\\tracking\\tracking.py:111: Layer.updates (from tensorflow.python.keras.engine.base_layer) is deprecated and will be removed in a future version.\n",
      "Instructions for updating:\n",
      "This property should not be used in TensorFlow 2.0, as updates are applied automatically.\n",
      "INFO:tensorflow:Assets written to: fashion_model_dropout.h5py\\assets\n"
     ]
    }
   ],
   "source": [
    "fashion_model.save('fashion_model_dropout.h5py')"
   ]
  },
  {
   "cell_type": "code",
   "execution_count": 70,
   "id": "b3a1a50e-6352-4c3d-9e52-377a598d12c8",
   "metadata": {},
   "outputs": [
    {
     "name": "stdout",
     "output_type": "stream",
     "text": [
      "313/313 [==============================] - 3s 9ms/step - loss: 0.2358 - accuracy: 0.9189\n"
     ]
    }
   ],
   "source": [
    "test_eval = fashion_model.evaluate(test_X,test_Y_one_hot,verbose=1)"
   ]
  },
  {
   "cell_type": "code",
   "execution_count": 71,
   "id": "2142d2da-1ae8-48cf-a6ad-edaebcb73533",
   "metadata": {},
   "outputs": [
    {
     "name": "stdout",
     "output_type": "stream",
     "text": [
      "Test loss: 0.23575156927108765\n",
      "Test accuracy: 0.9189000129699707\n"
     ]
    }
   ],
   "source": [
    "print('Test loss:',test_eval[0])\n",
    "print('Test accuracy:',test_eval[1])"
   ]
  },
  {
   "cell_type": "code",
   "execution_count": 73,
   "id": "ace4a26c-e34d-47eb-bc07-c7e3fd833b0f",
   "metadata": {},
   "outputs": [
    {
     "data": {
      "image/png": "[encoded data removed]",
      "text/plain": [
       "<Figure size 432x288 with 1 Axes>"
      ]
     },
     "metadata": {
      "needs_background": "light"
     },
     "output_type": "display_data"
    },
    {
     "data": {
      "image/png": "[encoded data removed]",
      "text/plain": [
       "<Figure size 432x288 with 1 Axes>"
      ]
     },
     "metadata": {
      "needs_background": "light"
     },
     "output_type": "display_data"
    }
   ],
   "source": [
    "accuracy = fashion_train_dropout.history['accuracy']\n",
    "val_accuracy = fashion_train_dropout.history['val_accuracy']\n",
    "loss = fashion_train_dropout.history['loss']\n",
    "val_loss = fashion_train_dropout.history['val_loss']\n",
    "epochs = range(len(accuracy))\n",
    "plt.plot(epochs, accuracy, 'bo', label='Training accuracy')\n",
    "plt.plot(epochs, val_accuracy, 'b', label='Validation accuracy')\n",
    "plt.title('Training and validation accuracy')\n",
    "plt.legend()\n",
    "plt.figure()\n",
    "plt.plot(epochs, loss, 'bo', label='Training loss')\n",
    "plt.plot(epochs, val_loss, 'b', label='Validation loss')\n",
    "plt.title('Training and validation loss')\n",
    "plt.legend()\n",
    "plt.show()"
   ]
  },
  {
   "cell_type": "code",
   "execution_count": 85,
   "id": "b4ddb4b7-6849-4c07-9597-a072e3b0a636",
   "metadata": {},
   "outputs": [
    {
     "data": {
      "text/plain": [
       "array([9, 2, 1, ..., 8, 1, 5], dtype=int64)"
      ]
     },
     "execution_count": 85,
     "metadata": {},
     "output_type": "execute_result"
    }
   ],
   "source": [
    "np.argmax(np.round(predicted_classes),axis=1) # why not choose axis = 0"
   ]
  },
  {
   "cell_type": "code",
   "execution_count": 87,
   "id": "19dd5092-9695-44bf-b642-02a4f3415ed6",
   "metadata": {},
   "outputs": [
    {
     "data": {
      "text/plain": [
       "(10000, 10)"
      ]
     },
     "execution_count": 87,
     "metadata": {},
     "output_type": "execute_result"
    }
   ],
   "source": [
    "predicted_classes.shape"
   ]
  },
  {
   "cell_type": "code",
   "execution_count": 88,
   "id": "e8763683-fb60-473d-81a7-adba3e09b577",
   "metadata": {},
   "outputs": [],
   "source": [
    "predicted_classes = np.argmax(np.round(predicted_classes),axis=1)"
   ]
  },
  {
   "cell_type": "code",
   "execution_count": 90,
   "id": "b6bbdb6b-7183-453a-87e0-173fc7ba0413",
   "metadata": {},
   "outputs": [
    {
     "data": {
      "text/plain": [
       "((10000,), (10000,))"
      ]
     },
     "execution_count": 90,
     "metadata": {},
     "output_type": "execute_result"
    }
   ],
   "source": [
    "predicted_classes.shape,test_Y.shape"
   ]
  },
  {
   "cell_type": "code",
   "execution_count": 92,
   "id": "42f78e36-2bf7-443f-8fdb-a6b58f61bea8",
   "metadata": {},
   "outputs": [
    {
     "name": "stdout",
     "output_type": "stream",
     "text": [
      "Found 9159 correct labels\n"
     ]
    },
    {
     "data": {
      "image/png": "[encoded data removed]",
      "text/plain": [
       "<Figure size 432x288 with 8 Axes>"
      ]
     },
     "metadata": {
      "needs_background": "light"
     },
     "output_type": "display_data"
    }
   ],
   "source": [
    "correct = np.where(predicted_classes==test_Y)[0]\n",
    "print(\"Found %d correct labels\" % len(correct))\n",
    "for i, correct in enumerate(correct[:9]):\n",
    "    plt.subplot(3,3,i+1)\n",
    "    plt.imshow(test_X[correct].reshape(28,28), cmap='gray', interpolation='none')\n",
    "    plt.title(\"Predicted {}, Class {}\".format(predicted_classes[correct], test_Y[correct]))\n",
    "    plt.tight_layout()"
   ]
  },
  {
   "cell_type": "code",
   "execution_count": 93,
   "id": "05e29b14-44e5-4f2b-9e46-e33640ee8ba1",
   "metadata": {},
   "outputs": [
    {
     "name": "stdout",
     "output_type": "stream",
     "text": [
      "Found 841 incorrect labels\n"
     ]
    },
    {
     "data": {
      "image/png": "[encoded data removed]",
      "text/plain": [
       "<Figure size 432x288 with 8 Axes>"
      ]
     },
     "metadata": {
      "needs_background": "light"
     },
     "output_type": "display_data"
    }
   ],
   "source": [
    "incorrect = np.where(predicted_classes!=test_Y)[0]\n",
    "print(\"Found %d incorrect labels\" % len(incorrect))\n",
    "for i, incorrect in enumerate(incorrect[:9]):\n",
    "    plt.subplot(3,3,i+1)\n",
    "    plt.imshow(test_X[incorrect].reshape(28,28), cmap='gray', interpolation='none')\n",
    "    plt.title(\"Predicted {}, Class {}\".format(predicted_classes[incorrect], test_Y[incorrect]))\n",
    "    plt.tight_layout()"
   ]
  },
  {
   "cell_type": "code",
   "execution_count": 94,
   "id": "749633e2-6ad5-4f5b-9914-57231cf3ea2e",
   "metadata": {},
   "outputs": [
    {
     "name": "stdout",
     "output_type": "stream",
     "text": [
      "              precision    recall  f1-score   support\n",
      "\n",
      "     Class 0       0.77      0.93      0.84      1000\n",
      "     Class 1       1.00      0.99      0.99      1000\n",
      "     Class 2       0.83      0.91      0.87      1000\n",
      "     Class 3       0.92      0.92      0.92      1000\n",
      "     Class 4       0.91      0.81      0.86      1000\n",
      "     Class 5       0.99      0.98      0.99      1000\n",
      "     Class 6       0.83      0.69      0.75      1000\n",
      "     Class 7       0.96      0.98      0.97      1000\n",
      "     Class 8       0.99      0.99      0.99      1000\n",
      "     Class 9       0.98      0.97      0.97      1000\n",
      "\n",
      "    accuracy                           0.92     10000\n",
      "   macro avg       0.92      0.92      0.92     10000\n",
      "weighted avg       0.92      0.92      0.92     10000\n",
      "\n"
     ]
    }
   ],
   "source": [
    "from sklearn.metrics import classification_report\n",
    "target_names = [\"Class {}\".format(i) for i in range(num_classes)]\n",
    "print(classification_report(test_Y, predicted_classes, target_names=target_names))"
   ]
  },
  {
   "cell_type": "code",
   "execution_count": 95,
   "id": "7bb706f6-66ef-4492-9b86-1721a4a4ca57",
   "metadata": {},
   "outputs": [
    {
     "data": {
      "text/plain": [
       "['Class 0',\n",
       " 'Class 1',\n",
       " 'Class 2',\n",
       " 'Class 3',\n",
       " 'Class 4',\n",
       " 'Class 5',\n",
       " 'Class 6',\n",
       " 'Class 7',\n",
       " 'Class 8',\n",
       " 'Class 9']"
      ]
     },
     "execution_count": 95,
     "metadata": {},
     "output_type": "execute_result"
    }
   ],
   "source": [
    "target_names"
   ]
  },
  {
   "cell_type": "code",
   "execution_count": 96,
   "id": "9e3896c5-ffc5-4d7d-949c-7b4e8b9b2459",
   "metadata": {},
   "outputs": [
    {
     "data": {
      "text/plain": [
       "array([9, 2, 1, ..., 8, 1, 5], dtype=uint8)"
      ]
     },
     "execution_count": 96,
     "metadata": {},
     "output_type": "execute_result"
    }
   ],
   "source": [
    "test_Y"
   ]
  },
  {
   "cell_type": "code",
   "execution_count": 97,
   "id": "4d178e2b-b508-4a33-bd71-f7246a35889d",
   "metadata": {},
   "outputs": [
    {
     "data": {
      "text/plain": [
       "array([9, 2, 1, ..., 8, 1, 5], dtype=int64)"
      ]
     },
     "execution_count": 97,
     "metadata": {},
     "output_type": "execute_result"
    }
   ],
   "source": [
    "predicted_classes"
   ]
  },
  {
   "cell_type": "code",
   "execution_count": 105,
   "id": "09c30488-87ee-41bb-8352-cc8f6e705173",
   "metadata": {},
   "outputs": [
    {
     "data": {
      "text/plain": [
       "9159"
      ]
     },
     "execution_count": 105,
     "metadata": {},
     "output_type": "execute_result"
    }
   ],
   "source": [
    "len(np.where(predicted_classes==test_Y)[0])"
   ]
  },
  {
   "cell_type": "code",
   "execution_count": 106,
   "id": "09ecd501-723b-4994-8a4a-b1a3d5550b10",
   "metadata": {},
   "outputs": [
    {
     "data": {
      "text/plain": [
       "841"
      ]
     },
     "execution_count": 106,
     "metadata": {},
     "output_type": "execute_result"
    }
   ],
   "source": [
    "len(np.where(predicted_classes!=test_Y)[0])"
   ]
  },
  {
   "cell_type": "code",
   "execution_count": 110,
   "id": "83ec983b-ed7f-493c-8bce-508d4c9c1b8e",
   "metadata": {},
   "outputs": [
    {
     "data": {
      "text/plain": [
       "array([  0,   1,   2,   3,   4,   5,   6,   7,   8,   9,  10,  11,  12,\n",
       "        13,  14,  15,  16,  17,  18,  19,  20,  21,  22,  23,  24,  26,\n",
       "        27,  28,  29,  30,  31,  32,  33,  34,  35,  36,  37,  38,  39,\n",
       "        41,  44,  45,  46,  47,  48,  50,  51,  52,  53,  54,  55,  56,\n",
       "        57,  58,  59,  60,  61,  62,  63,  64,  65,  67,  69,  70,  71,\n",
       "        72,  73,  74,  75,  76,  77,  78,  79,  80,  81,  82,  83,  84,\n",
       "        85,  86,  87,  88,  90,  91,  92,  93,  94,  95,  96,  97,  99,\n",
       "       100, 101, 102, 104, 105, 106, 107, 108, 109], dtype=int64)"
      ]
     },
     "execution_count": 110,
     "metadata": {},
     "output_type": "execute_result"
    }
   ],
   "source": [
    "np.where(predicted_classes==test_Y)[0][:100]"
   ]
  },
  {
   "cell_type": "code",
   "execution_count": null,
   "id": "5cd53a7f-94ae-4a3a-b448-e57273302fe2",
   "metadata": {},
   "outputs": [],
   "source": []
  }
 ],
 "metadata": {
  "kernelspec": {
   "display_name": "Python 3",
   "language": "python",
   "name": "python3"
  },
  "language_info": {
   "codemirror_mode": {
    "name": "ipython",
    "version": 3
   },
   "file_extension": ".py",
   "mimetype": "text/x-python",
   "name": "python",
   "nbconvert_exporter": "python",
   "pygments_lexer": "ipython3",
   "version": "3.8.10"
  }
 },
 "nbformat": 4,
 "nbformat_minor": 5
}

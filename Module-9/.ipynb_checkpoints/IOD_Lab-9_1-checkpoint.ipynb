{
 "cells": [
  {
   "cell_type": "markdown",
   "metadata": {
    "colab_type": "text",
    "id": "gn3SG1yo1KdV"
   },
   "source": [
    "<div>\n",
    "<img src=https://www.institutedata.com/wp-content/uploads/2019/10/iod_h_tp_primary_c.svg width=\"300\">\n",
    "</div>"
   ]
  },
  {
   "cell_type": "markdown",
   "metadata": {
    "colab_type": "text",
    "id": "g-SD7a9X1KdY"
   },
   "source": [
    "# Lab 9.1: NN with Keras\n",
    "INSTRUCTIONS:\n",
    "- Read the guides and hints, then create the necessary analysis and code to find an answer and conclusion for the task below.\n",
    "- **NOTE**: This is a Regression problem. Consider the appropriate:\n",
    "    - Activation function\n",
    "    - Loss/Cost Function\n",
    "    - Metrics"
   ]
  },
  {
   "cell_type": "markdown",
   "metadata": {
    "colab_type": "text",
    "id": "ENgfRnvL1Kdc"
   },
   "source": [
    "### Import libraries"
   ]
  },
  {
   "cell_type": "code",
   "execution_count": 1,
   "metadata": {
    "colab": {},
    "colab_type": "code",
    "id": "Z9H465X-1Kde"
   },
   "outputs": [
    {
     "name": "stdout",
     "output_type": "stream",
     "text": [
      "Keras version:  2.7.0\n",
      "Tensorflow version:  2.7.0\n"
     ]
    }
   ],
   "source": [
    "# insert code here\n",
    "# Check keras and tensorflow versions\n",
    "\n",
    "import sys\n",
    "import tensorflow as tf\n",
    "from tensorflow import keras\n",
    "\n",
    "print(\"Keras version: \", keras.__version__)\n",
    "print(\"Tensorflow version: \", tf.__version__)"
   ]
  },
  {
   "cell_type": "code",
   "execution_count": 2,
   "metadata": {},
   "outputs": [
    {
     "name": "stdout",
     "output_type": "stream",
     "text": [
      "Num GPUs Available:  0\n",
      "Built with cuda: False\n",
      "Tensorflow Version: 2.7.0\n",
      "Python: 3.8.12 (default, Oct 12 2021, 06:23:56) \n",
      "[Clang 10.0.0 ]\n"
     ]
    }
   ],
   "source": [
    "print(\"Num GPUs Available: \", len(tf.config.list_physical_devices('GPU')))\n",
    "print(f'Built with cuda: {tf.test.is_built_with_cuda()}')\n",
    "print(f'Tensorflow Version: {tf.__version__}')\n",
    "print(f'Python: {sys.version}')"
   ]
  },
  {
   "cell_type": "code",
   "execution_count": 3,
   "metadata": {},
   "outputs": [],
   "source": [
    "## Import libraries\n",
    "import numpy as np\n",
    "\n",
    "%matplotlib inline\n",
    "import matplotlib.pyplot as plt\n",
    "\n",
    "from sklearn.datasets import load_diabetes\n",
    "from sklearn.model_selection import train_test_split\n",
    "from sklearn.metrics import r2_score\n",
    "\n",
    "# import keras\n",
    "from tensorflow.keras.models import Sequential\n",
    "from tensorflow.keras.layers import Dense"
   ]
  },
  {
   "cell_type": "markdown",
   "metadata": {
    "colab_type": "text",
    "id": "5FHh910J1Kdm"
   },
   "source": [
    "### Load data\n",
    "Load the Diabetes dataset from **SciKit-Learn**."
   ]
  },
  {
   "cell_type": "code",
   "execution_count": 4,
   "metadata": {
    "colab": {},
    "colab_type": "code",
    "id": "MWu8SlQF1Kdo",
    "tags": []
   },
   "outputs": [
    {
     "name": "stdout",
     "output_type": "stream",
     "text": [
      ".. _diabetes_dataset:\n",
      "\n",
      "Diabetes dataset\n",
      "----------------\n",
      "\n",
      "Ten baseline variables, age, sex, body mass index, average blood\n",
      "pressure, and six blood serum measurements were obtained for each of n =\n",
      "442 diabetes patients, as well as the response of interest, a\n",
      "quantitative measure of disease progression one year after baseline.\n",
      "\n",
      "**Data Set Characteristics:**\n",
      "\n",
      "  :Number of Instances: 442\n",
      "\n",
      "  :Number of Attributes: First 10 columns are numeric predictive values\n",
      "\n",
      "  :Target: Column 11 is a quantitative measure of disease progression one year after baseline\n",
      "\n",
      "  :Attribute Information:\n",
      "      - age     age in years\n",
      "      - sex\n",
      "      - bmi     body mass index\n",
      "      - bp      average blood pressure\n",
      "      - s1      tc, total serum cholesterol\n",
      "      - s2      ldl, low-density lipoproteins\n",
      "      - s3      hdl, high-density lipoproteins\n",
      "      - s4      tch, total cholesterol / HDL\n",
      "      - s5      ltg, possibly log of serum triglycerides level\n",
      "      - s6      glu, blood sugar level\n",
      "\n",
      "Note: Each of these 10 feature variables have been mean centered and scaled by the standard deviation times `n_samples` (i.e. the sum of squares of each column totals 1).\n",
      "\n",
      "Source URL:\n",
      "https://www4.stat.ncsu.edu/~boos/var.select/diabetes.html\n",
      "\n",
      "For more information see:\n",
      "Bradley Efron, Trevor Hastie, Iain Johnstone and Robert Tibshirani (2004) \"Least Angle Regression,\" Annals of Statistics (with discussion), 407-499.\n",
      "(https://web.stanford.edu/~hastie/Papers/LARS/LeastAngle_2002.pdf)\n"
     ]
    }
   ],
   "source": [
    "# insert code here\n",
    "# The diabetes dataset\n",
    "diabetes = load_diabetes()\n",
    "print(diabetes.DESCR)"
   ]
  },
  {
   "cell_type": "markdown",
   "metadata": {
    "colab_type": "text",
    "id": "xR_yLpR01Kdr"
   },
   "source": [
    "### Prepare input data"
   ]
  },
  {
   "cell_type": "code",
   "execution_count": 5,
   "metadata": {
    "colab": {},
    "colab_type": "code",
    "id": "Sp2mf2bB1Kds"
   },
   "outputs": [
    {
     "name": "stdout",
     "output_type": "stream",
     "text": [
      "X is a  <class 'numpy.ndarray'>\n",
      "X has 442 rows and 10 columns\n",
      "First 10 values in y:  [151.  75. 141. 206. 135.  97. 138.  63. 110. 310.]\n"
     ]
    }
   ],
   "source": [
    "# insert code here\n",
    "# input\n",
    "X = diabetes.data\n",
    "\n",
    "# print the type of X to check that it is a numpy array\n",
    "print(\"X is a \", type(X))\n",
    "\n",
    "# Print shape to check rows and columns\n",
    "print(\"X has {} rows and {} columns\".format(X.shape[0], X.shape[1]))\n",
    "\n",
    "# Save number of columns as n_cols\n",
    "n_cols = X.shape[1]\n",
    "\n",
    "# output\n",
    "y = diabetes.target\n",
    "\n",
    "print(\"First 10 values in y: \", y[:10])"
   ]
  },
  {
   "cell_type": "markdown",
   "metadata": {
    "colab_type": "text",
    "id": "j1Vsh6cm1Kdv"
   },
   "source": [
    "### Split the data (training/test)"
   ]
  },
  {
   "cell_type": "code",
   "execution_count": 6,
   "metadata": {
    "colab": {},
    "colab_type": "code",
    "id": "O341llJz1Kdw"
   },
   "outputs": [],
   "source": [
    "# insert code here\n",
    "X_train, X_test, y_train, y_test = train_test_split(\n",
    "    X, y, \n",
    "    test_size = 0.3,\n",
    "    random_state = 65)"
   ]
  },
  {
   "cell_type": "markdown",
   "metadata": {
    "colab_type": "text",
    "id": "o4dJViJD1Kd0"
   },
   "source": [
    "### Create the model's architecture"
   ]
  },
  {
   "cell_type": "code",
   "execution_count": 7,
   "metadata": {
    "colab": {},
    "colab_type": "code",
    "id": "Tkgf_BLl1Kd1"
   },
   "outputs": [
    {
     "name": "stderr",
     "output_type": "stream",
     "text": [
      "2022-02-22 18:04:51.318107: I tensorflow/core/platform/cpu_feature_guard.cc:151] This TensorFlow binary is optimized with oneAPI Deep Neural Network Library (oneDNN) to use the following CPU instructions in performance-critical operations:  AVX2 FMA\n",
      "To enable them in other operations, rebuild TensorFlow with the appropriate compiler flags.\n"
     ]
    }
   ],
   "source": [
    "# insert code here\n",
    "model = Sequential()"
   ]
  },
  {
   "cell_type": "code",
   "execution_count": 8,
   "metadata": {},
   "outputs": [],
   "source": [
    "# Add the first hidden layer\n",
    "model.add(Dense(15, activation = 'relu', input_shape = (n_cols, )))\n",
    "# Add the second hidden layer\n",
    "model.add(Dense(5, activation = 'relu'))\n",
    "# Add the output layer\n",
    "model.add(Dense(1, activation = 'linear'))"
   ]
  },
  {
   "cell_type": "code",
   "execution_count": 9,
   "metadata": {},
   "outputs": [
    {
     "name": "stdout",
     "output_type": "stream",
     "text": [
      "Model: \"sequential\"\n",
      "_________________________________________________________________\n",
      " Layer (type)                Output Shape              Param #   \n",
      "=================================================================\n",
      " dense (Dense)               (None, 15)                165       \n",
      "                                                                 \n",
      " dense_1 (Dense)             (None, 5)                 80        \n",
      "                                                                 \n",
      " dense_2 (Dense)             (None, 1)                 6         \n",
      "                                                                 \n",
      "=================================================================\n",
      "Total params: 251\n",
      "Trainable params: 251\n",
      "Non-trainable params: 0\n",
      "_________________________________________________________________\n",
      "None\n"
     ]
    }
   ],
   "source": [
    "print(model.summary())"
   ]
  },
  {
   "cell_type": "markdown",
   "metadata": {
    "colab_type": "text",
    "id": "5hQTS42V1Kd4"
   },
   "source": [
    "### Compile the model"
   ]
  },
  {
   "cell_type": "code",
   "execution_count": 10,
   "metadata": {
    "colab": {},
    "colab_type": "code",
    "id": "BvLsoanF1Kd5"
   },
   "outputs": [],
   "source": [
    "# insert code here\n",
    "model.compile(\n",
    "    optimizer = 'adam',\n",
    "    loss = 'mse',\n",
    "    metrics = ['mse'])"
   ]
  },
  {
   "cell_type": "markdown",
   "metadata": {
    "colab_type": "text",
    "id": "6KPQbnEj1Kd7"
   },
   "source": [
    "### Fit the training data"
   ]
  },
  {
   "cell_type": "code",
   "execution_count": 11,
   "metadata": {},
   "outputs": [],
   "source": [
    "# shuffle training data\n",
    "from sklearn.utils import shuffle\n",
    "X_train2, y_train2 = shuffle(X_train, y_train, random_state=42)"
   ]
  },
  {
   "cell_type": "code",
   "execution_count": 12,
   "metadata": {
    "colab": {},
    "colab_type": "code",
    "id": "-oiuHjEj1Kd8"
   },
   "outputs": [
    {
     "name": "stdout",
     "output_type": "stream",
     "text": [
      "CPU times: user 5.72 s, sys: 577 ms, total: 6.29 s\n",
      "Wall time: 5.71 s\n"
     ]
    }
   ],
   "source": [
    "%%time\n",
    "# Fit the model\n",
    "history = model.fit(\n",
    "    X_train2,\n",
    "    y_train2,\n",
    "    validation_split = 0.25,\n",
    "    batch_size = 10,\n",
    "    epochs = 100,\n",
    "    verbose = 0)"
   ]
  },
  {
   "cell_type": "markdown",
   "metadata": {
    "colab_type": "text",
    "id": "CR-kCu3c1Kd-"
   },
   "source": [
    "### Create predictions"
   ]
  },
  {
   "cell_type": "code",
   "execution_count": 13,
   "metadata": {
    "colab": {},
    "colab_type": "code",
    "id": "wkywKqPg1Kd-"
   },
   "outputs": [],
   "source": [
    "# insert code here\n",
    "predictions = model.predict(X_test)"
   ]
  },
  {
   "cell_type": "markdown",
   "metadata": {
    "colab_type": "text",
    "id": "-unEmrGo1KeA"
   },
   "source": [
    "### Evaluate the model"
   ]
  },
  {
   "cell_type": "code",
   "execution_count": 14,
   "metadata": {
    "colab": {},
    "colab_type": "code",
    "id": "QCIVpVrG1KeB"
   },
   "outputs": [
    {
     "name": "stdout",
     "output_type": "stream",
     "text": [
      "5/5 [==============================] - 0s 2ms/step - loss: 3672.3325 - mse: 3672.3325\n",
      "\n",
      "Test loss: 3672.332520\n"
     ]
    }
   ],
   "source": [
    "# insert code here\n",
    "# Calculate test MSE\n",
    "score = model.evaluate(X_test, y_test)\n",
    "print('\\nTest loss: %.6f' % score[0])"
   ]
  },
  {
   "cell_type": "code",
   "execution_count": 15,
   "metadata": {},
   "outputs": [
    {
     "data": {
      "text/plain": [
       "[3672.33251953125, 3672.33251953125]"
      ]
     },
     "execution_count": 15,
     "metadata": {},
     "output_type": "execute_result"
    }
   ],
   "source": [
    "score"
   ]
  },
  {
   "cell_type": "code",
   "execution_count": 16,
   "metadata": {},
   "outputs": [
    {
     "data": {
      "text/plain": [
       "60.59977326303498"
      ]
     },
     "execution_count": 16,
     "metadata": {},
     "output_type": "execute_result"
    }
   ],
   "source": [
    "# Find RMSE\n",
    "score[0] ** (1/2)"
   ]
  },
  {
   "cell_type": "markdown",
   "metadata": {
    "colab_type": "text",
    "id": "sSlqjs7e1KeD"
   },
   "source": [
    "### Visualisation of cost"
   ]
  },
  {
   "cell_type": "code",
   "execution_count": 17,
   "metadata": {
    "tags": []
   },
   "outputs": [
    {
     "data": {
      "text/plain": [
       "{'loss': [28750.97265625,\n",
       "  28735.466796875,\n",
       "  28718.791015625,\n",
       "  28696.248046875,\n",
       "  28666.84375,\n",
       "  28627.28515625,\n",
       "  28570.15625,\n",
       "  28490.982421875,\n",
       "  28382.3828125,\n",
       "  28236.337890625,\n",
       "  28060.654296875,\n",
       "  27842.439453125,\n",
       "  27574.619140625,\n",
       "  27260.416015625,\n",
       "  26885.591796875,\n",
       "  26454.341796875,\n",
       "  25967.185546875,\n",
       "  25405.283203125,\n",
       "  24782.38671875,\n",
       "  24120.62890625,\n",
       "  23407.87109375,\n",
       "  22649.8515625,\n",
       "  21847.751953125,\n",
       "  20999.20703125,\n",
       "  20119.1875,\n",
       "  19180.38671875,\n",
       "  18202.09765625,\n",
       "  17231.794921875,\n",
       "  16278.2783203125,\n",
       "  15309.373046875,\n",
       "  14380.8515625,\n",
       "  13434.548828125,\n",
       "  12556.486328125,\n",
       "  11694.08203125,\n",
       "  10915.6376953125,\n",
       "  10157.7890625,\n",
       "  9443.6875,\n",
       "  8738.8515625,\n",
       "  8130.72216796875,\n",
       "  7577.728515625,\n",
       "  7110.763671875,\n",
       "  6668.10009765625,\n",
       "  6263.17041015625,\n",
       "  5909.2119140625,\n",
       "  5644.59716796875,\n",
       "  5414.18701171875,\n",
       "  5193.140625,\n",
       "  4997.8271484375,\n",
       "  4844.25390625,\n",
       "  4714.8564453125,\n",
       "  4611.71826171875,\n",
       "  4535.73828125,\n",
       "  4471.18603515625,\n",
       "  4415.763671875,\n",
       "  4361.541015625,\n",
       "  4320.048828125,\n",
       "  4281.171875,\n",
       "  4248.6884765625,\n",
       "  4214.015625,\n",
       "  4189.50390625,\n",
       "  4157.23583984375,\n",
       "  4134.8271484375,\n",
       "  4106.56396484375,\n",
       "  4088.9052734375,\n",
       "  4067.8583984375,\n",
       "  4049.882080078125,\n",
       "  4029.263916015625,\n",
       "  4014.7314453125,\n",
       "  3994.36767578125,\n",
       "  3978.433349609375,\n",
       "  3960.0810546875,\n",
       "  3940.636474609375,\n",
       "  3926.83154296875,\n",
       "  3912.740234375,\n",
       "  3895.54248046875,\n",
       "  3881.30078125,\n",
       "  3865.91748046875,\n",
       "  3849.2509765625,\n",
       "  3834.623291015625,\n",
       "  3822.3193359375,\n",
       "  3809.47412109375,\n",
       "  3795.552978515625,\n",
       "  3779.10888671875,\n",
       "  3765.35400390625,\n",
       "  3750.0791015625,\n",
       "  3738.414306640625,\n",
       "  3723.627685546875,\n",
       "  3709.572509765625,\n",
       "  3695.34814453125,\n",
       "  3684.400146484375,\n",
       "  3667.980712890625,\n",
       "  3652.161865234375,\n",
       "  3643.884033203125,\n",
       "  3628.030517578125,\n",
       "  3613.25244140625,\n",
       "  3599.592529296875,\n",
       "  3587.493896484375,\n",
       "  3576.322998046875,\n",
       "  3563.905517578125,\n",
       "  3550.2607421875],\n",
       " 'mse': [28750.97265625,\n",
       "  28735.466796875,\n",
       "  28718.791015625,\n",
       "  28696.248046875,\n",
       "  28666.84375,\n",
       "  28627.28515625,\n",
       "  28570.15625,\n",
       "  28490.982421875,\n",
       "  28382.3828125,\n",
       "  28236.337890625,\n",
       "  28060.654296875,\n",
       "  27842.439453125,\n",
       "  27574.619140625,\n",
       "  27260.416015625,\n",
       "  26885.591796875,\n",
       "  26454.341796875,\n",
       "  25967.185546875,\n",
       "  25405.283203125,\n",
       "  24782.38671875,\n",
       "  24120.62890625,\n",
       "  23407.87109375,\n",
       "  22649.8515625,\n",
       "  21847.751953125,\n",
       "  20999.20703125,\n",
       "  20119.1875,\n",
       "  19180.38671875,\n",
       "  18202.095703125,\n",
       "  17231.794921875,\n",
       "  16278.27734375,\n",
       "  15309.3720703125,\n",
       "  14380.8515625,\n",
       "  13434.548828125,\n",
       "  12556.486328125,\n",
       "  11694.08203125,\n",
       "  10915.6376953125,\n",
       "  10157.7890625,\n",
       "  9443.6884765625,\n",
       "  8738.8515625,\n",
       "  8130.72216796875,\n",
       "  7577.728515625,\n",
       "  7110.763671875,\n",
       "  6668.10009765625,\n",
       "  6263.17041015625,\n",
       "  5909.2119140625,\n",
       "  5644.59716796875,\n",
       "  5414.18701171875,\n",
       "  5193.140625,\n",
       "  4997.8271484375,\n",
       "  4844.25390625,\n",
       "  4714.8564453125,\n",
       "  4611.71826171875,\n",
       "  4535.73828125,\n",
       "  4471.18603515625,\n",
       "  4415.763671875,\n",
       "  4361.541015625,\n",
       "  4320.048828125,\n",
       "  4281.171875,\n",
       "  4248.6884765625,\n",
       "  4214.015625,\n",
       "  4189.50390625,\n",
       "  4157.23583984375,\n",
       "  4134.8271484375,\n",
       "  4106.56396484375,\n",
       "  4088.9052734375,\n",
       "  4067.8583984375,\n",
       "  4049.882080078125,\n",
       "  4029.263916015625,\n",
       "  4014.7314453125,\n",
       "  3994.3671875,\n",
       "  3978.433349609375,\n",
       "  3960.080810546875,\n",
       "  3940.636474609375,\n",
       "  3926.83154296875,\n",
       "  3912.740234375,\n",
       "  3895.54248046875,\n",
       "  3881.30078125,\n",
       "  3865.917724609375,\n",
       "  3849.2509765625,\n",
       "  3834.623291015625,\n",
       "  3822.3193359375,\n",
       "  3809.47412109375,\n",
       "  3795.552978515625,\n",
       "  3779.10888671875,\n",
       "  3765.35400390625,\n",
       "  3750.0791015625,\n",
       "  3738.414306640625,\n",
       "  3723.627685546875,\n",
       "  3709.572509765625,\n",
       "  3695.34814453125,\n",
       "  3684.400146484375,\n",
       "  3667.980712890625,\n",
       "  3652.161865234375,\n",
       "  3643.884033203125,\n",
       "  3628.030517578125,\n",
       "  3613.252197265625,\n",
       "  3599.592529296875,\n",
       "  3587.493896484375,\n",
       "  3576.322998046875,\n",
       "  3563.905517578125,\n",
       "  3550.2607421875],\n",
       " 'val_loss': [28104.7109375,\n",
       "  28090.189453125,\n",
       "  28070.69140625,\n",
       "  28045.041015625,\n",
       "  28011.09375,\n",
       "  27962.611328125,\n",
       "  27896.185546875,\n",
       "  27804.16015625,\n",
       "  27679.00390625,\n",
       "  27515.736328125,\n",
       "  27317.59375,\n",
       "  27077.3203125,\n",
       "  26791.595703125,\n",
       "  26451.744140625,\n",
       "  26047.8515625,\n",
       "  25595.84765625,\n",
       "  25061.19921875,\n",
       "  24481.396484375,\n",
       "  23842.220703125,\n",
       "  23157.619140625,\n",
       "  22428.701171875,\n",
       "  21646.537109375,\n",
       "  20830.861328125,\n",
       "  19961.521484375,\n",
       "  19081.517578125,\n",
       "  18127.876953125,\n",
       "  17165.8515625,\n",
       "  16207.580078125,\n",
       "  15202.8125,\n",
       "  14300.6005859375,\n",
       "  13363.9326171875,\n",
       "  12443.7431640625,\n",
       "  11582.8603515625,\n",
       "  10795.001953125,\n",
       "  10018.0380859375,\n",
       "  9282.619140625,\n",
       "  8577.541015625,\n",
       "  7913.60888671875,\n",
       "  7342.646484375,\n",
       "  6846.40966796875,\n",
       "  6366.52294921875,\n",
       "  5961.462890625,\n",
       "  5568.455078125,\n",
       "  5292.59033203125,\n",
       "  5055.2314453125,\n",
       "  4839.60400390625,\n",
       "  4623.7529296875,\n",
       "  4431.73046875,\n",
       "  4308.03125,\n",
       "  4187.76025390625,\n",
       "  4110.5859375,\n",
       "  4037.82763671875,\n",
       "  3981.110107421875,\n",
       "  3932.343017578125,\n",
       "  3886.521240234375,\n",
       "  3843.887451171875,\n",
       "  3818.638671875,\n",
       "  3777.506103515625,\n",
       "  3759.545654296875,\n",
       "  3734.918212890625,\n",
       "  3709.73046875,\n",
       "  3691.46923828125,\n",
       "  3669.630615234375,\n",
       "  3649.760009765625,\n",
       "  3636.72265625,\n",
       "  3617.16064453125,\n",
       "  3603.786865234375,\n",
       "  3590.89697265625,\n",
       "  3575.94921875,\n",
       "  3562.58984375,\n",
       "  3550.935546875,\n",
       "  3537.46484375,\n",
       "  3525.78759765625,\n",
       "  3516.806884765625,\n",
       "  3505.641845703125,\n",
       "  3491.474853515625,\n",
       "  3483.500732421875,\n",
       "  3469.874267578125,\n",
       "  3457.536376953125,\n",
       "  3447.704833984375,\n",
       "  3437.22265625,\n",
       "  3422.978759765625,\n",
       "  3413.309326171875,\n",
       "  3402.28369140625,\n",
       "  3391.827392578125,\n",
       "  3381.877685546875,\n",
       "  3370.37109375,\n",
       "  3359.747314453125,\n",
       "  3348.517333984375,\n",
       "  3337.006103515625,\n",
       "  3327.305908203125,\n",
       "  3314.339599609375,\n",
       "  3305.654052734375,\n",
       "  3292.6982421875,\n",
       "  3282.755859375,\n",
       "  3277.436767578125,\n",
       "  3266.800048828125,\n",
       "  3260.634033203125,\n",
       "  3253.124267578125,\n",
       "  3243.65869140625],\n",
       " 'val_mse': [28104.7109375,\n",
       "  28090.189453125,\n",
       "  28070.69140625,\n",
       "  28045.041015625,\n",
       "  28011.09375,\n",
       "  27962.611328125,\n",
       "  27896.185546875,\n",
       "  27804.16015625,\n",
       "  27679.00390625,\n",
       "  27515.736328125,\n",
       "  27317.59375,\n",
       "  27077.3203125,\n",
       "  26791.595703125,\n",
       "  26451.744140625,\n",
       "  26047.8515625,\n",
       "  25595.84765625,\n",
       "  25061.19921875,\n",
       "  24481.396484375,\n",
       "  23842.220703125,\n",
       "  23157.619140625,\n",
       "  22428.701171875,\n",
       "  21646.537109375,\n",
       "  20830.861328125,\n",
       "  19961.521484375,\n",
       "  19081.517578125,\n",
       "  18127.876953125,\n",
       "  17165.8515625,\n",
       "  16207.580078125,\n",
       "  15202.8125,\n",
       "  14300.6005859375,\n",
       "  13363.9326171875,\n",
       "  12443.7431640625,\n",
       "  11582.8603515625,\n",
       "  10795.001953125,\n",
       "  10018.0380859375,\n",
       "  9282.619140625,\n",
       "  8577.541015625,\n",
       "  7913.60888671875,\n",
       "  7342.646484375,\n",
       "  6846.40966796875,\n",
       "  6366.52294921875,\n",
       "  5961.462890625,\n",
       "  5568.455078125,\n",
       "  5292.5908203125,\n",
       "  5055.2314453125,\n",
       "  4839.60400390625,\n",
       "  4623.75244140625,\n",
       "  4431.73046875,\n",
       "  4308.03125,\n",
       "  4187.76025390625,\n",
       "  4110.5859375,\n",
       "  4037.82763671875,\n",
       "  3981.110107421875,\n",
       "  3932.343017578125,\n",
       "  3886.521240234375,\n",
       "  3843.887451171875,\n",
       "  3818.638671875,\n",
       "  3777.506103515625,\n",
       "  3759.545654296875,\n",
       "  3734.918701171875,\n",
       "  3709.73046875,\n",
       "  3691.46923828125,\n",
       "  3669.630615234375,\n",
       "  3649.760009765625,\n",
       "  3636.72265625,\n",
       "  3617.16064453125,\n",
       "  3603.786865234375,\n",
       "  3590.89697265625,\n",
       "  3575.94921875,\n",
       "  3562.58984375,\n",
       "  3550.935546875,\n",
       "  3537.46484375,\n",
       "  3525.78759765625,\n",
       "  3516.806884765625,\n",
       "  3505.641845703125,\n",
       "  3491.474853515625,\n",
       "  3483.500732421875,\n",
       "  3469.874267578125,\n",
       "  3457.536376953125,\n",
       "  3447.704833984375,\n",
       "  3437.22265625,\n",
       "  3422.978759765625,\n",
       "  3413.309326171875,\n",
       "  3402.28369140625,\n",
       "  3391.827392578125,\n",
       "  3381.87744140625,\n",
       "  3370.37109375,\n",
       "  3359.747314453125,\n",
       "  3348.51708984375,\n",
       "  3337.006103515625,\n",
       "  3327.3056640625,\n",
       "  3314.339599609375,\n",
       "  3305.654052734375,\n",
       "  3292.6982421875,\n",
       "  3282.755859375,\n",
       "  3277.436767578125,\n",
       "  3266.800048828125,\n",
       "  3260.634033203125,\n",
       "  3253.12451171875,\n",
       "  3243.65869140625]}"
      ]
     },
     "execution_count": 17,
     "metadata": {},
     "output_type": "execute_result"
    }
   ],
   "source": [
    "history.history"
   ]
  },
  {
   "cell_type": "code",
   "execution_count": 18,
   "metadata": {},
   "outputs": [
    {
     "data": {
      "image/png": "[encoded data removed]",
      "text/plain": [
       "<Figure size 1296x432 with 2 Axes>"
      ]
     },
     "metadata": {
      "needs_background": "light"
     },
     "output_type": "display_data"
    }
   ],
   "source": [
    "fig, ax = plt.subplots(1, 2, figsize = (18, 6))\n",
    "fig.subplots_adjust(left = 0.02, right = 0.98, wspace = 0.2)\n",
    "\n",
    "plt.rcParams.update({'font.size': 14})\n",
    "\n",
    "# Plot training & validation accuracy values\n",
    "ax[0].plot(history.history['mse'], label = 'Training')\n",
    "ax[0].plot(history.history['val_mse'], label = 'Validation')\n",
    "ax[0].set_title('Model MSE')\n",
    "ax[0].set_ylabel('MSE')\n",
    "ax[0].set_xlabel('Epoch')\n",
    "ax[0].legend()\n",
    "\n",
    "# Plot training & validation loss values\n",
    "ax[1].plot(history.history['loss'], label = 'Training')\n",
    "ax[1].plot(history.history['val_loss'], label = 'Validation')\n",
    "ax[1].set_title('Model loss')\n",
    "ax[1].set_ylabel('Loss')\n",
    "ax[1].set_xlabel('Epoch')\n",
    "ax[1].legend()\n",
    "\n",
    "plt.show()"
   ]
  },
  {
   "cell_type": "markdown",
   "metadata": {
    "colab_type": "text",
    "id": "vQLzMZTM1KeG"
   },
   "source": [
    "### Visualisation of residuals"
   ]
  },
  {
   "cell_type": "code",
   "execution_count": 19,
   "metadata": {
    "colab": {},
    "colab_type": "code",
    "id": "opIulVSw1KeH"
   },
   "outputs": [],
   "source": [
    "# insert code here\n",
    "# Calculate R2 and adjusted R2\n",
    "r2 = r2_score(y_test, predictions)\n",
    "n, p = X.shape # sample size, number of explanatory variables\n",
    "adjusted_r2 = 1 - (1 - r2) * ((n - 1) / (n - p - 1))"
   ]
  },
  {
   "cell_type": "code",
   "execution_count": 20,
   "metadata": {},
   "outputs": [
    {
     "data": {
      "image/png": "[encoded data removed]",
      "text/plain": [
       "<Figure size 1080x432 with 1 Axes>"
      ]
     },
     "metadata": {
      "needs_background": "light"
     },
     "output_type": "display_data"
    }
   ],
   "source": [
    "difference = predictions.flatten() - y_test\n",
    "d_mean = difference.mean()\n",
    "d_std = difference.std()\n",
    "n_pred = len(predictions)\n",
    "plt.figure(figsize = (15, 6))\n",
    "plt.scatter(range(n_pred), difference, s = 15)\n",
    "plt.hlines(d_mean + d_std, 0, n_pred, 'r', lw = 1, label = '$\\pm \\: std$')\n",
    "plt.hlines(d_mean, 0, n_pred, label = '$mean$')\n",
    "plt.hlines(d_mean - d_std, 0, n_pred, 'r', lw = 1)\n",
    "plt.xlabel('Prediction')\n",
    "plt.ylabel('$\\hat y - y$')\n",
    "plt.legend()\n",
    "plt.text(0, difference.max() * 0.95,\n",
    "         '$R^2: %.2f, \\: Adjusted \\: R^2: %.2f$' % (r2, adjusted_r2),\n",
    "         fontsize = 12)\n",
    "plt.show()"
   ]
  },
  {
   "cell_type": "markdown",
   "metadata": {
    "colab_type": "text",
    "id": "RERADKgNFq9T"
   },
   "source": [
    "\n",
    "\n",
    "---\n",
    "\n",
    "\n",
    "\n",
    "---\n",
    "\n",
    "\n",
    "\n",
    "> > > > > > > > > © 2021 Institute of Data\n",
    "\n",
    "\n",
    "---\n",
    "\n",
    "\n",
    "\n",
    "---\n",
    "\n",
    "\n",
    "\n"
   ]
  }
 ],
 "metadata": {
  "colab": {
   "collapsed_sections": [],
   "name": "DSIA Lab-10_1.ipynb",
   "provenance": []
  },
  "kernelspec": {
   "display_name": "Python 3",
   "language": "python",
   "name": "python3"
  },
  "language_info": {
   "codemirror_mode": {
    "name": "ipython",
    "version": 3
   },
   "file_extension": ".py",
   "mimetype": "text/x-python",
   "name": "python",
   "nbconvert_exporter": "python",
   "pygments_lexer": "ipython3",
   "version": "3.8.8"
  }
 },
 "nbformat": 4,
 "nbformat_minor": 4
}

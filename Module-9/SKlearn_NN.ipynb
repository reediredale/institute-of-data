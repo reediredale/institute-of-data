{
 "cells": [
  {
   "cell_type": "code",
   "execution_count": 4,
   "id": "fb1c2a72-3db7-4010-8291-03448e21909a",
   "metadata": {},
   "outputs": [],
   "source": [
    "from sklearn.neural_network import MLPClassifier \n",
    "from sklearn.datasets import load_digits\n",
    "from sklearn.model_selection import train_test_split\n",
    "from sklearn.preprocessing import StandardScaler \n",
    "from sklearn.metrics import classification_report, confusion_matrix"
   ]
  },
  {
   "cell_type": "code",
   "execution_count": 5,
   "id": "cd5f6f86-b1fc-44a5-901e-7760b0025594",
   "metadata": {},
   "outputs": [],
   "source": [
    "digits = load_digits()\n",
    "x_data = digits.data\n",
    "y_data = digits.target"
   ]
  },
  {
   "cell_type": "code",
   "execution_count": 6,
   "id": "1d1fcf0b-50f3-4763-a4f8-5cb8839ed082",
   "metadata": {},
   "outputs": [],
   "source": [
    "# scaling \n",
    "scaler = StandardScaler()\n",
    "x_data = scaler.fit_transform(x_data)\n",
    "x_train,x_test,y_train,y_test = train_test_split(x_data,y_data)\n"
   ]
  },
  {
   "cell_type": "code",
   "execution_count": 14,
   "id": "9fb55eef-60b9-4ffc-a3cf-5d656f2ea5ae",
   "metadata": {},
   "outputs": [
    {
     "data": {
      "text/plain": [
       "MLPClassifier(hidden_layer_sizes=(100, 50, 200, 50), max_iter=500)"
      ]
     },
     "execution_count": 14,
     "metadata": {},
     "output_type": "execute_result"
    }
   ],
   "source": [
    "mlp = MLPClassifier(hidden_layer_sizes=(100,50,200,50),max_iter=500)\n",
    "mlp.fit(x_train,y_train)"
   ]
  },
  {
   "cell_type": "code",
   "execution_count": 15,
   "id": "2782dffd-da13-4ffc-91a3-0d7886d988d8",
   "metadata": {},
   "outputs": [
    {
     "name": "stdout",
     "output_type": "stream",
     "text": [
      "              precision    recall  f1-score   support\n",
      "\n",
      "           0       1.00      0.98      0.99        56\n",
      "           1       0.98      0.98      0.98        42\n",
      "           2       0.98      1.00      0.99        43\n",
      "           3       1.00      0.98      0.99        41\n",
      "           4       0.92      1.00      0.96        36\n",
      "           5       1.00      0.98      0.99        47\n",
      "           6       1.00      0.98      0.99        45\n",
      "           7       0.93      1.00      0.96        38\n",
      "           8       0.98      0.96      0.97        46\n",
      "           9       0.98      0.95      0.96        56\n",
      "\n",
      "    accuracy                           0.98       450\n",
      "   macro avg       0.98      0.98      0.98       450\n",
      "weighted avg       0.98      0.98      0.98       450\n",
      "\n"
     ]
    }
   ],
   "source": [
    "predictions = mlp.predict(x_test)\n",
    "print(classification_report(y_test,predictions))"
   ]
  },
  {
   "cell_type": "code",
   "execution_count": 16,
   "id": "409a30bd-c801-4c1c-85dd-b5a4c9ad04c0",
   "metadata": {},
   "outputs": [
    {
     "name": "stdout",
     "output_type": "stream",
     "text": [
      "[[55  0  0  0  1  0  0  0  0  0]\n",
      " [ 0 41  0  0  0  0  0  0  0  1]\n",
      " [ 0  0 43  0  0  0  0  0  0  0]\n",
      " [ 0  0  1 40  0  0  0  0  0  0]\n",
      " [ 0  0  0  0 36  0  0  0  0  0]\n",
      " [ 0  0  0  0  1 46  0  0  0  0]\n",
      " [ 0  0  0  0  1  0 44  0  0  0]\n",
      " [ 0  0  0  0  0  0  0 38  0  0]\n",
      " [ 0  1  0  0  0  0  0  1 44  0]\n",
      " [ 0  0  0  0  0  0  0  2  1 53]]\n"
     ]
    }
   ],
   "source": [
    "print(confusion_matrix(y_test,predictions))"
   ]
  },
  {
   "cell_type": "code",
   "execution_count": null,
   "id": "ccffbcf5-0e74-40c9-a8ec-0a3654c3e562",
   "metadata": {},
   "outputs": [],
   "source": []
  }
 ],
 "metadata": {
  "kernelspec": {
   "display_name": "Python 3 (ipykernel)",
   "language": "python",
   "name": "python3"
  },
  "language_info": {
   "codemirror_mode": {
    "name": "ipython",
    "version": 3
   },
   "file_extension": ".py",
   "mimetype": "text/x-python",
   "name": "python",
   "nbconvert_exporter": "python",
   "pygments_lexer": "ipython3",
   "version": "3.8.12"
  }
 },
 "nbformat": 4,
 "nbformat_minor": 5
}

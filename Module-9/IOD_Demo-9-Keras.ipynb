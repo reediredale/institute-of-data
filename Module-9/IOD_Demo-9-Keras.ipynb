{
 "cells": [
  {
   "cell_type": "markdown",
   "metadata": {
    "id": "26KthBFty-QG"
   },
   "source": [
    "<div>\n",
    "<img src=https://www.institutedata.com/wp-content/uploads/2019/10/iod_h_tp_primary_c.svg width=\"300\">\n",
    "</div>"
   ]
  },
  {
   "cell_type": "markdown",
   "metadata": {
    "id": "W5NydEUxy-QJ"
   },
   "source": [
    "# Demo: NN with Keras\n",
    "INSTRUCTIONS:\n",
    "- Run the cells\n",
    "- Observe and understand the results\n",
    "- Answer the questions"
   ]
  },
  {
   "cell_type": "markdown",
   "metadata": {
    "id": "9n746euhy-QN"
   },
   "source": [
    "## Written digits classification with Keras"
   ]
  },
  {
   "cell_type": "code",
   "execution_count": 3,
   "metadata": {
    "colab": {
     "base_uri": "https://localhost:8080/",
     "height": 34
    },
    "executionInfo": {
     "elapsed": 2928,
     "status": "ok",
     "timestamp": 1592824749653,
     "user": {
      "displayName": "Mai Anh Ly",
      "photoUrl": "https://lh3.googleusercontent.com/a-/AOh14Gj3m3ePWBwBFT7szOlaK8W7lylc_ZnY93J_HKbY5EYiLuSsLy7FtOhGAmfpk-co2FX3NdvOSoUHAjcKyRo5fYAxzXGwBuB_Scz8EEoI0Sd99Sg0jA2hPKbGGL6l3OXXH3RcebQAVwm8daKZ2HaryKtOGaYPEs9Xm4WwmZilYvP12BkymjKBBw7wXJMbb_FMuYXiSJ7kmY0DWt455ZoAKqVSJa8qwbs2DTI_8qb-mnSxDEsvUDfWP5HYXMJ0-_ZkGM3e4Ar7WqqeTz_ra4LyeKayfg3WeqVtxylbHQIDlD2SoYjxZBk1F9dK1eYMhV9norQqhOu7Vd-ye50GdIbvJT8-QvhH3mj6uskBTzXPrA1fEo302QbdbXAVY3r8PvhwuUw4aJtvHHsk37YZNZ36XzswOyKGtKP7YQr9nItYSOQ8ZmWzlJojcN0uHH1RFCoshmE-ncc5Vf8-0LXicZIQp4x8HCIVH93zt4_P9E3PyrYf5mw9oOzmxcBIX3u9yuRv_K3-XV9oUJTZRFCBOqP3phE4KUy_Hwn2ZSv0cfUiuFz5XpPAjvO6hYAsZTayx4_Tr-REFcps30D5U05ItXMetcHTu4JM9Yvg624ZAgWv6NZ526HoOcOja57kG4pX8lmBpLnL6r9bb7PolwB2hpZuZ1Ma4wzL6EG3xNS9VJzMmyN0nZTqf_05jxnnn0wsvqcUAhRqK9PbPxfieRzYPTE20QrMG6gxUrSZ9PDWIMEm5YAYgZb7dZU7_k51mccLXc2mEA=s64",
      "userId": "16059923818223643809"
     },
     "user_tz": -600
    },
    "id": "hJgb9UC1y-QQ",
    "outputId": "a21eacbd-ae6c-4e7d-dd78-d9ea165fbbb9"
   },
   "outputs": [],
   "source": [
    "## Import libraries\n",
    "import numpy as np\n",
    "\n",
    "%matplotlib inline\n",
    "import matplotlib.pyplot as plt\n",
    "\n",
    "from sklearn.datasets import load_digits\n",
    "from sklearn.metrics import confusion_matrix\n",
    "from sklearn.model_selection import train_test_split\n",
    "\n",
    "import keras\n",
    "from keras.models import Sequential\n",
    "from keras.layers import Dense\n",
    "from keras.utils import to_categorical"
   ]
  },
  {
   "cell_type": "code",
   "execution_count": 4,
   "metadata": {
    "id": "0tQuyTyyy-QZ"
   },
   "outputs": [],
   "source": [
    "# The digits dataset\n",
    "digits = load_digits()"
   ]
  },
  {
   "cell_type": "code",
   "execution_count": 5,
   "metadata": {
    "colab": {
     "base_uri": "https://localhost:8080/",
     "height": 826
    },
    "collapsed": true,
    "executionInfo": {
     "elapsed": 937,
     "status": "ok",
     "timestamp": 1592824754743,
     "user": {
      "displayName": "Mai Anh Ly",
      "photoUrl": "https://lh3.googleusercontent.com/a-/AOh14Gj3m3ePWBwBFT7szOlaK8W7lylc_ZnY93J_HKbY5EYiLuSsLy7FtOhGAmfpk-co2FX3NdvOSoUHAjcKyRo5fYAxzXGwBuB_Scz8EEoI0Sd99Sg0jA2hPKbGGL6l3OXXH3RcebQAVwm8daKZ2HaryKtOGaYPEs9Xm4WwmZilYvP12BkymjKBBw7wXJMbb_FMuYXiSJ7kmY0DWt455ZoAKqVSJa8qwbs2DTI_8qb-mnSxDEsvUDfWP5HYXMJ0-_ZkGM3e4Ar7WqqeTz_ra4LyeKayfg3WeqVtxylbHQIDlD2SoYjxZBk1F9dK1eYMhV9norQqhOu7Vd-ye50GdIbvJT8-QvhH3mj6uskBTzXPrA1fEo302QbdbXAVY3r8PvhwuUw4aJtvHHsk37YZNZ36XzswOyKGtKP7YQr9nItYSOQ8ZmWzlJojcN0uHH1RFCoshmE-ncc5Vf8-0LXicZIQp4x8HCIVH93zt4_P9E3PyrYf5mw9oOzmxcBIX3u9yuRv_K3-XV9oUJTZRFCBOqP3phE4KUy_Hwn2ZSv0cfUiuFz5XpPAjvO6hYAsZTayx4_Tr-REFcps30D5U05ItXMetcHTu4JM9Yvg624ZAgWv6NZ526HoOcOja57kG4pX8lmBpLnL6r9bb7PolwB2hpZuZ1Ma4wzL6EG3xNS9VJzMmyN0nZTqf_05jxnnn0wsvqcUAhRqK9PbPxfieRzYPTE20QrMG6gxUrSZ9PDWIMEm5YAYgZb7dZU7_k51mccLXc2mEA=s64",
      "userId": "16059923818223643809"
     },
     "user_tz": -600
    },
    "id": "Zn2DiwPXy-Qd",
    "jupyter": {
     "outputs_hidden": true
    },
    "outputId": "35034698-a503-4771-8176-a6a24a2aa06d",
    "tags": []
   },
   "outputs": [
    {
     "name": "stdout",
     "output_type": "stream",
     "text": [
      ".. _digits_dataset:\n",
      "\n",
      "Optical recognition of handwritten digits dataset\n",
      "--------------------------------------------------\n",
      "\n",
      "**Data Set Characteristics:**\n",
      "\n",
      "    :Number of Instances: 1797\n",
      "    :Number of Attributes: 64\n",
      "    :Attribute Information: 8x8 image of integer pixels in the range 0..16.\n",
      "    :Missing Attribute Values: None\n",
      "    :Creator: E. Alpaydin (alpaydin '@' boun.edu.tr)\n",
      "    :Date: July; 1998\n",
      "\n",
      "This is a copy of the test set of the UCI ML hand-written digits datasets\n",
      "https://archive.ics.uci.edu/ml/datasets/Optical+Recognition+of+Handwritten+Digits\n",
      "\n",
      "The data set contains images of hand-written digits: 10 classes where\n",
      "each class refers to a digit.\n",
      "\n",
      "Preprocessing programs made available by NIST were used to extract\n",
      "normalized bitmaps of handwritten digits from a preprinted form. From a\n",
      "total of 43 people, 30 contributed to the training set and different 13\n",
      "to the test set. 32x32 bitmaps are divided into nonoverlapping blocks of\n",
      "4x4 and the number of on pixels are counted in each block. This generates\n",
      "an input matrix of 8x8 where each element is an integer in the range\n",
      "0..16. This reduces dimensionality and gives invariance to small\n",
      "distortions.\n",
      "\n",
      "For info on NIST preprocessing routines, see M. D. Garris, J. L. Blue, G.\n",
      "T. Candela, D. L. Dimmick, J. Geist, P. J. Grother, S. A. Janet, and C.\n",
      "L. Wilson, NIST Form-Based Handprint Recognition System, NISTIR 5469,\n",
      "1994.\n",
      "\n",
      ".. topic:: References\n",
      "\n",
      "  - C. Kaynak (1995) Methods of Combining Multiple Classifiers and Their\n",
      "    Applications to Handwritten Digit Recognition, MSc Thesis, Institute of\n",
      "    Graduate Studies in Science and Engineering, Bogazici University.\n",
      "  - E. Alpaydin, C. Kaynak (1998) Cascading Classifiers, Kybernetika.\n",
      "  - Ken Tang and Ponnuthurai N. Suganthan and Xi Yao and A. Kai Qin.\n",
      "    Linear dimensionalityreduction using relevance weighted LDA. School of\n",
      "    Electrical and Electronic Engineering Nanyang Technological University.\n",
      "    2005.\n",
      "  - Claudio Gentile. A New Approximate Maximal Margin Classification\n",
      "    Algorithm. NIPS. 2000.\n",
      "\n"
     ]
    }
   ],
   "source": [
    "print(digits.DESCR)"
   ]
  },
  {
   "cell_type": "code",
   "execution_count": 9,
   "metadata": {
    "colab": {
     "base_uri": "https://localhost:8080/",
     "height": 147
    },
    "executionInfo": {
     "elapsed": 670,
     "status": "ok",
     "timestamp": 1560987197507,
     "user": {
      "displayName": "Ibrahim Faisal",
      "photoUrl": "https://lh3.googleusercontent.com/-67DMczu7rgM/AAAAAAAAAAI/AAAAAAAAAAc/6f5FCnBgxFs/s64/photo.jpg",
      "userId": "02685917636347920688"
     },
     "user_tz": -600
    },
    "id": "oi5lOrDYy-Qh",
    "outputId": "2efb7206-c6e1-4070-d8f5-57b76ffeea7c"
   },
   "outputs": [
    {
     "data": {
      "image/png": "[encoded data removed]",
      "text/plain": [
       "<Figure size 144x144 with 1 Axes>"
      ]
     },
     "metadata": {},
     "output_type": "display_data"
    }
   ],
   "source": [
    "id = np.random.randint(len(digits.target))\n",
    "plt.figure(figsize = (2, 2))\n",
    "plt.imshow(digits.images[id],cmap='gray')\n",
    "plt.xticks([])\n",
    "plt.yticks([])\n",
    "plt.show()"
   ]
  },
  {
   "cell_type": "code",
   "execution_count": 10,
   "metadata": {},
   "outputs": [],
   "source": [
    "X = digits.data.astype(np.uint8)"
   ]
  },
  {
   "cell_type": "code",
   "execution_count": 11,
   "metadata": {},
   "outputs": [
    {
     "data": {
      "text/plain": [
       "(1797, 64)"
      ]
     },
     "execution_count": 11,
     "metadata": {},
     "output_type": "execute_result"
    }
   ],
   "source": [
    "X.shape"
   ]
  },
  {
   "cell_type": "code",
   "execution_count": 12,
   "metadata": {
    "id": "k-Wu4bQJy-Ql"
   },
   "outputs": [],
   "source": [
    "# Prepare input data\n",
    "# input\n",
    "X = digits.data.astype(np.uint8)\n",
    "n_cols = X.shape[1]\n",
    "\n",
    "# output\n",
    "target = digits.target.astype(np.uint8)\n",
    "\n",
    "# Convert the target to categorical\n",
    "y = to_categorical(\n",
    "    target,\n",
    "    num_classes = len(set(target)),\n",
    "    dtype = 'uint8')"
   ]
  },
  {
   "cell_type": "code",
   "execution_count": 32,
   "metadata": {},
   "outputs": [
    {
     "data": {
      "text/plain": [
       "10"
      ]
     },
     "execution_count": 32,
     "metadata": {},
     "output_type": "execute_result"
    }
   ],
   "source": [
    "len(set(target))"
   ]
  },
  {
   "cell_type": "code",
   "execution_count": 13,
   "metadata": {
    "id": "nBFFtaWcy-Qo"
   },
   "outputs": [],
   "source": [
    "X_train, X_test, y_train, y_test = train_test_split(\n",
    "    X, y, \n",
    "    test_size = 0.3,\n",
    "    random_state = 65)"
   ]
  },
  {
   "cell_type": "code",
   "execution_count": 14,
   "metadata": {
    "id": "aKrm9Miqy-Qq"
   },
   "outputs": [],
   "source": [
    "# Set up the model architecture\n",
    "model = Sequential()"
   ]
  },
  {
   "cell_type": "code",
   "execution_count": 15,
   "metadata": {
    "id": "KC9AVmkFy-Qr"
   },
   "outputs": [],
   "source": [
    "# Add the first hidden layer\n",
    "model.add(Dense(100, activation = 'relu', input_shape = (n_cols, )))\n",
    "# Add the second hidden layer\n",
    "model.add(Dense(50, activation = 'relu'))\n",
    "\n",
    "# Add the output layer\n",
    "model.add(Dense(10, activation = 'softmax'))"
   ]
  },
  {
   "cell_type": "code",
   "execution_count": 16,
   "metadata": {
    "colab": {
     "base_uri": "https://localhost:8080/",
     "height": 281
    },
    "executionInfo": {
     "elapsed": 3737,
     "status": "ok",
     "timestamp": 1592825439619,
     "user": {
      "displayName": "Mai Anh Ly",
      "photoUrl": "https://lh3.googleusercontent.com/a-/AOh14Gj3m3ePWBwBFT7szOlaK8W7lylc_ZnY93J_HKbY5EYiLuSsLy7FtOhGAmfpk-co2FX3NdvOSoUHAjcKyRo5fYAxzXGwBuB_Scz8EEoI0Sd99Sg0jA2hPKbGGL6l3OXXH3RcebQAVwm8daKZ2HaryKtOGaYPEs9Xm4WwmZilYvP12BkymjKBBw7wXJMbb_FMuYXiSJ7kmY0DWt455ZoAKqVSJa8qwbs2DTI_8qb-mnSxDEsvUDfWP5HYXMJ0-_ZkGM3e4Ar7WqqeTz_ra4LyeKayfg3WeqVtxylbHQIDlD2SoYjxZBk1F9dK1eYMhV9norQqhOu7Vd-ye50GdIbvJT8-QvhH3mj6uskBTzXPrA1fEo302QbdbXAVY3r8PvhwuUw4aJtvHHsk37YZNZ36XzswOyKGtKP7YQr9nItYSOQ8ZmWzlJojcN0uHH1RFCoshmE-ncc5Vf8-0LXicZIQp4x8HCIVH93zt4_P9E3PyrYf5mw9oOzmxcBIX3u9yuRv_K3-XV9oUJTZRFCBOqP3phE4KUy_Hwn2ZSv0cfUiuFz5XpPAjvO6hYAsZTayx4_Tr-REFcps30D5U05ItXMetcHTu4JM9Yvg624ZAgWv6NZ526HoOcOja57kG4pX8lmBpLnL6r9bb7PolwB2hpZuZ1Ma4wzL6EG3xNS9VJzMmyN0nZTqf_05jxnnn0wsvqcUAhRqK9PbPxfieRzYPTE20QrMG6gxUrSZ9PDWIMEm5YAYgZb7dZU7_k51mccLXc2mEA=s64",
      "userId": "16059923818223643809"
     },
     "user_tz": -600
    },
    "id": "05KgUEX8y-Qt",
    "outputId": "eb02ea89-956b-466a-913f-3904294686b4"
   },
   "outputs": [
    {
     "name": "stdout",
     "output_type": "stream",
     "text": [
      "Model: \"sequential\"\n",
      "_________________________________________________________________\n",
      "Layer (type)                 Output Shape              Param #   \n",
      "=================================================================\n",
      "dense (Dense)                (None, 100)               6500      \n",
      "_________________________________________________________________\n",
      "dense_1 (Dense)              (None, 50)                5050      \n",
      "_________________________________________________________________\n",
      "dense_2 (Dense)              (None, 10)                510       \n",
      "=================================================================\n",
      "Total params: 12,060\n",
      "Trainable params: 12,060\n",
      "Non-trainable params: 0\n",
      "_________________________________________________________________\n",
      "None\n"
     ]
    }
   ],
   "source": [
    "print(model.summary())"
   ]
  },
  {
   "cell_type": "code",
   "execution_count": 17,
   "metadata": {
    "id": "4eu9O-5Xy-Qv"
   },
   "outputs": [],
   "source": [
    "# Compile the model\n",
    "model.compile(\n",
    "    optimizer = 'sgd',\n",
    "    loss = 'categorical_crossentropy',\n",
    "    metrics = ['accuracy'])"
   ]
  },
  {
   "cell_type": "code",
   "execution_count": 18,
   "metadata": {
    "colab": {
     "base_uri": "https://localhost:8080/",
     "height": 1000
    },
    "executionInfo": {
     "elapsed": 20827,
     "status": "ok",
     "timestamp": 1592825467331,
     "user": {
      "displayName": "Mai Anh Ly",
      "photoUrl": "https://lh3.googleusercontent.com/a-/AOh14Gj3m3ePWBwBFT7szOlaK8W7lylc_ZnY93J_HKbY5EYiLuSsLy7FtOhGAmfpk-co2FX3NdvOSoUHAjcKyRo5fYAxzXGwBuB_Scz8EEoI0Sd99Sg0jA2hPKbGGL6l3OXXH3RcebQAVwm8daKZ2HaryKtOGaYPEs9Xm4WwmZilYvP12BkymjKBBw7wXJMbb_FMuYXiSJ7kmY0DWt455ZoAKqVSJa8qwbs2DTI_8qb-mnSxDEsvUDfWP5HYXMJ0-_ZkGM3e4Ar7WqqeTz_ra4LyeKayfg3WeqVtxylbHQIDlD2SoYjxZBk1F9dK1eYMhV9norQqhOu7Vd-ye50GdIbvJT8-QvhH3mj6uskBTzXPrA1fEo302QbdbXAVY3r8PvhwuUw4aJtvHHsk37YZNZ36XzswOyKGtKP7YQr9nItYSOQ8ZmWzlJojcN0uHH1RFCoshmE-ncc5Vf8-0LXicZIQp4x8HCIVH93zt4_P9E3PyrYf5mw9oOzmxcBIX3u9yuRv_K3-XV9oUJTZRFCBOqP3phE4KUy_Hwn2ZSv0cfUiuFz5XpPAjvO6hYAsZTayx4_Tr-REFcps30D5U05ItXMetcHTu4JM9Yvg624ZAgWv6NZ526HoOcOja57kG4pX8lmBpLnL6r9bb7PolwB2hpZuZ1Ma4wzL6EG3xNS9VJzMmyN0nZTqf_05jxnnn0wsvqcUAhRqK9PbPxfieRzYPTE20QrMG6gxUrSZ9PDWIMEm5YAYgZb7dZU7_k51mccLXc2mEA=s64",
      "userId": "16059923818223643809"
     },
     "user_tz": -600
    },
    "id": "DSnIhJ0My-Qw",
    "outputId": "26c418d2-14a1-43b2-de47-f64e320dbcb9"
   },
   "outputs": [
    {
     "name": "stdout",
     "output_type": "stream",
     "text": [
      "Epoch 1/100\n",
      "48/48 - 0s - loss: 1.3407 - accuracy: 0.6401 - val_loss: 1.2014 - val_accuracy: 0.6127\n",
      "Epoch 2/100\n",
      "48/48 - 0s - loss: 0.3136 - accuracy: 0.9055 - val_loss: 0.3493 - val_accuracy: 0.8889\n",
      "Epoch 3/100\n",
      "48/48 - 0s - loss: 0.1919 - accuracy: 0.9501 - val_loss: 0.8508 - val_accuracy: 0.6921\n",
      "Epoch 4/100\n",
      "48/48 - 0s - loss: 0.1529 - accuracy: 0.9628 - val_loss: 0.2728 - val_accuracy: 0.9206\n",
      "Epoch 5/100\n",
      "48/48 - 0s - loss: 0.1090 - accuracy: 0.9735 - val_loss: 0.2191 - val_accuracy: 0.9365\n",
      "Epoch 6/100\n",
      "48/48 - 0s - loss: 0.0921 - accuracy: 0.9766 - val_loss: 0.2160 - val_accuracy: 0.9397\n",
      "Epoch 7/100\n",
      "48/48 - 0s - loss: 0.0768 - accuracy: 0.9798 - val_loss: 0.1866 - val_accuracy: 0.9429\n",
      "Epoch 8/100\n",
      "48/48 - 0s - loss: 0.0596 - accuracy: 0.9883 - val_loss: 0.2041 - val_accuracy: 0.9365\n",
      "Epoch 9/100\n",
      "48/48 - 0s - loss: 0.0553 - accuracy: 0.9894 - val_loss: 0.2093 - val_accuracy: 0.9429\n",
      "Epoch 10/100\n",
      "48/48 - 0s - loss: 0.0510 - accuracy: 0.9915 - val_loss: 0.2279 - val_accuracy: 0.9397\n",
      "Epoch 11/100\n",
      "48/48 - 0s - loss: 0.0426 - accuracy: 0.9936 - val_loss: 0.1902 - val_accuracy: 0.9492\n",
      "Epoch 12/100\n",
      "48/48 - 0s - loss: 0.0367 - accuracy: 0.9958 - val_loss: 0.1837 - val_accuracy: 0.9524\n",
      "Epoch 13/100\n",
      "48/48 - 0s - loss: 0.0367 - accuracy: 0.9926 - val_loss: 0.1816 - val_accuracy: 0.9524\n",
      "Epoch 14/100\n",
      "48/48 - 0s - loss: 0.0297 - accuracy: 0.9947 - val_loss: 3.3885 - val_accuracy: 0.4730\n",
      "Epoch 15/100\n",
      "48/48 - 0s - loss: 0.1185 - accuracy: 0.9798 - val_loss: 0.1901 - val_accuracy: 0.9619\n",
      "Epoch 16/100\n",
      "48/48 - 0s - loss: 0.0283 - accuracy: 0.9989 - val_loss: 0.1762 - val_accuracy: 0.9619\n",
      "Epoch 17/100\n",
      "48/48 - 0s - loss: 0.0233 - accuracy: 0.9989 - val_loss: 0.1836 - val_accuracy: 0.9619\n",
      "Epoch 18/100\n",
      "48/48 - 0s - loss: 0.0213 - accuracy: 0.9989 - val_loss: 0.1812 - val_accuracy: 0.9587\n",
      "Epoch 19/100\n",
      "48/48 - 0s - loss: 0.0200 - accuracy: 0.9979 - val_loss: 0.1661 - val_accuracy: 0.9651\n",
      "Epoch 20/100\n",
      "48/48 - 0s - loss: 0.0174 - accuracy: 0.9989 - val_loss: 0.1640 - val_accuracy: 0.9651\n",
      "Epoch 21/100\n",
      "48/48 - 0s - loss: 0.0169 - accuracy: 0.9989 - val_loss: 0.1600 - val_accuracy: 0.9651\n",
      "Epoch 22/100\n",
      "48/48 - 0s - loss: 0.0151 - accuracy: 0.9989 - val_loss: 0.3761 - val_accuracy: 0.8857\n",
      "Epoch 23/100\n",
      "48/48 - 0s - loss: 0.0231 - accuracy: 0.9968 - val_loss: 0.1591 - val_accuracy: 0.9651\n",
      "Epoch 24/100\n",
      "48/48 - 0s - loss: 0.0140 - accuracy: 1.0000 - val_loss: 0.1592 - val_accuracy: 0.9651\n",
      "Epoch 25/100\n",
      "48/48 - 0s - loss: 0.0124 - accuracy: 0.9989 - val_loss: 0.1611 - val_accuracy: 0.9683\n",
      "Epoch 26/100\n",
      "48/48 - 0s - loss: 0.0118 - accuracy: 1.0000 - val_loss: 0.2997 - val_accuracy: 0.9238\n",
      "Epoch 27/100\n",
      "48/48 - 0s - loss: 0.0145 - accuracy: 1.0000 - val_loss: 0.1705 - val_accuracy: 0.9587\n",
      "Epoch 28/100\n",
      "48/48 - 0s - loss: 0.0108 - accuracy: 1.0000 - val_loss: 0.1570 - val_accuracy: 0.9651\n",
      "Epoch 29/100\n",
      "48/48 - 0s - loss: 0.0099 - accuracy: 1.0000 - val_loss: 0.1623 - val_accuracy: 0.9651\n",
      "Epoch 30/100\n",
      "48/48 - 0s - loss: 0.0097 - accuracy: 1.0000 - val_loss: 0.1578 - val_accuracy: 0.9619\n",
      "Epoch 31/100\n",
      "48/48 - 0s - loss: 0.0092 - accuracy: 1.0000 - val_loss: 0.1534 - val_accuracy: 0.9651\n",
      "Epoch 32/100\n",
      "48/48 - 0s - loss: 0.0090 - accuracy: 1.0000 - val_loss: 0.1534 - val_accuracy: 0.9683\n",
      "Epoch 33/100\n",
      "48/48 - 0s - loss: 0.0084 - accuracy: 1.0000 - val_loss: 0.1576 - val_accuracy: 0.9651\n",
      "Epoch 34/100\n",
      "48/48 - 0s - loss: 0.0081 - accuracy: 1.0000 - val_loss: 0.1568 - val_accuracy: 0.9683\n",
      "Epoch 35/100\n",
      "48/48 - 0s - loss: 0.0078 - accuracy: 1.0000 - val_loss: 0.1538 - val_accuracy: 0.9619\n",
      "Epoch 36/100\n",
      "48/48 - 0s - loss: 0.0078 - accuracy: 1.0000 - val_loss: 0.1585 - val_accuracy: 0.9683\n",
      "Epoch 37/100\n",
      "48/48 - 0s - loss: 0.0072 - accuracy: 1.0000 - val_loss: 0.1591 - val_accuracy: 0.9683\n",
      "Epoch 38/100\n",
      "48/48 - 0s - loss: 0.0070 - accuracy: 1.0000 - val_loss: 0.1575 - val_accuracy: 0.9683\n",
      "Epoch 39/100\n",
      "48/48 - 0s - loss: 0.0067 - accuracy: 1.0000 - val_loss: 0.1603 - val_accuracy: 0.9683\n",
      "Epoch 40/100\n",
      "48/48 - 0s - loss: 0.0065 - accuracy: 1.0000 - val_loss: 0.1567 - val_accuracy: 0.9683\n",
      "Epoch 41/100\n",
      "48/48 - 0s - loss: 0.0063 - accuracy: 1.0000 - val_loss: 0.1574 - val_accuracy: 0.9714\n",
      "Epoch 42/100\n",
      "48/48 - 0s - loss: 0.0063 - accuracy: 1.0000 - val_loss: 0.1533 - val_accuracy: 0.9683\n",
      "Epoch 43/100\n",
      "48/48 - 0s - loss: 0.0059 - accuracy: 1.0000 - val_loss: 0.1572 - val_accuracy: 0.9683\n",
      "Epoch 44/100\n",
      "48/48 - 0s - loss: 0.0058 - accuracy: 1.0000 - val_loss: 0.1573 - val_accuracy: 0.9683\n",
      "Epoch 45/100\n",
      "48/48 - 0s - loss: 0.0056 - accuracy: 1.0000 - val_loss: 0.1561 - val_accuracy: 0.9683\n",
      "Epoch 46/100\n",
      "48/48 - 0s - loss: 0.0054 - accuracy: 1.0000 - val_loss: 0.1580 - val_accuracy: 0.9683\n",
      "Epoch 47/100\n",
      "48/48 - 0s - loss: 0.0053 - accuracy: 1.0000 - val_loss: 0.1595 - val_accuracy: 0.9683\n",
      "Epoch 48/100\n",
      "48/48 - 0s - loss: 0.0052 - accuracy: 1.0000 - val_loss: 0.1535 - val_accuracy: 0.9683\n",
      "Epoch 49/100\n",
      "48/48 - 0s - loss: 0.0050 - accuracy: 1.0000 - val_loss: 0.1608 - val_accuracy: 0.9651\n",
      "Epoch 50/100\n",
      "48/48 - 0s - loss: 0.0051 - accuracy: 1.0000 - val_loss: 0.1557 - val_accuracy: 0.9683\n",
      "Epoch 51/100\n",
      "48/48 - 0s - loss: 0.0047 - accuracy: 1.0000 - val_loss: 0.1571 - val_accuracy: 0.9683\n",
      "Epoch 52/100\n",
      "48/48 - 0s - loss: 0.0047 - accuracy: 1.0000 - val_loss: 0.1563 - val_accuracy: 0.9683\n",
      "Epoch 53/100\n",
      "48/48 - 0s - loss: 0.0045 - accuracy: 1.0000 - val_loss: 0.1604 - val_accuracy: 0.9683\n",
      "Epoch 54/100\n",
      "48/48 - 0s - loss: 0.0044 - accuracy: 1.0000 - val_loss: 0.1505 - val_accuracy: 0.9683\n",
      "Epoch 55/100\n",
      "48/48 - 0s - loss: 0.0043 - accuracy: 1.0000 - val_loss: 0.1529 - val_accuracy: 0.9683\n",
      "Epoch 56/100\n",
      "48/48 - 0s - loss: 0.0042 - accuracy: 1.0000 - val_loss: 0.1636 - val_accuracy: 0.9683\n",
      "Epoch 57/100\n",
      "48/48 - 0s - loss: 0.0041 - accuracy: 1.0000 - val_loss: 0.1583 - val_accuracy: 0.9651\n",
      "Epoch 58/100\n",
      "48/48 - 0s - loss: 0.0043 - accuracy: 1.0000 - val_loss: 0.1596 - val_accuracy: 0.9683\n",
      "Epoch 59/100\n",
      "48/48 - 0s - loss: 0.0040 - accuracy: 1.0000 - val_loss: 0.1563 - val_accuracy: 0.9683\n",
      "Epoch 60/100\n",
      "48/48 - 0s - loss: 0.0039 - accuracy: 1.0000 - val_loss: 0.1566 - val_accuracy: 0.9683\n",
      "Epoch 61/100\n",
      "48/48 - 0s - loss: 0.0038 - accuracy: 1.0000 - val_loss: 0.1562 - val_accuracy: 0.9683\n",
      "Epoch 62/100\n",
      "48/48 - 0s - loss: 0.0037 - accuracy: 1.0000 - val_loss: 0.1545 - val_accuracy: 0.9683\n",
      "Epoch 63/100\n",
      "48/48 - 0s - loss: 0.0036 - accuracy: 1.0000 - val_loss: 0.1503 - val_accuracy: 0.9683\n",
      "Epoch 64/100\n",
      "48/48 - 0s - loss: 0.0036 - accuracy: 1.0000 - val_loss: 0.1530 - val_accuracy: 0.9683\n",
      "Epoch 65/100\n",
      "48/48 - 0s - loss: 0.0035 - accuracy: 1.0000 - val_loss: 0.1545 - val_accuracy: 0.9683\n",
      "Epoch 66/100\n",
      "48/48 - 0s - loss: 0.0034 - accuracy: 1.0000 - val_loss: 0.1554 - val_accuracy: 0.9651\n",
      "Epoch 67/100\n",
      "48/48 - 0s - loss: 0.0033 - accuracy: 1.0000 - val_loss: 0.1539 - val_accuracy: 0.9683\n",
      "Epoch 68/100\n",
      "48/48 - 0s - loss: 0.0033 - accuracy: 1.0000 - val_loss: 0.1541 - val_accuracy: 0.9683\n",
      "Epoch 69/100\n",
      "48/48 - 0s - loss: 0.0033 - accuracy: 1.0000 - val_loss: 0.1543 - val_accuracy: 0.9651\n",
      "Epoch 70/100\n",
      "48/48 - 0s - loss: 0.0032 - accuracy: 1.0000 - val_loss: 0.1567 - val_accuracy: 0.9651\n",
      "Epoch 71/100\n",
      "48/48 - 0s - loss: 0.0032 - accuracy: 1.0000 - val_loss: 0.1536 - val_accuracy: 0.9651\n",
      "Epoch 72/100\n",
      "48/48 - 0s - loss: 0.0031 - accuracy: 1.0000 - val_loss: 0.1574 - val_accuracy: 0.9651\n",
      "Epoch 73/100\n",
      "48/48 - 0s - loss: 0.0030 - accuracy: 1.0000 - val_loss: 0.1570 - val_accuracy: 0.9651\n",
      "Epoch 74/100\n",
      "48/48 - 0s - loss: 0.0030 - accuracy: 1.0000 - val_loss: 0.1554 - val_accuracy: 0.9651\n",
      "Epoch 75/100\n",
      "48/48 - 0s - loss: 0.0029 - accuracy: 1.0000 - val_loss: 0.1539 - val_accuracy: 0.9651\n",
      "Epoch 76/100\n",
      "48/48 - 0s - loss: 0.0029 - accuracy: 1.0000 - val_loss: 0.1533 - val_accuracy: 0.9651\n",
      "Epoch 77/100\n",
      "48/48 - 0s - loss: 0.0029 - accuracy: 1.0000 - val_loss: 0.1543 - val_accuracy: 0.9651\n",
      "Epoch 78/100\n",
      "48/48 - 0s - loss: 0.0028 - accuracy: 1.0000 - val_loss: 0.1537 - val_accuracy: 0.9651\n",
      "Epoch 79/100\n",
      "48/48 - 0s - loss: 0.0027 - accuracy: 1.0000 - val_loss: 0.1572 - val_accuracy: 0.9651\n",
      "Epoch 80/100\n",
      "48/48 - 0s - loss: 0.0027 - accuracy: 1.0000 - val_loss: 0.1566 - val_accuracy: 0.9651\n",
      "Epoch 81/100\n",
      "48/48 - 0s - loss: 0.0027 - accuracy: 1.0000 - val_loss: 0.1548 - val_accuracy: 0.9651\n",
      "Epoch 82/100\n",
      "48/48 - 0s - loss: 0.0026 - accuracy: 1.0000 - val_loss: 0.1532 - val_accuracy: 0.9651\n",
      "Epoch 83/100\n",
      "48/48 - 0s - loss: 0.0026 - accuracy: 1.0000 - val_loss: 0.1541 - val_accuracy: 0.9683\n",
      "Epoch 84/100\n",
      "48/48 - 0s - loss: 0.0026 - accuracy: 1.0000 - val_loss: 0.1546 - val_accuracy: 0.9651\n",
      "Epoch 85/100\n",
      "48/48 - 0s - loss: 0.0025 - accuracy: 1.0000 - val_loss: 0.1580 - val_accuracy: 0.9651\n",
      "Epoch 86/100\n",
      "48/48 - 0s - loss: 0.0025 - accuracy: 1.0000 - val_loss: 0.1565 - val_accuracy: 0.9651\n",
      "Epoch 87/100\n",
      "48/48 - 0s - loss: 0.0025 - accuracy: 1.0000 - val_loss: 0.1552 - val_accuracy: 0.9651\n",
      "Epoch 88/100\n",
      "48/48 - 0s - loss: 0.0024 - accuracy: 1.0000 - val_loss: 0.1541 - val_accuracy: 0.9651\n",
      "Epoch 89/100\n",
      "48/48 - 0s - loss: 0.0024 - accuracy: 1.0000 - val_loss: 0.1573 - val_accuracy: 0.9651\n",
      "Epoch 90/100\n",
      "48/48 - 0s - loss: 0.0024 - accuracy: 1.0000 - val_loss: 0.1576 - val_accuracy: 0.9651\n",
      "Epoch 91/100\n",
      "48/48 - 0s - loss: 0.0024 - accuracy: 1.0000 - val_loss: 0.1569 - val_accuracy: 0.9651\n",
      "Epoch 92/100\n",
      "48/48 - 0s - loss: 0.0023 - accuracy: 1.0000 - val_loss: 0.1555 - val_accuracy: 0.9651\n",
      "Epoch 93/100\n",
      "48/48 - 0s - loss: 0.0023 - accuracy: 1.0000 - val_loss: 0.1584 - val_accuracy: 0.9651\n",
      "Epoch 94/100\n",
      "48/48 - 0s - loss: 0.0023 - accuracy: 1.0000 - val_loss: 0.1626 - val_accuracy: 0.9651\n",
      "Epoch 95/100\n",
      "48/48 - 0s - loss: 0.0022 - accuracy: 1.0000 - val_loss: 0.1558 - val_accuracy: 0.9651\n",
      "Epoch 96/100\n",
      "48/48 - 0s - loss: 0.0022 - accuracy: 1.0000 - val_loss: 0.1568 - val_accuracy: 0.9651\n",
      "Epoch 97/100\n",
      "48/48 - 0s - loss: 0.0022 - accuracy: 1.0000 - val_loss: 0.1554 - val_accuracy: 0.9651\n",
      "Epoch 98/100\n",
      "48/48 - 0s - loss: 0.0021 - accuracy: 1.0000 - val_loss: 0.1567 - val_accuracy: 0.9651\n",
      "Epoch 99/100\n",
      "48/48 - 0s - loss: 0.0021 - accuracy: 1.0000 - val_loss: 0.1577 - val_accuracy: 0.9651\n",
      "Epoch 100/100\n",
      "48/48 - 0s - loss: 0.0021 - accuracy: 1.0000 - val_loss: 0.1590 - val_accuracy: 0.9651\n",
      "Wall time: 7.65 s\n"
     ]
    }
   ],
   "source": [
    "%%time\n",
    "# Fit the model\n",
    "history = model.fit(\n",
    "    X_train,\n",
    "    y_train,\n",
    "    validation_split = 0.25,\n",
    "    batch_size = 20,\n",
    "    epochs = 100,\n",
    "    verbose = 2)"
   ]
  },
  {
   "cell_type": "code",
   "execution_count": 19,
   "metadata": {
    "id": "CQsFQY0fy-Qy"
   },
   "outputs": [
    {
     "name": "stdout",
     "output_type": "stream",
     "text": [
      "WARNING:tensorflow:From <ipython-input-19-bc83193b8b59>:1: Sequential.predict_classes (from tensorflow.python.keras.engine.sequential) is deprecated and will be removed after 2021-01-01.\n",
      "Instructions for updating:\n",
      "Please use instead:* `np.argmax(model.predict(x), axis=-1)`,   if your model does multi-class classification   (e.g. if it uses a `softmax` last-layer activation).* `(model.predict(x) > 0.5).astype(\"int32\")`,   if your model does binary classification   (e.g. if it uses a `sigmoid` last-layer activation).\n"
     ]
    }
   ],
   "source": [
    "predictions = model.predict_classes(X_test)"
   ]
  },
  {
   "cell_type": "code",
   "execution_count": 20,
   "metadata": {
    "colab": {
     "base_uri": "https://localhost:8080/",
     "height": 70
    },
    "executionInfo": {
     "elapsed": 1160,
     "status": "ok",
     "timestamp": 1592825475254,
     "user": {
      "displayName": "Mai Anh Ly",
      "photoUrl": "https://lh3.googleusercontent.com/a-/AOh14Gj3m3ePWBwBFT7szOlaK8W7lylc_ZnY93J_HKbY5EYiLuSsLy7FtOhGAmfpk-co2FX3NdvOSoUHAjcKyRo5fYAxzXGwBuB_Scz8EEoI0Sd99Sg0jA2hPKbGGL6l3OXXH3RcebQAVwm8daKZ2HaryKtOGaYPEs9Xm4WwmZilYvP12BkymjKBBw7wXJMbb_FMuYXiSJ7kmY0DWt455ZoAKqVSJa8qwbs2DTI_8qb-mnSxDEsvUDfWP5HYXMJ0-_ZkGM3e4Ar7WqqeTz_ra4LyeKayfg3WeqVtxylbHQIDlD2SoYjxZBk1F9dK1eYMhV9norQqhOu7Vd-ye50GdIbvJT8-QvhH3mj6uskBTzXPrA1fEo302QbdbXAVY3r8PvhwuUw4aJtvHHsk37YZNZ36XzswOyKGtKP7YQr9nItYSOQ8ZmWzlJojcN0uHH1RFCoshmE-ncc5Vf8-0LXicZIQp4x8HCIVH93zt4_P9E3PyrYf5mw9oOzmxcBIX3u9yuRv_K3-XV9oUJTZRFCBOqP3phE4KUy_Hwn2ZSv0cfUiuFz5XpPAjvO6hYAsZTayx4_Tr-REFcps30D5U05ItXMetcHTu4JM9Yvg624ZAgWv6NZ526HoOcOja57kG4pX8lmBpLnL6r9bb7PolwB2hpZuZ1Ma4wzL6EG3xNS9VJzMmyN0nZTqf_05jxnnn0wsvqcUAhRqK9PbPxfieRzYPTE20QrMG6gxUrSZ9PDWIMEm5YAYgZb7dZU7_k51mccLXc2mEA=s64",
      "userId": "16059923818223643809"
     },
     "user_tz": -600
    },
    "id": "7XbWCdmmy-Q0",
    "outputId": "24e9b6ce-ba9f-41de-c035-7b6fa869d690",
    "scrolled": true
   },
   "outputs": [
    {
     "name": "stdout",
     "output_type": "stream",
     "text": [
      "2/2 [==============================] - 0s 1ms/step - loss: 0.0985 - accuracy: 0.9759\n",
      "\n",
      "Test loss: 0.098479, Test accuracy: 0.975926\n"
     ]
    }
   ],
   "source": [
    "score = model.evaluate(X_test, y_test, batch_size = 315)\n",
    "print('\\nTest loss: %.6f, Test accuracy: %.6f' % tuple(score))"
   ]
  },
  {
   "cell_type": "code",
   "execution_count": 21,
   "metadata": {},
   "outputs": [
    {
     "data": {
      "text/plain": [
       "[0.09847947210073471, 0.9759259223937988]"
      ]
     },
     "execution_count": 21,
     "metadata": {},
     "output_type": "execute_result"
    }
   ],
   "source": [
    "score"
   ]
  },
  {
   "cell_type": "code",
   "execution_count": 22,
   "metadata": {
    "id": "YAEoxWaNy-Q2"
   },
   "outputs": [],
   "source": [
    "def print_cm(cm):\n",
    "    c = '%%%dd ' % len('%d' % cm.max())\n",
    "    s = ' | '\n",
    "    s += ''.join([c % i for i in range(len(cm[0]))])\n",
    "    print(s)\n",
    "    print('-' * len(s))\n",
    "    for i, r in enumerate(cm):\n",
    "        s = '%d| ' % i\n",
    "        s += c * len(r)\n",
    "        print(s % tuple(r))"
   ]
  },
  {
   "cell_type": "code",
   "execution_count": 23,
   "metadata": {
    "colab": {
     "base_uri": "https://localhost:8080/",
     "height": 230
    },
    "executionInfo": {
     "elapsed": 677,
     "status": "ok",
     "timestamp": 1560987282219,
     "user": {
      "displayName": "Ibrahim Faisal",
      "photoUrl": "https://lh3.googleusercontent.com/-67DMczu7rgM/AAAAAAAAAAI/AAAAAAAAAAc/6f5FCnBgxFs/s64/photo.jpg",
      "userId": "02685917636347920688"
     },
     "user_tz": -600
    },
    "id": "5a00OEH5y-Q4",
    "outputId": "3344a8e1-bb45-4799-9e98-2fef7e4b907f",
    "scrolled": true
   },
   "outputs": [
    {
     "name": "stdout",
     "output_type": "stream",
     "text": [
      " |  0  1  2  3  4  5  6  7  8  9 \n",
      "---------------------------------\n",
      "0| 53  0  0  0  2  0  0  0  0  0 \n",
      "1|  0 53  1  0  0  0  1  0  0  0 \n",
      "2|  0  0 48  0  0  0  0  1  0  0 \n",
      "3|  0  0  0 50  0  1  0  0  1  0 \n",
      "4|  0  0  0  0 55  0  0  0  0  0 \n",
      "5|  0  0  0  0  0 60  0  0  0  0 \n",
      "6|  0  0  0  0  0  1 60  0  0  0 \n",
      "7|  0  0  0  0  0  1  0 51  0  0 \n",
      "8|  0  1  0  0  0  1  0  0 46  1 \n",
      "9|  0  0  0  0  0  1  0  0  0 51 \n"
     ]
    }
   ],
   "source": [
    "y_test_target = np.array([x.argmax() for x in y_test])\n",
    "cm = confusion_matrix(y_test_target, predictions)\n",
    "print_cm(cm)"
   ]
  },
  {
   "cell_type": "code",
   "execution_count": 32,
   "metadata": {},
   "outputs": [
    {
     "name": "stdout",
     "output_type": "stream",
     "text": [
      "[[53  0  0  0  2  0  0  0  0  0]\n",
      " [ 0 53  1  0  0  0  1  0  0  0]\n",
      " [ 0  0 48  0  0  0  0  1  0  0]\n",
      " [ 0  0  0 50  0  1  0  0  1  0]\n",
      " [ 0  0  0  0 55  0  0  0  0  0]\n",
      " [ 0  0  0  0  0 60  0  0  0  0]\n",
      " [ 0  0  0  0  0  1 60  0  0  0]\n",
      " [ 0  0  0  0  0  1  0 51  0  0]\n",
      " [ 0  1  0  0  0  1  0  0 46  1]\n",
      " [ 0  0  0  0  0  1  0  0  0 51]]\n"
     ]
    }
   ],
   "source": [
    "print(confusion_matrix(y_test_target, predictions))\n"
   ]
  },
  {
   "cell_type": "code",
   "execution_count": 42,
   "metadata": {},
   "outputs": [
    {
     "data": {
      "text/plain": [
       "array([0, 1, 2, ..., 8, 9, 8], dtype=uint8)"
      ]
     },
     "execution_count": 42,
     "metadata": {},
     "output_type": "execute_result"
    }
   ],
   "source": [
    "target"
   ]
  },
  {
   "cell_type": "code",
   "execution_count": 46,
   "metadata": {
    "colab": {
     "base_uri": "https://localhost:8080/",
     "height": 430
    },
    "executionInfo": {
     "elapsed": 1308,
     "status": "ok",
     "timestamp": 1560987288359,
     "user": {
      "displayName": "Ibrahim Faisal",
      "photoUrl": "https://lh3.googleusercontent.com/-67DMczu7rgM/AAAAAAAAAAI/AAAAAAAAAAc/6f5FCnBgxFs/s64/photo.jpg",
      "userId": "02685917636347920688"
     },
     "user_tz": -600
    },
    "id": "UhiEYNVqy-Q6",
    "outputId": "f2584738-9742-4c15-8735-98938107e333",
    "scrolled": true
   },
   "outputs": [
    {
     "ename": "KeyError",
     "evalue": "'accuracy'",
     "output_type": "error",
     "traceback": [
      "\u001b[1;31m---------------------------------------------------------------------------\u001b[0m",
      "\u001b[1;31mKeyError\u001b[0m                                  Traceback (most recent call last)",
      "\u001b[1;32m<ipython-input-46-d6f7ada65eb5>\u001b[0m in \u001b[0;36m<module>\u001b[1;34m\u001b[0m\n\u001b[0;32m      5\u001b[0m \u001b[1;33m\u001b[0m\u001b[0m\n\u001b[0;32m      6\u001b[0m \u001b[1;31m# Plot training & validation accuracy values\u001b[0m\u001b[1;33m\u001b[0m\u001b[1;33m\u001b[0m\u001b[1;33m\u001b[0m\u001b[0m\n\u001b[1;32m----> 7\u001b[1;33m \u001b[0max\u001b[0m\u001b[1;33m[\u001b[0m\u001b[1;36m0\u001b[0m\u001b[1;33m]\u001b[0m\u001b[1;33m.\u001b[0m\u001b[0mplot\u001b[0m\u001b[1;33m(\u001b[0m\u001b[0mmodel\u001b[0m\u001b[1;33m.\u001b[0m\u001b[0mhistory\u001b[0m\u001b[1;33m.\u001b[0m\u001b[0mhistory\u001b[0m\u001b[1;33m[\u001b[0m\u001b[1;34m'accuracy'\u001b[0m\u001b[1;33m]\u001b[0m\u001b[1;33m,\u001b[0m \u001b[0mlabel\u001b[0m \u001b[1;33m=\u001b[0m \u001b[1;34m'Training'\u001b[0m\u001b[1;33m)\u001b[0m\u001b[1;33m\u001b[0m\u001b[1;33m\u001b[0m\u001b[0m\n\u001b[0m\u001b[0;32m      8\u001b[0m \u001b[0max\u001b[0m\u001b[1;33m[\u001b[0m\u001b[1;36m0\u001b[0m\u001b[1;33m]\u001b[0m\u001b[1;33m.\u001b[0m\u001b[0mplot\u001b[0m\u001b[1;33m(\u001b[0m\u001b[0mmodel\u001b[0m\u001b[1;33m.\u001b[0m\u001b[0mhistory\u001b[0m\u001b[1;33m.\u001b[0m\u001b[0mhistory\u001b[0m\u001b[1;33m[\u001b[0m\u001b[1;34m'val_accuracy'\u001b[0m\u001b[1;33m]\u001b[0m\u001b[1;33m,\u001b[0m \u001b[0mlabel\u001b[0m \u001b[1;33m=\u001b[0m \u001b[1;34m'Validation'\u001b[0m\u001b[1;33m)\u001b[0m\u001b[1;33m\u001b[0m\u001b[1;33m\u001b[0m\u001b[0m\n\u001b[0;32m      9\u001b[0m \u001b[0max\u001b[0m\u001b[1;33m[\u001b[0m\u001b[1;36m0\u001b[0m\u001b[1;33m]\u001b[0m\u001b[1;33m.\u001b[0m\u001b[0mset_title\u001b[0m\u001b[1;33m(\u001b[0m\u001b[1;34m'Model accuracy'\u001b[0m\u001b[1;33m)\u001b[0m\u001b[1;33m\u001b[0m\u001b[1;33m\u001b[0m\u001b[0m\n",
      "\u001b[1;31mKeyError\u001b[0m: 'accuracy'"
     ]
    },
    {
     "data": {
      "image/png": "[encoded data removed]",
      "text/plain": [
       "<Figure size 1296x432 with 2 Axes>"
      ]
     },
     "metadata": {
      "needs_background": "light"
     },
     "output_type": "display_data"
    }
   ],
   "source": [
    "fig, ax = plt.subplots(1, 2, figsize = (18, 6))\n",
    "fig.subplots_adjust(left = 0.02, right = 0.98, wspace = 0.2)\n",
    "\n",
    "plt.rcParams.update({'font.size': 18})\n",
    "\n",
    "# Plot training & validation accuracy values\n",
    "ax[0].plot(model.history.history['accuracy'], label = 'Training')\n",
    "ax[0].plot(model.history.history['val_accuracy'], label = 'Validation')\n",
    "ax[0].set_title('Model accuracy')\n",
    "ax[0].set_ylabel('Accuracy')\n",
    "ax[0].set_xlabel('Epoch')\n",
    "ax[0].legend()\n",
    "\n",
    "# Plot training & validation loss values\n",
    "ax[1].plot(model.history.history['loss'], label = 'Training')\n",
    "ax[1].plot(model.history.history['val_loss'], label = 'Validation')\n",
    "ax[1].set_title('Model loss')\n",
    "ax[1].set_ylabel('Loss')\n",
    "ax[1].set_xlabel('Epoch')\n",
    "ax[1].legend()\n",
    "\n",
    "plt.show()"
   ]
  },
  {
   "cell_type": "code",
   "execution_count": 47,
   "metadata": {
    "id": "grQoh06wy-Q7"
   },
   "outputs": [],
   "source": [
    "def show_digit():\n",
    "    id = np.random.randint(len(predictions))\n",
    "    XTest = X_test[id].reshape(8, 8)\n",
    "    plt.figure(figsize = (2, 2))\n",
    "    plt.imshow(XTest, cmap = 'gray')\n",
    "    plt.title('Prediction: %d' % predictions[id])\n",
    "    plt.xticks([])\n",
    "    plt.yticks([])\n",
    "    plt.show()"
   ]
  },
  {
   "cell_type": "code",
   "execution_count": 48,
   "metadata": {
    "id": "4A6G2LEPy-Q9"
   },
   "outputs": [],
   "source": [
    "def show_10_digits():\n",
    "    fig, ax = plt.subplots(2, 5, figsize = (8, 4))\n",
    "    fig.subplots_adjust(left = 0.02, right = 0.98, top = 0.8, wspace = 0.2, hspace = 0.3)\n",
    "    fig.suptitle('Ten Predictions', fontsize = 12, fontweight = 'bold')\n",
    "\n",
    "    plt.rcParams.update({'font.size': 10})\n",
    "    \n",
    "    ids = np.random.randint(len(predictions), size = 10)\n",
    "    r = 0\n",
    "    c = 0\n",
    "    for id in ids:\n",
    "        XTest = X_test[id].reshape(8, 8)\n",
    "\n",
    "        # original image\n",
    "        ax[r, c].imshow(XTest, cmap = 'gray')\n",
    "        ax[r, c].set_title('Prediction: %d' % predictions[id])\n",
    "        ax[r, c].set_xticks([])\n",
    "        ax[r, c].set_yticks([])\n",
    "        c += 1\n",
    "        if c > 4:\n",
    "            r += 1\n",
    "            c = 0\n",
    "\n",
    "    plt.show()"
   ]
  },
  {
   "cell_type": "code",
   "execution_count": 53,
   "metadata": {
    "colab": {
     "base_uri": "https://localhost:8080/",
     "height": 165
    },
    "executionInfo": {
     "elapsed": 750,
     "status": "ok",
     "timestamp": 1560987306209,
     "user": {
      "displayName": "Ibrahim Faisal",
      "photoUrl": "https://lh3.googleusercontent.com/-67DMczu7rgM/AAAAAAAAAAI/AAAAAAAAAAc/6f5FCnBgxFs/s64/photo.jpg",
      "userId": "02685917636347920688"
     },
     "user_tz": -600
    },
    "id": "iG9wf-bTy-Q-",
    "outputId": "2092ecd0-c4a8-4252-d4df-3f383a3d3b34"
   },
   "outputs": [
    {
     "data": {
      "image/png": "[encoded data removed]",
      "text/plain": [
       "<Figure size 144x144 with 1 Axes>"
      ]
     },
     "metadata": {},
     "output_type": "display_data"
    }
   ],
   "source": [
    "# show one\n",
    "show_digit()"
   ]
  },
  {
   "cell_type": "code",
   "execution_count": 52,
   "metadata": {
    "colab": {
     "base_uri": "https://localhost:8080/",
     "height": 281
    },
    "executionInfo": {
     "elapsed": 958,
     "status": "ok",
     "timestamp": 1560987309548,
     "user": {
      "displayName": "Ibrahim Faisal",
      "photoUrl": "https://lh3.googleusercontent.com/-67DMczu7rgM/AAAAAAAAAAI/AAAAAAAAAAc/6f5FCnBgxFs/s64/photo.jpg",
      "userId": "02685917636347920688"
     },
     "user_tz": -600
    },
    "id": "Ue7Oo4Vxy-Q_",
    "outputId": "e6dc190e-2096-4da0-ab9c-db6d67e18e3c",
    "scrolled": true
   },
   "outputs": [
    {
     "data": {
      "image/png": "[encoded data removed]",
      "text/plain": [
       "<Figure size 576x288 with 10 Axes>"
      ]
     },
     "metadata": {},
     "output_type": "display_data"
    }
   ],
   "source": [
    "# show ten\n",
    "show_10_digits()"
   ]
  },
  {
   "cell_type": "markdown",
   "metadata": {
    "id": "RERADKgNFq9T"
   },
   "source": [
    "\n",
    "\n",
    "---\n",
    "\n",
    "\n",
    "\n",
    "---\n",
    "\n",
    "\n",
    "\n",
    "> > > > > > > > > © 2021 Institute of Data\n",
    "\n",
    "\n",
    "---\n",
    "\n",
    "\n",
    "\n",
    "---"
   ]
  }
 ],
 "metadata": {
  "accelerator": "GPU",
  "colab": {
   "collapsed_sections": [],
   "name": "IOD_Demo-10-Keras.ipynb",
   "provenance": []
  },
  "kernelspec": {
   "display_name": "Python 3 (ipykernel)",
   "language": "python",
   "name": "python3"
  },
  "language_info": {
   "codemirror_mode": {
    "name": "ipython",
    "version": 3
   },
   "file_extension": ".py",
   "mimetype": "text/x-python",
   "name": "python",
   "nbconvert_exporter": "python",
   "pygments_lexer": "ipython3",
   "version": "3.8.12"
  }
 },
 "nbformat": 4,
 "nbformat_minor": 4
}

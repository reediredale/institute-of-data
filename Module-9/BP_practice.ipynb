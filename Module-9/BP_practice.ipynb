{
 "cells": [
  {
   "cell_type": "code",
   "execution_count": 1,
   "id": "c26c1fca-6f96-44fa-b798-5daa17810d97",
   "metadata": {},
   "outputs": [],
   "source": [
    "import numpy as np"
   ]
  },
  {
   "cell_type": "code",
   "execution_count": 26,
   "id": "323c0269-e2ef-480c-b80d-6553f27053ff",
   "metadata": {},
   "outputs": [],
   "source": [
    "X = np.array([[1,0,0],\n",
    "             [1,0,1],\n",
    "             [1,1,0],\n",
    "             [1,1,1]])\n",
    "\n",
    "Y = np.array([[0,1,1,0]])\n",
    "\n",
    "V = np.random.random((3,4))\n",
    "W = np.random.random((4,1))\n",
    "\n",
    "lr = 0.1\n",
    "\n",
    "def sigmoid(x):\n",
    "    return 1/(1+np.exp(-x))\n",
    "\n",
    "def dsigmoid(x):\n",
    "    return x*(1-x)\n",
    "\n",
    "def update():\n",
    "    global X,Y,W,V,lr\n",
    "    \n",
    "    L1 = sigmoid(np.dot(X,V))#hidden layer output\n",
    "    L2 = sigmoid(np.dot(L1,W))# output layer output \n",
    "    \n",
    "    L2_delta = (Y.T -L2)*dsigmoid(L2)\n",
    "    L1_delta = L2_delta.dot(W.T)*dsigmoid(L1)\n",
    "    \n",
    "    W_C = lr*L1.T.dot(L2_delta)\n",
    "    V_C = lr*X.T.dot(L1_delta)\n",
    "    \n",
    "    W = W + W_C\n",
    "    V = V + V_C"
   ]
  },
  {
   "cell_type": "code",
   "execution_count": 29,
   "id": "0be2fc8a-5494-41a6-81df-e17b555db579",
   "metadata": {},
   "outputs": [
    {
     "name": "stdout",
     "output_type": "stream",
     "text": [
      "Error: 0.027460267688296583\n",
      "Error: 0.026947080262195708\n",
      "Error: 0.0264597542986681\n",
      "Error: 0.025996234828614396\n",
      "Error: 0.025554685632775607\n",
      "Error: 0.025133460440150957\n",
      "Error: 0.024731078599966858\n",
      "Error: 0.024346204432724616\n",
      "Error: 0.023977629623649972\n",
      "Error: 0.02362425814517805\n",
      "Error: 0.02328509329212813\n",
      "Error: 0.022959226490042228\n",
      "Error: 0.022645827598362506\n",
      "Error: 0.022344136479146678\n",
      "Error: 0.02205345564152088\n",
      "Error: 0.02177314380405388\n",
      "Error: 0.02150261024326093\n",
      "Error: 0.021241309817734994\n",
      "Error: 0.020988738574879522\n",
      "Error: 0.02074442986163902\n",
      "Error: 0.02050795087257266\n",
      "Error: 0.020278899578547147\n",
      "Error: 0.020056901987622326\n",
      "Error: 0.01984160969665235\n",
      "Error: 0.019632697697969236\n",
      "Error: 0.019429862410442856\n",
      "Error: 0.01923281990839184\n",
      "Error: 0.019041304325354762\n",
      "Error: 0.01885506641275598\n",
      "Error: 0.018673872236075535\n",
      "Error: 0.01849750199333765\n",
      "Error: 0.018325748942635004\n",
      "Error: 0.018158418427033106\n",
      "Error: 0.017995326986612138\n",
      "Error: 0.017836301548621966\n",
      "Error: 0.017681178687785116\n",
      "Error: 0.017529803949702785\n",
      "Error: 0.01738203123112058\n",
      "Error: 0.017237722211508797\n",
      "Error: 0.017096745831029266\n",
      "[[0.0145683 ]\n",
      " [0.97993731]\n",
      " [0.98551577]\n",
      " [0.01872178]]\n",
      "0\n",
      "1\n",
      "1\n",
      "0\n"
     ]
    }
   ],
   "source": [
    "for i in range(20000):\n",
    "    update()\n",
    "    if i%500 ==0:\n",
    "        L1 = sigmoid(np.dot(X,V))\n",
    "        L2 = sigmoid(np.dot(L1,W))\n",
    "        print('Error:',np.mean(np.abs(Y.T-L2)))\n",
    "\n",
    "L1 = sigmoid(np.dot(X,V))      \n",
    "L2 = sigmoid(np.dot(L1,W))\n",
    "print(L2)\n",
    "\n",
    "def judge(x):\n",
    "    if x >=0.5: \n",
    "        return 1 \n",
    "    else:\n",
    "        return 0 \n",
    "\n",
    "for i in map(judge,L2):\n",
    "    print(i)"
   ]
  },
  {
   "cell_type": "code",
   "execution_count": null,
   "id": "4fcf9890-5321-4cad-b8e1-abbdd758779e",
   "metadata": {},
   "outputs": [],
   "source": []
  }
 ],
 "metadata": {
  "kernelspec": {
   "display_name": "Python 3",
   "language": "python",
   "name": "python3"
  },
  "language_info": {
   "codemirror_mode": {
    "name": "ipython",
    "version": 3
   },
   "file_extension": ".py",
   "mimetype": "text/x-python",
   "name": "python",
   "nbconvert_exporter": "python",
   "pygments_lexer": "ipython3",
   "version": "3.8.10"
  }
 },
 "nbformat": 4,
 "nbformat_minor": 5
}

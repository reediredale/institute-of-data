{
 "cells": [
  {
   "cell_type": "markdown",
   "metadata": {},
   "source": [
    "<div>\n",
    "<img src=https://www.institutedata.com/wp-content/uploads/2019/10/iod_h_tp_primary_c.svg width=\"300\">\n",
    "</div>"
   ]
  },
  {
   "cell_type": "markdown",
   "metadata": {},
   "source": [
    "# Lab 10.4 - Streaming Data"
   ]
  },
  {
   "cell_type": "markdown",
   "metadata": {},
   "source": [
    "Here you will work through the AWS tutorial linked below to create an app to process streaming data in real-time. Firstly sign into the AWS console via AWS Educate: https://www.awseducate.com/signin/SiteLogin\n",
    "\n",
    "Link to tutorial:\n",
    "https://aws.amazon.com/getting-started/hands-on/build-serverless-real-time-data-processing-app-lambda-kinesis-s3-dynamodb-cognito-athena\n"
   ]
  },
  {
   "cell_type": "markdown",
   "metadata": {},
   "source": [
    "The following AWS services are to be used in this lab:\n",
    "\n",
    "- AWS Identity and Access Management (IAM)\n",
    "- Amazon Cognito (secure management of app data)\n",
    "- Amazon Kinesis (data streams processing)\n",
    "- Amazon S3 (storage)\n",
    "- Amazon Athena (relational database)\n",
    "- Amazon DynamoDB (noSQL database)\n",
    "- AWS Cloud9 (integrated code development environment)\n"
   ]
  },
  {
   "cell_type": "markdown",
   "metadata": {},
   "source": [
    "Please be sure to give yourself adequate time at the end of the lab to clean up these services (Step 5) to avoid using up credits unnecessarily in future."
   ]
  },
  {
   "cell_type": "markdown",
   "metadata": {},
   "source": [
    "The following notes intend to guide you through the process to set up the architecture below. The data source to be processed, stored and analysed is a real-time stream tracking the location and points of a fleet of unicorns."
   ]
  },
  {
   "cell_type": "markdown",
   "metadata": {},
   "source": [
    "<div>\n",
    "<img src=https://d1.awsstatic.com/Getting%20Started/build-serverless-real-time-data-processing-app-lambda-kinesis-s3-dynamodb-cognito-athena/serverless-real-time-data-processing-arch.148a74dc12589266237bf2365d4a4d0bb21bd4d9.png>\n",
    "</div>\n",
    "\n"
   ]
  },
  {
   "cell_type": "markdown",
   "metadata": {},
   "source": [
    "## 0. Set-up"
   ]
  },
  {
   "cell_type": "markdown",
   "metadata": {},
   "source": [
    "Cloud9 is a development environment enabling a command line interface (CLI) as well as the ability to code via a browser. "
   ]
  },
  {
   "cell_type": "markdown",
   "metadata": {},
   "source": [
    "## 1. Building a data stream "
   ]
  },
  {
   "cell_type": "markdown",
   "metadata": {},
   "source": [
    "In Amazon Kinesis a shard is a sequence of records in a data stream. Think of it as a component of a stream. Each shard ingests up to 1 MiB/second and 1000 records/second and emits up to 2 MiB/second.\n",
    "\n",
    "Each producer is a sensor attached to a unicorn that is now taking a passenger for a ride. The sensor emits data each second in real time including the unicorn’s current location, distance traveled in the previous second, and magic points and hit points for monitoring purposes.\n",
    "\n",
    "The consumer outputs the data points from the stream in effectively real-time to see what data is being stored in the stream. It has the following form:\n",
    "\n",
    "`{\n",
    "  \"Name\": \"Shadowfax\",\n",
    "  \"StatusTime\": \"2017-06-05 09:17:09.191\",\n",
    "  \"Latitude\": 42.265486935100476,\n",
    "  \"Longitude\": -71.97442977859625,\n",
    "  \"Distance\": 163,\n",
    "  \"MagicPoints\": 110,\n",
    "  \"HealthPoints\": 151\n",
    "}`\n",
    "\n",
    "An Amazon Cognito identity pool is used to store end user identities. Here one is set up to grant unauthenticated users access to read from your Kinesis stream. Copy-paste your identity pool id into a text editor (e.g. Notepad for Windows, TextEdit for Mac) as you make use of this later.\n",
    "\n",
    "A dashboard views the current position and vitals of the unicorn fleet in real-time."
   ]
  },
  {
   "cell_type": "markdown",
   "metadata": {},
   "source": [
    "## 2. Aggregating data in real-time "
   ]
  },
  {
   "cell_type": "markdown",
   "metadata": {},
   "source": [
    "A one-minute-frequency data stream is created by aggregating the initial data stream..\n",
    "\n",
    "An Amazon Kinesis Data Analytics application is set up which reads from the wildrydes stream built in the previous module and emits a JSON object summarising the distance travelled and max/min points each minute. Note that Amazon Kinesis Data Analytics auto-detects schema (field names) while the producer is turned on. If you are able to see a view similar to the following it means you have succeeded in setting up this application."
   ]
  },
  {
   "cell_type": "markdown",
   "metadata": {},
   "source": [
    "<div>\n",
    "<img src=\"https://d1.awsstatic.com/Getting%20Started/build-serverless-real-time-data-processing-app-lambda-kinesis-s3-dynamodb-cognito-athena/streaming-aggregation-rows-preview.d75908c94bf9e0e4870c05d72bcd2f6885cfcda1.png\">\n",
    "</div>"
   ]
  },
  {
   "cell_type": "markdown",
   "metadata": {},
   "source": [
    "**Question:** What is achieved with the code below to create this view (Step 2)? What is meant by a \"pump\"?\n",
    "\n",
    "`CREATE OR REPLACE PUMP \"STREAM_PUMP\" AS\n",
    "  INSERT INTO \"DESTINATION_SQL_STREAM\"\n",
    "    SELECT STREAM \"Name\", \"ROWTIME\", SUM(\"Distance\"), MIN(\"MagicPoints\"),\n",
    "                  MAX(\"MagicPoints\"), MIN(\"HealthPoints\"), MAX(\"HealthPoints\")\n",
    "    FROM \"SOURCE_SQL_STREAM_001\"\n",
    "    GROUP BY FLOOR(\"SOURCE_SQL_STREAM_001\".\"ROWTIME\" TO MINUTE), \"Name\";`"
   ]
  },
  {
   "cell_type": "markdown",
   "metadata": {},
   "source": [
    "**Answer:** ???"
   ]
  },
  {
   "cell_type": "markdown",
   "metadata": {},
   "source": [
    "A consumer is then set up with Amazon Kinesis to take in this aggregated data (`wildrydes-summary`). Next experiment with more than one unicorn producer as in the Step 4 of the instructions."
   ]
  },
  {
   "cell_type": "markdown",
   "metadata": {},
   "source": [
    "<div>\n",
    "<img src=\"https://data-processing.serverlessworkshops.io/images/streaming-data-map-two-unicorns.png\">\n",
    "</div>"
   ]
  },
  {
   "cell_type": "markdown",
   "metadata": {},
   "source": [
    "## 3. Process streaming data"
   ]
  },
  {
   "cell_type": "markdown",
   "metadata": {},
   "source": [
    "Amazon DynamoDB is a NoSQL (key-value based) database that is set up in this section to store the JSON-formatted data. Note that in this database the primary key to be used is a composite key consisting of a partition key and sort key. It is possible for two items to have the same partition key (Name) but not the same Name-StatusTime combination. Make a note of the ARN (Amazon Resource Number) when done."
   ]
  },
  {
   "cell_type": "markdown",
   "metadata": {},
   "source": [
    "<div>\n",
    "<img src=\"https://d1.awsstatic.com/Getting%20Started/build-serverless-real-time-data-processing-app-lambda-kinesis-s3-dynamodb-cognito-athena/3_stream-processing-dynamodb-create.863ceec26c6cf9352eb2930c32e8c504b740392a.png\">\n",
    "</div>\n"
   ]
  },
  {
   "cell_type": "markdown",
   "metadata": {},
   "source": [
    "\n",
    "A Lambda function performs serverless computation. In order to set it up permissions need to be set up using IAM for the function to read from Amazon Kinesis streams and to log to Amazon CloudWatch Logs. Additionally DynamoDB write access will be granted.\n",
    "\n",
    "**Question**: What is the purpose of the AWS Lambda function in this application?"
   ]
  },
  {
   "cell_type": "markdown",
   "metadata": {},
   "source": [
    "**Answer**: ???"
   ]
  },
  {
   "cell_type": "markdown",
   "metadata": {},
   "source": [
    "## 4. Store and query data"
   ]
  },
  {
   "cell_type": "markdown",
   "metadata": {},
   "source": [
    "An Amazon Kinesis Data Firehose is created to deliver data to Amazon Simple Storage Service (Amazon S3) in batches. Amazon Athena (a relational database) is then used to run queries against this raw data. Note that when creating the table in Athena *SerDe* is a file format used (it stands for \"Serialiser/Deserialiser\")."
   ]
  },
  {
   "cell_type": "markdown",
   "metadata": {},
   "source": [
    "**Question**: Paste some sample data from a file in your S3 bucket below."
   ]
  },
  {
   "cell_type": "markdown",
   "metadata": {},
   "source": [
    "**Answer**:??? "
   ]
  },
  {
   "cell_type": "markdown",
   "metadata": {},
   "source": [
    "## 5. Clean up"
   ]
  },
  {
   "cell_type": "markdown",
   "metadata": {},
   "source": [
    "**It is important to set aside at least 15 minutes** to do this after completing the demo to avoid losing further credits.\n",
    "\n",
    "Ensure the following services are deleted/terminated:\n",
    "\n",
    "- Amazon Athena (wildrydes table)\n",
    "- Amazon Kinesis Data Firehose (wildrydes delivery stream)\n",
    "- Amazon S3 (your data bucket - e.g. wildrydes-data-yourname)\n",
    "- AWS Lambda (WildRydesStreamProcessor function)\n",
    "- Amazon DynamoDB (UnicornSensorData table)\n",
    "- AWS IAM (WildRydesDynamoDBWritePolicy policy and WildRydesStreamProcessor role)\n",
    "- Amazon DynamoDB (UnicornSensorData table)\n",
    "- Amazon Kinesis Data Analytics (wildrydes application)\n",
    "- Amazon Kinesis Data Streams (wildrydes and wildrydes-summary streams)\n",
    "\n",
    "A day or two later you can see if you are continuing to be billed via the Billing console:\n",
    "https://console.aws.amazon.com/billing"
   ]
  },
  {
   "cell_type": "markdown",
   "metadata": {},
   "source": [
    "## Conclusion"
   ]
  },
  {
   "cell_type": "markdown",
   "metadata": {},
   "source": [
    "In this lab you have gained exposure to a number of AWS services for processing and querying streaming data."
   ]
  },
  {
   "cell_type": "markdown",
   "metadata": {},
   "source": [
    "## References\n",
    "- https://data-processing.serverlessworkshops.io/\n",
    "- https://docs.aws.amazon.com/kinesis/index.html"
   ]
  },
  {
   "cell_type": "markdown",
   "metadata": {
    "colab_type": "text",
    "id": "s7RYU3nMmX-R"
   },
   "source": [
    "\n",
    "\n",
    "---\n",
    "\n",
    "\n",
    "\n",
    "---\n",
    "\n",
    "\n",
    "\n",
    "> > > > > > > > > © 2021 Institute of Data\n",
    "\n",
    "\n",
    "---\n",
    "\n",
    "\n",
    "\n",
    "---\n",
    "\n",
    "\n",
    "\n"
   ]
  }
 ],
 "metadata": {
  "kernelspec": {
   "display_name": "Python 3",
   "language": "python",
   "name": "python3"
  },
  "language_info": {
   "codemirror_mode": {
    "name": "ipython",
    "version": 3
   },
   "file_extension": ".py",
   "mimetype": "text/x-python",
   "name": "python",
   "nbconvert_exporter": "python",
   "pygments_lexer": "ipython3",
   "version": "3.8.5"
  }
 },
 "nbformat": 4,
 "nbformat_minor": 4
}
